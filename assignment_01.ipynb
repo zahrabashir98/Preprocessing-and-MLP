{
  "nbformat": 4,
  "nbformat_minor": 0,
  "metadata": {
    "colab": {
      "name": "assignment_01.ipynb",
      "provenance": [],
      "collapsed_sections": [
        "-woU4Sodh6ND",
        "QfSFVOaKvlDb",
        "zeDLckyY_Yuq",
        "m9KaPEsgPruT"
      ],
      "toc_visible": true,
      "machine_shape": "hm",
      "include_colab_link": true
    },
    "kernelspec": {
      "name": "python3",
      "display_name": "Python 3"
    },
    "language_info": {
      "codemirror_mode": {
        "name": "ipython",
        "version": 3
      },
      "file_extension": ".py",
      "mimetype": "text/x-python",
      "name": "python",
      "nbconvert_exporter": "python",
      "pygments_lexer": "ipython3",
      "version": "3.7.2"
    },
    "accelerator": "GPU"
  },
  "cells": [
    {
      "cell_type": "markdown",
      "metadata": {
        "id": "view-in-github",
        "colab_type": "text"
      },
      "source": [
        "<a href=\"https://colab.research.google.com/github/zahrabashir98/Preprocessing-and-MLP/blob/master/assignment_01.ipynb\" target=\"_parent\"><img src=\"https://colab.research.google.com/assets/colab-badge.svg\" alt=\"Open In Colab\"/></a>"
      ]
    },
    {
      "cell_type": "markdown",
      "metadata": {
        "button": false,
        "colab_type": "text",
        "id": "-woU4Sodh6ND",
        "new_sheet": false,
        "run_control": {
          "read_only": false
        }
      },
      "source": [
        "# Assignment #1\n",
        "\n",
        "\n",
        "Deep Learning / Fall 1398, Iran University of Science and Technology\n",
        "\n",
        "\n",
        "\n",
        "---\n",
        "\n"
      ]
    },
    {
      "cell_type": "markdown",
      "metadata": {
        "button": false,
        "colab_type": "text",
        "id": "JWitIy1viFuD",
        "new_sheet": false,
        "run_control": {
          "read_only": false
        }
      },
      "source": [
        "**Please pay attention to these notes:**\n",
        "\n",
        "<br/>\n",
        "- **Assignment Due: ** 1398/08/18 23:59\n",
        "- If you need any additional information, please review the assignment page on the course website.\n",
        "- The items you need to answer are highlighted in red and the coding parts you need to implement are denoted by:\n",
        "```\n",
        "########################################\n",
        "#     Put your implementation here     #\n",
        "########################################\n",
        "```\n",
        "- We always recommend co-operation and discussion in groups for assignments. However, each student has to finish all the questions by himself/herself. If our matching system identifies any sort of copying, you'll be responsible for consequences. So, please mention his/her name if you have a team-mate.\n",
        "- Students who audit this course should submit their assignments like other students to be qualified for attending the rest of the sessions.\n",
        "- Finding any sort of copying will zero down that assignment grade and also will be counted as two negative assignment for your final score.\n",
        "- When you are ready to submit, please follow the instructions at the end of this notebook.\n",
        "- If you have any questions about this assignment, feel free to drop us a line. You may also post your questions on the course Forum page.\n",
        "- You must run this notebook on Google Colab platform, it depends on Google Colab VM for some of its dependencies.\n",
        "- **Before starting to work on the assignment Please fill your name in the next section *AND Remember to RUN the cell.* **\n",
        "\n",
        "<br/>\n",
        "\n",
        "\n",
        "Assignment Page: [https://iust-deep-learning.github.io/981/assignments/01_mlp_and_preprocessing](https://iust-deep-learning.github.io/981/assignments/01_mlp_and_preprocessing)\n",
        "\n",
        "Course Forum: [https://groups.google.com/forum/#!forum/dl981/](https://groups.google.com/forum/#!forum/dl981/)"
      ]
    },
    {
      "cell_type": "markdown",
      "metadata": {
        "button": false,
        "colab_type": "text",
        "id": "0ejALNiDCWnd",
        "new_sheet": false,
        "run_control": {
          "read_only": false
        }
      },
      "source": [
        "\n",
        "\n",
        "---\n",
        "\n"
      ]
    },
    {
      "cell_type": "markdown",
      "metadata": {
        "button": false,
        "colab_type": "text",
        "id": "Vjwf6dWNCIQP",
        "new_sheet": false,
        "run_control": {
          "read_only": false
        }
      },
      "source": [
        "Fill your information here & run the cell"
      ]
    },
    {
      "cell_type": "code",
      "metadata": {
        "button": false,
        "cellView": "form",
        "colab_type": "code",
        "id": "NeLkOPE6Qwr7",
        "new_sheet": false,
        "run_control": {
          "read_only": false
        },
        "outputId": "de6e935d-d63d-4adb-fcba-bc7032316e78",
        "colab": {
          "base_uri": "https://localhost:8080/",
          "height": 84
        }
      },
      "source": [
        "#@title Enter your information & \"RUN the cell!!\" { run: \"auto\" }\n",
        "student_id = 95521072 #@param {type:\"integer\"}\n",
        "student_name = \"Zahra Bashir\" #@param {type:\"string\"}\n",
        "Your_Github_account_Email = \"zahrabashir77@gmail.com\" #@param {type:\"string\"}\n",
        "\n",
        "print(\"your student id:\", student_id)\n",
        "print(\"your name:\", student_name)\n",
        "\n",
        "\n",
        "from pathlib import Path\n",
        "\n",
        "ASSIGNMENT_PATH = Path('asg01')\n",
        "ASSIGNMENT_PATH.mkdir(parents=True, exist_ok=True)"
      ],
      "execution_count": 2,
      "outputs": [
        {
          "output_type": "stream",
          "text": [
            "your student id: 95521072\n",
            "your name: Zahra Bashir\n",
            "your student id: 95521072\n",
            "your name: Zahra Bashir\n"
          ],
          "name": "stdout"
        }
      ]
    },
    {
      "cell_type": "markdown",
      "metadata": {
        "button": false,
        "colab_type": "text",
        "id": "QfSFVOaKvlDb",
        "new_sheet": false,
        "run_control": {
          "read_only": false
        }
      },
      "source": [
        "# 1. MLP"
      ]
    },
    {
      "cell_type": "markdown",
      "metadata": {
        "button": false,
        "colab_type": "text",
        "id": "UmprL4aETrj8",
        "new_sheet": false,
        "run_control": {
          "read_only": false
        }
      },
      "source": [
        "In class, we studied about MLP. In this part, you have to implement your own MLP and train and test it on the Iris dataset.\n"
      ]
    },
    {
      "cell_type": "markdown",
      "metadata": {
        "button": false,
        "colab_type": "text",
        "id": "NLU26ncrYZL5",
        "new_sheet": false,
        "run_control": {
          "read_only": false
        }
      },
      "source": [
        "### Iris dataset\n",
        "---\n",
        "The Iris flower data set or Fisher's Iris data set is a multivariate data set introduced by the British statistician and biologist Ronald Fisher in his 1936 paper The use of multiple measurements in taxonomic problems as an example of linear discriminant analysis.\n",
        "\n",
        "The data set consists of 50 samples from each of three species of Iris (Iris setosa, Iris virginica, and Iris versicolor). Four features were measured from each sample: the length and the width of the sepals and petals, in centimeters. Based on the combination of these four features, Fisher developed a linear discriminant model to distinguish the species from each other.\n",
        "\n",
        "You can see [this](https://en.wikipedia.org/wiki/Iris_flower_data_set) link for more details."
      ]
    },
    {
      "cell_type": "markdown",
      "metadata": {
        "button": false,
        "colab_type": "text",
        "id": "bAbR3KNYN9Yw",
        "new_sheet": false,
        "run_control": {
          "read_only": false
        }
      },
      "source": [
        "Let's get this simple dataset and see some samples of it."
      ]
    },
    {
      "cell_type": "code",
      "metadata": {
        "button": false,
        "colab_type": "code",
        "id": "iRVN68kaOFXX",
        "new_sheet": false,
        "run_control": {
          "read_only": false
        },
        "outputId": "ca630241-9f45-437b-9a14-fc33ef4ea17f",
        "colab": {
          "base_uri": "https://localhost:8080/",
          "height": 204
        }
      },
      "source": [
        "from sklearn.datasets import load_iris\n",
        "iris = load_iris()\n",
        "print(iris['data'][:10])\n",
        "print(iris['target'][:10])"
      ],
      "execution_count": 0,
      "outputs": [
        {
          "output_type": "stream",
          "text": [
            "[[5.1 3.5 1.4 0.2]\n",
            " [4.9 3.  1.4 0.2]\n",
            " [4.7 3.2 1.3 0.2]\n",
            " [4.6 3.1 1.5 0.2]\n",
            " [5.  3.6 1.4 0.2]\n",
            " [5.4 3.9 1.7 0.4]\n",
            " [4.6 3.4 1.4 0.3]\n",
            " [5.  3.4 1.5 0.2]\n",
            " [4.4 2.9 1.4 0.2]\n",
            " [4.9 3.1 1.5 0.1]]\n",
            "[0 0 0 0 0 0 0 0 0 0]\n"
          ],
          "name": "stdout"
        }
      ]
    },
    {
      "cell_type": "markdown",
      "metadata": {
        "colab_type": "text",
        "id": "otcIUS2gUwls"
      },
      "source": [
        "### Implementation\n",
        "---\n",
        "Before going any further, we have to import some prerequisites:"
      ]
    },
    {
      "cell_type": "code",
      "metadata": {
        "colab_type": "code",
        "id": "2AgTnW5PUyCj",
        "colab": {}
      },
      "source": [
        "import numpy as np"
      ],
      "execution_count": 0,
      "outputs": []
    },
    {
      "cell_type": "markdown",
      "metadata": {
        "colab_type": "text",
        "id": "1dipt3Y3fva8"
      },
      "source": [
        "If you want to import some modules or implement some helper functions or classes you can do it in this cell."
      ]
    },
    {
      "cell_type": "code",
      "metadata": {
        "colab_type": "code",
        "id": "2klj-T2sf7aZ",
        "colab": {}
      },
      "source": [
        "import random\n",
        "from tqdm import tqdm_notebook\n",
        "import matplotlib.pyplot as plt\n",
        "import pickle "
      ],
      "execution_count": 0,
      "outputs": []
    },
    {
      "cell_type": "markdown",
      "metadata": {
        "button": false,
        "colab_type": "text",
        "id": "kr2IFQDgOlDD",
        "new_sheet": false,
        "run_control": {
          "read_only": false
        }
      },
      "source": [
        "Now, implement your MLP from scratch."
      ]
    },
    {
      "cell_type": "code",
      "metadata": {
        "colab_type": "code",
        "id": "OHey_Vq5U5sj",
        "colab": {}
      },
      "source": [
        "class MLP(object):\n",
        "    def __init__(self, input_size, lr=0.01, epochs=100):\n",
        "        self.w = {}\n",
        "        self.b = {}\n",
        "        self.layers = [input_size]\n",
        "        self.lr = lr\n",
        "        self.epochs = epochs\n",
        "        self.input_size = input_size\n",
        "        self.num_of_hidden_layer = -1\n",
        "        self.acc = []\n",
        "      \n",
        "    def add_hidden_layer(self, num_of_neurons):\n",
        "        self.num_of_hidden_layer+=1\n",
        "        self.layers.append(num_of_neurons)\n",
        "\n",
        "    def compile_model(self):\n",
        "        self.number_of_classes =  self.layers[-1]\n",
        "        for i in range(len(self.layers)-1):\n",
        "            self.w[i+1] = np.random.randn(self.layers[i], self.layers[i+1])\n",
        "            self.b[i+1] = np.zeros((1, self.layers[i+1]))\n",
        "\n",
        "\n",
        "    def _sigmoid(self, x):\n",
        "        return 1.0/(1.0 + np.exp(-x))\n",
        "\n",
        "    def _gradient_of_sigmoid(self, x):\n",
        "        return x*(1-x) \n",
        "  \n",
        "    def _softmax(self, x):\n",
        "        exps = np.exp(x)\n",
        "        return exps / np.sum(exps)\n",
        "\n",
        "\n",
        "    def _forward(self, x):\n",
        "        self.activation = {}\n",
        "        self.activation[0] = x.reshape(1, -1)\n",
        "        for i in range(self.num_of_hidden_layer):\n",
        "          tmp = np.matmul(self.activation[i], self.w[i+1]) + self.b[i+1]\n",
        "          self.activation[i+1] = self._sigmoid(tmp)\n",
        "        tmp = np.matmul(self.activation[self.num_of_hidden_layer], self.w[self.num_of_hidden_layer+1]) + self.b[self.num_of_hidden_layer+1]\n",
        "        self.activation[self.num_of_hidden_layer+1] = self._softmax(tmp)\n",
        "        return self.activation[self.num_of_hidden_layer+1]\n",
        "\n",
        "    def _backward_gradients(self, x, y):\n",
        "        self._forward(x)\n",
        "        self.dw = {}\n",
        "        self.db = {}\n",
        "        err = {}\n",
        "        err[self.num_of_hidden_layer + 1] = (self.activation[self.num_of_hidden_layer + 1] - y)\n",
        "        for i in range(self.num_of_hidden_layer + 1, 0, -1):\n",
        "            self.dw[i] = np.matmul(self.activation[i-1].T, err[i])\n",
        "            self.db[i] = err[i]\n",
        "            tmp = np.matmul(err[i], self.w[i].T)\n",
        "            err[i-1] = np.multiply(tmp, self._gradient_of_sigmoid(self.activation[i-1])) \n",
        "\n",
        "\n",
        "    def train(self, X, Y):\n",
        "\n",
        "        \"\"\"\n",
        "        train MLP model on train data\n",
        "\n",
        "        Args:\n",
        "          x: 2d numpy array or list of train data\n",
        "          y: 1d or 2d numpy array or list of train data labels\n",
        "        \"\"\"       \n",
        "        for epoch in range(self.epochs):\n",
        "            print('Start train at epoch ',epoch,' :')\n",
        "            dw = {}\n",
        "            db = {}\n",
        "            for i in range(self.num_of_hidden_layer +1):\n",
        "                dw[i+1] = np.zeros((self.layers[i], self.layers[i+1]))\n",
        "                db[i+1] = np.zeros((1, self.layers[i+1]))\n",
        "            for x, y in zip(X, Y):\n",
        "                self._backward_gradients(x, y)\n",
        "                for i in range(self.num_of_hidden_layer+1):\n",
        "                    dw[i+1] += self.dw[i+1]\n",
        "                    db[i+1] += self.db[i+1]\n",
        "                      \n",
        "            batch = X.shape[1]\n",
        "            for i in range(self.num_of_hidden_layer+1):\n",
        "                self.w[i+1] -= self.lr * (dw[i+1]/batch)\n",
        "                self.b[i+1] -= self.lr * (db[i+1]/batch)\n",
        "            \n",
        "\n",
        "            pred = self.predict(X) \n",
        "\n",
        "            c=0\n",
        "            for k in range(len(Y)):\n",
        "\n",
        "                m1 = max(Y[k])\n",
        "                m2 = max(pred[k])\n",
        "                if (list(Y[k]).index(m1)) == (list(pred[k]).index(m2)):\n",
        "                    c+=1\n",
        "            c/=len(X)  \n",
        "\n",
        "            self.acc.append(c)\n",
        "            print('Train acc : ', c)\n",
        "            \n",
        "        plt.plot(self.acc)\n",
        "        plt.xlabel('Epochs')\n",
        "        plt.ylabel('ACC')\n",
        "        plt.show()\n",
        "        \n",
        "        return True\n",
        "\n",
        "\n",
        "\n",
        "    def predict(self, X):\n",
        "        \"\"\"\n",
        "        predict output of MLP model on input data\n",
        "\n",
        "        Args:\n",
        "          x: 1d or 2d numpy array or list of input data\n",
        "\n",
        "        Returns:\n",
        "          pred: 1d numpy array or list or integer that represent output predicted \n",
        "                from MLP\n",
        "        \"\"\"\n",
        "\n",
        "        pred = []\n",
        "        for x in X:\n",
        "            pred.append(self._forward(x))\n",
        "        return np.round(np.array(pred).squeeze(),3)\n",
        "        \n",
        "\n",
        "    def test(self, x, y):\n",
        "        \"\"\"\n",
        "        test MLP model on test data\n",
        "\n",
        "        Args:\n",
        "          x: 2d numpy array or list of test data\n",
        "          y: 1d or 2d numpy array or list of test data labels\n",
        "\n",
        "        Returns:\n",
        "          acc: In the simplest way ratio between the number of correct predicts with the number \n",
        "                of all train data\n",
        "        \"\"\"\n",
        "\n",
        "        pred = self.predict(x)\n",
        "        c=0\n",
        "        for k in range(len(y)):\n",
        "            m1 = max(y[k])\n",
        "            m2 = max(pred[k])\n",
        "            if (list(y[k]).index(m1)) == (list(pred[k]).index(m2)):\n",
        "                c+=1\n",
        "        acc = c/len(x)  \n",
        "\n",
        "\n",
        "        # print('Test acc : ', acc)\n",
        "        \n",
        "        return acc\n",
        "\n",
        "    \n",
        "\n",
        "    def save_model(self, model_path):\n",
        "        \"\"\"\n",
        "        save model to disk\n",
        "\n",
        "        Args:\n",
        "          model_path: path of model\n",
        "        \"\"\"\n",
        "\n",
        "        filehandler = open(model_path, 'wb') \n",
        "        pickle.dump(self, filehandler)\n",
        "        \n",
        "        return True\n",
        "\n",
        "    def load_model(self, model_path):\n",
        "        \"\"\"\n",
        "        load model from disk\n",
        "\n",
        "        Args:\n",
        "          model_path: path of model\n",
        "        \"\"\"\n",
        "\n",
        "        filehandler = open(model_path, 'rb') \n",
        "        obj = pickle.load(filehandler)\n",
        "        self.w = obj.w\n",
        "        self.b = obj.b\n",
        "        self.layers = obj.layers\n",
        "        self.lr = obj.lr\n",
        "        self.epochs = obj.epochs\n",
        "        self.input_size = obj.input_size\n",
        "        self.num_of_hidden_layer = obj.num_of_hidden_layer\n",
        "        self.acc = obj.acc\n",
        "        \n",
        "        return True\n",
        "\n",
        "\n"
      ],
      "execution_count": 0,
      "outputs": []
    },
    {
      "cell_type": "code",
      "metadata": {
        "colab_type": "code",
        "id": "fwi-sxIHWC5A",
        "colab": {}
      },
      "source": [
        "def initialize_model():\n",
        "    \"\"\"\n",
        "    initilize a MLP model that classify Iris dataset\n",
        "    \n",
        "    Returns:\n",
        "      model: A MLP object\n",
        "                \n",
        "    Hint: Consider the number of features in the Iris dataset and the number of its classes \n",
        "          and initialize weights.\n",
        "    \"\"\"\n",
        "    model = MLP(4,epochs=50)\n",
        "    model.add_hidden_layer(8)\n",
        "    model.add_hidden_layer(6)\n",
        "    model.add_hidden_layer(6)\n",
        "    model.add_hidden_layer(3)\n",
        "    model.compile_model()\n",
        "\n",
        "    return model"
      ],
      "execution_count": 0,
      "outputs": []
    },
    {
      "cell_type": "code",
      "metadata": {
        "colab_type": "code",
        "id": "dOvmFMbQWTSW",
        "outputId": "26b53677-336b-4007-d118-9b8884fa93f9",
        "colab": {
          "base_uri": "https://localhost:8080/",
          "height": 80
        }
      },
      "source": [
        "import keras\n",
        "def split_train_test(x, y):\n",
        "  \"\"\"\n",
        "  split input data and labels to train and test sections.\n",
        "  \n",
        "  Args:\n",
        "    x: 2d numpy array or list of input data\n",
        "    y: 1d or 2d numpy array or list of data labels\n",
        "    \n",
        "  Returns:\n",
        "    train_data: 2d numpy array or list of train_data\n",
        "    train_labels: 1d or 2d numpy array or list of train data labels\n",
        "    test_data: 2d numpy array or list of test_data\n",
        "    test_labels: 1d or 2d numpy array or list of test data labels\n",
        "  \"\"\"\n",
        "  data = []\n",
        "  xx = []\n",
        "  yy = []\n",
        "  for i in range(len(x)):\n",
        "    data.append((x[i],y[i]))\n",
        "  random.shuffle(data)\n",
        "  for i in data:\n",
        "    xx.append(i[0])\n",
        "    yy.append(i[1])\n",
        "\n",
        "  train_data = np.array(xx[:130])\n",
        "  train_labels = keras.utils.to_categorical(yy, num_classes=None, dtype='float32')[:130]\n",
        "  test_data = np.array(xx[130:])\n",
        "  test_labels = keras.utils.to_categorical(yy, num_classes=None, dtype='float32')[130:]\n",
        "  print(train_data.shape)\n",
        "  print(train_labels.shape)\n",
        "  return train_data, train_labels, test_data, test_labels"
      ],
      "execution_count": 0,
      "outputs": [
        {
          "output_type": "stream",
          "text": [
            "Using TensorFlow backend.\n"
          ],
          "name": "stderr"
        },
        {
          "output_type": "display_data",
          "data": {
            "text/html": [
              "<p style=\"color: red;\">\n",
              "The default version of TensorFlow in Colab will soon switch to TensorFlow 2.x.<br>\n",
              "We recommend you <a href=\"https://www.tensorflow.org/guide/migrate\" target=\"_blank\">upgrade</a> now \n",
              "or ensure your notebook will continue to use TensorFlow 1.x via the <code>%tensorflow_version 1.x</code> magic:\n",
              "<a href=\"https://colab.research.google.com/notebooks/tensorflow_version.ipynb\" target=\"_blank\">more info</a>.</p>\n"
            ],
            "text/plain": [
              "<IPython.core.display.HTML object>"
            ]
          },
          "metadata": {
            "tags": []
          }
        }
      ]
    },
    {
      "cell_type": "markdown",
      "metadata": {
        "colab_type": "text",
        "id": "y6AWxMe8Wr_X"
      },
      "source": [
        "Test your implementation(don't  change this cell):"
      ]
    },
    {
      "cell_type": "code",
      "metadata": {
        "colab_type": "code",
        "id": "EMsQbydBW3FS",
        "outputId": "72f76446-b529-43bf-e851-0728c376988b",
        "colab": {
          "base_uri": "https://localhost:8080/",
          "height": 1000
        }
      },
      "source": [
        "mlp = initialize_model()\n",
        "train_data, train_labels, test_data, test_labels = split_train_test(iris['data'], iris['target'])\n",
        "mlp.train(train_data, train_labels)\n",
        "mlp.save_model('my_model.h5')\n",
        "del mlp\n",
        "new_mlp = initialize_model()\n",
        "new_mlp.load_model('my_model.h5')\n",
        "print('your model accuracy on test data is: %s' % (new_mlp.test(test_data, test_labels)))"
      ],
      "execution_count": 0,
      "outputs": [
        {
          "output_type": "stream",
          "text": [
            "(130, 4)\n",
            "(130, 3)\n",
            "Start train at epoch  0  :\n",
            "Train acc :  0.3153846153846154\n",
            "Start train at epoch  1  :\n",
            "Train acc :  0.3153846153846154\n",
            "Start train at epoch  2  :\n",
            "Train acc :  0.3153846153846154\n",
            "Start train at epoch  3  :\n",
            "Train acc :  0.3153846153846154\n",
            "Start train at epoch  4  :\n",
            "Train acc :  0.3153846153846154\n",
            "Start train at epoch  5  :\n",
            "Train acc :  0.3153846153846154\n",
            "Start train at epoch  6  :\n",
            "Train acc :  0.046153846153846156\n",
            "Start train at epoch  7  :\n",
            "Train acc :  0.0\n",
            "Start train at epoch  8  :\n",
            "Train acc :  0.15384615384615385\n",
            "Start train at epoch  9  :\n",
            "Train acc :  0.46923076923076923\n",
            "Start train at epoch  10  :\n",
            "Train acc :  0.36923076923076925\n",
            "Start train at epoch  11  :\n",
            "Train acc :  0.34615384615384615\n",
            "Start train at epoch  12  :\n",
            "Train acc :  0.35384615384615387\n",
            "Start train at epoch  13  :\n",
            "Train acc :  0.36923076923076925\n",
            "Start train at epoch  14  :\n",
            "Train acc :  0.36153846153846153\n",
            "Start train at epoch  15  :\n",
            "Train acc :  0.36153846153846153\n",
            "Start train at epoch  16  :\n",
            "Train acc :  0.35384615384615387\n",
            "Start train at epoch  17  :\n",
            "Train acc :  0.35384615384615387\n",
            "Start train at epoch  18  :\n",
            "Train acc :  0.36153846153846153\n",
            "Start train at epoch  19  :\n",
            "Train acc :  0.34615384615384615\n",
            "Start train at epoch  20  :\n",
            "Train acc :  0.34615384615384615\n",
            "Start train at epoch  21  :\n",
            "Train acc :  0.34615384615384615\n",
            "Start train at epoch  22  :\n",
            "Train acc :  0.35384615384615387\n",
            "Start train at epoch  23  :\n",
            "Train acc :  0.35384615384615387\n",
            "Start train at epoch  24  :\n",
            "Train acc :  0.36153846153846153\n",
            "Start train at epoch  25  :\n",
            "Train acc :  0.36153846153846153\n",
            "Start train at epoch  26  :\n",
            "Train acc :  0.35384615384615387\n",
            "Start train at epoch  27  :\n",
            "Train acc :  0.35384615384615387\n",
            "Start train at epoch  28  :\n",
            "Train acc :  0.36153846153846153\n",
            "Start train at epoch  29  :\n",
            "Train acc :  0.36923076923076925\n",
            "Start train at epoch  30  :\n",
            "Train acc :  0.36923076923076925\n",
            "Start train at epoch  31  :\n",
            "Train acc :  0.36923076923076925\n",
            "Start train at epoch  32  :\n",
            "Train acc :  0.36923076923076925\n",
            "Start train at epoch  33  :\n",
            "Train acc :  0.36153846153846153\n",
            "Start train at epoch  34  :\n",
            "Train acc :  0.3769230769230769\n",
            "Start train at epoch  35  :\n",
            "Train acc :  0.36923076923076925\n",
            "Start train at epoch  36  :\n",
            "Train acc :  0.36923076923076925\n",
            "Start train at epoch  37  :\n",
            "Train acc :  0.3769230769230769\n",
            "Start train at epoch  38  :\n",
            "Train acc :  0.3769230769230769\n",
            "Start train at epoch  39  :\n",
            "Train acc :  0.36923076923076925\n",
            "Start train at epoch  40  :\n",
            "Train acc :  0.38461538461538464\n",
            "Start train at epoch  41  :\n",
            "Train acc :  0.3769230769230769\n",
            "Start train at epoch  42  :\n",
            "Train acc :  0.4076923076923077\n",
            "Start train at epoch  43  :\n",
            "Train acc :  0.4153846153846154\n",
            "Start train at epoch  44  :\n",
            "Train acc :  0.4461538461538462\n",
            "Start train at epoch  45  :\n",
            "Train acc :  0.4461538461538462\n",
            "Start train at epoch  46  :\n",
            "Train acc :  0.45384615384615384\n",
            "Start train at epoch  47  :\n",
            "Train acc :  0.5153846153846153\n",
            "Start train at epoch  48  :\n",
            "Train acc :  0.6230769230769231\n",
            "Start train at epoch  49  :\n",
            "Train acc :  0.7076923076923077\n"
          ],
          "name": "stdout"
        },
        {
          "output_type": "display_data",
          "data": {
            "image/png": "[encoded data removed]",
            "text/plain": [
              "<Figure size 432x288 with 1 Axes>"
            ]
          },
          "metadata": {
            "tags": []
          }
        },
        {
          "output_type": "stream",
          "text": [
            "your model accuracy on test data is: 0.85\n"
          ],
          "name": "stdout"
        }
      ]
    },
    {
      "cell_type": "markdown",
      "metadata": {
        "id": "GgZwKek0Imak",
        "colab_type": "text"
      },
      "source": [
        ""
      ]
    },
    {
      "cell_type": "markdown",
      "metadata": {
        "button": false,
        "colab_type": "text",
        "id": "tFqWPWvot29x",
        "new_sheet": false,
        "run_control": {
          "read_only": false
        }
      },
      "source": [
        "In class, we studied the mathematics behind the back-propagation when the activation function of the last layer is Relu. Now write equations related to the softmax activation function and obtain delta formulas for all layers."
      ]
    },
    {
      "cell_type": "markdown",
      "metadata": {
        "button": false,
        "colab_type": "text",
        "id": "Ob0fG9c9ws5w",
        "new_sheet": false,
        "run_control": {
          "read_only": false
        }
      },
      "source": [
        "I found the answer by searching.\n",
        "One of the appropriate answers is the following one:\n",
        "https://visualstudiomagazine.com/articles/2015/04/01/~/media/ECG/visualstudiomagazine/Images/2015/04/0415vsm_McCaffreyFig2.ashx"
      ]
    },
    {
      "cell_type": "markdown",
      "metadata": {
        "colab_type": "text",
        "id": "toUNxrGEqh3p"
      },
      "source": [
        "# 2.Text classification \n"
      ]
    },
    {
      "cell_type": "markdown",
      "metadata": {
        "colab_type": "text",
        "id": "Xa4uMJhJhGRl"
      },
      "source": [
        "In class, we studied how to build a basic dense model. Now we want to learn how to prepare a text dataset to feed into a provided model. First, we start with a simple dataset and then, we try a harder example."
      ]
    },
    {
      "cell_type": "markdown",
      "metadata": {
        "colab_type": "text",
        "id": "dGSdDSx7sm6z"
      },
      "source": [
        "## Sentiment Analysis on Movie Reviews \n",
        "This small dataset is available for free on NLTK. You can learn how to install `movie_reviews` dataset [here](https://www.nltk.org/data.html).\n",
        "\n"
      ]
    },
    {
      "cell_type": "code",
      "metadata": {
        "colab_type": "code",
        "id": "80jIfriaqKcz",
        "outputId": "0c8062ee-1b94-4ed2-deef-e8efdde866db",
        "colab": {
          "base_uri": "https://localhost:8080/",
          "height": 131
        }
      },
      "source": [
        "from keras.layers import Activation, Input, Dropout\n",
        "from keras.layers import Dense\n",
        "from keras.models import Model\n",
        "from keras.optimizers import Adam\n",
        "from keras import backend as K\n",
        "from random import shuffle \n",
        "import nltk\n",
        "import random\n",
        "import numpy as np\n",
        "nltk.download('movie_reviews')"
      ],
      "execution_count": 0,
      "outputs": [
        {
          "output_type": "stream",
          "text": [
            "Using TensorFlow backend.\n"
          ],
          "name": "stderr"
        },
        {
          "output_type": "display_data",
          "data": {
            "text/html": [
              "<p style=\"color: red;\">\n",
              "The default version of TensorFlow in Colab will soon switch to TensorFlow 2.x.<br>\n",
              "We recommend you <a href=\"https://www.tensorflow.org/guide/migrate\" target=\"_blank\">upgrade</a> now \n",
              "or ensure your notebook will continue to use TensorFlow 1.x via the <code>%tensorflow_version 1.x</code> magic:\n",
              "<a href=\"https://colab.research.google.com/notebooks/tensorflow_version.ipynb\" target=\"_blank\">more info</a>.</p>\n"
            ],
            "text/plain": [
              "<IPython.core.display.HTML object>"
            ]
          },
          "metadata": {
            "tags": []
          }
        },
        {
          "output_type": "stream",
          "text": [
            "[nltk_data] Downloading package movie_reviews to /root/nltk_data...\n",
            "[nltk_data]   Package movie_reviews is already up-to-date!\n"
          ],
          "name": "stdout"
        },
        {
          "output_type": "execute_result",
          "data": {
            "text/plain": [
              "True"
            ]
          },
          "metadata": {
            "tags": []
          },
          "execution_count": 1
        }
      ]
    },
    {
      "cell_type": "markdown",
      "metadata": {
        "colab_type": "text",
        "id": "r6-ma5hOvv3Y"
      },
      "source": [
        "In every deep learning task, we need to divide our dataset into train and test categories. The train category is used to train the model, and the test one is used to evaluate the trained model. The proportion of train and test dataset does not have any specific formula, and it is up to you, but you should consider the majority of the dataset as the train one."
      ]
    },
    {
      "cell_type": "code",
      "metadata": {
        "colab_type": "code",
        "id": "HoZMUKN4xZjq",
        "outputId": "bccf9058-229c-4265-ef57-73d27ce098b8",
        "colab": {
          "base_uri": "https://localhost:8080/",
          "height": 102
        }
      },
      "source": [
        "  '''\n",
        "    Split the documents into train and test datasets\n",
        "  '''\n",
        "document = {'train': [], 'test': []} # Put the documents here\n",
        "labels = {'train': [], 'test': []} # Put the labels here\n",
        "\n",
        "from nltk.corpus import movie_reviews as mr\n",
        " \n",
        "# Total reviews\n",
        "print(len(mr.fileids()))\n",
        " \n",
        "# Review categories\n",
        "print(mr.categories())\n",
        " \n",
        "# Total positive reviews\n",
        "print (len(mr.fileids('pos')))\n",
        " \n",
        "# Total negative reviews\n",
        "print (len(mr.fileids('neg')))\n",
        "\n",
        "all_document = []\n",
        "for cat in mr.categories():\n",
        "    for fileid in mr.fileids(cat):\n",
        "        all_document.append((mr.words(fileid), cat))\n",
        "shuffle(all_document)\n",
        "print(len(all_document))\n",
        "all_data = []\n",
        "all_label = []\n",
        "\n",
        "for i in all_document:\n",
        "    all_data.append(i[0])\n",
        "    all_label.append(i[1])\n",
        "\n",
        "document['train'] = np.array(all_data[:1500])\n",
        "document['test'] = np.array(all_data[1500:1700])\n",
        "labels['train'] = np.array(all_label[:1500])\n",
        "labels['test'] = np.array(all_label[1500:1700])\n",
        "\n",
        "# print(document['train'][0])\n",
        "# print(labels)\n",
        "\n"
      ],
      "execution_count": 0,
      "outputs": [
        {
          "output_type": "stream",
          "text": [
            "2000\n",
            "['neg', 'pos']\n",
            "1000\n",
            "1000\n",
            "2000\n"
          ],
          "name": "stdout"
        }
      ]
    },
    {
      "cell_type": "markdown",
      "metadata": {
        "colab_type": "text",
        "id": "lOSiSa1uzf61"
      },
      "source": [
        "### Encoding the text data \n",
        "\n",
        "To feed the text data into a deep model, we must convert the strings to numerical data. A variety of approaches are available for this purpose, and we use two of them for this task: **One-Hot** and **TF-IDF** encodings "
      ]
    },
    {
      "cell_type": "markdown",
      "metadata": {
        "colab_type": "text",
        "id": "vzAxV-031voc"
      },
      "source": [
        "### One-Hot encoding\n",
        "\n",
        "one-hot is a group of bits among which the legal combinations of values are only those with a single high (1) bit and all the others low (0). So, in our case, we should convert each word to an array in which only one cell in the whole array must be 1, the one which represents that specific word. Then, to represent a document as a vector, we should sum all the words' vectors in the document."
      ]
    },
    {
      "cell_type": "code",
      "metadata": {
        "colab_type": "code",
        "id": "DDhaJXZL4FcB",
        "outputId": "bf451172-17c1-4aa5-9879-77ac550f2683",
        "colab": {
          "base_uri": "https://localhost:8080/",
          "height": 34
        }
      },
      "source": [
        "'''\n",
        "     Encode documents to One-Hot representation.\n",
        "'''\n",
        "import operator\n",
        "\n",
        "def get_vector(wc, int_rep):\n",
        "    vec = [0]*wc\n",
        "    vec[int_rep]=1\n",
        "    return vec\n",
        "\n",
        "xs = {'train': [], 'test': []} # Put the document vectors here\n",
        "\n",
        "all_word = {}\n",
        "all_word_count = {}\n",
        "\n",
        "c = 0\n",
        "for i,data in enumerate(all_data):\n",
        "    for j in data:\n",
        "        if j in all_word_count:\n",
        "            all_word_count[j]+=1\n",
        "        else:\n",
        "            all_word_count[j] = 1\n",
        "\n",
        "all_word_count = sorted(all_word_count.items(), key=operator.itemgetter(1), reverse=True)\n",
        "all_word_count = all_word_count[:300]\n",
        "for i,data in enumerate(all_data):\n",
        "    for j in data:\n",
        "        if (j not in all_word):\n",
        "            if (j in [k[0] for k in all_word_count]):\n",
        "                all_word[j] = c\n",
        "                c+=1\n",
        "            else:\n",
        "                all_word[j] = 301\n",
        "c+=2\n",
        "# print(c)\n",
        "# print(all_word)\n",
        "# print(get_vector(c,all_word['is']))\n",
        "m_len_of_statments = -1\n",
        "for i in np.hstack((document['train'],document['test'])):\n",
        "    if len(i)>m_len_of_statments:\n",
        "        m_len_of_statments=len(i)\n",
        "print(m_len_of_statments)\n",
        "for i in document['train']:\n",
        "    sentiment = []\n",
        "    for j in i:\n",
        "        sentiment.append(np.array(get_vector(c, all_word[j])))\n",
        "    sentiment+=[c*[0]]*(m_len_of_statments-len(sentiment))\n",
        "    # print(len(sentiment))\n",
        "    xs['train'].append(np.array(sentiment.copy()))\n",
        "\n",
        "for i in document['test']:\n",
        "    sentiment = []\n",
        "    for j in i:\n",
        "        sentiment.append(np.array(get_vector(c, all_word[j])))\n",
        "    sentiment+=[c*[0]]*(m_len_of_statments-len(sentiment))\n",
        "    # print(len(sentiment))\n",
        "    xs['test'].append(np.array(sentiment.copy()))\n",
        "\n",
        "# for i in document['test']:\n",
        "#     sentiment = np.array([c*[0]])\n",
        "#     for j in i:\n",
        "#         sentiment = np.vstack((sentiment,np.array(get_vector(c, all_word[j]))))\n",
        "#     sentiment = np.vstack((sentiment,[c*[0]]*(m_len_of_statments-len(sentiment))))\n",
        "#     print(sentiment.shape)\n",
        "#     xs['test'].append(np.array(sentiment.copy()))\n"
      ],
      "execution_count": 0,
      "outputs": [
        {
          "output_type": "stream",
          "text": [
            "2879\n"
          ],
          "name": "stdout"
        }
      ]
    },
    {
      "cell_type": "code",
      "metadata": {
        "id": "vbvjuNTFmkQe",
        "colab_type": "code",
        "outputId": "23205587-fdb5-41e3-dae1-ec76399ff9f2",
        "colab": {
          "base_uri": "https://localhost:8080/",
          "height": 51
        }
      },
      "source": [
        "xs['train'] = np.array(xs['train']).reshape(1500,2879*302)\n",
        "print(np.array(xs['train']).shape)\n",
        "xs['test'] = np.array(xs['test']).reshape(200,2879*302)\n",
        "print(np.array(xs['test']).shape)"
      ],
      "execution_count": 0,
      "outputs": [
        {
          "output_type": "stream",
          "text": [
            "(1500, 869458)\n",
            "(200, 869458)\n"
          ],
          "name": "stdout"
        }
      ]
    },
    {
      "cell_type": "markdown",
      "metadata": {
        "colab_type": "text",
        "id": "dI7qsdXB5WFw"
      },
      "source": [
        "As we studied in the TA class, for classification tasks we need to convert the labels into the one-hot format."
      ]
    },
    {
      "cell_type": "code",
      "metadata": {
        "colab_type": "code",
        "id": "OYphZx5g6ILu",
        "colab": {}
      },
      "source": [
        "'''\n",
        "     Convert labels into One-Hot representation.\n",
        "'''\n",
        "ys = {'train': [], 'test': []} # Put the label vectors here\n",
        "\n",
        "# print(labels['train'])\n",
        "for i in labels['train']:\n",
        "    if i=='neg':\n",
        "        ys['train'].append(np.array([0.0,1.0]))\n",
        "    if i=='pos':\n",
        "        ys['train'].append(np.array([1.0,0.0]))\n",
        "# print(ys)\n",
        "for i in labels['test']:\n",
        "    if i=='neg':\n",
        "        ys['test'].append(np.array([0.0,1.0]))\n",
        "    if i=='pos':\n",
        "        ys['test'].append(np.array([1.0,0.0]))\n",
        "ys['train'] = np.array(ys['train'])\n",
        "ys['test'] = np.array(ys['test'])"
      ],
      "execution_count": 0,
      "outputs": []
    },
    {
      "cell_type": "markdown",
      "metadata": {
        "colab_type": "text",
        "id": "h6g6utE0ANO6"
      },
      "source": [
        "Now we build and train the model, and then visualize the results."
      ]
    },
    {
      "cell_type": "code",
      "metadata": {
        "colab_type": "code",
        "id": "fEZSEKlrATyQ",
        "colab": {}
      },
      "source": [
        "def recall(y_true, y_pred):\n",
        "    \"\"\"\n",
        "    Recall metric.\n",
        "\n",
        "    Only computes a batch-wise average of recall.\n",
        "\n",
        "    Computes the recall, a metric for multi-label classification of\n",
        "    how many relevant items are selected.\n",
        "    \"\"\"\n",
        "    true_positives = K.sum(K.round(K.clip(y_true * y_pred, 0, 1)))\n",
        "    possible_positives = K.sum(K.round(K.clip(y_true, 0, 1)))\n",
        "    recall = true_positives / (possible_positives + K.epsilon())\n",
        "    return recall\n",
        "\n",
        "\n",
        "def precision(y_true, y_pred):\n",
        "    \"\"\"\n",
        "    Precision metric.\n",
        "\n",
        "    Only computes a batch-wise average of precision.\n",
        "\n",
        "    Computes the precision, a metric for multi-label classification of\n",
        "    how many selected items are relevant.\n",
        "\n",
        "    Source\n",
        "    ------\n",
        "    https://github.com/fchollet/keras/issues/5400#issuecomment-314747992\n",
        "    \"\"\"\n",
        "    true_positives = K.sum(K.round(K.clip(y_true * y_pred, 0, 1)))\n",
        "    predicted_positives = K.sum(K.round(K.clip(y_pred, 0, 1)))\n",
        "    precision = true_positives / (predicted_positives + K.epsilon())\n",
        "    return precision\n",
        "\n",
        "\n",
        "def f1(y_true, y_pred):\n",
        "    \"\"\"Calculate the F1 score.\"\"\"\n",
        "    p = precision(y_true, y_pred)\n",
        "    r = recall(y_true, y_pred)\n",
        "    return 2 * ((p * r) / (p + r))\n",
        "\n",
        "def create_model(nb_classes, input_shape):\n",
        "    \"\"\"Create a MLP model.\"\"\"\n",
        "    input_ = Input(shape=input_shape)\n",
        "    x = input_\n",
        "    x = Dense(16, activation='relu')(x)\n",
        "    x = Dense(16, activation='relu')(x)\n",
        "    x = Dense(nb_classes)(x)\n",
        "    x = Activation('sigmoid')(x)\n",
        "    model = Model(inputs=input_, outputs=x)\n",
        "    return model"
      ],
      "execution_count": 0,
      "outputs": []
    },
    {
      "cell_type": "code",
      "metadata": {
        "colab_type": "code",
        "id": "-YTw8Of5Aczx",
        "outputId": "32e6b8b0-577e-4ccf-ca2b-b41d261283a5",
        "colab": {
          "base_uri": "https://localhost:8080/",
          "height": 1000
        }
      },
      "source": [
        "data = {'x_train': xs['train'], 'y_train': ys['train'],\n",
        "        'x_test': xs['test'], 'y_test': ys['test']}\n",
        "model = create_model(2, (xs['train'].shape[1], ))\n",
        "model.compile(loss='binary_crossentropy',optimizer=\"adam\", metrics=[\"accuracy\",f1,recall,precision])\n",
        "history = model.fit(data['x_train'], data['y_train'],\n",
        "              batch_size=32,\n",
        "              epochs=20,\n",
        "              validation_data=(data['x_test'], data['y_test']))"
      ],
      "execution_count": 0,
      "outputs": [
        {
          "output_type": "stream",
          "text": [
            "WARNING:tensorflow:From /usr/local/lib/python3.6/dist-packages/keras/backend/tensorflow_backend.py:66: The name tf.get_default_graph is deprecated. Please use tf.compat.v1.get_default_graph instead.\n",
            "\n",
            "WARNING:tensorflow:From /usr/local/lib/python3.6/dist-packages/keras/backend/tensorflow_backend.py:541: The name tf.placeholder is deprecated. Please use tf.compat.v1.placeholder instead.\n",
            "\n",
            "WARNING:tensorflow:From /usr/local/lib/python3.6/dist-packages/keras/backend/tensorflow_backend.py:4432: The name tf.random_uniform is deprecated. Please use tf.random.uniform instead.\n",
            "\n",
            "WARNING:tensorflow:From /usr/local/lib/python3.6/dist-packages/keras/optimizers.py:793: The name tf.train.Optimizer is deprecated. Please use tf.compat.v1.train.Optimizer instead.\n",
            "\n",
            "WARNING:tensorflow:From /usr/local/lib/python3.6/dist-packages/keras/backend/tensorflow_backend.py:3657: The name tf.log is deprecated. Please use tf.math.log instead.\n",
            "\n",
            "WARNING:tensorflow:From /usr/local/lib/python3.6/dist-packages/tensorflow_core/python/ops/nn_impl.py:183: where (from tensorflow.python.ops.array_ops) is deprecated and will be removed in a future version.\n",
            "Instructions for updating:\n",
            "Use tf.where in 2.0, which has the same broadcast rule as np.where\n",
            "WARNING:tensorflow:From /usr/local/lib/python3.6/dist-packages/keras/backend/tensorflow_backend.py:1033: The name tf.assign_add is deprecated. Please use tf.compat.v1.assign_add instead.\n",
            "\n",
            "WARNING:tensorflow:From /usr/local/lib/python3.6/dist-packages/keras/backend/tensorflow_backend.py:1020: The name tf.assign is deprecated. Please use tf.compat.v1.assign instead.\n",
            "\n",
            "WARNING:tensorflow:From /usr/local/lib/python3.6/dist-packages/keras/backend/tensorflow_backend.py:3005: The name tf.Session is deprecated. Please use tf.compat.v1.Session instead.\n",
            "\n",
            "Train on 1500 samples, validate on 200 samples\n",
            "Epoch 1/20\n",
            "WARNING:tensorflow:From /usr/local/lib/python3.6/dist-packages/keras/backend/tensorflow_backend.py:190: The name tf.get_default_session is deprecated. Please use tf.compat.v1.get_default_session instead.\n",
            "\n",
            "WARNING:tensorflow:From /usr/local/lib/python3.6/dist-packages/keras/backend/tensorflow_backend.py:197: The name tf.ConfigProto is deprecated. Please use tf.compat.v1.ConfigProto instead.\n",
            "\n",
            "WARNING:tensorflow:From /usr/local/lib/python3.6/dist-packages/keras/backend/tensorflow_backend.py:207: The name tf.global_variables is deprecated. Please use tf.compat.v1.global_variables instead.\n",
            "\n",
            "WARNING:tensorflow:From /usr/local/lib/python3.6/dist-packages/keras/backend/tensorflow_backend.py:216: The name tf.is_variable_initialized is deprecated. Please use tf.compat.v1.is_variable_initialized instead.\n",
            "\n",
            "WARNING:tensorflow:From /usr/local/lib/python3.6/dist-packages/keras/backend/tensorflow_backend.py:223: The name tf.variables_initializer is deprecated. Please use tf.compat.v1.variables_initializer instead.\n",
            "\n",
            "1500/1500 [==============================] - 13s 9ms/step - loss: 0.6898 - acc: 0.5250 - f1: 0.5424 - recall: 0.5933 - precision: 0.5344 - val_loss: 0.6799 - val_acc: 0.5150 - val_f1: 0.5735 - val_recall: 0.6550 - val_precision: 0.5107\n",
            "Epoch 2/20\n",
            "1500/1500 [==============================] - 8s 5ms/step - loss: 0.3947 - acc: 0.8627 - f1: 0.8699 - recall: 0.8967 - precision: 0.8489 - val_loss: 0.6837 - val_acc: 0.5650 - val_f1: 0.5794 - val_recall: 0.6000 - val_precision: 0.5607\n",
            "Epoch 3/20\n",
            "1500/1500 [==============================] - 8s 5ms/step - loss: 0.0694 - acc: 0.9963 - f1: 0.9963 - recall: 0.9953 - precision: 0.9973 - val_loss: 0.7101 - val_acc: 0.5750 - val_f1: 0.5851 - val_recall: 0.6000 - val_precision: 0.5715\n",
            "Epoch 4/20\n",
            "1500/1500 [==============================] - 8s 5ms/step - loss: 0.0106 - acc: 1.0000 - f1: 1.0000 - recall: 1.0000 - precision: 1.0000 - val_loss: 0.7136 - val_acc: 0.5500 - val_f1: 0.5504 - val_recall: 0.5500 - val_precision: 0.5511\n",
            "Epoch 5/20\n",
            "1500/1500 [==============================] - 8s 5ms/step - loss: 0.0047 - acc: 1.0000 - f1: 1.0000 - recall: 1.0000 - precision: 1.0000 - val_loss: 0.7314 - val_acc: 0.5625 - val_f1: 0.5615 - val_recall: 0.5600 - val_precision: 0.5631\n",
            "Epoch 6/20\n",
            "1500/1500 [==============================] - 8s 5ms/step - loss: 0.0025 - acc: 1.0000 - f1: 1.0000 - recall: 1.0000 - precision: 1.0000 - val_loss: 0.7639 - val_acc: 0.5550 - val_f1: 0.5612 - val_recall: 0.5700 - val_precision: 0.5528\n",
            "Epoch 7/20\n",
            "1500/1500 [==============================] - 8s 5ms/step - loss: 0.0012 - acc: 1.0000 - f1: 1.0000 - recall: 1.0000 - precision: 1.0000 - val_loss: 0.7906 - val_acc: 0.5650 - val_f1: 0.5899 - val_recall: 0.6250 - val_precision: 0.5588\n",
            "Epoch 8/20\n",
            "1500/1500 [==============================] - 8s 5ms/step - loss: 6.2217e-04 - acc: 1.0000 - f1: 1.0000 - recall: 1.0000 - precision: 1.0000 - val_loss: 0.8036 - val_acc: 0.5500 - val_f1: 0.5838 - val_recall: 0.6350 - val_precision: 0.5410\n",
            "Epoch 9/20\n",
            "1500/1500 [==============================] - 8s 5ms/step - loss: 4.0721e-04 - acc: 1.0000 - f1: 1.0000 - recall: 1.0000 - precision: 1.0000 - val_loss: 0.8219 - val_acc: 0.5550 - val_f1: 0.5865 - val_recall: 0.6350 - val_precision: 0.5458\n",
            "Epoch 10/20\n",
            "1500/1500 [==============================] - 8s 5ms/step - loss: 2.9949e-04 - acc: 1.0000 - f1: 1.0000 - recall: 1.0000 - precision: 1.0000 - val_loss: 0.8338 - val_acc: 0.5550 - val_f1: 0.5868 - val_recall: 0.6350 - val_precision: 0.5463\n",
            "Epoch 11/20\n",
            "1500/1500 [==============================] - 8s 5ms/step - loss: 2.3653e-04 - acc: 1.0000 - f1: 1.0000 - recall: 1.0000 - precision: 1.0000 - val_loss: 0.8452 - val_acc: 0.5525 - val_f1: 0.5833 - val_recall: 0.6300 - val_precision: 0.5443\n",
            "Epoch 12/20\n",
            "1500/1500 [==============================] - 8s 5ms/step - loss: 1.8557e-04 - acc: 1.0000 - f1: 1.0000 - recall: 1.0000 - precision: 1.0000 - val_loss: 0.8535 - val_acc: 0.5525 - val_f1: 0.5833 - val_recall: 0.6300 - val_precision: 0.5443\n",
            "Epoch 13/20\n",
            "1500/1500 [==============================] - 8s 5ms/step - loss: 1.5250e-04 - acc: 1.0000 - f1: 1.0000 - recall: 1.0000 - precision: 1.0000 - val_loss: 0.8613 - val_acc: 0.5550 - val_f1: 0.5846 - val_recall: 0.6300 - val_precision: 0.5464\n",
            "Epoch 14/20\n",
            "1500/1500 [==============================] - 8s 5ms/step - loss: 1.2739e-04 - acc: 1.0000 - f1: 1.0000 - recall: 1.0000 - precision: 1.0000 - val_loss: 0.8674 - val_acc: 0.5550 - val_f1: 0.5846 - val_recall: 0.6300 - val_precision: 0.5464\n",
            "Epoch 15/20\n",
            "1500/1500 [==============================] - 8s 5ms/step - loss: 1.0834e-04 - acc: 1.0000 - f1: 1.0000 - recall: 1.0000 - precision: 1.0000 - val_loss: 0.8723 - val_acc: 0.5600 - val_f1: 0.5874 - val_recall: 0.6300 - val_precision: 0.5512\n",
            "Epoch 16/20\n",
            "1500/1500 [==============================] - 8s 5ms/step - loss: 9.2699e-05 - acc: 1.0000 - f1: 1.0000 - recall: 1.0000 - precision: 1.0000 - val_loss: 0.8785 - val_acc: 0.5575 - val_f1: 0.5860 - val_recall: 0.6300 - val_precision: 0.5488\n",
            "Epoch 17/20\n",
            "1500/1500 [==============================] - 8s 5ms/step - loss: 8.0386e-05 - acc: 1.0000 - f1: 1.0000 - recall: 1.0000 - precision: 1.0000 - val_loss: 0.8837 - val_acc: 0.5575 - val_f1: 0.5860 - val_recall: 0.6300 - val_precision: 0.5488\n",
            "Epoch 18/20\n",
            "1500/1500 [==============================] - 8s 5ms/step - loss: 7.0864e-05 - acc: 1.0000 - f1: 1.0000 - recall: 1.0000 - precision: 1.0000 - val_loss: 0.8888 - val_acc: 0.5600 - val_f1: 0.5853 - val_recall: 0.6250 - val_precision: 0.5513\n",
            "Epoch 19/20\n",
            "1500/1500 [==============================] - 8s 5ms/step - loss: 6.1789e-05 - acc: 1.0000 - f1: 1.0000 - recall: 1.0000 - precision: 1.0000 - val_loss: 0.8930 - val_acc: 0.5575 - val_f1: 0.5839 - val_recall: 0.6250 - val_precision: 0.5490\n",
            "Epoch 20/20\n",
            "1500/1500 [==============================] - 8s 5ms/step - loss: 5.6062e-05 - acc: 1.0000 - f1: 1.0000 - recall: 1.0000 - precision: 1.0000 - val_loss: 0.8981 - val_acc: 0.5625 - val_f1: 0.5867 - val_recall: 0.6250 - val_precision: 0.5540\n"
          ],
          "name": "stdout"
        }
      ]
    },
    {
      "cell_type": "code",
      "metadata": {
        "colab_type": "code",
        "id": "wsqYhgagBS3v",
        "outputId": "b98ee828-e0a6-47d5-8341-4a906d42ad91",
        "colab": {
          "base_uri": "https://localhost:8080/",
          "height": 295
        }
      },
      "source": [
        "%matplotlib inline\n",
        "import matplotlib.pyplot as plt\n",
        "\n",
        "history_dict = history.history\n",
        "acc = history_dict['acc']\n",
        "\n",
        "epochs = range(1, len(acc) + 1)\n",
        "\n",
        "acc_values = history_dict['acc']\n",
        "val_acc = history_dict['val_acc']\n",
        "\n",
        "plt.plot(epochs, acc, 'bo', label='Training acc')\n",
        "plt.plot(epochs, val_acc, 'b', label='Validation acc')\n",
        "plt.title('Training and validation accuracy')\n",
        "plt.xlabel('Epochs')\n",
        "plt.ylabel('Acc')\n",
        "plt.legend()\n",
        "\n",
        "plt.show()"
      ],
      "execution_count": 0,
      "outputs": [
        {
          "output_type": "display_data",
          "data": {
            "image/png": "[encoded data removed]",
            "text/plain": [
              "<Figure size 432x288 with 1 Axes>"
            ]
          },
          "metadata": {
            "tags": []
          }
        }
      ]
    },
    {
      "cell_type": "markdown",
      "metadata": {
        "colab_type": "text",
        "id": "rR0h5HWPB5Zt"
      },
      "source": [
        "### TF-IDF encoding\n",
        "\n",
        "TFIDF, short for term frequency-inverse document frequency, is a numerical statistic that is intended to reflect how important a word is to a document in a collection or corpus[[1]](http://i.stanford.edu/~ullman/mmds/ch1.pdf). TF-IDF considers both frequencies of a word in the document and Inverse Document Frequency which determines whether a word is common in documents or not. You can learn more about this approach [here](https://en.wikipedia.org/wiki/Tf%E2%80%93idf) to implement it. Note that you need to provide a vector for each document with the same shape as the One-Hot vector but with different values."
      ]
    },
    {
      "cell_type": "code",
      "metadata": {
        "colab_type": "code",
        "id": "3gxirDVJErk2",
        "outputId": "0370fc9b-c1c5-4b22-f9fb-b4e223eef20f",
        "colab": {
          "base_uri": "https://localhost:8080/",
          "height": 232
        }
      },
      "source": [
        "'''\n",
        "     Encode documents to TF-IDF representation.\n",
        "'''\n",
        "xs = {'train': [], 'test': []} # Put the document vectors here\n",
        "\n",
        "\n",
        "import collections\n",
        "import math\n",
        "data_as_list = []\n",
        "\n",
        "for category in ['pos', 'neg']:\n",
        "  for fileid in movie_reviews.fileids(category):\n",
        "    data_as_list += [(movie_reviews.words(fileid), category)]\n",
        "\n",
        "shuffle(data_as_list)\n",
        "\n",
        "reviews_data = [listed_data[0] for listed_data in data_as_list]\n",
        "data_labels = [listed_data[1] for listed_data in data_as_list]\n",
        "\n",
        "def create_vocab(all_reviews):\n",
        "  vocab = {}\n",
        "  counter = 0\n",
        "  for review in all_reviews:\n",
        "    for word in review:\n",
        "      if word not in vocab:\n",
        "        vocab[word] = counter\n",
        "        counter += 1\n",
        "  return vocab\n",
        "\n",
        "\n",
        "def generate_tf(word, document):\n",
        "  counter = 0\n",
        "  for w in document:\n",
        "    if w == word:\n",
        "      counter += 1\n",
        "  return counter / len(document)\n",
        "  \n",
        "  \n",
        "def generate_idf(all_reviews, word):\n",
        "  counter = 0\n",
        "  for document in all_reviews:\n",
        "    if word in document:\n",
        "      counter = counter + 1\n",
        "      \n",
        "  return len(all_reviews)/counter\n",
        "\n",
        "      \n",
        "def generate_idfs(all_reviews, vocab):\n",
        "  for word, index in vocab.items():\n",
        "    if word not in ALL_IDFS:\n",
        "      ALL_IDFS[word] = generate_idf(all_reviews, word)\n",
        "  \n",
        "      \n",
        "def generate_tf_idf(all_reviews):\n",
        "  tfidf = []\n",
        "  doc_list = [0.0]*len(vocab)\n",
        "    \n",
        "  for doc in all_reviews:\n",
        "    for word in doc:\n",
        "      index = vocab[label]\n",
        "      tf = generate_tf(word, doc)\n",
        "      idf = ALL_IDFS[word]\n",
        "      doc_list[index] = tf*math.log(idf)\n",
        "    tfidf += [doc_list]\n",
        "    doc_list = [0.0]*len(vocab)\n",
        "        \n",
        "  return \n",
        "\n",
        "ALL_IDFS = {}\n",
        "ALL_TFS = {}\n",
        "vocab = create_vocab(reviews_data)\n",
        "\n",
        "generate_idfs(reviews_data, vocab)\n",
        "\n",
        "tf_idf_reviews = np.assarray(gnerate_tf_idf(reviews_data))\n",
        "xs = {'train': tf_idf_reviews[:1200], 'test': tf_idf_reviews[1200:]} # Put the document vectors here"
      ],
      "execution_count": 0,
      "outputs": [
        {
          "output_type": "error",
          "ename": "NameError",
          "evalue": "ignored",
          "traceback": [
            "\u001b[0;31m---------------------------------------------------------------------------\u001b[0m",
            "\u001b[0;31mNameError\u001b[0m                                 Traceback (most recent call last)",
            "\u001b[0;32m<ipython-input-10-b17b70f7b038>\u001b[0m in \u001b[0;36m<module>\u001b[0;34m()\u001b[0m\n\u001b[1;32m     10\u001b[0m \u001b[0;34m\u001b[0m\u001b[0m\n\u001b[1;32m     11\u001b[0m \u001b[0;32mfor\u001b[0m \u001b[0mcategory\u001b[0m \u001b[0;32min\u001b[0m \u001b[0;34m[\u001b[0m\u001b[0;34m'pos'\u001b[0m\u001b[0;34m,\u001b[0m \u001b[0;34m'neg'\u001b[0m\u001b[0;34m]\u001b[0m\u001b[0;34m:\u001b[0m\u001b[0;34m\u001b[0m\u001b[0;34m\u001b[0m\u001b[0m\n\u001b[0;32m---> 12\u001b[0;31m   \u001b[0;32mfor\u001b[0m \u001b[0mfileid\u001b[0m \u001b[0;32min\u001b[0m \u001b[0mmovie_reviews\u001b[0m\u001b[0;34m.\u001b[0m\u001b[0mfileids\u001b[0m\u001b[0;34m(\u001b[0m\u001b[0mcategory\u001b[0m\u001b[0;34m)\u001b[0m\u001b[0;34m:\u001b[0m\u001b[0;34m\u001b[0m\u001b[0;34m\u001b[0m\u001b[0m\n\u001b[0m\u001b[1;32m     13\u001b[0m     \u001b[0mdata_as_list\u001b[0m \u001b[0;34m+=\u001b[0m \u001b[0;34m[\u001b[0m\u001b[0;34m(\u001b[0m\u001b[0mmovie_reviews\u001b[0m\u001b[0;34m.\u001b[0m\u001b[0mwords\u001b[0m\u001b[0;34m(\u001b[0m\u001b[0mfileid\u001b[0m\u001b[0;34m)\u001b[0m\u001b[0;34m,\u001b[0m \u001b[0mcategory\u001b[0m\u001b[0;34m)\u001b[0m\u001b[0;34m]\u001b[0m\u001b[0;34m\u001b[0m\u001b[0;34m\u001b[0m\u001b[0m\n\u001b[1;32m     14\u001b[0m \u001b[0;34m\u001b[0m\u001b[0m\n",
            "\u001b[0;31mNameError\u001b[0m: name 'movie_reviews' is not defined"
          ]
        }
      ]
    },
    {
      "cell_type": "markdown",
      "metadata": {
        "colab_type": "text",
        "id": "szhsDbzVGd6i"
      },
      "source": [
        "Now we train and visualize our model again. Note that the result may vary concerning the preprocessing you do or the tokenizer you use to split your data."
      ]
    },
    {
      "cell_type": "code",
      "metadata": {
        "colab_type": "code",
        "id": "PXP8i9uZGyTo",
        "colab": {}
      },
      "source": [
        "data = {'x_train': xs['train'], 'y_train': ys['train'],\n",
        "        'x_test': xs['test'], 'y_test': ys['test']}\n",
        "model = create_model(2, (data['x_train'].shape[1], ))\n",
        "model.compile(loss='binary_crossentropy',optimizer=\"adam\", metrics=[\"accuracy\",f1,recall,precision])\n",
        "history = model.fit(data['x_train'], data['y_train'],\n",
        "              batch_size=32,\n",
        "              epochs=20,\n",
        "              validation_data=(data['x_test'], data['y_test']))"
      ],
      "execution_count": 0,
      "outputs": []
    },
    {
      "cell_type": "code",
      "metadata": {
        "colab_type": "code",
        "id": "adscXEshG4zh",
        "colab": {}
      },
      "source": [
        "history_dict = history.history\n",
        "acc = history_dict['acc']\n",
        "\n",
        "epochs = range(1, len(acc) + 1)\n",
        "\n",
        "acc_values = history_dict['acc']\n",
        "val_acc = history_dict['val_acc']\n",
        "\n",
        "plt.plot(epochs, acc, 'bo', label='Training acc')\n",
        "plt.plot(epochs, val_acc, 'b', label='Validation acc')\n",
        "plt.title('Training and validation accuracy')\n",
        "plt.xlabel('Epochs')\n",
        "plt.ylabel('Acc')\n",
        "plt.legend()\n",
        "\n",
        "plt.show()"
      ],
      "execution_count": 0,
      "outputs": []
    },
    {
      "cell_type": "markdown",
      "metadata": {
        "colab_type": "text",
        "id": "xR6EHdIbNKMN"
      },
      "source": [
        "\n",
        "\n",
        "## Sentiment Analysis on IMDB\n",
        "\n",
        "Working with this dataset is a bit tricky. download the dataset from [here](https://ai.stanford.edu/~amaas/data/sentiment/), then use the Training set as your whole dataset. You can use a sample of 12500 reviews if you faced any ram problems, but remember to include both negative and positive reviews equally."
      ]
    },
    {
      "cell_type": "code",
      "metadata": {
        "id": "Z2YmTf51RunI",
        "colab_type": "code",
        "outputId": "4fa4ac95-532e-46a3-fa87-6d2ce7435371",
        "colab": {
          "base_uri": "https://localhost:8080/",
          "height": 632
        }
      },
      "source": [
        "!wget https://ai.stanford.edu/~amaas/data/sentiment/aclImdb_v1.tar.gz\n",
        "!pip install --upgrade gensim"
      ],
      "execution_count": 0,
      "outputs": [
        {
          "output_type": "stream",
          "text": [
            "--2019-11-30 10:47:53--  https://ai.stanford.edu/~amaas/data/sentiment/aclImdb_v1.tar.gz\n",
            "Resolving ai.stanford.edu (ai.stanford.edu)... 171.64.68.10\n",
            "Connecting to ai.stanford.edu (ai.stanford.edu)|171.64.68.10|:443... connected.\n",
            "HTTP request sent, awaiting response... 200 OK\n",
            "Length: 84125825 (80M) [application/x-gzip]\n",
            "Saving to: ‘aclImdb_v1.tar.gz.1’\n",
            "\n",
            "aclImdb_v1.tar.gz.1 100%[===================>]  80.23M  22.7MB/s    in 4.5s    \n",
            "\n",
            "2019-11-30 10:47:58 (17.7 MB/s) - ‘aclImdb_v1.tar.gz.1’ saved [84125825/84125825]\n",
            "\n",
            "Collecting gensim\n",
            "\u001b[?25l  Downloading https://files.pythonhosted.org/packages/d1/dd/112bd4258cee11e0baaaba064060eb156475a42362e59e3ff28e7ca2d29d/gensim-3.8.1-cp36-cp36m-manylinux1_x86_64.whl (24.2MB)\n",
            "\u001b[K     |████████████████████████████████| 24.2MB 96kB/s \n",
            "\u001b[?25hRequirement already satisfied, skipping upgrade: six>=1.5.0 in /usr/local/lib/python3.6/dist-packages (from gensim) (1.12.0)\n",
            "Requirement already satisfied, skipping upgrade: numpy>=1.11.3 in /usr/local/lib/python3.6/dist-packages (from gensim) (1.17.4)\n",
            "Requirement already satisfied, skipping upgrade: scipy>=0.18.1 in /usr/local/lib/python3.6/dist-packages (from gensim) (1.3.2)\n",
            "Requirement already satisfied, skipping upgrade: smart-open>=1.8.1 in /usr/local/lib/python3.6/dist-packages (from gensim) (1.9.0)\n",
            "Requirement already satisfied, skipping upgrade: boto>=2.32 in /usr/local/lib/python3.6/dist-packages (from smart-open>=1.8.1->gensim) (2.49.0)\n",
            "Requirement already satisfied, skipping upgrade: requests in /usr/local/lib/python3.6/dist-packages (from smart-open>=1.8.1->gensim) (2.21.0)\n",
            "Requirement already satisfied, skipping upgrade: boto3 in /usr/local/lib/python3.6/dist-packages (from smart-open>=1.8.1->gensim) (1.10.18)\n",
            "Requirement already satisfied, skipping upgrade: urllib3<1.25,>=1.21.1 in /usr/local/lib/python3.6/dist-packages (from requests->smart-open>=1.8.1->gensim) (1.24.3)\n",
            "Requirement already satisfied, skipping upgrade: certifi>=2017.4.17 in /usr/local/lib/python3.6/dist-packages (from requests->smart-open>=1.8.1->gensim) (2019.9.11)\n",
            "Requirement already satisfied, skipping upgrade: idna<2.9,>=2.5 in /usr/local/lib/python3.6/dist-packages (from requests->smart-open>=1.8.1->gensim) (2.8)\n",
            "Requirement already satisfied, skipping upgrade: chardet<3.1.0,>=3.0.2 in /usr/local/lib/python3.6/dist-packages (from requests->smart-open>=1.8.1->gensim) (3.0.4)\n",
            "Requirement already satisfied, skipping upgrade: s3transfer<0.3.0,>=0.2.0 in /usr/local/lib/python3.6/dist-packages (from boto3->smart-open>=1.8.1->gensim) (0.2.1)\n",
            "Requirement already satisfied, skipping upgrade: botocore<1.14.0,>=1.13.18 in /usr/local/lib/python3.6/dist-packages (from boto3->smart-open>=1.8.1->gensim) (1.13.18)\n",
            "Requirement already satisfied, skipping upgrade: jmespath<1.0.0,>=0.7.1 in /usr/local/lib/python3.6/dist-packages (from boto3->smart-open>=1.8.1->gensim) (0.9.4)\n",
            "Requirement already satisfied, skipping upgrade: docutils<0.16,>=0.10 in /usr/local/lib/python3.6/dist-packages (from botocore<1.14.0,>=1.13.18->boto3->smart-open>=1.8.1->gensim) (0.15.2)\n",
            "Requirement already satisfied, skipping upgrade: python-dateutil<2.8.1,>=2.1; python_version >= \"2.7\" in /usr/local/lib/python3.6/dist-packages (from botocore<1.14.0,>=1.13.18->boto3->smart-open>=1.8.1->gensim) (2.6.1)\n",
            "Installing collected packages: gensim\n",
            "  Found existing installation: gensim 3.6.0\n",
            "    Uninstalling gensim-3.6.0:\n",
            "      Successfully uninstalled gensim-3.6.0\n",
            "Successfully installed gensim-3.8.1\n"
          ],
          "name": "stdout"
        }
      ]
    },
    {
      "cell_type": "code",
      "metadata": {
        "id": "46i85mCVScwA",
        "colab_type": "code",
        "colab": {}
      },
      "source": [
        "!tar -xf aclImdb_v1.tar.gz\n"
      ],
      "execution_count": 0,
      "outputs": []
    },
    {
      "cell_type": "code",
      "metadata": {
        "colab_type": "code",
        "id": "nVien8_kOfEQ",
        "outputId": "fed2ffb9-c67e-41ee-803d-1feb7db36db8",
        "colab": {
          "base_uri": "https://localhost:8080/",
          "height": 71
        }
      },
      "source": [
        "'''\n",
        "    Import necessary modules, download and prepare the requested dataset\n",
        "'''\n",
        "import os\n",
        "import random\n",
        "all_train_data = []\n",
        "print(os.listdir('/content/aclImdb/train/pos'))\n",
        "for i,d in enumerate(os.listdir('/content/aclImdb/train/pos')):\n",
        "    all_train_data.append(('/content/aclImdb/train/pos'+d,1))\n",
        "    if i==500:\n",
        "        break\n",
        "for i,d in enumerate(os.listdir('/content/aclImdb/train/neg')):\n",
        "    all_train_data.append(('/content/aclImdb/train/neg'+d,0))\n",
        "    if i==500:\n",
        "        break\n",
        "random.shuffle(all_train_data)\n",
        "\n",
        "all_test_data = []\n",
        "print(os.listdir('/content/aclImdb/test/pos'))\n",
        "for i,d in enumerate(os.listdir('/content/aclImdb/test/pos')):\n",
        "    all_test_data.append(('/content/aclImdb/test/pos'+d,1))\n",
        "    if i==100:\n",
        "        break\n",
        "for i,d in enumerate(os.listdir('/content/aclImdb/test/neg')):\n",
        "    all_train_data.append(('/content/aclImdb/test/neg'+d,0))\n",
        "    if i==100:\n",
        "        break\n",
        "random.shuffle(all_test_data)\n"
      ],
      "execution_count": 0,
      "outputs": [
        {
          "output_type": "stream",
          "text": [
            "['6625_7.txt', '1079_7.txt', '6377_9.txt', '8831_8.txt', '5203_7.txt', '8301_7.txt', '8497_7.txt', '6421_8.txt', '10750_8.txt', '1422_10.txt', '10720_9.txt', '2910_7.txt', '8861_9.txt', '8146_10.txt', '657_10.txt', '8390_8.txt', '6689_8.txt', '11920_9.txt', '11217_7.txt', '4322_10.txt', '2736_9.txt', '8407_7.txt', '6051_9.txt', '2496_8.txt', '6790_10.txt', '435_8.txt', '7246_10.txt', '3710_9.txt', '9885_10.txt', '1791_8.txt', '9675_8.txt', '10971_9.txt', '9162_10.txt', '9717_8.txt', '1518_8.txt', '6211_8.txt', '11827_9.txt', '4499_9.txt', '3663_10.txt', '10334_8.txt', '6616_7.txt', '1802_9.txt', '3564_10.txt', '9464_8.txt', '7206_9.txt', '3665_9.txt', '4561_10.txt', '7553_10.txt', '6028_9.txt', '8312_10.txt', '8155_7.txt', '5873_8.txt', '10637_10.txt', '1786_7.txt', '7926_10.txt', '2441_10.txt', '12336_9.txt', '8026_9.txt', '3387_10.txt', '5515_7.txt', '8213_9.txt', '3932_8.txt', '10642_8.txt', '11753_10.txt', '2798_8.txt', '7412_9.txt', '10770_7.txt', '11653_10.txt', '1572_10.txt', '9990_8.txt', '7615_10.txt', '4300_7.txt', '3973_7.txt', '9730_8.txt', '8816_7.txt', '4758_8.txt', '11009_7.txt', '8128_10.txt', '3330_7.txt', '12026_8.txt', '7582_8.txt', '4528_8.txt', '1155_10.txt', '7439_9.txt', '11722_8.txt', '610_9.txt', '6131_10.txt', '1012_10.txt', '4077_10.txt', '4318_10.txt', '5398_8.txt', '3223_8.txt', '7985_10.txt', '1219_10.txt', '7574_10.txt', '2652_10.txt', '2359_10.txt', '12415_8.txt', '7272_10.txt', '3743_10.txt', '1030_10.txt', '414_10.txt', '3068_9.txt', '1116_9.txt', '4673_9.txt', '5281_10.txt', '12227_7.txt', '10711_10.txt', '7519_9.txt', '548_7.txt', '9315_7.txt', '8324_8.txt', '10577_10.txt', '11449_10.txt', '3774_8.txt', '7808_10.txt', '5553_8.txt', '5747_8.txt', '6661_7.txt', '2768_8.txt', '3389_7.txt', '9700_10.txt', '3612_7.txt', '4917_8.txt', '8895_10.txt', '8651_9.txt', '6802_9.txt', '4740_8.txt', '8381_8.txt', '2434_8.txt', '733_9.txt', '11244_10.txt', '1826_10.txt', '9986_9.txt', '5590_8.txt', '2710_7.txt', '4709_9.txt', '9049_8.txt', '7671_10.txt', '7747_10.txt', '9697_8.txt', '1552_8.txt', '11807_7.txt', '12142_9.txt', '11177_8.txt', '10280_10.txt', '6235_8.txt', '6147_7.txt', '5218_7.txt', '3006_9.txt', '7133_10.txt', '249_10.txt', '9467_10.txt', '10526_9.txt', '2711_7.txt', '11660_7.txt', '2829_10.txt', '1643_10.txt', '3918_10.txt', '8395_8.txt', '7756_10.txt', '9475_9.txt', '9322_8.txt', '9678_8.txt', '8077_7.txt', '9028_10.txt', '11332_8.txt', '7512_8.txt', '9372_9.txt', '8195_10.txt', '579_10.txt', '11510_10.txt', '9906_10.txt', '6040_10.txt', '6427_10.txt', '10369_8.txt', '6954_8.txt', '10497_8.txt', '9011_9.txt', '11810_7.txt', '6180_7.txt', '7194_7.txt', '5421_7.txt', '12089_10.txt', '10496_10.txt', '11218_9.txt', '7775_8.txt', '10131_10.txt', '11620_8.txt', '2422_9.txt', '7620_10.txt', '4861_8.txt', '2642_10.txt', '9840_10.txt', '5390_9.txt', '11895_8.txt', '10020_8.txt', '1921_9.txt', '2367_8.txt', '8625_7.txt', '8501_8.txt', '3168_7.txt', '4289_7.txt', '4824_7.txt', '3030_9.txt', '687_9.txt', '7754_9.txt', '8452_7.txt', '11064_7.txt', '4813_9.txt', '829_7.txt', '2383_9.txt', '2074_10.txt', '10461_9.txt', '5037_10.txt', '2964_8.txt', '10413_10.txt', '3848_8.txt', '10655_9.txt', '4716_9.txt', '2054_9.txt', '5327_10.txt', '9608_10.txt', '6178_7.txt', '10070_9.txt', '6349_10.txt', '10622_10.txt', '6643_7.txt', '6362_7.txt', '12035_8.txt', '8440_8.txt', '486_9.txt', '2025_10.txt', '11466_10.txt', '3512_7.txt', '3187_7.txt', '6023_8.txt', '5720_10.txt', '10624_7.txt', '7100_8.txt', '6968_7.txt', '1262_8.txt', '2068_8.txt', '153_10.txt', '10960_8.txt', '1493_9.txt', '1875_10.txt', '10883_7.txt', '2500_9.txt', '2786_7.txt', '10470_9.txt', '1400_7.txt', '7793_10.txt', '5012_10.txt', '426_7.txt', '10354_9.txt', '3702_9.txt', '10954_10.txt', '1961_9.txt', '7400_9.txt', '5395_10.txt', '8832_7.txt', '1134_9.txt', '4637_8.txt', '201_10.txt', '6437_9.txt', '2111_7.txt', '3099_10.txt', '1154_10.txt', '443_10.txt', '4193_8.txt', '351_10.txt', '9691_10.txt', '9178_10.txt', '10745_10.txt', '3380_7.txt', '8522_10.txt', '12251_9.txt', '6072_7.txt', '11463_9.txt', '9530_9.txt', '1017_8.txt', '7850_8.txt', '7656_10.txt', '6357_9.txt', '5478_9.txt', '6143_7.txt', '4222_7.txt', '3718_8.txt', '10968_7.txt', '12438_8.txt', '391_8.txt', '9208_7.txt', '6114_7.txt', '6961_7.txt', '2028_10.txt', '5348_8.txt', '10486_7.txt', '5486_10.txt', '2864_9.txt', '8302_8.txt', '11161_8.txt', '1814_10.txt', '4779_10.txt', '11440_10.txt', '8865_10.txt', '8983_8.txt', '1080_9.txt', '5824_10.txt', '9033_9.txt', '8729_10.txt', '6449_10.txt', '1488_10.txt', '11206_10.txt', '694_9.txt', '2837_8.txt', '9272_7.txt', '89_7.txt', '7992_7.txt', '9302_10.txt', '5763_8.txt', '12125_8.txt', '3371_8.txt', '9597_10.txt', '12454_7.txt', '11355_8.txt', '8757_8.txt', '1692_8.txt', '10089_7.txt', '2613_9.txt', '3689_8.txt', '10075_9.txt', '10965_9.txt', '11813_8.txt', '671_7.txt', '4273_10.txt', '8453_10.txt', '7968_10.txt', '9915_8.txt', '7906_7.txt', '3829_10.txt', '12356_8.txt', '11717_8.txt', '5491_10.txt', '6009_10.txt', '3114_9.txt', '2868_7.txt', '12056_10.txt', '12112_10.txt', '11029_7.txt', '1600_7.txt', '7877_7.txt', '4115_8.txt', '2258_7.txt', '2859_10.txt', '7949_10.txt', '7098_9.txt', '5575_8.txt', '9801_10.txt', '11467_10.txt', '4204_10.txt', '3779_8.txt', '6061_10.txt', '816_10.txt', '12067_9.txt', '1297_8.txt', '8558_10.txt', '3516_8.txt', '232_10.txt', '12102_8.txt', '4875_7.txt', '3364_10.txt', '7705_7.txt', '5557_9.txt', '7828_10.txt', '2040_7.txt', '7670_8.txt', '8874_8.txt', '12470_10.txt', '11779_7.txt', '5085_7.txt', '6981_9.txt', '288_10.txt', '938_9.txt', '6982_9.txt', '12242_10.txt', '8618_8.txt', '8013_8.txt', '603_10.txt', '5401_9.txt', '8793_10.txt', '9900_10.txt', '2276_7.txt', '5127_10.txt', '12339_10.txt', '2200_9.txt', '4968_10.txt', '3863_7.txt', '1347_10.txt', '10671_10.txt', '9444_10.txt', '7127_10.txt', '5691_8.txt', '305_8.txt', '1634_7.txt', '5207_7.txt', '10762_10.txt', '10593_8.txt', '7838_8.txt', '702_10.txt', '4525_8.txt', '8940_9.txt', '11417_7.txt', '10146_7.txt', '3861_10.txt', '9932_8.txt', '2489_7.txt', '5632_8.txt', '4067_8.txt', '9067_8.txt', '9632_8.txt', '321_10.txt', '11281_8.txt', '284_10.txt', '3036_9.txt', '9187_10.txt', '7202_8.txt', '7379_9.txt', '11668_7.txt', '10466_8.txt', '10049_8.txt', '12449_8.txt', '4662_8.txt', '3075_9.txt', '6077_9.txt', '10615_8.txt', '4532_7.txt', '11743_7.txt', '311_9.txt', '7205_10.txt', '10311_9.txt', '9812_7.txt', '2250_8.txt', '4258_9.txt', '4775_7.txt', '11108_10.txt', '1788_7.txt', '6085_8.txt', '12282_8.txt', '4578_9.txt', '7079_9.txt', '380_10.txt', '11494_7.txt', '1758_10.txt', '12378_8.txt', '1924_10.txt', '2389_10.txt', '11334_10.txt', '11106_10.txt', '12078_8.txt', '7317_10.txt', '3008_7.txt', '1718_7.txt', '2447_10.txt', '9152_8.txt', '2782_10.txt', '10767_10.txt', '12167_10.txt', '12307_10.txt', '8596_7.txt', '9813_8.txt', '10180_7.txt', '11069_10.txt', '10648_8.txt', '10870_8.txt', '4650_7.txt', '10993_10.txt', '6990_8.txt', '6874_8.txt', '4440_7.txt', '6640_8.txt', '10656_7.txt', '6467_7.txt', '5799_10.txt', '1507_8.txt', '11246_8.txt', '9863_10.txt', '10950_9.txt', '1271_7.txt', '11072_8.txt', '5699_8.txt', '10022_7.txt', '2041_7.txt', '6363_8.txt', '2776_8.txt', '8740_8.txt', '5807_8.txt', '3504_7.txt', '1000_8.txt', '6539_9.txt', '8294_8.txt', '11167_9.txt', '9669_9.txt', '8309_7.txt', '2931_10.txt', '11780_8.txt', '5772_10.txt', '7078_9.txt', '7991_7.txt', '3042_8.txt', '5020_10.txt', '656_10.txt', '5647_10.txt', '61_10.txt', '12185_9.txt', '3286_10.txt', '4245_7.txt', '3896_7.txt', '3910_10.txt', '2819_10.txt', '11649_10.txt', '10400_10.txt', '11857_10.txt', '1642_10.txt', '4123_7.txt', '1136_8.txt', '693_10.txt', '9343_8.txt', '5821_7.txt', '635_9.txt', '4238_9.txt', '570_10.txt', '8684_10.txt', '9726_7.txt', '2191_10.txt', '11156_8.txt', '4084_7.txt', '4558_9.txt', '5819_10.txt', '7244_10.txt', '11882_8.txt', '5969_10.txt', '9214_7.txt', '5858_8.txt', '9791_9.txt', '7639_8.txt', '9964_10.txt', '6531_8.txt', '4983_7.txt', '10359_7.txt', '3147_10.txt', '411_10.txt', '8890_10.txt', '5219_7.txt', '601_7.txt', '1965_7.txt', '6095_7.txt', '8088_7.txt', '3518_10.txt', '9806_8.txt', '637_10.txt', '2784_8.txt', '2377_10.txt', '3205_8.txt', '4986_8.txt', '4344_9.txt', '10888_8.txt', '5095_7.txt', '11593_10.txt', '11944_10.txt', '3505_8.txt', '10563_7.txt', '8020_8.txt', '4324_7.txt', '9359_8.txt', '12228_8.txt', '2317_10.txt', '533_10.txt', '5793_10.txt', '2305_10.txt', '484_8.txt', '9866_7.txt', '10401_10.txt', '6001_7.txt', '9659_8.txt', '5685_10.txt', '5147_8.txt', '7393_7.txt', '5733_7.txt', '5475_8.txt', '8029_10.txt', '2221_8.txt', '1466_10.txt', '11004_8.txt', '7885_9.txt', '3002_8.txt', '2669_10.txt', '5484_10.txt', '2180_8.txt', '5389_7.txt', '12012_10.txt', '6795_9.txt', '5629_10.txt', '9108_10.txt', '3124_9.txt', '6746_8.txt', '5462_8.txt', '3217_8.txt', '11043_7.txt', '1254_7.txt', '12093_8.txt', '8391_8.txt', '12170_8.txt', '7921_10.txt', '5298_8.txt', '9642_10.txt', '4317_10.txt', '12181_8.txt', '9055_10.txt', '4546_10.txt', '3210_8.txt', '6047_10.txt', '8051_7.txt', '5712_8.txt', '11171_7.txt', '3171_9.txt', '4647_8.txt', '8436_10.txt', '669_7.txt', '6287_10.txt', '4311_9.txt', '2239_7.txt', '5283_7.txt', '8630_9.txt', '334_10.txt', '2274_9.txt', '9406_8.txt', '1644_10.txt', '9706_10.txt', '1564_10.txt', '1590_10.txt', '4411_9.txt', '3081_9.txt', '12094_7.txt', '3242_8.txt', '7599_10.txt', '4071_10.txt', '2987_10.txt', '4586_7.txt', '1652_10.txt', '4130_9.txt', '8781_9.txt', '5485_10.txt', '7019_7.txt', '622_10.txt', '3060_10.txt', '9457_9.txt', '2566_8.txt', '11413_10.txt', '6636_8.txt', '5676_9.txt', '1553_10.txt', '7336_10.txt', '10811_7.txt', '12136_9.txt', '6054_9.txt', '2501_8.txt', '4089_8.txt', '2598_10.txt', '3986_10.txt', '757_8.txt', '11307_10.txt', '8408_10.txt', '2862_10.txt', '6222_9.txt', '5480_10.txt', '7033_7.txt', '8734_9.txt', '3509_10.txt', '9111_10.txt', '8746_10.txt', '860_8.txt', '224_10.txt', '7900_10.txt', '2699_10.txt', '295_10.txt', '10519_9.txt', '5564_10.txt', '401_10.txt', '6972_9.txt', '3163_10.txt', '8247_9.txt', '3617_8.txt', '4575_8.txt', '9741_8.txt', '7281_10.txt', '446_10.txt', '4173_10.txt', '166_7.txt', '223_9.txt', '1626_10.txt', '11916_7.txt', '7982_10.txt', '7189_10.txt', '10547_9.txt', '4449_8.txt', '6043_10.txt', '7618_10.txt', '9201_8.txt', '3064_8.txt', '1272_7.txt', '8424_9.txt', '11305_8.txt', '9880_10.txt', '4427_10.txt', '10217_9.txt', '5992_7.txt', '6381_8.txt', '7157_7.txt', '1768_9.txt', '5296_10.txt', '5350_9.txt', '2371_8.txt', '6755_7.txt', '9672_7.txt', '10276_10.txt', '800_9.txt', '5545_8.txt', '5508_10.txt', '12234_8.txt', '10763_8.txt', '4763_8.txt', '1880_10.txt', '8167_7.txt', '11441_10.txt', '2840_9.txt', '1839_10.txt', '1739_10.txt', '3161_10.txt', '123_10.txt', '5850_9.txt', '741_7.txt', '10995_10.txt', '9172_10.txt', '3191_8.txt', '11548_10.txt', '2720_7.txt', '651_10.txt', '12254_10.txt', '8778_8.txt', '3556_10.txt', '1124_10.txt', '883_9.txt', '2257_7.txt', '4194_10.txt', '4345_10.txt', '11371_10.txt', '11931_9.txt', '8400_7.txt', '5840_7.txt', '1567_7.txt', '2341_8.txt', '11103_10.txt', '8706_8.txt', '2693_7.txt', '3288_10.txt', '4746_8.txt', '6839_10.txt', '5453_8.txt', '10444_9.txt', '11638_7.txt', '4119_8.txt', '12363_9.txt', '11239_8.txt', '6441_9.txt', '4723_8.txt', '1476_10.txt', '1923_10.txt', '8485_8.txt', '9510_8.txt', '3984_7.txt', '8582_9.txt', '11446_10.txt', '1485_10.txt', '7022_7.txt', '11682_7.txt', '9283_8.txt', '10422_7.txt', '12388_8.txt', '6477_7.txt', '4838_10.txt', '8345_7.txt', '10029_10.txt', '10731_7.txt', '5097_8.txt', '1767_8.txt', '1740_8.txt', '5311_7.txt', '8443_9.txt', '211_9.txt', '9258_10.txt', '9332_10.txt', '9515_10.txt', '6607_9.txt', '1446_10.txt', '4972_9.txt', '753_8.txt', '4219_7.txt', '8091_9.txt', '520_8.txt', '1505_9.txt', '11269_8.txt', '6623_7.txt', '8072_10.txt', '7030_10.txt', '3704_8.txt', '1876_10.txt', '10638_8.txt', '11758_7.txt', '1291_10.txt', '606_10.txt', '5455_7.txt', '2904_9.txt', '2933_10.txt', '9366_9.txt', '10307_8.txt', '8885_10.txt', '10909_10.txt', '389_10.txt', '11574_10.txt', '7351_10.txt', '6315_10.txt', '1232_10.txt', '4942_7.txt', '5011_10.txt', '5667_10.txt', '12278_10.txt', '8336_10.txt', '12477_10.txt', '11783_10.txt', '962_8.txt', '2109_9.txt', '2706_9.txt', '2393_8.txt', '6774_10.txt', '10692_8.txt', '11027_10.txt', '9334_9.txt', '9381_8.txt', '11845_10.txt', '7107_10.txt', '7557_9.txt', '915_10.txt', '9779_9.txt', '149_10.txt', '1822_8.txt', '3249_9.txt', '6710_10.txt', '10973_8.txt', '10698_9.txt', '5744_7.txt', '3019_8.txt', '11404_10.txt', '6966_8.txt', '2897_10.txt', '870_10.txt', '11397_10.txt', '5108_10.txt', '2719_10.txt', '2707_10.txt', '5143_8.txt', '1397_7.txt', '3798_9.txt', '362_10.txt', '453_10.txt', '7880_8.txt', '8425_9.txt', '5359_10.txt', '2416_10.txt', '1450_8.txt', '4153_10.txt', '11391_8.txt', '6897_10.txt', '8234_7.txt', '5668_10.txt', '4291_10.txt', '4395_10.txt', '793_9.txt', '1131_7.txt', '11691_8.txt', '6730_10.txt', '1388_10.txt', '4196_9.txt', '8096_10.txt', '157_9.txt', '3113_9.txt', '5768_8.txt', '10576_7.txt', '5516_7.txt', '6073_9.txt', '10288_10.txt', '8232_10.txt', '9769_8.txt', '10371_8.txt', '3966_9.txt', '3683_9.txt', '2164_10.txt', '10281_7.txt', '4478_8.txt', '4892_10.txt', '3852_8.txt', '6010_8.txt', '6614_9.txt', '234_10.txt', '3357_9.txt', '3012_8.txt', '11804_10.txt', '4093_8.txt', '10315_8.txt', '2725_8.txt', '4009_9.txt', '1690_10.txt', '4596_10.txt', '198_8.txt', '2281_9.txt', '8339_10.txt', '3083_10.txt', '5081_8.txt', '6093_8.txt', '11514_7.txt', '10228_8.txt', '5312_7.txt', '6474_8.txt', '9017_8.txt', '6584_8.txt', '5033_10.txt', '7491_7.txt', '6995_7.txt', '12352_8.txt', '12237_10.txt', '6999_7.txt', '8093_7.txt', '236_9.txt', '11925_7.txt', '9309_9.txt', '12230_9.txt', '9757_8.txt', '9918_10.txt', '9991_10.txt', '11184_7.txt', '2133_10.txt', '10743_9.txt', '536_10.txt', '6934_9.txt', '10696_7.txt', '9130_9.txt', '2673_8.txt', '10964_7.txt', '8589_7.txt', '9333_8.txt', '5078_9.txt', '11595_10.txt', '9512_8.txt', '11265_10.txt', '7024_8.txt', '685_8.txt', '6325_7.txt', '599_10.txt', '6229_7.txt', '5926_7.txt', '6316_8.txt', '4618_10.txt', '474_7.txt', '8969_7.txt', '5466_8.txt', '171_8.txt', '6359_10.txt', '8776_10.txt', '3655_7.txt', '9317_8.txt', '11983_10.txt', '6082_9.txt', '1934_9.txt', '7253_10.txt', '10231_10.txt', '9207_10.txt', '11289_10.txt', '185_9.txt', '9264_9.txt', '1126_9.txt', '6284_7.txt', '5930_7.txt', '9633_7.txt', '7776_7.txt', '10109_10.txt', '3186_8.txt', '11119_10.txt', '4288_9.txt', '7555_7.txt', '29_10.txt', '12377_10.txt', '258_7.txt', '994_7.txt', '3572_10.txt', '2048_7.txt', '11470_10.txt', '12003_10.txt', '1380_7.txt', '4699_8.txt', '10363_9.txt', '9170_9.txt', '4463_7.txt', '6987_10.txt', '1929_10.txt', '10451_10.txt', '3136_8.txt', '2073_7.txt', '9327_8.txt', '8829_9.txt', '3491_8.txt', '12074_10.txt', '9519_10.txt', '3840_10.txt', '5884_10.txt', '7488_7.txt', '6610_8.txt', '9780_10.txt', '8588_7.txt', '7847_9.txt', '4100_10.txt', '2470_10.txt', '2406_10.txt', '1812_10.txt', '2304_9.txt', '10580_8.txt', '10160_7.txt', '6059_10.txt', '1041_9.txt', '9870_9.txt', '8147_10.txt', '7377_9.txt', '7226_8.txt', '5021_10.txt', '7672_10.txt', '12422_8.txt', '8069_8.txt', '9545_7.txt', '2159_10.txt', '1586_7.txt', '3426_7.txt', '10827_10.txt', '9607_9.txt', '4360_10.txt', '831_9.txt', '3329_7.txt', '9792_8.txt', '23_7.txt', '11703_9.txt', '6162_8.txt', '3921_9.txt', '10421_7.txt', '932_10.txt', '2998_7.txt', '7437_10.txt', '6270_8.txt', '2493_10.txt', '9260_7.txt', '9839_7.txt', '10404_9.txt', '10139_8.txt', '10249_7.txt', '4092_10.txt', '3420_10.txt', '9329_8.txt', '5257_10.txt', '540_8.txt', '5412_9.txt', '5591_8.txt', '2176_8.txt', '11303_9.txt', '9551_10.txt', '11506_8.txt', '3582_8.txt', '9360_10.txt', '2627_9.txt', '6120_9.txt', '11768_7.txt', '9973_8.txt', '11361_10.txt', '3533_10.txt', '1122_7.txt', '4405_8.txt', '7812_8.txt', '4268_10.txt', '8316_9.txt', '4520_7.txt', '5974_7.txt', '4169_7.txt', '3200_10.txt', '4020_10.txt', '788_8.txt', '11146_8.txt', '12139_10.txt', '5325_7.txt', '11850_10.txt', '5528_7.txt', '5968_10.txt', '10419_10.txt', '7602_10.txt', '11525_8.txt', '4904_10.txt', '6106_9.txt', '5701_8.txt', '8416_7.txt', '8198_7.txt', '9842_7.txt', '7517_7.txt', '8910_10.txt', '10260_10.txt', '5319_8.txt', '6205_8.txt', '5066_8.txt', '4235_7.txt', '5845_7.txt', '9930_8.txt', '229_10.txt', '10707_8.txt', '2334_9.txt', '11643_7.txt', '10744_8.txt', '8836_10.txt', '1183_8.txt', '5116_10.txt', '12070_7.txt', '4852_8.txt', '10310_9.txt', '2238_9.txt', '10838_10.txt', '9746_9.txt', '9833_8.txt', '5541_9.txt', '3674_8.txt', '12160_10.txt', '4713_8.txt', '8723_8.txt', '5573_10.txt', '2883_9.txt', '6356_8.txt', '1210_8.txt', '8129_9.txt', '6436_10.txt', '7678_10.txt', '4438_8.txt', '1315_10.txt', '5681_8.txt', '3237_8.txt', '7305_10.txt', '10474_9.txt', '4544_10.txt', '2270_9.txt', '4793_7.txt', '11452_8.txt', '7930_7.txt', '926_7.txt', '12118_7.txt', '7846_10.txt', '9279_7.txt', '821_10.txt', '5369_9.txt', '4437_7.txt', '109_10.txt', '4253_10.txt', '10892_7.txt', '1244_8.txt', '3034_7.txt', '3232_9.txt', '5613_9.txt', '10918_8.txt', '8818_10.txt', '5276_10.txt', '3138_9.txt', '1775_9.txt', '3422_10.txt', '8348_10.txt', '6899_9.txt', '442_9.txt', '5888_9.txt', '10368_7.txt', '5602_10.txt', '7829_7.txt', '654_10.txt', '2347_10.txt', '8398_8.txt', '10560_9.txt', '6160_10.txt', '7172_10.txt', '3243_8.txt', '1252_8.txt', '1218_8.txt', '7176_10.txt', '5450_10.txt', '817_10.txt', '12200_8.txt', '581_10.txt', '9192_7.txt', '196_9.txt', '7797_10.txt', '4553_10.txt', '5461_7.txt', '8256_9.txt', '7889_10.txt', '8635_7.txt', '266_7.txt', '4688_10.txt', '2426_9.txt', '8629_9.txt', '4252_9.txt', '7290_10.txt', '2010_8.txt', '9133_9.txt', '10541_10.txt', '2678_8.txt', '864_9.txt', '8406_10.txt', '9938_9.txt', '10982_10.txt', '4715_9.txt', '6200_7.txt', '8942_8.txt', '7115_9.txt', '9718_7.txt', '9432_9.txt', '174_7.txt', '85_10.txt', '20_9.txt', '3228_7.txt', '3454_8.txt', '7083_10.txt', '824_8.txt', '1621_10.txt', '8132_10.txt', '5945_10.txt', '3541_7.txt', '6083_8.txt', '12492_7.txt', '12096_8.txt', '1417_8.txt', '12205_8.txt', '782_9.txt', '4189_8.txt', '7405_10.txt', '8908_10.txt', '11790_8.txt', '6117_10.txt', '7570_10.txt', '8178_8.txt', '7975_8.txt', '5550_7.txt', '3947_7.txt', '9195_10.txt', '9424_10.txt', '7651_8.txt', '8097_7.txt', '11251_10.txt', '3514_7.txt', '11362_9.txt', '4121_10.txt', '424_8.txt', '7269_7.txt', '10386_8.txt', '6913_9.txt', '3220_10.txt', '10783_10.txt', '11226_7.txt', '10516_7.txt', '494_9.txt', '11097_9.txt', '10039_10.txt', '4816_8.txt', '6172_7.txt', '5828_9.txt', '1563_10.txt', '11179_9.txt', '9339_10.txt', '901_8.txt', '6124_7.txt', '1530_10.txt', '4400_10.txt', '3219_10.txt', '8525_10.txt', '7862_7.txt', '1100_7.txt', '6837_10.txt', '10921_10.txt', '6696_7.txt', '11773_8.txt', '8572_7.txt', '1676_9.txt', '487_8.txt', '7409_10.txt', '342_10.txt', '4484_8.txt', '3444_10.txt', '6291_10.txt', '2391_10.txt', '180_9.txt', '4554_8.txt', '2697_9.txt', '6849_7.txt', '857_8.txt', '8023_7.txt', '11049_8.txt', '8532_7.txt', '896_10.txt', '4557_8.txt', '5996_7.txt', '2287_8.txt', '12002_10.txt', '1147_8.txt', '7366_7.txt', '10612_7.txt', '12176_8.txt', '3759_8.txt', '7487_8.txt', '4056_7.txt', '8375_8.txt', '202_10.txt', '11932_7.txt', '2664_9.txt', '3580_10.txt', '11545_8.txt', '5424_10.txt', '4221_8.txt', '9775_8.txt', '3980_10.txt', '10511_7.txt', '4811_8.txt', '2480_8.txt', '5441_10.txt', '9879_8.txt', '2730_9.txt', '6572_8.txt', '12292_10.txt', '9271_8.txt', '9448_7.txt', '341_10.txt', '9186_8.txt', '8185_8.txt', '9924_9.txt', '9150_8.txt', '9285_10.txt', '6327_10.txt', '56_10.txt', '128_7.txt', '11844_10.txt', '6512_7.txt', '2240_7.txt', '7708_10.txt', '6649_8.txt', '9250_8.txt', '8319_10.txt', '1774_10.txt', '1439_7.txt', '4601_7.txt', '1242_9.txt', '3472_10.txt', '9899_7.txt', '413_10.txt', '3962_10.txt', '8117_8.txt', '4515_10.txt', '3545_7.txt', '6604_7.txt', '3502_9.txt', '4156_10.txt', '8089_10.txt', '11826_10.txt', '4645_9.txt', '11050_8.txt', '4831_8.txt', '4693_7.txt', '11415_8.txt', '2764_10.txt', '8966_10.txt', '8015_10.txt', '7490_8.txt', '7897_8.txt', '12085_8.txt', '10471_10.txt', '12452_8.txt', '5542_9.txt', '6244_8.txt', '3180_8.txt', '7295_10.txt', '1415_10.txt', '11787_9.txt', '2571_7.txt', '1928_10.txt', '9044_9.txt', '4237_10.txt', '7530_9.txt', '11929_9.txt', '8442_9.txt', '6741_7.txt', '7735_10.txt', '5695_8.txt', '9367_9.txt', '5293_8.txt', '8943_7.txt', '3963_7.txt', '9622_10.txt', '11957_8.txt', '10848_10.txt', '8834_9.txt', '11100_10.txt', '7287_7.txt', '8902_7.txt', '158_10.txt', '8470_8.txt', '120_8.txt', '4113_7.txt', '10402_10.txt', '5463_9.txt', '4295_9.txt', '6978_8.txt', '12193_10.txt', '7478_10.txt', '8917_7.txt', '11542_7.txt', '247_10.txt', '3153_10.txt', '720_7.txt', '4023_9.txt', '248_10.txt', '1461_10.txt', '10101_8.txt', '10654_7.txt', '1597_8.txt', '2060_8.txt', '3791_10.txt', '12265_10.txt', '12333_9.txt', '8527_8.txt', '9286_9.txt', '4425_7.txt', '6679_8.txt', '1177_9.txt', '1863_10.txt', '6898_9.txt', '6667_8.txt', '7388_10.txt', '8604_10.txt', '9498_8.txt', '11210_7.txt', '1166_8.txt', '1773_9.txt', '4150_10.txt', '807_10.txt', '6036_10.txt', '3812_9.txt', '2488_10.txt', '504_8.txt', '2171_10.txt', '8289_8.txt', '1331_7.txt', '2584_7.txt', '9256_10.txt', '5252_9.txt', '3111_7.txt', '6445_10.txt', '1974_8.txt', '4333_10.txt', '8777_10.txt', '3891_10.txt', '11321_8.txt', '11270_10.txt', '5703_7.txt', '6464_9.txt', '7543_8.txt', '10081_9.txt', '343_10.txt', '8388_7.txt', '3347_7.txt', '10994_8.txt', '1396_8.txt', '9781_8.txt', '7562_10.txt', '3708_7.txt', '2999_7.txt', '11658_10.txt', '3773_7.txt', '3558_8.txt', '6977_9.txt', '3490_8.txt', '6673_7.txt', '2822_7.txt', '3343_7.txt', '9143_10.txt', '10813_10.txt', '9125_10.txt', '3025_7.txt', '10808_10.txt', '12007_10.txt', '4079_9.txt', '9151_10.txt', '12174_7.txt', '6589_10.txt', '5813_8.txt', '1065_10.txt', '3797_9.txt', '8675_8.txt', '3811_9.txt', '11749_10.txt', '4592_9.txt', '5874_10.txt', '2517_9.txt', '11656_9.txt', '7042_10.txt', '2498_7.txt', '3720_10.txt', '7901_7.txt', '11287_8.txt', '6830_10.txt', '496_10.txt', '10986_10.txt', '8858_10.txt', '5209_8.txt', '8838_9.txt', '11698_10.txt', '9520_10.txt', '2190_10.txt', '10174_7.txt', '375_9.txt', '8078_10.txt', '3336_7.txt', '680_8.txt', '3599_8.txt', '1797_9.txt', '4935_7.txt', '1285_9.txt', '11549_7.txt', '10844_9.txt', '6113_8.txt', '2193_10.txt', '5_10.txt', '4808_8.txt', '7364_7.txt', '2226_10.txt', '2151_10.txt', '7959_10.txt', '2729_10.txt', '10774_8.txt', '8454_8.txt', '12190_7.txt', '5956_9.txt', '12413_9.txt', '10515_9.txt', '1418_9.txt', '8552_9.txt', '5601_8.txt', '9223_9.txt', '4101_8.txt', '135_7.txt', '42_10.txt', '1918_9.txt', '9828_10.txt', '9149_9.txt', '12318_9.txt', '501_10.txt', '5645_10.txt', '374_10.txt', '6295_7.txt', '10910_10.txt', '7458_10.txt', '10721_9.txt', '7314_10.txt', '11085_10.txt', '8716_10.txt', '11792_8.txt', '12393_8.txt', '5201_10.txt', '8134_10.txt', '11370_9.txt', '3666_9.txt', '672_9.txt', '1381_7.txt', '8467_7.txt', '4380_8.txt', '4510_7.txt', '8370_10.txt', '7698_10.txt', '8031_9.txt', '46_9.txt', '3876_8.txt', '9064_7.txt', '3870_9.txt', '3521_9.txt', '1362_10.txt', '1702_9.txt', '10043_10.txt', '8810_9.txt', '6184_7.txt', '1710_7.txt', '3457_7.txt', '4458_7.txt', '9004_7.txt', '1996_10.txt', '3353_8.txt', '3519_7.txt', '3546_10.txt', '11650_9.txt', '9561_8.txt', '4933_8.txt', '11410_7.txt', '2728_10.txt', '5128_9.txt', '5587_7.txt', '1057_9.txt', '1018_8.txt', '6492_10.txt', '9584_10.txt', '11007_10.txt', '4472_10.txt', '10804_10.txt', '4703_9.txt', '6322_7.txt', '5124_10.txt', '11578_10.txt', '5886_10.txt', '11772_10.txt', '4628_9.txt', '12262_7.txt', '4374_10.txt', '3825_8.txt', '6993_7.txt', '4681_7.txt', '470_10.txt', '3346_7.txt', '1424_10.txt', '8692_10.txt', '11456_10.txt', '602_10.txt', '10381_10.txt', '982_8.txt', '4394_9.txt', '10835_10.txt', '5585_7.txt', '433_10.txt', '11260_7.txt', '2670_10.txt', '7710_8.txt', '11927_10.txt', '9805_10.txt', '1874_10.txt', '2680_7.txt', '9340_8.txt', '11357_10.txt', '6794_10.txt', '2885_9.txt', '5090_10.txt', '5711_8.txt', '3639_9.txt', '809_10.txt', '8285_8.txt', '2481_8.txt', '4765_7.txt', '5064_8.txt', '5341_10.txt', '5615_8.txt', '7585_8.txt', '165_7.txt', '5523_8.txt', '6776_7.txt', '6007_8.txt', '10412_8.txt', '9455_9.txt', '942_10.txt', '7182_10.txt', '9443_9.txt', '9311_10.txt', '9731_8.txt', '5991_8.txt', '5309_7.txt', '6797_8.txt', '10235_8.txt', '5292_7.txt', '968_10.txt', '6338_9.txt', '3424_10.txt', '2672_7.txt', '10434_10.txt', '210_10.txt', '9454_10.txt', '257_7.txt', '10790_8.txt', '2038_7.txt', '1382_8.txt', '4272_10.txt', '11407_7.txt', '5929_10.txt', '8005_9.txt', '4497_7.txt', '4454_9.txt', '11838_9.txt', '5193_9.txt', '9836_9.txt', '12222_10.txt', '852_7.txt', '3959_9.txt', '6213_7.txt', '12199_9.txt', '9061_7.txt', '488_9.txt', '7733_9.txt', '8753_8.txt', '3747_10.txt', '8889_8.txt', '3699_10.txt', '1151_9.txt', '104_10.txt', '6538_8.txt', '4724_7.txt', '5527_8.txt', '2395_7.txt', '2817_9.txt', '3003_9.txt', '6973_10.txt', '7150_9.txt', '10172_8.txt', '4161_8.txt', '10387_7.txt', '6782_9.txt', '5300_8.txt', '3884_8.txt', '12460_7.txt', '5360_10.txt', '11145_8.txt', '12435_8.txt', '3766_10.txt', '12300_10.txt', '8852_9.txt', '9350_10.txt', '10797_8.txt', '3873_9.txt', '1162_9.txt', '3658_10.txt', '2511_10.txt', '3995_8.txt', '1708_10.txt', '6742_8.txt', '921_7.txt', '6810_7.txt', '5789_9.txt', '9401_10.txt', '9534_10.txt', '8795_10.txt', '8755_7.txt', '2924_10.txt', '2800_10.txt', '8047_9.txt', '9050_8.txt', '1472_8.txt', '5226_10.txt', '1869_9.txt', '350_9.txt', '12123_8.txt', '6435_7.txt', '11408_7.txt', '7372_9.txt', '2169_7.txt', '4299_8.txt', '8768_8.txt', '3198_10.txt', '9226_8.txt', '8814_10.txt', '1750_10.txt', '8022_8.txt', '7207_7.txt', '2460_10.txt', '7456_10.txt', '5568_8.txt', '10224_10.txt', '2179_8.txt', '7473_9.txt', '1570_8.txt', '139_10.txt', '6494_10.txt', '8057_10.txt', '11267_10.txt', '2895_9.txt', '5776_10.txt', '6136_10.txt', '10695_8.txt', '4309_8.txt', '11544_10.txt', '9809_7.txt', '4329_7.txt', '11104_10.txt', '10882_8.txt', '10662_7.txt', '787_9.txt', '4725_9.txt', '10709_10.txt', '10561_8.txt', '6652_10.txt', '4889_10.txt', '5482_10.txt', '1385_8.txt', '9289_7.txt', '11183_7.txt', '5897_10.txt', '11258_8.txt', '10819_10.txt', '2783_8.txt', '7173_10.txt', '3294_9.txt', '1280_10.txt', '1892_8.txt', '10726_7.txt', '5242_7.txt', '7785_9.txt', '10741_10.txt', '7121_10.txt', '7946_10.txt', '810_10.txt', '1181_9.txt', '2655_10.txt', '1435_8.txt', '4290_9.txt', '1454_7.txt', '5656_10.txt', '1429_9.txt', '9469_10.txt', '8881_8.txt', '8331_8.txt', '6713_10.txt', '7748_9.txt', '811_10.txt', '1261_8.txt', '2543_10.txt', '7511_9.txt', '8683_9.txt', '150_8.txt', '4039_10.txt', '7174_9.txt', '10712_8.txt', '3337_9.txt', '10344_7.txt', '9355_7.txt', '8357_10.txt', '6872_7.txt', '2938_10.txt', '2889_10.txt', '503_10.txt', '9185_9.txt', '2018_9.txt', '10166_7.txt', '7289_10.txt', '10331_10.txt', '9129_8.txt', '11197_8.txt', '7420_7.txt', '6245_10.txt', '1770_10.txt', '4319_9.txt', '1810_7.txt', '5349_7.txt', '1305_10.txt', '10634_10.txt', '5405_10.txt', '4959_7.txt', '10481_8.txt', '5214_7.txt', '1044_8.txt', '6252_10.txt', '5544_7.txt', '2505_9.txt', '7186_7.txt', '5051_7.txt', '5023_10.txt', '11436_9.txt', '130_9.txt', '6919_9.txt', '1135_9.txt', '2943_10.txt', '10590_8.txt', '4585_10.txt', '10717_10.txt', '2358_9.txt', '7215_7.txt', '8933_7.txt', '9922_10.txt', '352_10.txt', '4467_7.txt', '576_10.txt', '40_8.txt', '7864_8.txt', '5998_10.txt', '6740_8.txt', '3890_10.txt', '4371_8.txt', '4124_8.txt', '3142_8.txt', '3927_9.txt', '11785_10.txt', '12055_10.txt', '2582_8.txt', '9876_8.txt', '11537_7.txt', '5416_9.txt', '6219_7.txt', '4262_10.txt', '7526_8.txt', '3469_10.txt', '10080_10.txt', '762_9.txt', '10431_10.txt', '5985_10.txt', '10339_7.txt', '7917_8.txt', '1088_9.txt', '10067_9.txt', '6038_10.txt', '6651_10.txt', '6807_10.txt', '6528_9.txt', '217_8.txt', '11442_10.txt', '1129_10.txt', '8272_7.txt', '261_8.txt', '3023_7.txt', '11577_8.txt', '12232_8.txt', '10272_10.txt', '4583_7.txt', '7892_7.txt', '2384_10.txt', '4672_10.txt', '243_10.txt', '1253_10.txt', '7925_7.txt', '3458_10.txt', '237_10.txt', '10405_8.txt', '269_8.txt', '10229_8.txt', '11994_10.txt', '961_9.txt', '8048_7.txt', '4494_8.txt', '8762_8.txt', '8708_8.txt', '6634_10.txt', '5429_10.txt', '3511_8.txt', '9012_7.txt', '3911_10.txt', '997_7.txt', '7568_10.txt', '238_10.txt', '3125_10.txt', '8603_10.txt', '8623_7.txt', '3413_10.txt', '1460_10.txt', '8826_9.txt', '6078_8.txt', '9724_7.txt', '10736_10.txt', '11460_10.txt', '9766_9.txt', '8216_8.txt', '7515_8.txt', '4678_10.txt', '1500_9.txt', '4399_9.txt', '11358_9.txt', '1764_10.txt', '4548_7.txt', '2894_10.txt', '859_9.txt', '2773_7.txt', '941_10.txt', '9266_9.txt', '8671_7.txt', '9993_10.txt', '6259_8.txt', '241_8.txt', '7523_7.txt', '1949_8.txt', '10829_10.txt', '5158_10.txt', '8601_10.txt', '8857_10.txt', '8290_10.txt', '11507_10.txt', '4011_8.txt', '8457_9.txt', '10760_8.txt', '5507_7.txt', '6825_10.txt', '21_7.txt', '4730_10.txt', '4921_8.txt', '4617_10.txt', '5964_8.txt', '9528_9.txt', '2691_8.txt', '5357_8.txt', '2209_8.txt', '11685_8.txt', '9614_10.txt', '8850_8.txt', '8560_10.txt', '6416_7.txt', '10457_8.txt', '4356_8.txt', '6265_7.txt', '1716_8.txt', '10044_9.txt', '2307_9.txt', '4908_10.txt', '1746_7.txt', '2388_10.txt', '11888_9.txt', '274_7.txt', '9358_8.txt', '12154_7.txt', '5469_7.txt', '9516_8.txt', '4409_10.txt', '10735_10.txt', '8260_9.txt', '1457_10.txt', '899_7.txt', '643_10.txt', '7578_8.txt', '10443_9.txt', '7185_10.txt', '1877_7.txt', '7994_9.txt', '5963_10.txt', '3981_10.txt', '8325_9.txt', '2077_10.txt', '10199_7.txt', '10356_9.txt', '3120_8.txt', '4443_8.txt', '1323_10.txt', '11486_8.txt', '10574_10.txt', '11695_9.txt', '79_10.txt', '8202_10.txt', '8478_8.txt', '10483_8.txt', '4014_10.txt', '6340_10.txt', '3719_9.txt', '10781_10.txt', '3937_8.txt', '9233_8.txt', '705_10.txt', '2701_9.txt', '3838_7.txt', '457_10.txt', '7840_8.txt', '12091_8.txt', '11755_7.txt', '1495_9.txt', '2661_10.txt', '2565_9.txt', '6332_8.txt', '11120_10.txt', '8690_8.txt', '1019_10.txt', '2197_7.txt', '10106_8.txt', '7257_10.txt', '8356_10.txt', '2705_10.txt', '10970_7.txt', '10578_7.txt', '178_7.txt', '11061_8.txt', '2853_8.txt', '3851_10.txt', '12484_8.txt', '10230_9.txt', '11127_9.txt', '5581_7.txt', '2199_7.txt', '10391_10.txt', '11137_7.txt', '882_8.txt', '11083_10.txt', '5986_10.txt', '4181_9.txt', '1954_10.txt', '585_10.txt', '4142_10.txt', '3527_7.txt', '10675_8.txt', '2090_10.txt', '5225_9.txt', '12042_10.txt', '7031_10.txt', '8151_10.txt', '3322_8.txt', '7179_8.txt', '10458_10.txt', '7311_9.txt', '1922_9.txt', '9288_8.txt', '8090_9.txt', '5526_10.txt', '11351_9.txt', '3711_7.txt', '8854_10.txt', '2014_7.txt', '3769_7.txt', '10554_7.txt', '2272_7.txt', '9135_9.txt', '3892_10.txt', '3300_9.txt', '7159_10.txt', '5582_9.txt', '4820_7.txt', '7466_10.txt', '7415_8.txt', '9105_9.txt', '10336_8.txt', '5166_10.txt', '8986_8.txt', '2674_7.txt', '10579_10.txt', '12447_8.txt', '2195_10.txt', '3013_8.txt', '6546_10.txt', '11380_7.txt', '9499_7.txt', '5290_10.txt', '1120_7.txt', '430_7.txt', '11756_7.txt', '1816_9.txt', '7533_10.txt', '8162_9.txt', '5592_10.txt', '5722_8.txt', '9643_10.txt', '4994_9.txt', '5191_8.txt', '9249_9.txt', '3088_8.txt', '2641_10.txt', '5518_8.txt', '2053_10.txt', '1808_7.txt', '2756_9.txt', '6937_8.txt', '373_10.txt', '7354_7.txt', '5059_7.txt', '4850_10.txt', '10008_7.txt', '1862_8.txt', '5494_10.txt', '11313_10.txt', '10061_8.txt', '795_8.txt', '2446_10.txt', '8622_8.txt', '5388_8.txt', '2063_8.txt', '9784_8.txt', '3488_7.txt', '10690_10.txt', '2663_10.txt', '8681_8.txt', '8653_10.txt', '12235_7.txt', '2581_8.txt', '12159_7.txt', '4735_9.txt', '2248_7.txt', '6396_9.txt', '7423_9.txt', '11252_9.txt', '10852_10.txt', '186_8.txt', '6415_8.txt', '5346_7.txt', '7474_9.txt', '912_8.txt', '4978_7.txt', '3176_9.txt', '3140_7.txt', '12022_10.txt', '11202_10.txt', '12250_10.txt', '6974_10.txt', '4097_8.txt', '11490_9.txt', '4406_9.txt', '8571_7.txt', '9729_9.txt', '7138_10.txt', '9734_7.txt', '9385_8.txt', '423_10.txt', '8366_10.txt', '6018_9.txt', '6843_9.txt', '11366_8.txt', '259_8.txt', '7549_7.txt', '3400_8.txt', '8650_10.txt', '5083_8.txt', '4864_7.txt', '4421_8.txt', '6336_7.txt', '516_10.txt', '8809_10.txt', '11284_8.txt', '204_10.txt', '1072_10.txt', '7177_8.txt', '92_9.txt', '5663_10.txt', '12256_9.txt', '2306_10.txt', '3089_9.txt', '9446_10.txt', '11667_9.txt', '9573_8.txt', '5724_10.txt', '11708_8.txt', '11448_10.txt', '11476_10.txt', '1410_9.txt', '3794_10.txt', '12277_10.txt', '10599_8.txt', '11092_8.txt', '281_10.txt', '5371_8.txt', '4045_10.txt', '12428_8.txt', '5222_8.txt', '12189_7.txt', '11676_8.txt', '10456_10.txt', '10374_8.txt', '6726_9.txt', '3628_8.txt', '8299_7.txt', '11800_8.txt', '5649_10.txt', '270_10.txt', '10358_9.txt', '3349_8.txt', '8742_10.txt', '8702_10.txt', '2204_10.txt', '4038_10.txt', '8205_8.txt', '10232_10.txt', '5765_9.txt', '855_9.txt', '4895_10.txt', '11611_9.txt', '749_10.txt', '7564_10.txt', '2967_9.txt', '3865_8.txt', '2595_9.txt', '12255_10.txt', '7386_7.txt', '9630_10.txt', '1681_7.txt', '4550_10.txt', '4000_10.txt', '7711_10.txt', '140_8.txt', '8741_10.txt', '8801_9.txt', '10143_8.txt', '1919_8.txt', '4791_10.txt', '6728_8.txt', '5007_10.txt', '12111_7.txt', '8862_8.txt', '6581_7.txt', '7772_7.txt', '4649_10.txt', '9016_10.txt', '4025_9.txt', '11266_10.txt', '4655_7.txt', '3166_9.txt', '12137_10.txt', '3396_7.txt', '6681_10.txt', '5317_7.txt', '11505_7.txt', '11834_7.txt', '11163_9.txt', '1037_8.txt', '7396_9.txt', '4915_7.txt', '936_8.txt', '6411_10.txt', '7606_9.txt', '8044_10.txt', '4636_8.txt', '3017_7.txt', '3677_8.txt', '10062_10.txt', '903_8.txt', '7692_7.txt', '1675_9.txt', '7291_10.txt', '9321_8.txt', '11164_8.txt', '1865_8.txt', '632_10.txt', '8145_10.txt', '3105_8.txt', '7265_8.txt', '3000_8.txt', '796_8.txt', '1289_7.txt', '6460_10.txt', '10300_10.txt', '4756_10.txt', '8678_9.txt', '11498_7.txt', '5855_9.txt', '11451_8.txt', '478_7.txt', '9848_7.txt', '3645_8.txt', '960_7.txt', '6796_8.txt', '1983_10.txt', '1559_7.txt', '9378_9.txt', '10853_10.txt', '4213_7.txt', '10847_10.txt', '5240_7.txt', '9342_8.txt', '11526_10.txt', '11628_10.txt', '3474_10.txt', '8783_9.txt', '4151_10.txt', '9123_10.txt', '6575_8.txt', '3130_9.txt', '4701_10.txt', '2194_10.txt', '8486_10.txt', '133_10.txt', '7394_9.txt', '3668_7.txt', '12011_10.txt', '8758_10.txt', '6955_10.txt', '4200_9.txt', '10716_7.txt', '11126_10.txt', '6221_7.txt', '7644_7.txt', '1527_7.txt', '9873_7.txt', '9070_7.txt', '6756_10.txt', '7860_10.txt', '11379_7.txt', '3877_8.txt', '11372_7.txt', '4877_9.txt', '648_7.txt', '2803_10.txt', '3926_7.txt', '8539_8.txt', '464_10.txt', '7865_8.txt', '6261_8.txt', '2337_10.txt', '4690_9.txt', '1286_8.txt', '8877_9.txt', '3093_10.txt', '2046_8.txt', '3647_10.txt', '6239_8.txt', '1179_9.txt', '1837_10.txt', '2268_10.txt', '11412_10.txt', '10525_10.txt', '11555_10.txt', '7268_9.txt', '3772_10.txt', '10587_8.txt', '1384_7.txt', '4991_10.txt', '9405_10.txt', '301_10.txt', '11802_7.txt', '2605_7.txt', '9837_7.txt', '8334_8.txt', '7662_10.txt', '1436_10.txt', '4900_8.txt', '3185_10.txt', '10618_8.txt', '4310_9.txt', '9338_8.txt', '6409_7.txt', '10147_10.txt', '5213_8.txt', '5979_9.txt', '1206_10.txt', '7550_9.txt', '12169_7.txt', '1087_10.txt', '5885_10.txt', '2027_10.txt', '11583_10.txt', '1979_9.txt', '11472_7.txt', '728_10.txt', '6533_7.txt', '2352_9.txt', '344_8.txt', '11010_10.txt', '7560_9.txt', '1173_8.txt', '10152_9.txt', '7943_10.txt', '2858_10.txt', '3651_10.txt', '7499_7.txt', '5909_8.txt', '1481_10.txt', '927_10.txt', '12467_7.txt', '10793_10.txt', '8988_10.txt', '1666_8.txt', '10875_8.txt', '11847_9.txt', '9513_10.txt', '2003_8.txt', '6935_8.txt', '5652_10.txt', '6871_8.txt', '6358_10.txt', '9802_10.txt', '8761_10.txt', '4718_7.txt', '7020_10.txt', '7547_10.txt', '3950_7.txt', '7310_9.txt', '9563_9.txt', '4398_9.txt', '10003_8.txt', '10460_10.txt', '10989_9.txt', '7486_8.txt', '78_10.txt', '2459_8.txt', '8480_10.txt', '2115_10.txt', '10603_10.txt', '2972_7.txt', '11503_10.txt', '8190_10.txt', '5119_10.txt', '3563_8.txt', '10911_7.txt', '10920_10.txt', '9636_7.txt', '9685_10.txt', '10126_10.txt', '4001_8.txt', '3047_7.txt', '5800_10.txt', '11403_9.txt', '978_9.txt', '6903_9.txt', '9794_7.txt', '5838_8.txt', '5167_7.txt', '11073_8.txt', '1213_10.txt', '8837_8.txt', '1821_8.txt', '4126_8.txt', '1092_10.txt', '3441_8.txt', '10912_7.txt', '1194_7.txt', '2647_10.txt', '3221_10.txt', '1307_10.txt', '7066_8.txt', '1830_8.txt', '8387_8.txt', '7243_10.txt', '624_9.txt', '3291_8.txt', '4755_7.txt', '10212_8.txt', '5117_10.txt', '6957_7.txt', '6012_9.txt', '7044_10.txt', '6509_9.txt', '11836_10.txt', '11584_8.txt', '6712_9.txt', '6932_7.txt', '11023_9.txt', '9826_10.txt', '10284_9.txt', '4184_8.txt', '2781_8.txt', '5253_10.txt', '2645_8.txt', '3149_8.txt', '6064_7.txt', '4135_10.txt', '4989_8.txt', '2549_8.txt', '10195_8.txt', '7010_10.txt', '1932_10.txt', '6125_9.txt', '1029_9.txt', '10000_8.txt', '3442_10.txt', '10513_7.txt', '6555_8.txt', '10548_7.txt', '9720_8.txt', '532_9.txt', '7342_7.txt', '617_7.txt', '3517_8.txt', '679_10.txt', '2919_10.txt', '7851_8.txt', '6508_7.txt', '6824_10.txt', '1314_7.txt', '11890_7.txt', '10977_8.txt', '3800_7.txt', '1482_10.txt', '383_10.txt', '6700_8.txt', '3839_7.txt', '7181_10.txt', '4643_10.txt', '6372_7.txt', '70_9.txt', '9907_7.txt', '11835_8.txt', '2599_10.txt', '8323_10.txt', '3565_10.txt', '7247_10.txt', '3487_9.txt', '7696_8.txt', '6116_8.txt', '12268_7.txt', '7240_8.txt', '2759_10.txt', '3707_7.txt', '8101_8.txt', '11997_10.txt', '3550_10.txt', '121_10.txt', '6603_8.txt', '11024_9.txt', '8016_10.txt', '1419_7.txt', '5934_10.txt', '8530_9.txt', '4080_10.txt', '5134_10.txt', '1187_10.txt', '9536_7.txt', '2259_9.txt', '11306_8.txt', '9191_10.txt', '326_10.txt', '7222_8.txt', '7414_8.txt', '331_10.txt', '2112_9.txt', '8506_8.txt', '5570_10.txt', '280_8.txt', '8127_8.txt', '7704_10.txt', '8235_7.txt', '2852_7.txt', '2918_9.txt', '5291_8.txt', '950_9.txt', '7034_10.txt', '9711_9.txt', '9615_9.txt', '5019_10.txt', '12332_8.txt', '2230_10.txt', '4284_10.txt', '3705_10.txt', '34_8.txt', '8935_8.txt', '10316_8.txt', '3523_9.txt', '4800_7.txt', '4505_8.txt', '11905_8.txt', '6430_10.txt', '9727_7.txt', '323_10.txt', '3827_10.txt', '7361_10.txt', '7016_7.txt', '9723_9.txt', '3751_10.txt', '329_10.txt', '11017_9.txt', '11427_10.txt', '1653_10.txt', '6006_10.txt', '3993_7.txt', '7035_8.txt', '5157_7.txt', '4564_10.txt', '6092_8.txt', '3919_7.txt', '2228_7.txt', '7023_9.txt', '8479_9.txt', '10919_10.txt', '10975_10.txt', '339_10.txt', '9673_7.txt', '4866_7.txt', '8849_9.txt', '898_10.txt', '6292_10.txt', '3871_8.txt', '4839_10.txt', '6715_10.txt', '11652_10.txt', '4285_10.txt', '1413_7.txt', '7375_7.txt', '6646_10.txt', '10798_8.txt', '10779_10.txt', '2168_8.txt', '10353_9.txt', '7184_7.txt', '11860_10.txt', '874_9.txt', '6004_10.txt', '9176_10.txt', '8526_10.txt', '10286_9.txt', '6599_8.txt', '8537_10.txt', '8819_10.txt', '1229_8.txt', '8494_8.txt', '3071_9.txt', '12464_10.txt', '9952_8.txt', '12416_10.txt', '3471_8.txt', '544_8.txt', '583_8.txt', '5353_7.txt', '8679_8.txt', '5889_7.txt', '2994_8.txt', '3917_9.txt', '1534_10.txt', '4209_7.txt', '10378_8.txt', '3788_10.txt', '905_10.txt', '699_8.txt', '4076_10.txt', '2402_7.txt', '7681_9.txt', '710_9.txt', '2178_9.txt', '4431_10.txt', '9310_10.txt', '1095_9.txt', '5070_9.txt', '11342_9.txt', '9531_7.txt', '3526_8.txt', '3373_7.txt', '6670_8.txt', '2956_8.txt', '3732_10.txt', '8652_8.txt', '9581_10.txt', '10759_9.txt', '5061_8.txt', '4332_10.txt', '8688_8.txt', '5036_9.txt', '7360_10.txt', '2634_7.txt', '8779_8.txt', '6311_10.txt', '2637_7.txt', '10540_10.txt', '12115_10.txt', '5506_10.txt', '12100_8.txt', '7540_9.txt', '399_9.txt', '10121_8.txt', '7873_8.txt', '2497_8.txt', '12494_8.txt', '3520_9.txt', '1023_10.txt', '8474_10.txt', '82_8.txt', '5261_10.txt', '6428_8.txt', '5614_10.txt', '970_10.txt', '7025_8.txt', '5404_10.txt', '1536_7.txt', '8277_10.txt', '9328_7.txt', '5666_10.txt', '3939_7.txt', '8444_10.txt', '11123_10.txt', '8156_10.txt', '11713_10.txt', '833_8.txt', '2563_10.txt', '7224_8.txt', '5016_10.txt', '2081_7.txt', '384_8.txt', '3867_10.txt', '6355_8.txt', '6602_7.txt', '5262_7.txt', '1724_10.txt', '4977_7.txt', '2980_7.txt', '9778_8.txt', '156_8.txt', '9374_9.txt', '12124_8.txt', '5911_9.txt', '405_10.txt', '8369_8.txt', '12033_8.txt', '8856_8.txt', '4034_9.txt', '6907_8.txt', '10320_7.txt', '12281_9.txt', '12120_10.txt', '1901_7.txt', '5337_9.txt', '2339_8.txt', '10423_9.txt', '9704_10.txt', '6253_8.txt', '12478_9.txt', '1182_8.txt', '8338_8.txt', '8515_8.txt', '3079_10.txt', '4905_10.txt', '45_10.txt', '10500_10.txt', '4726_7.txt', '5050_7.txt', '11794_7.txt', '2657_10.txt', '12087_10.txt', '2487_10.txt', '9323_10.txt', '1520_7.txt', '5156_9.txt', '10583_10.txt', '3248_10.txt', '6324_8.txt', '2345_9.txt', '7306_10.txt', '3528_7.txt', '4579_9.txt', '1685_10.txt', '11616_8.txt', '2841_10.txt', '4495_9.txt', '6360_7.txt', '1175_9.txt', '6290_7.txt', '9255_10.txt', '5661_10.txt', '10849_10.txt', '4102_10.txt', '6754_8.txt', '4047_10.txt', '4211_8.txt', '3076_8.txt', '1168_8.txt', '598_9.txt', '1340_10.txt', '7349_7.txt', '5272_7.txt', '9347_7.txt', '4236_8.txt', '317_10.txt', '4903_10.txt', '8667_7.txt', '4659_8.txt', '549_9.txt', '3834_9.txt', '9995_10.txt', '2869_10.txt', '11157_7.txt', '6708_10.txt', '5962_7.txt', '5973_9.txt', '7480_10.txt', '10321_10.txt', '1762_7.txt', '4985_10.txt', '7088_10.txt', '4516_10.txt', '12058_9.txt', '2527_9.txt', '10060_9.txt', '10150_9.txt', '2466_9.txt', '6373_10.txt', '5110_10.txt', '8137_10.txt', '2951_8.txt', '10490_7.txt', '3742_9.txt', '4669_10.txt', '653_10.txt', '7586_10.txt', '12319_8.txt', '10619_8.txt', '8473_8.txt', '9635_7.txt', '11632_7.txt', '199_10.txt', '9949_9.txt', '7898_10.txt', '3363_10.txt', '6699_8.txt', '4526_10.txt', '3780_8.txt', '1427_9.txt', '4954_10.txt', '1089_10.txt', '9430_9.txt', '9974_8.txt', '7334_7.txt', '10786_10.txt', '2737_9.txt', '5013_10.txt', '5002_8.txt', '9115_10.txt', '1516_7.txt', '2544_8.txt', '12018_7.txt', '6535_10.txt', '2472_10.txt', '2665_10.txt', '10820_10.txt', '7707_9.txt', '12399_9.txt', '2024_9.txt', '1521_8.txt', '10306_8.txt', '12147_10.txt', '3251_7.txt', '8349_10.txt', '6033_8.txt', '835_8.txt', '11654_9.txt', '5115_10.txt', '8174_9.txt', '10987_8.txt', '8664_8.txt', '3207_7.txt', '7346_8.txt', '8329_7.txt', '6361_10.txt', '7204_8.txt', '6481_10.txt', '1847_10.txt', '3259_7.txt', '1629_10.txt', '2799_10.txt', '4685_7.txt', '3372_9.txt', '6920_8.txt', '5751_10.txt', '2583_10.txt', '5774_8.txt', '11843_10.txt', '1735_10.txt', '8712_8.txt', '4195_9.txt', '9646_7.txt', '8685_9.txt', '592_10.txt', '11398_7.txt', '6068_9.txt', '483_8.txt', '5654_8.txt', '8084_7.txt', '1127_10.txt', '4882_9.txt', '2117_10.txt', '5468_7.txt', '5994_8.txt', '4511_9.txt', '946_8.txt', '3051_9.txt', '11945_9.txt', '871_9.txt', '2069_9.txt', '4214_10.txt', '10639_7.txt', '5333_10.txt', '1519_10.txt', '5716_8.txt', '10621_10.txt', '371_9.txt', '803_10.txt', '4389_10.txt', '928_10.txt', '4809_10.txt', '2790_10.txt', '8305_7.txt', '8270_10.txt', '1204_10.txt', '4476_9.txt', '2405_10.txt', '2064_8.txt', '3104_10.txt', '3326_8.txt', '3625_8.txt', '1027_8.txt', '4242_9.txt', '2561_7.txt', '6217_8.txt', '3184_8.txt', '9844_8.txt', '7528_10.txt', '9601_10.txt', '5068_9.txt', '8346_9.txt', '8404_10.txt', '954_10.txt', '2569_10.txt', '3957_10.txt', '10246_10.txt', '7155_8.txt', '3401_8.txt', '1578_8.txt', '2957_10.txt', '10096_7.txt', '742_9.txt', '6757_8.txt', '9071_8.txt', '3909_10.txt', '9438_10.txt', '8352_9.txt', '6423_7.txt', '2006_7.txt', '11011_10.txt', '5657_9.txt', '8241_7.txt', '11607_10.txt', '7086_10.txt', '5086_7.txt', '441_9.txt', '11299_8.txt', '8255_9.txt', '1868_10.txt', '7872_10.txt', '9667_9.txt', '734_10.txt', '8410_10.txt', '4108_7.txt', '5380_7.txt', '9024_10.txt', '9118_10.txt', '4702_8.txt', '8445_10.txt', '573_9.txt', '2321_9.txt', '3132_9.txt', '11114_10.txt', '6909_9.txt', '7863_10.txt', '8990_10.txt', '2343_10.txt', '5232_8.txt', '6911_10.txt', '4269_10.txt', '11659_9.txt', '4336_10.txt', '11972_10.txt', '7869_9.txt', '5467_9.txt', '562_8.txt', '4856_10.txt', '9468_7.txt', '4980_8.txt', '2604_8.txt', '5178_10.txt', '164_10.txt', '7684_7.txt', '4182_10.txt', '9524_9.txt', '1657_9.txt', '5612_8.txt', '8519_10.txt', '2540_8.txt', '2419_10.txt', '11468_9.txt', '7605_8.txt', '8811_7.txt', '2016_7.txt', '3046_10.txt', '3054_7.txt', '10005_7.txt', '11155_10.txt', '1133_10.txt', '1106_8.txt', '5315_9.txt', '5595_7.txt', '7087_9.txt', '10087_10.txt', '3264_8.txt', '4094_9.txt', '9575_9.txt', '1632_7.txt', '10296_8.txt', '1070_8.txt', '6727_9.txt', '11263_10.txt', '2009_10.txt', '6137_7.txt', '216_8.txt', '1434_10.txt', '2857_9.txt', '2659_8.txt', '530_10.txt', '8691_7.txt', '9263_8.txt', '9888_10.txt', '8668_9.txt', '4969_7.txt', '8617_9.txt', '8567_10.txt', '11635_8.txt', '6458_8.txt', '7122_8.txt', '3312_8.txt', '5679_10.txt', '12406_8.txt', '12106_10.txt', '7239_7.txt', '1515_7.txt', '1281_10.txt', '4046_8.txt', '4139_8.txt', '8853_7.txt', '12149_10.txt', '5958_9.txt', '5459_8.txt', '10866_7.txt', '1573_9.txt', '11898_8.txt', '8120_7.txt', '3915_9.txt', '5362_8.txt', '3592_10.txt', '6055_8.txt', '9701_10.txt', '8311_9.txt', '3295_10.txt', '6653_8.txt', '8017_9.txt', '639_10.txt', '600_10.txt', '4944_7.txt', '12493_8.txt', '2648_8.txt', '6866_7.txt', '5811_9.txt', '4053_8.txt', '9230_8.txt', '4776_8.txt', '10092_8.txt', '11674_10.txt', '12016_7.txt', '1532_10.txt', '7103_7.txt', '7660_10.txt', '5847_10.txt', '937_10.txt', '2213_9.txt', '3175_8.txt', '3885_10.txt', '4050_9.txt', '3801_8.txt', '7114_9.txt', '10928_7.txt', '12473_10.txt', '8947_9.txt', '5316_7.txt', '10376_7.txt', '9247_10.txt', '7058_8.txt', '10740_8.txt', '3862_9.txt', '3746_10.txt', '9541_8.txt', '4266_7.txt', '8414_7.txt', '5473_8.txt', '12128_8.txt', '2907_7.txt', '1227_8.txt', '1703_8.txt', '5521_8.txt', '3584_10.txt', '7131_9.txt', '3459_8.txt', '564_8.txt', '9489_9.txt', '3001_10.txt', '4812_8.txt', '1990_10.txt', '3938_9.txt', '11286_10.txt', '629_9.txt', '6135_8.txt', '7879_7.txt', '3681_8.txt', '761_10.txt', '4265_8.txt', '7203_9.txt', '5131_10.txt', '1373_10.txt', '2262_10.txt', '6300_8.txt', '6129_7.txt', '12411_7.txt', '2413_10.txt', '2696_8.txt', '9057_7.txt', '9436_10.txt', '6499_10.txt', '8985_9.txt', '7706_7.txt', '2034_9.txt', '5280_8.txt', '9426_10.txt', '8124_9.txt', '12487_10.txt', '8383_7.txt', '5046_10.txt', '10670_10.txt', '9010_7.txt', '5597_10.txt', '10383_10.txt', '9210_10.txt', '4396_10.txt', '8165_8.txt', '4682_9.txt', '10632_10.txt', '512_10.txt', '4402_8.txt', '9337_10.txt', '8669_7.txt', '5574_10.txt', '4218_8.txt', '8787_8.txt', '7924_9.txt', '1672_8.txt', '7132_10.txt', '378_8.txt', '6490_10.txt', '1192_8.txt', '5163_7.txt', '5310_10.txt', '176_7.txt', '5182_8.txt', '6570_8.txt', '8634_9.txt', '8542_9.txt', '11450_10.txt', '6605_7.txt', '8364_10.txt', '9407_8.txt', '5559_7.txt', '7171_10.txt', '3832_8.txt', '7581_8.txt', '3667_8.txt', '1888_8.txt', '5335_10.txt', '5519_9.txt', '6348_10.txt', '8258_9.txt', '11479_10.txt', '4891_10.txt', '2423_7.txt', '3032_7.txt', '5816_10.txt', '5644_8.txt', '2245_7.txt', '3331_8.txt', '8949_7.txt', '959_7.txt', '5578_10.txt', '11188_10.txt', '3692_10.txt', '4687_8.txt', '2011_7.txt', '3860_10.txt', '9553_9.txt', '652_10.txt', '1508_7.txt', '5212_7.txt', '11918_10.txt', '11078_10.txt', '2433_8.txt', '8689_7.txt', '398_10.txt', '1513_7.txt', '1097_9.txt', '7642_9.txt', '9569_9.txt', '7074_7.txt', '1406_8.txt', '6783_7.txt', '7679_10.txt', '2280_7.txt', '3167_7.txt', '9225_10.txt', '9297_10.txt', '3408_10.txt', '9069_7.txt', '4796_8.txt', '3282_8.txt', '1085_7.txt', '5794_10.txt', '7125_10.txt', '4876_10.txt', '7085_9.txt', '2475_10.txt', '1805_10.txt', '3450_7.txt', '8585_8.txt', '6697_10.txt', '6734_10.txt', '8095_8.txt', '5943_10.txt', '12041_9.txt', '6574_8.txt', '4744_9.txt', '1935_10.txt', '2397_9.txt', '10992_10.txt', '6822_7.txt', '8131_8.txt', '10261_8.txt', '2436_10.txt', '10802_8.txt', '12455_9.txt', '9174_9.txt', '1976_10.txt', '3284_10.txt', '4226_10.txt', '7327_10.txt', '7590_10.txt', '7816_9.txt', '5750_8.txt', '1726_8.txt', '3931_7.txt', '192_9.txt', '9702_10.txt', '7894_10.txt', '5735_7.txt', '1287_9.txt', '5734_9.txt', '7345_7.txt', '9517_10.txt', '1756_7.txt', '11955_7.txt', '8215_7.txt', '7455_8.txt', '462_8.txt', '9224_10.txt', '6272_7.txt', '7978_8.txt', '7589_8.txt', '6800_9.txt', '8996_8.txt', '12188_10.txt', '7537_10.txt', '1196_8.txt', '8575_10.txt', '10821_8.txt', '6859_7.txt', '125_7.txt', '10014_8.txt', '11056_10.txt', '9736_8.txt', '933_10.txt', '5278_7.txt', '5198_7.txt', '10097_9.txt', '6688_9.txt', '2601_10.txt', '8938_9.txt', '11561_10.txt', '7914_10.txt', '11822_10.txt', '3549_8.txt', '8248_9.txt', '2284_10.txt', '9816_10.txt', '2252_10.txt', '448_10.txt', '11329_9.txt', '7702_10.txt', '3972_7.txt', '7445_7.txt', '3209_8.txt', '12066_8.txt', '6089_10.txt', '6648_7.txt', '6393_8.txt', '1936_10.txt', '7097_9.txt', '3610_10.txt', '541_7.txt', '5895_10.txt', '1631_8.txt', '2097_9.txt', '5954_7.txt', '11825_8.txt', '11634_9.txt', '1960_7.txt', '6808_8.txt', '2930_10.txt', '6444_8.txt', '2302_9.txt', '10125_8.txt', '5269_10.txt', '9854_7.txt', '12476_10.txt', '12090_9.txt', '8148_8.txt', '9603_10.txt', '272_10.txt', '2849_7.txt', '4090_8.txt', '12499_7.txt', '6507_10.txt', '6190_7.txt', '8122_10.txt', '12302_7.txt', '6313_9.txt', '7119_10.txt', '8769_7.txt', '11070_9.txt', '1941_9.txt', '8397_10.txt', '9882_8.txt', '1984_10.txt', '12329_10.txt', '2495_9.txt', '3162_8.txt', '518_10.txt', '10549_9.txt', '5778_9.txt', '9919_9.txt', '5796_8.txt', '12244_7.txt', '4567_10.txt', '12165_10.txt', '5256_10.txt', '9351_8.txt', '6102_10.txt', '11689_8.txt', '4865_7.txt', '9369_10.txt', '10871_7.txt', '8229_10.txt', '4987_10.txt', '8039_8.txt', '239_7.txt', '68_10.txt', '12323_10.txt', '4600_10.txt', '854_9.txt', '2632_7.txt', '11533_8.txt', '1159_10.txt', '3451_8.txt', '2587_9.txt', '8934_10.txt', '6992_10.txt', '421_9.txt', '945_10.txt', '2893_10.txt', '4928_7.txt', '10530_10.txt', '10002_7.txt', '895_10.txt', '1163_7.txt', '7655_10.txt', '8183_7.txt', '253_7.txt', '1283_10.txt', '7592_9.txt', '7821_8.txt', '4171_7.txt', '3103_7.txt', '6558_8.txt', '6039_10.txt', '8859_10.txt', '3640_8.txt', '6964_7.txt', '10207_10.txt', '98_10.txt', '4010_10.txt', '1301_10.txt', '282_9.txt', '5330_7.txt', '9521_10.txt', '698_7.txt', '8987_9.txt', '6618_8.txt', '8817_8.txt', '9733_8.txt', '3920_9.txt', '3887_10.txt', '8967_8.txt', '10976_10.txt', '6472_10.txt', '6052_9.txt', '8898_8.txt', '6017_8.txt', '6_10.txt', '11180_7.txt', '11556_7.txt', '3752_7.txt', '534_10.txt', '1531_8.txt', '1584_9.txt', '6875_10.txt', '9008_10.txt', '6878_8.txt', '309_9.txt', '5144_10.txt', '8104_7.txt', '3090_10.txt', '11626_9.txt', '5841_7.txt', '4030_9.txt', '4063_8.txt', '5882_9.txt', '4212_10.txt', '2993_10.txt', '4514_10.txt', '5694_9.txt', '8476_10.txt', '5227_10.txt', '8350_9.txt', '471_7.txt', '2826_10.txt', '2846_10.txt', '707_8.txt', '10380_10.txt', '4834_8.txt', '10467_10.txt', '3258_10.txt', '7633_8.txt', '12423_10.txt', '7770_7.txt', '7835_9.txt', '7080_10.txt', '7857_10.txt', '2721_9.txt', '5148_7.txt', '5118_10.txt', '10202_10.txt', '10693_8.txt', '10936_8.txt', '4414_9.txt', '2518_10.txt', '6665_10.txt', '3252_9.txt', '11718_10.txt', '12062_10.txt', '923_9.txt', '2083_7.txt', '7259_7.txt', '11613_7.txt', '3576_9.txt', '3632_7.txt', '9396_9.txt', '6664_9.txt', '8320_8.txt', '9112_9.txt', '10991_9.txt', '2935_10.txt', '451_10.txt', '6426_8.txt', '8233_8.txt', '3485_9.txt', '11443_10.txt', '7378_8.txt', '6798_9.txt', '7677_10.txt', '1827_10.txt', '1849_7.txt', '7221_8.txt', '3990_8.txt', '8788_10.txt', '6159_7.txt', '4401_9.txt', '4767_9.txt', '9117_10.txt', '2320_10.txt', '505_9.txt', '10727_7.txt', '10823_8.txt', '2120_8.txt', '7425_9.txt', '7302_10.txt', '11956_9.txt', '11876_10.txt', '7987_8.txt', '6249_7.txt', '4698_10.txt', '8024_10.txt', '11551_7.txt', '1504_9.txt', '1054_8.txt', '7750_8.txt', '5323_7.txt', '543_10.txt', '8581_10.txt', '8825_9.txt', '12064_10.txt', '11394_10.txt', '2175_9.txt', '12081_8.txt', '3395_9.txt', '1008_10.txt', '11769_7.txt', '11395_8.txt', '7632_10.txt', '9676_10.txt', '8446_10.txt', '10122_7.txt', '6289_10.txt', '4988_7.txt', '3500_10.txt', '9059_7.txt', '2573_10.txt', '11805_10.txt', '6236_8.txt', '7459_10.txt', '184_8.txt', '2715_8.txt', '10775_8.txt', '2237_7.txt', '2124_10.txt', '11324_10.txt', '9620_7.txt', '11135_9.txt', '2108_10.txt', '10815_10.txt', '892_10.txt', '2356_10.txt', '7376_8.txt', '11839_9.txt', '9598_10.txt', '7909_10.txt', '957_10.txt', '5259_9.txt', '10562_9.txt', '5788_8.txt', '11949_8.txt', '8875_9.txt', '8721_10.txt', '5809_10.txt', '4442_9.txt', '9650_10.txt', '1056_10.txt', '3468_10.txt', '4734_9.txt', '6619_9.txt', '9956_9.txt', '9206_8.txt', '2029_8.txt', '7352_10.txt', '11013_7.txt', '2997_7.txt', '3366_10.txt', '886_8.txt', '10589_10.txt', '10078_8.txt', '7842_10.txt', '5787_9.txt', '9641_9.txt', '3225_10.txt', '3944_8.txt', '11576_7.txt', '4436_7.txt', '1765_8.txt', '12372_7.txt', '10506_10.txt', '10428_10.txt', '9683_9.txt', '5410_7.txt', '9353_8.txt', '6786_10.txt', '7130_10.txt', '2922_10.txt', '11_9.txt', '9091_10.txt', '7104_7.txt', '8551_8.txt', '7841_10.txt', '9537_8.txt', '7875_7.txt', '9076_8.txt', '10834_7.txt', '11512_10.txt', '9164_10.txt', '9796_9.txt', '6382_7.txt', '3577_7.txt', '9979_7.txt', '8956_8.txt', '10663_8.txt', '4869_10.txt', '7741_9.txt', '4343_9.txt', '2550_9.txt', '9666_10.txt', '4370_10.txt', '2621_8.txt', '83_10.txt', '2113_10.txt', '333_10.txt', '1818_8.txt', '5907_10.txt', '11115_10.txt', '6318_7.txt', '10623_8.txt', '6177_7.txt', '1885_10.txt', '8953_8.txt', '9379_7.txt', '10542_7.txt', '7395_8.txt', '2747_9.txt', '11582_10.txt', '7810_7.txt', '7275_8.txt', '9583_8.txt', '12113_8.txt', '7482_10.txt', '2952_8.txt', '10167_7.txt', '11930_10.txt', '8840_10.txt', '566_8.txt', '6035_10.txt', '7819_9.txt', '6293_10.txt', '1146_7.txt', '2198_8.txt', '5565_8.txt', '4828_7.txt', '400_10.txt', '8860_8.txt', '3875_9.txt', '225_9.txt', '949_8.txt', '3222_7.txt', '10046_9.txt', '12164_9.txt', '3202_10.txt', '11559_10.txt', '4435_7.txt', '5442_8.txt', '7676_9.txt', '101_8.txt', '11076_8.txt', '4220_7.txt', '12135_10.txt', '10855_9.txt', '3636_8.txt', '148_9.txt', '455_10.txt', '420_7.txt', '7588_8.txt', '8520_8.txt', '3958_7.txt', '4270_10.txt', '6042_9.txt', '661_9.txt', '5136_10.txt', '4455_8.txt', '9478_8.txt', '783_10.txt', '4035_10.txt', '8465_8.txt', '3670_10.txt', '2260_10.txt', '12131_7.txt', '3236_7.txt', '2297_7.txt', '4925_7.txt', '2921_10.txt', '3627_8.txt', '11445_7.txt', '6945_10.txt', '2122_7.txt', '7391_9.txt', '1618_10.txt', '1742_7.txt', '9273_7.txt', '10691_7.txt', '9936_10.txt', '3314_10.txt', '8607_9.txt', '4111_10.txt', '49_10.txt', '3462_7.txt', '1659_7.txt', '7200_9.txt', '12126_8.txt', '1300_10.txt', '6420_7.txt', '11111_9.txt', '2273_9.txt', '7830_10.txt', '1369_8.txt', '7285_9.txt', '3888_10.txt', '10673_10.txt', '3193_9.txt', '5458_10.txt', '11201_7.txt', '6680_7.txt', '677_8.txt', '8509_7.txt', '529_10.txt', '11821_10.txt', '8392_8.txt', '1514_7.txt', '8800_10.txt', '4830_9.txt', '5773_9.txt', '554_7.txt', '5901_7.txt', '10179_9.txt', '1112_8.txt', '2079_10.txt', '9628_8.txt', '12465_9.txt', '1223_7.txt', '9303_8.txt', '1180_9.txt', '1241_7.txt', '6413_7.txt', '7006_8.txt', '1084_9.txt', '10090_8.txt', '12053_9.txt', '823_9.txt', '11853_7.txt', '522_8.txt', '8906_8.txt', '3561_9.txt', '11631_7.txt', '5304_10.txt', '9022_10.txt', '862_7.txt', '1383_7.txt', '3460_8.txt', '1844_8.txt', '8082_8.txt', '2150_10.txt', '12057_10.txt', '3886_10.txt', '7730_7.txt', '1336_7.txt', '11222_8.txt', '3383_8.txt', '3988_7.txt', '307_8.txt', '12341_7.txt', '8978_10.txt', '9232_8.txt', '11966_10.txt', '6576_8.txt', '9745_7.txt', '1891_8.txt', '1198_10.txt', '10388_7.txt', '1864_10.txt', '9362_7.txt', '4788_10.txt', '9602_10.txt', '6418_10.txt', '8616_8.txt', '10365_8.txt', '935_9.txt', '214_7.txt', '4762_10.txt', '1268_7.txt', '11477_8.txt', '8269_7.txt', '2741_10.txt', '11798_10.txt', '9660_9.txt', '12288_9.txt', '7505_9.txt', '3351_8.txt', '11032_7.txt', '6779_8.txt', '8613_7.txt', '5438_10.txt', '9052_8.txt', '3096_10.txt', '3977_10.txt', '6392_10.txt', '8803_10.txt', '5403_10.txt', '11327_10.txt', '3629_8.txt', '1878_10.txt', '11367_10.txt', '1539_10.txt', '11655_10.txt', '4203_8.txt', '9048_8.txt', '3588_8.txt', '315_10.txt', '1981_9.txt', '10124_8.txt', '8932_9.txt', '9295_10.txt', '4066_10.txt', '6438_10.txt', '359_8.txt', '4013_7.txt', '12315_9.txt', '6659_10.txt', '7293_10.txt', '2982_8.txt', '5987_8.txt', '5900_10.txt', '11699_10.txt', '3218_9.txt', '9015_8.txt', '11066_8.txt', '2123_10.txt', '10050_10.txt', '1148_8.txt', '5101_7.txt', '6108_8.txt', '6953_7.txt', '9147_10.txt', '8662_8.txt', '4958_10.txt', '4109_10.txt', '580_9.txt', '12138_7.txt', '8980_10.txt', '2842_8.txt', '6733_10.txt', '4293_8.txt', '1833_10.txt', '4468_7.txt', '4635_7.txt', '2370_10.txt', '4306_10.txt', '10247_10.txt', '3146_10.txt', '4037_7.txt', '11619_9.txt', '1915_10.txt', '11600_7.txt', '1264_10.txt', '6383_10.txt', '7061_7.txt', '1943_10.txt', '2585_7.txt', '7017_9.txt', '4769_7.txt', '5586_8.txt', '12203_10.txt', '11567_8.txt', '9925_7.txt', '11002_8.txt', '9420_8.txt', '7739_10.txt', '9862_9.txt', '11437_9.txt', '11039_8.txt', '10093_7.txt', '5514_9.txt', '8901_8.txt', '3989_8.txt', '3244_10.txt', '7046_7.txt', '2546_10.txt', '9911_10.txt', '2211_8.txt', '11409_9.txt', '9589_10.txt', '8523_9.txt', '1346_9.txt', '5913_10.txt', '3626_7.txt', '9_7.txt', '2338_10.txt', '2396_7.txt', '4143_9.txt', '676_8.txt', '5089_9.txt', '9209_7.txt', '1540_10.txt', '9345_9.txt', '1752_8.txt', '9163_10.txt', '5689_10.txt', '5265_9.txt', '6410_10.txt', '521_10.txt', '74_8.txt', '9034_10.txt', '10857_8.txt', '7716_9.txt', '1246_8.txt', '4450_9.txt', '12350_9.txt', '2992_7.txt', '9716_10.txt', '11400_10.txt', '6165_8.txt', '9580_7.txt', '6025_9.txt', '3899_9.txt', '8099_7.txt', '842_9.txt', '10504_9.txt', '10878_7.txt', '2844_9.txt', '298_8.txt', '10154_8.txt', '4163_9.txt', '95_10.txt', '12436_7.txt', '3306_8.txt', '10112_7.txt', '9085_8.txt', '3935_9.txt', '7249_8.txt', '4761_10.txt', '8590_7.txt', '4531_8.txt', '5169_7.txt', '11462_10.txt', '6573_7.txt', '5795_10.txt', '2059_7.txt', '3255_10.txt', '9065_10.txt', '3102_9.txt', '9296_10.txt', '4052_8.txt', '7356_10.txt', '11363_8.txt', '10660_10.txt', '3110_8.txt', '8514_7.txt', '3753_9.txt', '8658_8.txt', '3489_10.txt', '5755_7.txt', '2879_9.txt', '2299_7.txt', '6832_10.txt', '12243_8.txt', '4565_8.txt', '12092_7.txt', '9465_7.txt', '6041_10.txt', '1200_10.txt', '4706_8.txt', '1463_10.txt', '5022_8.txt', '10453_10.txt', '3781_7.txt', '9435_7.txt', '8449_9.txt', '3770_10.txt', '2557_10.txt', '1334_8.txt', '4197_8.txt', '5422_9.txt', '9128_9.txt', '2294_8.txt', '11099_10.txt', '9092_7.txt', '7727_9.txt', '2142_8.txt', '2432_7.txt', '9131_9.txt', '2702_9.txt', '3204_10.txt', '12050_10.txt', '10769_10.txt', '10649_7.txt', '2167_10.txt', '7337_10.txt', '10023_9.txt', '5939_7.txt', '5925_7.txt', '7359_10.txt', '9984_9.txt', '897_10.txt', '792_8.txt', '6969_10.txt', '731_9.txt', '3035_9.txt', '4426_7.txt', '1646_9.txt', '2981_10.txt', '5331_10.txt', '9331_9.txt', '3067_9.txt', '992_7.txt', '1016_8.txt', '10211_7.txt', '9434_10.txt', '102_10.txt', '11812_10.txt', '4366_9.txt', '1048_8.txt', '11428_7.txt', '4391_8.txt', '10640_8.txt', '7235_8.txt', '537_10.txt', '10382_10.txt', '1282_9.txt', '2724_9.txt', '956_9.txt', '10947_8.txt', '9814_10.txt', '7510_8.txt', '11381_10.txt', '4183_10.txt', '6748_8.txt', '1186_8.txt', '12110_8.txt', '10629_10.txt', '8606_10.txt', '5822_10.txt', '5445_10.txt', '4250_8.txt', '4873_8.txt', '1801_8.txt', '11191_10.txt', '11742_9.txt', '7118_10.txt', '5566_9.txt', '8703_10.txt', '7308_8.txt', '303_10.txt', '848_8.txt', '5040_9.txt', '3985_8.txt', '682_10.txt', '7503_7.txt', '1363_10.txt', '48_7.txt', '3739_10.txt', '10794_10.txt', '8049_7.txt', '2975_7.txt', '4823_7.txt', '11752_10.txt', '1108_7.txt', '7350_8.txt', '8163_8.txt', '11495_10.txt', '1825_10.txt', '5830_8.txt', '2525_8.txt', '12249_8.txt', '11603_10.txt', '11781_8.txt', '5753_8.txt', '10173_8.txt', '12404_9.txt', '9346_10.txt', '7817_10.txt', '9978_8.txt', '10424_9.txt', '11977_8.txt', '1452_8.txt', '11345_7.txt', '263_9.txt', '789_7.txt', '608_8.txt', '7015_8.txt', '5618_10.txt', '6294_10.txt', '5282_10.txt', '5706_9.txt', '292_10.txt', '10028_10.txt', '26_9.txt', '10102_7.txt', '9127_7.txt', '11314_8.txt', '6267_10.txt', '10397_8.txt', '5823_10.txt', '3066_10.txt', '7276_8.txt', '114_10.txt', '7836_8.txt', '410_8.txt', '9831_8.txt', '1561_8.txt', '681_9.txt', '8083_7.txt', '2609_10.txt', '6425_9.txt', '9690_10.txt', '2137_8.txt', '242_8.txt', '3188_8.txt', '2602_10.txt', '11205_10.txt', '4152_10.txt', '6215_7.txt', '2066_7.txt', '8868_10.txt', '1228_9.txt', '1727_10.txt', '2823_7.txt', '10858_8.txt', '9572_8.txt', '2136_9.txt', '9670_9.txt', '526_10.txt', '8941_10.txt', '11245_10.txt', '7057_9.txt', '1871_10.txt', '7950_9.txt', '8676_8.txt', '81_10.txt', '5898_8.txt', '8979_10.txt', '6542_8.txt', '4264_10.txt', '11207_10.txt', '7250_8.txt', '1714_8.txt', '6173_8.txt', '11974_10.txt', '175_7.txt', '7853_9.txt', '9182_10.txt', '7187_8.txt', '875_10.txt', '4044_9.txt', '4075_10.txt', '5177_8.txt', '6813_10.txt', '1940_10.txt', '6777_8.txt', '9604_10.txt', '8038_7.txt', '6469_9.txt', '6500_10.txt', '4301_10.txt', '5677_10.txt', '4041_7.txt', '10676_9.txt', '2832_8.txt', '6975_8.txt', '5318_7.txt', '9439_8.txt', '9167_7.txt', '3360_7.txt', '2577_10.txt', '10488_10.txt', '4365_9.txt', '1823_7.txt', '4350_10.txt', '884_8.txt', '3134_8.txt', '355_9.txt', '2836_7.txt', '9800_9.txt', '10527_10.txt', '1273_7.txt', '12385_7.txt', '12314_10.txt', '6459_10.txt', '7262_10.txt', '8009_9.txt', '4031_10.txt', '1656_9.txt', '11253_9.txt', '8037_10.txt', '1207_10.txt', '3501_9.txt', '1059_10.txt', '7598_10.txt', '11216_7.txt', '6451_8.txt', '1076_8.txt', '7284_8.txt', '10894_8.txt', '6296_7.txt', '1738_7.txt', '8421_10.txt', '10685_7.txt', '12267_8.txt', '8106_7.txt', '9104_10.txt', '11970_10.txt', '3569_8.txt', '5065_7.txt', '3115_8.txt', '7891_8.txt', '4855_7.txt', '3073_8.txt', '7465_10.txt', '10801_8.txt', '1640_10.txt', '5780_10.txt', '10426_9.txt', '7105_9.txt', '11900_8.txt', '2727_9.txt', '7255_9.txt', '8714_10.txt', '8081_9.txt', '7534_10.txt', '8135_10.txt', '3059_8.txt', '10257_8.txt', '12389_10.txt', '11535_7.txt', '577_8.txt', '9647_10.txt', '9847_7.txt', '177_9.txt', '3133_9.txt', '850_8.txt', '2216_9.txt', '9380_9.txt', '6693_10.txt', '2944_10.txt', '11182_10.txt', '4167_10.txt', '4294_8.txt', '1635_7.txt', '5606_8.txt', '3033_8.txt', '6248_7.txt', '6185_8.txt', '4996_9.txt', '12163_8.txt', '7532_7.txt', '4369_9.txt', '9492_7.txt', '7907_7.txt', '9811_7.txt', '650_9.txt', '4893_10.txt', '10274_8.txt', '245_9.txt', '3368_8.txt', '5305_7.txt', '6997_7.txt', '4036_7.txt', '9858_7.txt', '965_10.txt', '4736_10.txt', '4606_7.txt', '9857_7.txt', '6243_9.txt', '395_10.txt', '1608_9.txt', '3345_9.txt', '11028_8.txt', '15_7.txt', '7453_10.txt', '551_8.txt', '10713_9.txt', '10803_8.txt', '6429_7.txt', '1102_8.txt', '10521_9.txt', '7551_10.txt', '9240_10.txt', '8032_10.txt', '11153_10.txt', '7460_10.txt', '986_10.txt', '11508_8.txt', '1815_10.txt', '5432_7.txt', '10188_8.txt', '1962_10.txt', '7916_8.txt', '9748_10.txt', '10880_8.txt', '1723_7.txt', '6299_8.txt', '5113_10.txt', '3022_7.txt', '6386_10.txt', '6856_10.txt', '5806_7.txt', '9894_8.txt', '790_9.txt', '3557_9.txt', '4048_7.txt', '10201_10.txt', '4227_10.txt', '7234_8.txt', '8110_9.txt', '4376_9.txt', '2556_8.txt', '6433_7.txt', '10394_10.txt', '5531_10.txt', '7687_8.txt', '52_10.txt', '4594_10.txt', '11865_10.txt', '9165_10.txt', '6193_7.txt', '338_10.txt', '5146_9.txt', '2552_10.txt', '9244_8.txt', '2072_10.txt', '3182_8.txt', '4087_10.txt', '12177_7.txt', '12495_7.txt', '376_10.txt', '2146_9.txt', '3148_9.txt', '357_10.txt', '5670_8.txt', '11238_7.txt', '7638_7.txt', '12457_8.txt', '10826_10.txt', '5569_7.txt', '11879_10.txt', '10183_7.txt', '9477_9.txt', '8904_7.txt', '7758_7.txt', '6613_7.txt', '974_10.txt', '9480_10.txt', '10564_10.txt', '11271_7.txt', '3784_9.txt', '5414_10.txt', '12425_7.txt', '8922_7.txt', '4297_9.txt', '2734_9.txt', '3734_9.txt', '4696_10.txt', '9948_8.txt', '2917_7.txt', '7890_7.txt', '1233_7.txt', '9234_8.txt', '11420_9.txt', '4950_8.txt', '11777_9.txt', '1470_10.txt', '4732_10.txt', '7569_10.txt', '9817_8.txt', '12210_9.txt', '10897_9.txt', '8196_8.txt', '10771_10.txt', '296_10.txt', '4960_9.txt', '10859_7.txt', '2285_10.txt', '11906_7.txt', '7429_9.txt', '8327_9.txt', '4656_8.txt', '107_10.txt', '9020_7.txt', '1477_7.txt', '2708_7.txt', '9533_9.txt', '2309_9.txt', '3281_10.txt', '5736_7.txt', '7273_8.txt', '9496_10.txt', '8554_7.txt', '4979_10.txt', '2936_10.txt', '5688_8.txt', '3018_10.txt', '7789_10.txt', '11008_9.txt', '5600_8.txt', '6761_9.txt', '3964_7.txt', '1269_8.txt', '3285_10.txt', '8508_7.txt', '7654_10.txt', '2950_10.txt', '5825_9.txt', '6549_8.txt', '6493_10.txt', '5975_8.txt', '9156_10.txt', '4144_10.txt', '4737_7.txt', '8913_9.txt', '7277_7.txt', '4234_7.txt', '1603_9.txt', '8354_8.txt', '9558_10.txt', '4971_7.txt', '7995_8.txt', '12324_10.txt', '7447_8.txt', '10651_7.txt', '1933_8.txt', '3143_10.txt', '8035_7.txt', '5517_9.txt', '5045_8.txt', '4088_7.txt', '5139_9.txt', '10507_10.txt', '11474_10.txt', '10435_7.txt', '8423_8.txt', '827_7.txt', '154_8.txt', '9738_8.txt', '11662_9.txt', '97_9.txt', '879_8.txt', '7664_10.txt', '1025_8.txt', '2288_9.txt', '4786_10.txt', '233_7.txt', '10785_10.txt', '7986_10.txt', '11811_8.txt', '11047_9.txt', '3463_7.txt', '7451_9.txt', '8576_8.txt', '3004_10.txt', '891_10.txt', '6900_8.txt', '6540_7.txt', '6812_7.txt', '10955_7.txt', '2482_10.txt', '3845_7.txt', '8893_9.txt', '5481_10.txt', '6818_10.txt', '4216_10.txt', '5249_9.txt', '5863_8.txt', '660_9.txt', '12466_7.txt', '2265_7.txt', '8672_8.txt', '10636_8.txt', '7658_10.txt', '8564_7.txt', '6366_8.txt', '208_9.txt', '5199_7.txt', '4107_10.txt', '1492_10.txt', '8964_8.txt', '1459_10.txt', '9110_8.txt', '8342_7.txt', '6768_8.txt', '8403_10.txt', '1432_7.txt', '5099_7.txt', '2676_10.txt', '60_8.txt', '6491_10.txt', '5273_7.txt', '3978_10.txt', '8257_9.txt', '6254_10.txt', '3238_9.txt', '11471_7.txt', '641_8.txt', '5303_10.txt', '4459_7.txt', '7348_10.txt', '689_10.txt', '10025_9.txt', '12051_10.txt', '1794_7.txt', '5248_8.txt', '32_10.txt', '8517_8.txt', '958_9.txt', '9462_9.txt', '12414_10.txt', '11976_10.txt', '5782_10.txt', '11579_10.txt', '1769_8.txt', '6384_9.txt', '5558_7.txt', '5891_10.txt', '4279_10.txt', '5406_7.txt', '9693_8.txt', '5496_9.txt', '5436_7.txt', '3272_8.txt', '312_10.txt', '3855_8.txt', '3101_9.txt', '766_10.txt', '11943_7.txt', '5451_8.txt', '8541_10.txt', '8191_8.txt', '10588_10.txt', '3178_8.txt', '10703_7.txt', '1576_10.txt', '11774_10.txt', '2092_10.txt', '6391_8.txt', '764_10.txt', '3764_8.txt', '4589_10.txt', '3108_8.txt', '12202_9.txt', '10242_8.txt', '10377_9.txt', '5434_9.txt', '4547_8.txt', '10267_8.txt', '3568_7.txt', '10937_9.txt', '3643_10.txt', '41_9.txt', '6924_7.txt', '6632_7.txt', '10951_8.txt', '2712_10.txt', '1197_10.txt', '8700_7.txt', '3961_8.txt', '1781_10.txt', '2214_10.txt', '10824_10.txt', '9219_10.txt', '10581_10.txt', '6701_9.txt', '11687_10.txt', '589_10.txt', '7635_10.txt', '4353_9.txt', '8386_9.txt', '738_8.txt', '3936_7.txt', '8429_7.txt', '8605_10.txt', '9509_9.txt', '6121_10.txt', '11382_8.txt', '4210_9.txt', '5423_9.txt', '11435_10.txt', '2722_8.txt', '6333_8.txt', '7870_10.txt', '5043_7.txt', '7996_8.txt', '11990_10.txt', '2372_8.txt', '7140_10.txt', '2183_8.txt', '5971_7.txt', '525_10.txt', '3524_9.txt', '8495_8.txt', '283_8.txt', '9352_10.txt', '6687_9.txt', '644_9.txt', '10627_10.txt', '8206_10.txt', '722_7.txt', '779_10.txt', '293_7.txt', '8882_10.txt', '11034_9.txt', '11378_8.txt', '10932_7.txt', '1858_10.txt', '1963_8.txt', '7595_10.txt', '6926_10.txt', '6484_10.txt', '6704_9.txt', '10495_7.txt', '4460_9.txt', '6262_9.txt', '4277_10.txt', '4112_9.txt', '3403_9.txt', '2442_10.txt', '11657_9.txt', '1139_8.txt', '10270_9.txt', '2323_8.txt', '10285_10.txt', '5015_7.txt', '8271_10.txt', '2187_10.txt', '951_10.txt', '2567_9.txt', '3170_9.txt', '8111_8.txt', '4854_7.txt', '5786_10.txt', '8313_10.txt', '3339_7.txt', '9483_10.txt', '12308_10.txt', '2363_7.txt', '9606_10.txt', '5579_8.txt', '11624_8.txt', '6139_10.txt', '6675_8.txt', '7919_10.txt', '12152_9.txt', '12432_8.txt', '7934_7.txt', '3411_9.txt', '6230_8.txt', '1326_10.txt', '7051_10.txt', '11726_9.txt', '10522_7.txt', '10543_8.txt', '9262_8.txt', '1509_10.txt', '2770_8.txt', '3381_10.txt', '11438_10.txt', '2743_9.txt', '6246_9.txt', '11354_10.txt', '6351_8.txt', '3624_10.txt', '65_10.txt', '7271_7.txt', '737_8.txt', '4937_7.txt', '4722_8.txt', '11349_10.txt', '1295_10.txt', '1101_8.txt', '2990_10.txt', '11175_8.txt', '10384_10.txt', '2524_10.txt', '12024_7.txt', '240_10.txt', '4620_10.txt', '6780_10.txt', '11731_10.txt', '1366_8.txt', '11732_7.txt', '6867_9.txt', '7596_9.txt', '4334_10.txt', '12217_10.txt', '4073_10.txt', '6931_8.txt', '2523_9.txt', '4232_7.txt', '10729_8.txt', '6828_10.txt', '11273_9.txt', '999_10.txt', '3278_8.txt', '7134_10.txt', '8372_10.txt', '3661_10.txt', '1409_8.txt', '1604_9.txt', '6049_8.txt', '3109_10.txt', '6773_10.txt', '1798_9.txt', '5740_10.txt', '1318_8.txt', '5835_10.txt', '1807_7.txt', '9228_10.txt', '7166_9.txt', '5077_9.txt', '10598_8.txt', '1619_10.txt', '1066_10.txt', '353_9.txt', '6228_7.txt', '7227_7.txt', '9382_9.txt', '8358_9.txt', '6948_10.txt', '9712_10.txt', '2132_9.txt', '1013_9.txt', '7757_9.txt', '9651_9.txt', '6946_10.txt', '5702_10.txt', '12030_9.txt', '7479_8.txt', '4267_8.txt', '11142_8.txt', '858_8.txt', '9999_8.txt', '8654_9.txt', '138_7.txt', '5343_8.txt', '2303_8.txt', '8842_9.txt', '4082_10.txt', '2923_10.txt', '1352_10.txt', '9562_8.txt', '2937_10.txt', '465_10.txt', '10015_8.txt', '9236_10.txt', '1884_8.txt', '9504_10.txt', '4055_10.txt', '5798_8.txt', '9574_9.txt', '2196_8.txt', '11405_8.txt', '1226_10.txt', '3998_10.txt', '4133_7.txt', '6151_7.txt', '6482_10.txt', '853_9.txt', '6285_7.txt', '7332_7.txt', '4049_7.txt', '9944_9.txt', '7657_10.txt', '11534_7.txt', '3914_10.txt', '2959_10.txt', '2266_8.txt', '6684_10.txt', '7778_10.txt', '3493_8.txt', '11963_10.txt', '6397_8.txt', '11531_10.txt', '709_10.txt', '730_7.txt', '10305_8.txt', '10776_8.txt', '6873_10.txt', '2333_10.txt', '9036_10.txt', '189_9.txt', '9479_10.txt', '1616_9.txt', '5623_10.txt', '6247_10.txt', '732_7.txt', '8219_7.txt', '10480_10.txt', '10674_8.txt', '4802_8.txt', '7734_10.txt', '913_10.txt', '7685_10.txt', '4607_10.txt', '1592_9.txt', '6958_7.txt', '8175_7.txt', '8426_7.txt', '12076_8.txt', '8973_9.txt', '7648_7.txt', '7322_10.txt', '2639_7.txt', '7722_10.txt', '8021_7.txt', '8482_7.txt', '6466_10.txt', '11336_7.txt', '5058_10.txt', '136_10.txt', '7504_7.txt', '1456_9.txt', '4503_7.txt', '12471_7.txt', '7237_10.txt', '7256_9.txt', '11981_9.txt', '9294_7.txt', '4651_7.txt', '11054_7.txt', '9053_10.txt', '7263_10.txt', '9966_10.txt', '11647_8.txt', '5843_10.txt', '607_10.txt', '4822_9.txt', '5186_10.txt', '1455_7.txt', '90_7.txt', '659_10.txt', '10266_9.txt', '10708_8.txt', '2051_8.txt', '2096_10.txt', '1792_10.txt', '2623_7.txt', '542_9.txt', '8052_9.txt', '7637_7.txt', '10904_10.txt', '9896_8.txt', '10452_10.txt', '9471_7.txt', '3547_8.txt', '3698_10.txt', '10225_9.txt', '2067_9.txt', '8197_8.txt', '408_10.txt', '9325_10.txt', '9859_10.txt', '9743_8.txt', '1236_7.txt', '7245_10.txt', '12306_9.txt', '3324_7.txt', '5580_7.txt', '6750_8.txt', '4170_8.txt', '4910_8.txt', '7953_9.txt', '6901_10.txt', '2871_10.txt', '162_8.txt', '7070_9.txt', '4897_8.txt', '11546_9.txt', '7884_7.txt', '771_7.txt', '8864_10.txt', '6122_8.txt', '729_10.txt', '8544_9.txt', '5820_7.txt', '12331_8.txt', '7989_10.txt', '9808_9.txt', '9376_10.txt', '276_10.txt', '35_8.txt', '10056_8.txt', '3465_9.txt', '4496_8.txt', '9962_9.txt', '4555_9.txt', '11602_8.txt', '1376_7.txt', '8284_8.txt', '11819_8.txt', '6771_7.txt', '11122_10.txt', '11315_10.txt', '2926_8.txt', '3398_10.txt', '3835_9.txt', '7861_10.txt', '9269_7.txt', '6547_9.txt', '11365_9.txt', '1188_8.txt', '9768_10.txt', '11079_8.txt', '4072_10.txt', '3723_8.txt', '7649_9.txt', '9371_7.txt', '11961_8.txt', '7507_8.txt', '10110_10.txt', '500_9.txt', '5452_8.txt', '3992_8.txt', '8050_10.txt', '88_9.txt', '2726_9.txt', '1957_7.txt', '11803_7.txt', '8638_7.txt', '10430_9.txt', '7740_10.txt', '3040_8.txt', '3390_8.txt', '4818_9.txt', '2456_8.txt', '11458_7.txt', '10313_7.txt', '9657_10.txt', '2095_9.txt', '1502_10.txt', '10738_9.txt', '724_10.txt', '1325_9.txt', '12401_8.txt', '11312_9.txt', '8411_7.txt', '6152_10.txt', '9981_7.txt', '12224_9.txt', '11688_10.txt', '4390_8.txt', '3455_10.txt', '4373_10.txt', '11091_8.txt', '7461_10.txt', '11107_10.txt', '6075_10.txt', '10983_10.txt', '7936_7.txt', '5893_9.txt', '1005_10.txt', '2593_10.txt', '6140_9.txt', '66_8.txt', '736_10.txt', '8_7.txt', '2502_8.txt', '8139_10.txt', '12009_10.txt', '10916_7.txt', '5757_8.txt', '568_7.txt', '1545_10.txt', '3581_9.txt', '11569_8.txt', '1063_10.txt', '743_7.txt', '11376_10.txt', '10088_10.txt', '2313_10.txt', '7199_8.txt', '2017_10.txt', '12046_10.txt', '11907_7.txt', '673_8.txt', '11696_7.txt', '5338_10.txt', '1275_8.txt', '6525_7.txt', '11231_10.txt', '1239_8.txt', '12348_9.txt', '11612_10.txt', '3397_10.txt', '5387_8.txt', '9487_8.txt', '3703_9.txt', '7075_10.txt', '11848_10.txt', '5732_7.txt', '10809_10.txt', '7717_10.txt', '1997_9.txt', '6207_9.txt', '2085_7.txt', '4955_9.txt', '8498_9.txt', '3691_8.txt', '11996_10.txt', '5358_10.txt', '2633_8.txt', '6022_7.txt', '6133_7.txt', '2403_10.txt', '553_7.txt', '9928_7.txt', '6045_9.txt', '6890_8.txt', '6123_7.txt', '1834_8.txt', '3106_8.txt', '11198_8.txt', '7129_10.txt', '11587_10.txt', '8154_10.txt', '11319_8.txt', '8477_10.txt', '4832_8.txt', '8373_9.txt', '6520_7.txt', '4040_8.txt', '3822_10.txt', '5345_9.txt', '7858_10.txt', '5185_10.txt', '840_9.txt', '5721_10.txt', '2506_9.txt', '2328_10.txt', '10385_10.txt', '11922_10.txt', '3028_7.txt', '5605_7.txt', '2210_9.txt', '10459_9.txt', '5871_9.txt', '4896_7.txt', '1852_9.txt', '3731_10.txt', '8218_7.txt', '8828_10.txt', '1349_8.txt', '4434_7.txt', '5610_7.txt', '2149_10.txt', '2850_9.txt', '10931_7.txt', '11513_8.txt', '11917_8.txt', '1669_8.txt', '12296_8.txt', '2301_10.txt', '1787_10.txt', '8341_10.txt', '8754_8.txt', '1440_7.txt', '9356_9.txt', '3619_8.txt', '11144_8.txt', '6711_10.txt', '4024_9.txt', '110_10.txt', '11089_10.txt', '3425_8.txt', '8142_10.txt', '3737_9.txt', '5770_10.txt', '10489_10.txt', '10609_10.txt', '4795_9.txt', '1622_8.txt', '5552_8.txt', '10330_8.txt', '2961_10.txt', '12485_8.txt', '9679_10.txt', '11995_10.txt', '4059_8.txt', '838_9.txt', '10984_10.txt', '9354_9.txt', '5221_7.txt', '11740_10.txt', '5329_9.txt', '12010_10.txt', '5354_10.txt', '12253_9.txt', '3792_8.txt', '12420_9.txt', '169_8.txt', '11625_7.txt', '5501_10.txt', '11605_10.txt', '6530_8.txt', '7732_8.txt', '10454_9.txt', '2208_7.txt', '9958_7.txt', '2448_8.txt', '4940_7.txt', '9865_8.txt', '479_10.txt', '2486_10.txt', '1474_8.txt', '1698_10.txt', '12140_8.txt', '6562_10.txt', '12327_9.txt', '8718_9.txt', '6374_10.txt', '9875_7.txt', '2801_9.txt', '12248_7.txt', '7212_9.txt', '12409_7.txt', '10765_10.txt', '181_10.txt', '1050_9.txt', '8621_10.txt', '11948_10.txt', '5465_8.txt', '1411_7.txt', '11904_10.txt', '4480_9.txt', '6949_10.txt', '9506_8.txt', '12437_7.txt', '7980_10.txt', '2035_7.txt', '5018_8.txt', '12412_9.txt', '975_9.txt', '2810_10.txt', '8432_10.txt', '8952_7.txt', '11414_9.txt', '9707_10.txt', '5418_10.txt', '9305_10.txt', '9402_7.txt', '7798_10.txt', '463_7.txt', '6141_9.txt', '6884_10.txt', '11136_10.txt', '6497_10.txt', '4201_9.txt', '9500_7.txt', '7573_9.txt', '5924_8.txt', '6609_8.txt', '2848_7.txt', '12206_9.txt', '6731_10.txt', '9749_9.txt', '877_8.txt', '5457_8.txt', '3679_7.txt', '7347_10.txt', '9300_10.txt', '18_7.txt', '11854_7.txt', '268_8.txt', '9047_10.txt', '777_7.txt', '5356_8.txt', '11967_8.txt', '5431_10.txt', '2499_10.txt', '12040_7.txt', '1713_8.txt', '2757_10.txt', '231_10.txt', '6288_7.txt', '10908_10.txt', '2050_7.txt', '2045_9.txt', '7559_10.txt', '7952_8.txt', '4456_7.txt', '8161_10.txt', '9148_7.txt', '4660_7.txt', '8121_8.txt', '2597_8.txt', '6841_7.txt', '1568_9.txt', '9177_10.txt', '5435_10.txt', '8553_7.txt', '1478_7.txt', '2629_9.txt', '3072_8.txt', '10596_8.txt', '3912_10.txt', '9463_10.txt', '6594_10.txt', '10766_7.txt', '2473_10.txt', '5483_10.txt', '3009_8.txt', '5980_10.txt', '9797_7.txt', '11254_8.txt', '2640_10.txt', '2118_9.txt', '3928_7.txt', '8374_7.txt', '8743_7.txt', '10658_10.txt', '4825_8.txt', '2509_9.txt', '12390_8.txt', '9550_7.txt', '10646_8.txt', '1053_8.txt', '2507_7.txt', '6770_10.txt', '1069_10.txt', '4485_10.txt', '7937_10.txt', '4441_7.txt', '6371_9.txt', '2901_7.txt', '5984_10.txt', '2785_7.txt', '3476_10.txt', '8281_7.txt', '9527_10.txt', '5492_10.txt', '11189_8.txt', '1525_9.txt', '10702_10.txt', '4061_10.txt', '11933_8.txt', '1956_8.txt', '1647_10.txt', '2925_10.txt', '3406_10.txt', '7920_7.txt', '12180_10.txt', '1551_8.txt', '8711_7.txt', '9570_8.txt', '6448_10.txt', '3507_7.txt', '10688_9.txt', '9756_10.txt', '50_10.txt', '6976_9.txt', '4474_10.txt', '10389_10.txt', '9025_9.txt', '2103_7.txt', '9370_7.txt', '10956_9.txt', '8907_8.txt', '11633_8.txt', '4845_9.txt', '9953_10.txt', '4519_9.txt', '1951_9.txt', '8869_7.txt', '4593_10.txt', '7027_7.txt', '5073_7.txt', '155_10.txt', '6930_8.txt', '12021_9.txt', '8955_8.txt', '6198_7.txt', '3567_8.txt', '3231_10.txt', '10239_10.txt', '4155_10.txt', '12266_9.txt', '4836_8.txt', '10079_8.txt', '10156_10.txt', '745_10.txt', '9740_7.txt', '11369_8.txt', '6598_8.txt', '11711_10.txt', '4375_9.txt', '6557_10.txt', '5990_7.txt', '4178_10.txt', '9320_10.txt', '6354_10.txt', '3945_10.txt', '5439_10.txt', '12073_9.txt', '11190_10.txt', '5966_7.txt', '4320_8.txt', '1695_10.txt', '7175_10.txt', '12028_10.txt', '10403_7.txt', '314_10.txt', '3695_8.txt', '4840_7.txt', '11390_10.txt', '9892_8.txt', '10689_8.txt', '9735_8.txt', '2866_9.txt', '7844_10.txt', '2458_8.txt', '1809_10.txt', '11739_8.txt', '12195_8.txt', '5791_9.txt', '3438_10.txt', '5206_7.txt', '972_9.txt', '5910_8.txt', '3571_7.txt', '3031_8.txt', '7438_10.txt', '416_8.txt', '9003_10.txt', '11220_10.txt', '1184_7.txt', '6947_10.txt', '1717_8.txt', '1191_9.txt', '10409_10.txt', '7922_7.txt', '11669_9.txt', '2361_10.txt', '4887_10.txt', '6044_10.txt', '10981_8.txt', '5777_8.txt', '4518_9.txt', '4159_9.txt', '12310_10.txt', '2431_8.txt', '3583_10.txt', '9460_8.txt', '6985_10.txt', '8405_9.txt', '2350_9.txt', '8925_7.txt', '2116_10.txt', '10643_8.txt', '11215_10.txt', '8656_9.txt', '4727_7.txt', '4254_9.txt', '976_8.txt', '7427_9.txt', '10697_8.txt', '8568_7.txt', '10751_10.txt', '3715_7.txt', '8764_8.txt', '944_10.txt', '8439_10.txt', '9009_10.txt', '3535_8.txt', '2374_9.txt', '5976_7.txt', '8926_10.txt', '8570_7.txt', '1152_10.txt', '4728_8.txt', '382_10.txt', '8977_7.txt', '5347_7.txt', '3955_9.txt', '7893_7.txt', '3506_10.txt', '9688_9.txt', '7021_10.txt', '1624_10.txt', '6864_7.txt', '1895_10.txt', '1947_8.txt', '1320_10.txt', '3118_9.txt', '10153_9.txt', '1165_7.txt', '10427_8.txt', '10862_9.txt', '4417_9.txt', '11716_7.txt', '3245_10.txt', '9655_10.txt', '8597_9.txt', '10861_7.txt', '99_8.txt', '2934_10.txt', '2375_8.txt', '1601_8.txt', '6090_7.txt', '7617_9.txt', '4590_10.txt', '1172_8.txt', '5872_9.txt', '8682_7.txt', '3020_9.txt', '6443_9.txt', '6465_9.txt', '5041_8.txt', '12444_10.txt', '4552_9.txt', '1360_10.txt', '11192_10.txt', '3726_7.txt', '678_8.txt', '450_10.txt', '332_10.txt', '11581_10.txt', '5279_8.txt', '2985_8.txt', '9341_7.txt', '963_8.txt', '7477_9.txt', '10446_10.txt', '8236_7.txt', '9798_7.txt', '12451_10.txt', '7744_10.txt', '4160_9.txt', '8899_8.txt', '11249_7.txt', '6455_7.txt', '10035_9.txt', '1339_9.txt', '10001_10.txt', '4305_10.txt', '7514_8.txt', '3916_8.txt', '9834_10.txt', '5831_8.txt', '11692_7.txt', '9790_9.txt', '10616_7.txt', '4622_8.txt', '538_10.txt', '10945_9.txt', '9543_7.txt', '7094_10.txt', '4327_8.txt', '11504_8.txt', '11214_7.txt', '10825_9.txt', '10074_9.txt', '7316_10.txt', '10472_7.txt', '10930_8.txt', '3555_7.txt', '5208_7.txt', '11038_10.txt', '4781_8.txt', '10722_10.txt', '8707_10.txt', '8274_10.txt', '8318_10.txt', '10135_7.txt', '3117_8.txt', '6685_10.txt', '3684_8.txt', '9074_8.txt', '10194_10.txt', '2435_8.txt', '6933_9.txt', '1335_10.txt', '1611_10.txt', '12407_7.txt', '8579_8.txt', '10899_10.txt', '12145_10.txt', '6057_9.txt', '11558_10.txt', '1736_10.txt', '5932_10.txt', '3696_7.txt', '10184_9.txt', '9825_10.txt', '4675_9.txt', '12083_8.txt', '11849_8.txt', '308_8.txt', '2163_10.txt', '4867_9.txt', '9399_7.txt', '2775_7.txt', '8872_8.txt', '11873_8.txt', '11478_8.txt', '4403_10.txt', '11953_8.txt', '6367_7.txt', '10840_9.txt', '4202_10.txt', '588_9.txt', '8580_9.txt', '3727_10.txt', '6011_8.txt', '1903_10.txt', '2835_7.txt', '10732_8.txt', '2899_10.txt', '2531_7.txt', '6834_10.txt', '203_7.txt', '194_8.txt', '9923_7.txt', '10559_8.txt', '3024_9.txt', '11604_8.txt', '86_10.txt', '3157_10.txt', '7067_7.txt', '2793_9.txt', '4638_10.txt', '7811_7.txt', '6167_7.txt', '12008_8.txt', '2075_8.txt', '1920_10.txt', '7826_8.txt', '8456_10.txt', '1158_9.txt', '3270_8.txt', '754_9.txt', '9764_9.txt', '5916_10.txt', '1841_7.txt', '5715_10.txt', '3880_8.txt', '6258_8.txt', '9998_9.txt', '7428_10.txt', '10555_8.txt', '9559_8.txt', '10940_10.txt', '977_8.txt', '11429_7.txt', '12488_8.txt', '6543_9.txt', '7298_7.txt', '7135_10.txt', '84_10.txt', '9046_8.txt', '4275_10.txt', '2277_10.txt', '1118_10.txt', '1496_10.txt', '10972_10.txt', '11221_10.txt', '1987_10.txt', '1494_8.txt', '11869_10.txt', '5635_7.txt', '1211_7.txt', '6851_8.txt', '1824_8.txt', '4934_8.txt', '11422_8.txt', '3809_9.txt', '5608_9.txt', '5130_10.txt', '8804_10.txt', '11105_10.txt', '3011_7.txt', '12257_8.txt', '10610_8.txt', '12048_10.txt', '2668_9.txt', '10326_10.txt', '7802_10.txt', '9035_10.txt', '310_7.txt', '9190_7.txt', '9502_8.txt', '2267_8.txt', '2061_9.txt', '5210_10.txt', '2807_7.txt', '2398_9.txt', '10236_8.txt', '325_9.txt', '4770_10.txt', '10607_10.txt', '9988_8.txt', '2878_8.txt', '2954_10.txt', '5361_10.txt', '4185_8.txt', '7406_9.txt', '1296_10.txt', '10961_9.txt', '10223_10.txt', '2979_10.txt', '3574_10.txt', '10714_8.txt', '5137_10.txt', '5598_8.txt', '3470_8.txt', '3199_10.txt', '2828_9.txt', '1700_8.txt', '11022_9.txt', '4964_10.txt', '3600_7.txt', '804_10.txt', '4208_10.txt', '11053_10.txt', '5640_7.txt', '7646_8.txt', '3687_7.txt', '6309_8.txt', '9041_8.txt', '11679_7.txt', '1972_10.txt', '4507_7.txt', '1371_8.txt', '5812_9.txt', '6308_8.txt', '11750_10.txt', '5627_10.txt', '1479_8.txt', '8118_10.txt', '4774_10.txt', '9120_10.txt', '10837_10.txt', '12440_7.txt', '7904_8.txt', '4529_8.txt', '11636_8.txt', '8970_10.txt', '4384_10.txt', '6434_7.txt', '8401_10.txt', '3445_7.txt', '213_9.txt', '9414_9.txt', '4379_8.txt', '106_10.txt', '4639_10.txt', '12383_7.txt', '10136_7.txt', '7324_10.txt', '8028_10.txt', '8220_8.txt', '2915_7.txt', '8965_8.txt', '2554_7.txt', '1469_7.txt', '6519_8.txt', '4387_9.txt', '3416_10.txt', '5745_8.txt', '2649_7.txt', '2114_10.txt', '8307_10.txt', '1408_7.txt', '1_7.txt', '3480_10.txt', '920_10.txt', '5237_10.txt', '9099_10.txt', '11272_10.txt', '1747_10.txt', '4255_9.txt', '2614_9.txt', '3929_9.txt', '776_7.txt', '11942_8.txt', '7759_10.txt', '7220_7.txt', '4923_7.txt', '3423_7.txt', '5922_8.txt', '4584_10.txt', '12072_10.txt', '8012_8.txt', '319_9.txt', '2658_10.txt', '12155_7.txt', '8182_7.txt', '6118_10.txt', '12298_8.txt', '8994_8.txt', '2714_10.txt', '4339_10.txt', '7355_10.txt', '11291_10.txt', '5808_10.txt', '7039_7.txt', '5267_7.txt', '8264_9.txt', '8046_9.txt', '9202_8.txt', '7831_8.txt', '5881_7.txt', '4358_10.txt', '2360_10.txt', '9850_7.txt', '5636_10.txt', '2843_7.txt', '7951_10.txt', '8034_10.txt', '11886_10.txt', '2390_7.txt', '2974_8.txt', '6156_10.txt', '5044_9.txt', '11799_8.txt', '10628_7.txt', '4711_8.txt', '8468_7.txt', '3940_9.txt', '9902_7.txt', '3344_9.txt', '11225_10.txt', '3548_8.txt', '11158_8.txt', '5837_7.txt', '967_7.txt', '2771_7.txt', '11599_8.txt', '10021_8.txt', '3585_9.txt', '2718_9.txt', '8067_8.txt', '8750_7.txt', '9389_7.txt', '6266_8.txt', '12328_10.txt', '2903_9.txt', '5797_8.txt', '7584_7.txt', '4491_10.txt', '8027_10.txt', '3649_9.txt', '7470_10.txt', '265_7.txt', '11623_8.txt', '11042_7.txt', '5447_10.txt', '6967_7.txt', '6394_10.txt', '545_10.txt', '3078_10.txt', '8228_8.txt', '87_10.txt', '5172_9.txt', '8059_10.txt', '6778_8.txt', '3802_10.txt', '469_7.txt', '7795_9.txt', '4700_9.txt', '9227_9.txt', '535_10.txt', '368_10.txt', '11293_7.txt', '8944_8.txt', '6691_9.txt', '9203_9.txt', '100_7.txt', '6048_9.txt', '10959_10.txt', '2575_7.txt', '143_7.txt', '3052_10.txt', '1860_9.txt', '6100_10.txt', '7979_9.txt', '11984_10.txt', '5617_8.txt', '8481_8.txt', '4773_10.txt', '3795_9.txt', '10396_8.txt', '8064_10.txt', '11071_10.txt', '2492_10.txt', '11924_10.txt', '12301_8.txt', '7170_9.txt', '692_8.txt', '2450_9.txt', '5510_10.txt', '3578_7.txt', '4286_10.txt', '7938_7.txt', '8273_10.txt', '11706_10.txt', '7260_10.txt', '8199_10.txt', '6571_10.txt', '6702_8.txt', '10209_7.txt', '7948_7.txt', '3145_10.txt', '6024_10.txt', '9427_10.txt', '7874_8.txt', '5038_10.txt', '2104_7.txt', '267_7.txt', '8999_8.txt', '10411_9.txt', '4408_8.txt', '10165_7.txt', '4970_8.txt', '2745_10.txt', '11737_8.txt', '7625_10.txt', '1967_8.txt', '5454_7.txt', '2156_10.txt', '11311_10.txt', '11256_10.txt', '12079_7.txt', '360_10.txt', '11335_9.txt', '2138_9.txt', '575_10.txt', '1443_8.txt', '7839_10.txt', '1641_10.txt', '597_7.txt', '6404_8.txt', '12334_7.txt', '11242_9.txt', '10533_10.txt', '8261_8.txt', '1167_7.txt', '7971_10.txt', '604_8.txt', '193_7.txt', '7236_8.txt', '10864_8.txt', '744_7.txt', '2290_10.txt', '5366_10.txt', '11795_10.txt', '9199_8.txt', '4316_10.txt', '1550_10.txt', '205_8.txt', '3135_9.txt', '6112_7.txt', '112_10.txt', '10076_9.txt', '8719_10.txt', '4168_7.txt', '9893_7.txt', '8632_9.txt', '4457_8.txt', '2188_10.txt', '10905_8.txt', '12039_10.txt', '11724_8.txt', '6298_9.txt', '1674_8.txt', '844_8.txt', '1719_7.txt', '6906_8.txt', '6541_8.txt', '6398_8.txt', '10192_8.txt', '144_8.txt', '2971_8.txt', '6747_8.txt', '152_9.txt', '9095_10.txt', '1699_10.txt', '8982_8.txt', '10664_8.txt', '8056_8.txt', '10335_8.txt', '51_10.txt', '8562_10.txt', '10010_7.txt', '7113_8.txt', '10907_9.txt', '254_8.txt', '11196_7.txt', '2622_8.txt', '8138_10.txt', '1842_9.txt', '10073_10.txt', '3290_8.txt', '5525_8.txt', '1428_7.txt', '5497_9.txt', '8297_10.txt', '5493_10.txt', '10657_8.txt', '10133_7.txt', '3152_9.txt', '7956_10.txt', '4351_10.txt', '1341_10.txt', '7278_7.txt', '4748_7.txt', '11985_10.txt', '3273_9.txt', '5758_10.txt', '1067_7.txt', '2976_10.txt', '2429_8.txt', '8073_8.txt', '285_10.txt', '7093_10.txt', '4714_10.txt', '3436_8.txt', '9390_9.txt', '900_10.txt', '349_10.txt', '313_10.txt', '6815_8.txt', '3623_8.txt', '4015_7.txt', '10268_9.txt', '3094_10.txt', '11801_8.txt', '2528_10.txt', '9687_9.txt', '5589_7.txt', '1178_10.txt', '3616_7.txt', '10343_7.txt', '11162_10.txt', '4568_10.txt', '7328_8.txt', '76_7.txt', '4846_7.txt', '2914_8.txt', '1465_9.txt', '7436_10.txt', '9529_9.txt', '5815_10.txt', '1596_8.txt', '5109_10.txt', '6568_9.txt', '3393_9.txt', '11375_9.txt', '8827_8.txt', '1566_8.txt', '7082_8.txt', '9829_7.txt', '3126_10.txt', '9638_8.txt', '7743_8.txt', '4799_10.txt', '8891_10.txt', '9654_10.txt', '5725_9.txt', '5202_8.txt', '5246_10.txt', '2861_10.txt', '8036_8.txt', '10872_7.txt', '12480_10.txt', '9970_10.txt', '7683_10.txt', '11754_7.txt', '6339_7.txt', '4106_7.txt', '4172_10.txt', '4162_10.txt', '4062_10.txt', '10407_8.txt', '618_10.txt', '12295_9.txt', '11424_8.txt', '5682_7.txt', '3844_8.txt', '387_8.txt', '2056_9.txt', '4313_9.txt', '5561_8.txt', '10449_9.txt', '3763_8.txt', '1607_9.txt', '9161_10.txt', '12207_8.txt', '11036_8.txt', '10985_9.txt', '10053_8.txt', '11912_10.txt', '2244_9.txt', '7004_10.txt', '6592_10.txt', '2716_10.txt', '7845_10.txt', '8577_8.txt', '8500_7.txt', '12290_10.txt', '12069_10.txt', '6395_9.txt', '4648_9.txt', '3437_8.txt', '2709_8.txt', '9445_10.txt', '12054_10.txt', '6561_10.txt', '9388_8.txt', '209_8.txt', '2234_9.txt', '11563_10.txt', '931_10.txt', '4110_10.txt', '5852_7.txt', '1365_8.txt', '3656_8.txt', '3587_10.txt', '8930_9.txt', '10799_7.txt', '366_9.txt', '10723_8.txt', '11991_10.txt', '10874_10.txt', '8770_7.txt', '3247_10.txt', '11130_9.txt', '4307_10.txt', '1582_8.txt', '10476_9.txt', '1484_10.txt', '11094_9.txt', '10890_9.txt', '797_8.txt', '0_9.txt', '7464_10.txt', '794_8.txt', '683_10.txt', '11176_9.txt', '3903_10.txt', '8463_9.txt', '9313_9.txt', '11152_10.txt', '8813_9.txt', '587_10.txt', '4929_7.txt', '473_9.txt', '9189_10.txt', '1308_9.txt', '7330_8.txt', '7729_7.txt', '3226_10.txt', '8158_10.txt', '5004_9.txt', '3112_7.txt', '6606_9.txt', '1011_10.txt', '7745_8.txt', '3606_9.txt', '11128_10.txt', '2471_10.txt', '11015_9.txt', '1804_10.txt', '7151_10.txt', '10442_10.txt', '9497_8.txt', '1988_9.txt', '12133_7.txt', '4821_10.txt', '4652_9.txt', '7541_10.txt', '6408_10.txt', '904_10.txt', '8583_9.txt', '7037_10.txt', '9398_9.txt', '11425_8.txt', '432_8.txt', '4559_10.txt', '5105_8.txt', '12450_7.txt', '9864_8.txt', '11622_10.txt', '5189_10.txt', '6792_10.txt', '7012_10.txt', '6496_10.txt', '6257_10.txt', '4105_10.txt', '10734_10.txt', '6369_10.txt', '5287_8.txt', '4447_7.txt', '146_10.txt', '11675_10.txt', '1086_7.txt', '12380_7.txt', '11257_7.txt', '1288_8.txt', '3529_9.txt', '7165_10.txt', '5344_7.txt', '1475_8.txt', '1771_10.txt', '4914_7.txt', '1777_10.txt', '172_10.txt', '2516_9.txt', '5609_10.txt', '1389_8.txt', '1249_9.txt', '6882_9.txt', '3292_10.txt', '527_9.txt', '1709_8.txt', '2318_10.txt', '8748_8.txt', '6330_10.txt', '7081_8.txt', '856_7.txt', '1313_9.txt', '9725_7.txt', '3391_7.txt', '7788_10.txt', '10350_10.txt', '10299_9.txt', '2892_10.txt', '5675_9.txt', '6454_9.txt', '5604_8.txt', '11276_10.txt', '10768_7.txt', '10141_9.txt', '7576_10.txt', '5878_10.txt', '7902_10.txt', '3203_10.txt', '924_7.txt', '623_10.txt', '1831_10.txt', '8433_9.txt', '11709_10.txt', '6334_8.txt', '4416_9.txt', '11648_9.txt', '1693_10.txt', '6280_7.txt', '4521_10.txt', '1359_7.txt', '10159_7.txt', '6505_10.txt', '2854_10.txt', '2346_9.txt', '5425_10.txt', '1679_9.txt', '11615_9.txt', '11719_7.txt', '6692_9.txt', '10269_7.txt', '9124_10.txt', '63_10.txt', '8628_10.txt', '7667_7.txt', '7643_7.txt', '1142_10.txt', '11763_7.txt', '10462_7.txt', '4260_9.txt', '5802_10.txt', '10582_10.txt', '1737_8.txt', '6094_10.txt', '11614_7.txt', '7180_9.txt', '7822_8.txt', '646_9.txt', '11026_7.txt', '9874_8.txt', '11661_7.txt', '560_8.txt', '1926_10.txt', '9841_7.txt', '5230_10.txt', '5599_7.txt', '7804_10.txt', '9377_7.txt', '10155_9.txt', '2412_10.txt', '6821_10.txt', '5053_8.txt', '8903_7.txt', '3868_10.txt', '2978_10.txt', '3250_9.txt', '6027_9.txt', '7628_8.txt', '8068_9.txt', '6583_7.txt', '6888_9.txt', '8627_10.txt', '6600_9.txt', '4433_7.txt', '12491_8.txt', '11385_8.txt', '2886_8.txt', '4624_8.txt', '1946_9.txt', '5069_7.txt', '1304_7.txt', '8521_10.txt', '108_10.txt', '2044_8.txt', '3173_8.txt', '3874_9.txt', '813_10.txt', '6256_8.txt', '485_8.txt', '834_8.txt', '7274_10.txt', '9089_9.txt', '5171_10.txt', '993_8.txt', '6551_9.txt', '9304_9.txt', '3404_8.txt', '2845_8.txt', '9987_9.txt', '4733_9.txt', '11285_7.txt', '1686_10.txt', '8361_8.txt', '2348_10.txt', '10181_8.txt', '12166_10.txt', '422_7.txt', '3994_8.txt', '7422_10.txt', '8663_7.txt', '10699_9.txt', '6343_10.txt', '12462_7.txt', '6550_10.txt', '6005_8.txt', '10319_7.txt', '4490_7.txt', '8642_8.txt', '3214_10.txt', '12313_10.txt', '5655_7.txt', '3648_8.txt', '4069_10.txt', '191_9.txt', '3365_9.txt', '11082_10.txt', '2891_8.txt', '6192_9.txt', '8288_7.txt', '2537_7.txt', '11640_9.txt', '633_8.txt', '8393_8.txt', '2818_7.txt', '983_7.txt', '1353_10.txt', '6706_8.txt', '6714_10.txt', '1372_7.txt', '10926_9.txt', '1024_9.txt', '1799_7.txt', '7096_10.txt', '3417_10.txt', '1040_10.txt', '3941_9.txt', '9868_9.txt', '5260_10.txt', '7832_7.txt', '10438_9.txt', '12209_7.txt', '4963_10.txt', '1537_9.txt', '2223_8.txt', '1704_8.txt', '4576_10.txt', '2995_7.txt', '9760_8.txt', '7267_7.txt', '11219_7.txt', '11326_10.txt', '3783_10.txt', '10836_10.txt', '4323_9.txt', '746_10.txt', '2692_8.txt', '6195_10.txt', '2955_10.txt', '5856_8.txt', '2205_8.txt', '7389_10.txt', '8276_10.txt', '6767_8.txt', '8171_8.txt', '10351_8.txt', '4577_10.txt', '6263_7.txt', '12280_9.txt', '2444_8.txt', '11317_9.txt', '4982_7.txt', '4180_10.txt', '5368_9.txt', '8014_7.txt', '2130_10.txt', '8948_7.txt', '9491_10.txt', '5381_7.txt', '5003_10.txt', '4931_8.txt', '2202_10.txt', '3325_7.txt', '9941_7.txt', '9912_10.txt', '4710_7.txt', '3778_10.txt', '9318_9.txt', '8186_10.txt', '91_8.txt', '5121_10.txt', '4280_10.txt', '4423_8.txt', '4453_10.txt', '1153_10.txt', '1343_9.txt', '10004_8.txt', '1368_10.txt', '4054_9.txt', '5205_7.txt', '1338_7.txt', '1668_8.txt', '10182_8.txt', '11168_8.txt', '1772_10.txt', '5902_9.txt', '1489_8.txt', '6601_9.txt', '3374_7.txt', '2315_10.txt', '10620_10.txt', '8347_10.txt', '2015_8.txt', '6501_10.txt', '4363_8.txt', '8954_8.txt', '8894_10.txt', '1393_7.txt', '12458_7.txt', '10885_7.txt', '2755_10.txt', '11247_8.txt', '1872_7.txt', '6908_7.txt', '4790_10.txt', '5659_9.txt', '12198_10.txt', '9652_7.txt', '7974_7.txt', '519_10.txt', '7544_7.txt', '1002_7.txt', '1277_10.txt', '10477_9.txt', '1298_7.txt', '294_10.txt', '9126_9.txt', '10258_10.txt', '7210_8.txt', '11610_10.txt', '3724_9.txt', '1115_9.txt', '161_8.txt', '3429_10.txt', '12229_9.txt', '11374_9.txt', '1916_8.txt', '127_7.txt', '2462_10.txt', '7026_7.txt', '7803_10.txt', '697_8.txt', '4646_7.txt', '7558_8.txt', '11096_10.txt', '5297_8.txt', '3181_10.txt', '12461_9.txt', '2960_10.txt', '6463_8.txt', '832_8.txt', '8802_7.txt', '4881_9.txt', '6145_8.txt', '304_10.txt', '2000_10.txt', '2155_10.txt', '3807_8.txt', '7108_9.txt', '6569_7.txt', '6250_10.txt', '163_10.txt', '3622_8.txt', '7993_10.txt', '7467_10.txt', '8782_9.txt', '9759_10.txt', '2685_10.txt', '8244_9.txt', '7614_10.txt', '6224_7.txt', '2765_9.txt', '8636_7.txt', '1212_8.txt', '1840_10.txt', '3908_10.txt', '3849_8.txt', '6158_10.txt', '6657_9.txt', '7099_10.txt', '785_9.txt', '6904_8.txt', '4539_9.txt', '10902_10.txt', '11515_10.txt', '507_10.txt', '8025_9.txt', '8184_7.txt', '2203_8.txt', '5982_9.txt', '11745_10.txt', '10314_8.txt', '7045_10.txt', '10302_9.txt', '11117_10.txt', '3543_10.txt', '4298_10.txt', '11646_10.txt', '6582_7.txt', '2362_9.txt', '4625_10.txt', '9535_10.txt', '4907_8.txt', '10757_10.txt', '5543_7.txt', '630_10.txt', '2296_9.txt', '10854_10.txt', '523_10.txt', '4225_10.txt', '4797_10.txt', '10007_7.txt', '6326_10.txt', '10332_8.txt', '10524_10.txt', '6620_10.txt', '11596_10.txt', '11909_7.txt', '10158_7.txt', '841_10.txt', '11529_7.txt', '9307_10.txt', '2451_8.txt', '7783_7.txt', '117_10.txt', '1193_9.txt', '1734_7.txt', '3904_10.txt', '4926_8.txt', '6304_8.txt', '3826_10.txt', '226_10.txt', '3266_7.txt', '1123_10.txt', '6182_7.txt', '4627_7.txt', '11881_9.txt', '11328_10.txt', '5396_9.txt', '1905_10.txt', '6422_7.txt', '4619_7.txt', '3536_10.txt', '7629_10.txt', '3775_7.txt', '3431_10.txt', '1034_7.txt', '1613_10.txt', '2181_10.txt', '2548_7.txt', '3298_10.txt', '10952_10.txt', '4984_8.txt', '9804_10.txt', '11148_9.txt', '8368_10.txt', '6703_8.txt', '3332_8.txt', '3086_10.txt', '11250_9.txt', '8169_8.txt', '9081_8.txt', '4888_8.txt', '7149_10.txt', '2_9.txt', '4691_10.txt', '4633_9.txt', '9132_10.txt', '7932_8.txt', '11125_10.txt', '10558_10.txt', '1958_10.txt', '10303_7.txt', '6013_7.txt', '7369_7.txt', '2949_10.txt', '10569_10.txt', '7962_9.txt', '5572_10.txt', '11828_8.txt', '5474_9.txt', '337_9.txt', '4498_8.txt', '11564_9.txt', '9861_10.txt', '7566_10.txt', '3923_10.txt', '1688_9.txt', '10963_7.txt', '4692_10.txt', '2754_10.txt', '12208_8.txt', '2526_9.txt', '4890_10.txt', '7746_10.txt', '8378_10.txt', '3461_9.txt', '8123_8.txt', '10379_10.txt', '1549_10.txt', '5870_8.txt', '7516_7.txt', '8157_10.txt', '5692_7.txt', '12287_10.txt', '7018_10.txt', '9853_8.txt', '9231_8.txt', '2494_10.txt', '10169_7.txt', '3333_8.txt', '3901_10.txt', '10342_7.txt', '7469_10.txt', '868_8.txt', '8437_10.txt', '10886_10.txt', '3341_7.txt', '7370_7.txt', '5672_9.txt', '12225_7.txt', '7014_10.txt', '7539_10.txt', '11489_10.txt', '2385_9.txt', '6806_7.txt', '755_10.txt', '1220_9.txt', '6301_10.txt', '10054_10.txt', '4683_7.txt', '5313_7.txt', '11627_8.txt', '7984_10.txt', '12443_9.txt', '6060_10.txt', '3499_8.txt', '6842_7.txt', '6171_8.txt', '991_7.txt', '4874_10.txt', '6163_10.txt', '8790_8.txt', '760_7.txt', '3121_10.txt', '10592_8.txt', '6401_8.txt', '11767_8.txt', '9218_10.txt', '11014_10.txt', '4810_9.txt', '7270_8.txt', '6916_8.txt', '7383_9.txt', '11776_9.txt', '1593_10.txt', '5409_10.txt', '7448_8.txt', '8752_9.txt', '2656_10.txt', '5091_8.txt', '4070_10.txt', '6560_7.txt', '2325_8.txt', '1911_10.txt', '10059_10.txt', '11700_10.txt', '8412_7.txt', '1047_8.txt', '6980_9.txt', '7283_8.txt', '11965_8.txt', '8747_7.txt', '3597_10.txt', '6456_10.txt', '1580_7.txt', '10127_8.txt', '491_7.txt', '726_7.txt', '740_7.txt', '1110_9.txt', '7912_8.txt', '8153_9.txt', '8280_8.txt', '3080_10.txt', '7567_10.txt', '7032_10.txt', '3128_9.txt', '489_7.txt', '2454_10.txt', '7228_9.txt', '9145_10.txt', '1993_10.txt', '1968_8.txt', '6950_8.txt', '2977_10.txt', '2777_7.txt', '8586_8.txt', '10222_9.txt', '5520_9.txt', '2873_10.txt', '7282_9.txt', '10433_9.txt', '1654_7.txt', '4086_7.txt', '10366_10.txt', '8561_10.txt', '4347_8.txt', '3934_8.txt', '8471_10.txt', '6183_7.txt', '839_7.txt', '3729_10.txt', '3777_10.txt', '7238_9.txt', '2884_7.txt', '5180_9.txt', '187_8.txt', '8460_7.txt', '9556_10.txt', '8496_7.txt', '7036_10.txt', '2698_8.txt', '3669_10.txt', '7546_7.txt', '6988_10.txt', '10068_8.txt', '3233_10.txt', '10214_10.txt', '10667_8.txt', '7753_10.txt', '10830_10.txt', '5790_7.txt', '7737_10.txt', '918_10.txt', '5989_7.txt', '5402_9.txt', '2380_9.txt', '9662_10.txt', '1925_9.txt', '11057_10.txt', '9180_9.txt', '12052_9.txt', '9392_9.txt', '1803_10.txt', '10913_7.txt', '9705_10.txt', '2590_7.txt', '590_10.txt', '11138_10.txt', '7161_9.txt', '10978_10.txt', '5665_9.txt', '2991_7.txt', '4804_7.txt', '3552_10.txt', '6088_10.txt', '9884_10.txt', '11040_7.txt', '7063_8.txt', '9954_8.txt', '7931_8.txt', '4349_10.txt', '5140_10.txt', '6476_10.txt', '6453_10.txt', '5340_8.txt', '6146_7.txt', '5739_10.txt', '9624_10.txt', '10901_10.txt', '4837_10.txt', '5277_10.txt', '3208_7.txt', '10193_9.txt', '5165_9.txt', '379_10.txt', '12231_10.txt', '11387_8.txt', '4513_8.txt', '3486_10.txt', '528_9.txt', '1260_10.txt', '3642_9.txt', '9293_7.txt', '1441_9.txt', '6965_7.txt', '11715_7.txt', '7472_9.txt', '2816_7.txt', '3883_10.txt', '531_10.txt', '5132_8.txt', '9373_9.txt', '10148_10.txt', '367_10.txt', '11411_8.txt', '1696_10.txt', '8152_10.txt', '3542_8.txt', '1748_8.txt', '5056_8.txt', '11383_7.txt', '7208_7.txt', '5153_8.txt', '3740_9.txt', '19_10.txt', '4477_7.txt', '4179_10.txt', '4741_7.txt', '5727_9.txt', '6440_8.txt', '1651_10.txt', '9926_7.txt', '9852_7.txt', '2687_10.txt', '5286_10.txt', '6119_9.txt', '909_8.txt', '6895_10.txt', '14_10.txt', '6940_10.txt', '1004_7.txt', '9838_7.txt', '4488_10.txt', '6305_10.txt', '358_10.txt', '10529_10.txt', '6674_9.txt', '3479_9.txt', '2078_9.txt', '10816_10.txt', '124_10.txt', '10754_10.txt', '11516_8.txt', '11543_8.txt', '2820_7.txt', '4114_9.txt', '4348_7.txt', '3213_10.txt', '638_10.txt', '7040_10.txt', '5927_9.txt', '7563_10.txt', '6848_7.txt', '2065_7.txt', '8880_8.txt', '3790_10.txt', '1612_10.txt', '8665_8.txt', '6486_10.txt', '6857_10.txt', '7500_8.txt', '11986_8.txt', '4632_10.txt', '7854_10.txt', '1855_9.txt', '7668_10.txt', '9903_9.txt', '2224_10.txt', '8181_10.txt', '5631_8.txt', '9931_9.txt', '2746_10.txt', '2763_8.txt', '11846_10.txt', '6781_10.txt', '5836_8.txt', '8939_9.txt', '3618_7.txt', '940_10.txt', '1458_9.txt', '8641_7.txt', '11302_8.txt', '7593_7.txt', '3496_8.txt', '3951_10.txt', '7318_10.txt', '5254_9.txt', '5430_10.txt', '4486_7.txt', '1464_7.txt', '3673_8.txt', '9068_9.txt', '7600_10.txt', '5779_10.txt', '808_9.txt', '10244_7.txt', '2558_10.txt', '1729_8.txt', '11830_9.txt', '2143_9.txt', '5026_8.txt', '11095_7.txt', '10614_7.txt', '1026_9.txt', '9710_10.txt', '929_10.txt', '11601_8.txt', '8030_9.txt', '10273_8.txt', '5088_8.txt', '8975_10.txt', '356_10.txt', '8033_7.txt', '11243_10.txt', '11419_10.txt', '2570_10.txt', '9699_10.txt', '9196_10.txt', '716_10.txt', '4483_8.txt', '7261_8.txt', '10990_7.txt', '2855_8.txt', '3881_9.txt', '8335_8.txt', '113_10.txt', '7201_8.txt', '9100_7.txt', '2973_9.txt', '5054_7.txt', '8799_8.txt', '11147_9.txt', '7225_10.txt', '8600_8.txt', '6617_8.txt', '1467_9.txt', '4666_8.txt', '10845_10.txt', '11723_7.txt', '6020_7.txt', '6984_8.txt', '8649_9.txt', '2428_8.txt', '8516_9.txt', '6597_9.txt', '6852_8.txt', '1650_10.txt', '3598_10.txt', '10701_10.txt', '8886_10.txt', '5392_10.txt', '1649_8.txt', '1660_8.txt', '10949_8.txt', '9503_7.txt', '12426_7.txt', '4608_9.txt', '1247_8.txt', '5215_10.txt', '4145_10.txt', '6791_10.txt', '9661_8.txt', '10436_8.txt', '4597_8.txt', '3836_8.txt', '3540_8.txt', '9677_9.txt', '5372_7.txt', '3338_7.txt', '7190_9.txt', '3065_10.txt', '7881_9.txt', '7294_9.txt', '12015_10.txt', '2968_10.txt', '3241_8.txt', '8871_10.txt', '502_10.txt', '4670_9.txt', '8484_10.txt', '4975_8.txt', '6209_8.txt', '10828_10.txt', '8866_9.txt', '3823_9.txt', '2735_10.txt', '11139_8.txt', '10256_8.txt', '5039_10.txt', '863_10.txt', '6241_10.txt', '619_9.txt', '5783_7.txt', '4378_9.txt', '5102_7.txt', '759_10.txt', '11978_10.txt', '6668_8.txt', '887_10.txt', '394_8.txt', '8210_7.txt', '11018_10.txt', '11229_10.txt', '11195_7.txt', '12340_8.txt', '4535_7.txt', '4847_9.txt', '11871_7.txt', '4473_8.txt', '9121_10.txt', '6387_8.txt', '4005_10.txt', '3819_8.txt', '2387_10.txt', '71_10.txt', '7266_7.txt', '1022_10.txt', '9777_8.txt', '3562_8.txt', '9324_7.txt', '10175_10.txt', '2289_9.txt', '6827_10.txt', '11297_7.txt', '10108_10.txt', '10253_10.txt', '9211_9.txt', '495_7.txt', '12402_7.txt', '11426_10.txt', '1557_10.txt', '5769_9.txt', '3672_10.txt', '1128_10.txt', '11672_10.txt', '6793_10.txt', '9412_10.txt', '10129_7.txt', '6735_9.txt', '1395_10.txt', '9592_8.txt', '7682_8.txt', '1615_8.txt', '8266_10.txt', '4325_10.txt', '7967_9.txt', '5967_10.txt', '3196_10.txt', '2688_8.txt', '2766_9.txt', '3979_10.txt', '10782_7.txt', '7779_7.txt', '5047_8.txt', '8879_7.txt', '9645_8.txt', '6738_7.txt', '11814_7.txt', '5055_8.txt', '7111_8.txt', '10539_10.txt', '2825_9.txt', '10347_9.txt', '2695_10.txt', '695_10.txt', '2751_10.txt', '11856_10.txt', '5567_7.txt', '6099_8.txt', '6929_8.txt', '1554_8.txt', '7878_7.txt', '7242_7.txt', '5079_8.txt', '11282_7.txt', '6836_9.txt', '141_9.txt', '7688_10.txt', '7329_8.txt', '9640_9.txt', '9437_9.txt', '9077_9.txt', '5660_10.txt', '3265_10.txt', '5683_10.txt', '10478_8.txt', '3573_7.txt', '8557_7.txt', '10441_10.txt', '7052_8.txt', '2080_9.txt', '8794_9.txt', '4489_9.txt', '7626_9.txt', '3664_10.txt', '3169_8.txt', '984_7.txt', '1064_10.txt', '12343_7.txt', '1856_9.txt', '8221_9.txt', '9872_10.txt', '8823_8.txt', '10814_7.txt', '9278_7.txt', '73_7.txt', '8133_7.txt', '7929_10.txt', '6885_9.txt', '9787_7.txt', '4952_7.txt', '2312_9.txt', '11517_9.txt', '9142_10.txt', '7966_9.txt', '4296_9.txt', '7882_7.txt', '2231_10.txt', '11573_10.txt', '9106_9.txt', '8203_7.txt', '10957_10.txt', '2271_8.txt', '5700_8.txt', '12183_10.txt', '5637_10.txt', '2174_8.txt', '12483_9.txt', '9788_9.txt', '28_10.txt', '7766_7.txt', '8796_8.txt', '11952_8.txt', '9281_10.txt', '1524_7.txt', '9629_8.txt', '10248_7.txt', '10705_7.txt', '9336_9.txt', '9193_10.txt', '12349_10.txt', '10724_8.txt', '2425_7.txt', '8915_10.txt', '2760_8.txt', '467_7.txt', '1420_8.txt', '1944_8.txt', '4966_10.txt', '7183_7.txt', '5062_9.txt', '10031_10.txt', '10917_8.txt', '7695_9.txt', '3913_10.txt', '11455_8.txt', '756_10.txt', '8263_9.txt', '12299_7.txt', '9767_7.txt', '11686_10.txt', '8812_10.txt', '6179_8.txt', '5413_10.txt', '8717_9.txt', '3898_10.txt', '5548_7.txt', '593_9.txt', '872_9.txt', '8180_8.txt', '9627_10.txt', '7806_10.txt', '1689_10.txt', '4407_8.txt', '4992_7.txt', '12151_10.txt', '2279_10.txt', '9982_9.txt', '8365_8.txt', '8252_9.txt', '5914_8.txt', '2235_10.txt', '6206_8.txt', '9514_10.txt', '11248_10.txt', '6087_9.txt', '6186_10.txt', '3971_8.txt', '7622_10.txt', '2769_10.txt', '12284_7.txt', '10748_10.txt', '6471_10.txt', '5918_9.txt', '1528_8.txt', '1883_7.txt', '10216_8.txt', '5723_7.txt', '3392_7.txt', '12109_10.txt', '6563_7.txt', '9732_10.txt', '1270_7.txt', '7572_10.txt', '4658_8.txt', '4042_7.txt', '5336_8.txt', '9783_9.txt', '5152_9.txt', '1104_8.txt', '5674_7.txt', '2513_9.txt', '7062_7.txt', '12322_10.txt', '3246_9.txt', '4205_8.txt', '3309_9.txt', '572_9.txt', '2141_10.txt', '6914_8.txt', '3858_10.txt', '2752_7.txt', '4032_9.txt', '2013_8.txt', '5376_7.txt', '5936_10.txt', '7661_10.txt', '4492_10.txt', '10465_8.txt', '456_10.txt', '7960_10.txt', '8321_7.txt', '340_10.txt', '3749_9.txt', '4259_9.txt', '7634_7.txt', '6642_10.txt', '418_9.txt', '7686_10.txt', '9062_7.txt', '3277_9.txt', '9904_8.txt', '11568_7.txt', '5894_7.txt', '8058_8.txt', '1216_10.txt', '3307_8.txt', '9579_8.txt', '2032_10.txt', '7144_10.txt', '546_10.txt', '3991_7.txt', '4671_10.txt', '10282_8.txt', '4469_9.txt', '4667_10.txt', '6534_10.txt', '11733_10.txt', '3394_10.txt', '6084_8.txt', '9122_7.txt', '5535_8.txt', '10051_10.txt', '3841_9.txt', '4599_10.txt', '10218_8.txt', '12000_8.txt', '6962_7.txt', '7319_10.txt', '9674_9.txt', '9612_8.txt', '11867_8.txt', '9197_7.txt', '2989_10.txt', '12077_8.txt', '8159_10.txt', '11908_8.txt', '9895_8.txt', '1829_8.txt', '1312_9.txt', '6870_8.txt', '3949_8.txt', '6586_10.txt', '1143_7.txt', '4016_10.txt', '6231_10.txt', '6086_8.txt', '8389_8.txt', '6063_10.txt', '10933_10.txt', '4027_10.txt', '1599_7.txt', '11744_9.txt', '12286_7.txt', '3427_8.txt', '6960_7.txt', '8730_8.txt', '5546_7.txt', '4003_9.txt', '6615_8.txt', '12386_8.txt', '9312_10.txt', '7527_10.txt', '10463_10.txt', '8749_7.txt', '1348_10.txt', '4571_9.txt', '447_10.txt', '11553_9.txt', '8360_9.txt', '7443_7.txt', '2789_7.txt', '492_7.txt', '4621_9.txt', '10215_10.txt', '7279_9.txt', '3119_8.txt', '244_10.txt', '9511_7.txt', '3234_9.txt', '8087_8.txt', '12101_7.txt', '4120_9.txt', '11589_10.txt', '5730_10.txt', '7468_10.txt', '7597_9.txt', '2324_8.txt', '1633_9.txt', '8883_8.txt', '5123_8.txt', '1948_10.txt', '6037_10.txt', '8686_8.txt', '10065_9.txt', '4217_9.txt', '12270_10.txt', '10842_7.txt', '9368_8.txt', '4801_7.txt', '1542_10.txt', '1043_10.txt', '5149_8.txt', '4754_10.txt', '12134_8.txt', '10120_7.txt', '4164_10.txt', '385_10.txt', '7719_9.txt', '4157_8.txt', '1845_7.txt', '6963_8.txt', '7028_9.txt', '11598_8.txt', '6204_7.txt', '4712_7.txt', '10151_8.txt', '7160_8.txt', '4131_7.txt', '1785_9.txt', '8224_8.txt', '10718_10.txt', '712_9.txt', '1745_7.txt', '3432_8.txt', '11338_10.txt', '5071_10.txt', '4397_7.txt', '9631_10.txt', '9968_9.txt', '4604_10.txt', '9639_10.txt', '11240_7.txt', '6002_7.txt', '3283_8.txt', '4337_7.txt', '7005_9.txt', '7146_10.txt', '4116_9.txt', '7755_9.txt', '1266_8.txt', '10665_8.txt', '7435_9.txt', '7167_9.txt', '5748_10.txt', '8055_8.txt', '4605_8.txt', '2256_8.txt', '4630_9.txt', '4569_7.txt', '2545_8.txt', '8459_10.txt', '9625_8.txt', '1705_10.txt', '8214_7.txt', '8094_9.txt', '3900_10.txt', '8775_9.txt', '987_8.txt', '2139_9.txt', '10176_7.txt', '11392_8.txt', '6663_10.txt', '10308_8.txt', '7899_10.txt', '1028_10.txt', '10189_7.txt', '10329_8.txt', '9976_7.txt', '1952_8.txt', '9252_10.txt', '10475_8.txt', '9881_8.txt', '5940_7.txt', '7485_8.txt', '1529_10.txt', '1090_8.txt', '5697_8.txt', '2683_10.txt', '8053_8.txt', '10941_7.txt', '11482_9.txt', '4428_10.txt', '1978_9.txt', '11823_9.txt', '11590_10.txt', '10924_10.txt', '3560_8.txt', '2084_8.txt', '3925_10.txt', '9940_9.txt', '4304_9.txt', '10613_8.txt', '2589_7.txt', '4530_7.txt', '674_10.txt', '1677_9.txt', '658_10.txt', '2449_7.txt', '5074_10.txt', '10493_9.txt', '4753_10.txt', '11288_8.txt', '10630_8.txt', '11101_10.txt', '3771_10.txt', '9365_9.txt', '5718_7.txt', '10641_7.txt', '1544_10.txt', '11439_8.txt', '1049_7.txt', '9947_10.txt', '1483_9.txt', '438_9.txt', '8315_10.txt', '3091_10.txt', '7761_10.txt', '9363_10.txt', '6719_8.txt', '1497_8.txt', '3_10.txt', '5326_10.txt', '6956_8.txt', '8924_10.txt', '3369_7.txt', '5625_8.txt', '7955_10.txt', '5537_10.txt', '4085_10.txt', '1020_10.txt', '5170_9.txt', '9942_7.txt', '1444_7.txt', '12178_7.txt', '2774_10.txt', '2791_10.txt', '10604_7.txt', '12132_10.txt', '8040_9.txt', '1293_8.txt', '2399_7.txt', '4792_10.txt', '9013_7.txt', '1344_9.txt', '11690_9.txt', '10546_9.txt', '6389_9.txt', '11373_8.txt', '2551_9.txt', '7335_7.txt', '9599_9.txt', '11629_10.txt', '5100_10.txt', '8300_10.txt', '10271_10.txt', '8713_10.txt', '5488_10.txt', '11878_10.txt', '11680_8.txt', '5063_7.txt', '429_10.txt', '3327_10.txt', '5988_7.txt', '4257_10.txt', '10753_10.txt', '3418_10.txt', '7954_7.txt', '2988_7.txt', '9280_9.txt', '7774_7.txt', '5314_10.txt', '11864_8.txt', '160_9.txt', '10672_9.txt', '12321_10.txt', '2042_7.txt', '775_7.txt', '9090_9.txt', '6273_9.txt', '9992_10.txt', '9476_9.txt', '3194_9.txt', '1638_8.txt', '10534_7.txt', '11862_10.txt', '11939_10.txt', '2681_7.txt', '11588_10.txt', '7343_10.txt', '3144_10.txt', '11883_8.txt', '7297_10.txt', '5854_8.txt', '11630_8.txt', '10962_10.txt', '5363_9.txt', '8451_10.txt', '10012_8.txt', '11969_10.txt', '1560_9.txt', '2417_9.txt', '11353_9.txt', '4012_8.txt', '129_9.txt', '5540_10.txt', '8918_10.txt', '5588_10.txt', '9433_10.txt', '10113_10.txt', '1598_8.txt', '4591_9.txt', '4784_10.txt', '8010_7.txt', '3646_8.txt', '8805_9.txt', '8382_7.txt', '6344_7.txt', '3497_10.txt', '6203_7.txt', '8060_9.txt', '12212_10.txt', '10520_9.txt', '3609_8.txt', '10408_10.txt', '1263_8.txt', '10309_7.txt', '2295_7.txt', '9694_9.txt', '2286_10.txt', '9548_10.txt', '7156_10.txt', '7331_10.txt', '6526_7.txt', '5080_10.txt', '12269_8.txt', '12294_8.txt', '7169_8.txt', '7805_10.txt', '7381_8.txt', '3566_9.txt', '10552_9.txt', '6991_9.txt', '11141_10.txt', '8100_10.txt', '9971_10.txt', '6811_10.txt', '4742_9.txt', '4140_10.txt', '12362_8.txt', '4798_8.txt', '4392_9.txt', '1225_10.txt', '6314_9.txt', '7418_8.txt', '3611_10.txt', '1581_7.txt', '10026_7.txt', '7964_10.txt', '11098_10.txt', '8086_9.txt', '3092_10.txt', '6502_10.txt', '3551_8.txt', '10198_8.txt', '6376_10.txt', '6820_7.txt', '3483_9.txt', '2932_10.txt', '11086_7.txt', '12272_7.txt', '5977_8.txt', '11528_7.txt', '3131_7.txt', '9418_10.txt', '11233_10.txt', '8355_7.txt', '4261_9.txt', '4853_10.txt', '3653_10.txt', '8963_8.txt', '6242_8.txt', '747_10.txt', '4684_8.txt', '260_7.txt', '7571_8.txt', '1838_10.txt', '1819_9.txt', '9591_10.txt', '7251_10.txt', '12082_8.txt', '12014_10.txt', '10567_9.txt', '10287_8.txt', '2099_10.txt', '2772_7.txt', '9951_7.txt', '805_9.txt', '2145_7.txt', '6784_8.txt', '8771_7.txt', '10045_10.txt', '6536_7.txt', '8911_8.txt', '2508_10.txt', '4729_10.txt', '3296_10.txt', '1176_10.txt', '4432_10.txt', '8422_10.txt', '1499_7.txt', '6353_10.txt', '5076_10.txt', '9565_8.txt', '591_10.txt', '1374_8.txt', '7939_8.txt', '908_8.txt', '4149_10.txt', '4065_10.txt', '3063_10.txt', '10226_10.txt', '7217_7.txt', '1832_7.txt', '4165_8.txt', '12238_8.txt', '2900_9.txt', '701_7.txt', '735_8.txt', '3271_9.txt', '3735_10.txt', '7152_9.txt', '6302_8.txt', '6952_7.txt', '996_9.txt', '6705_10.txt', '3376_9.txt', '2946_10.txt', '9002_9.txt', '8726_9.txt', '6168_10.txt', '115_10.txt', '10677_8.txt', '9927_9.txt', '4166_9.txt', '8735_8.txt', '9160_8.txt', '11259_10.txt', '3074_8.txt', '1511_8.txt', '12036_7.txt', '12045_10.txt', '1543_8.txt', '6846_10.txt', '5195_7.txt', '9526_10.txt', '8141_10.txt', '5321_10.txt', '8150_10.txt', '2618_7.txt', '1620_10.txt', '11831_7.txt', '11547_9.txt', '7652_8.txt', '10877_10.txt', '6785_8.txt', '9422_9.txt', '7903_10.txt', '6030_10.txt', '12204_8.txt', '2555_10.txt', '3522_8.txt', '6056_9.txt', '8166_10.txt', '10114_10.txt', '390_10.txt', '9703_9.txt', '11901_9.txt', '7384_10.txt', '5690_7.txt', '5243_9.txt', '103_7.txt', '11483_10.txt', '11194_10.txt', '12098_8.txt', '6737_7.txt', '7518_9.txt', '11594_10.txt', '5705_10.txt', '11518_8.txt', '7768_8.txt', '6202_7.txt', '12168_10.txt', '3987_7.txt', '5266_10.txt', '1663_9.txt', '7815_8.txt', '668_7.txt', '3803_9.txt', '5000_10.txt', '1006_8.txt', '4361_10.txt', '7738_8.txt', '6743_9.txt', '10758_8.txt', '7254_10.txt', '9917_10.txt', '11280_8.txt', '1648_10.txt', '221_9.txt', '2962_7.txt', '1796_8.txt', '11992_10.txt', '1697_10.txt', '5028_10.txt', '565_10.txt', '1555_8.txt', '417_7.txt', '1351_10.txt', '10042_10.txt', '2677_9.txt', '6452_9.txt', '11187_9.txt', '1706_9.txt', '3857_9.txt', '5876_8.txt', '3323_9.txt', '365_10.txt', '4158_10.txt', '8878_9.txt', '9088_8.txt', '1238_7.txt', '8595_10.txt', '7538_7.txt', '9441_9.txt', '8670_8.txt', '12245_10.txt', '5923_7.txt', '9292_10.txt', '1907_7.txt', '2813_8.txt', '9547_9.txt', '11016_7.txt', '1248_8.txt', '11824_10.txt', '4138_10.txt', '5653_10.txt', '4689_10.txt', '1661_8.txt', '2780_9.txt', '6566_8.txt', '4540_7.txt', '11300_8.txt', '9593_10.txt', '2215_8.txt', '10170_8.txt', '5781_10.txt', '364_10.txt', '4127_8.txt', '11475_8.txt', '10645_8.txt', '3385_9.txt', '2510_10.txt', '12279_9.txt', '12171_7.txt', '885_8.txt', '9349_8.txt', '11921_10.txt', '6639_10.txt', '5426_10.txt', '1160_10.txt', '11131_9.txt', '11987_7.txt', '4884_10.txt', '8958_10.txt', '613_10.txt', '7288_7.txt', '1276_9.txt', '461_8.txt', '5151_8.txt', '2713_8.txt', '2586_10.txt', '6506_10.txt', '5921_7.txt', '1337_7.txt', '8428_7.txt', '8751_7.txt', '4707_7.txt', '6096_10.txt', '1274_7.txt', '11339_10.txt', '10469_10.txt', '7957_10.txt', '9183_10.txt', '5408_7.txt', '3227_7.txt', '5965_10.txt', '419_7.txt', '2620_10.txt', '10528_10.txt', '12395_8.txt', '10860_7.txt', '6887_8.txt', '7454_10.txt', '3010_8.txt', '9540_8.txt', '5562_10.txt', '10996_8.txt', '3159_9.txt', '2355_7.txt', '10205_10.txt', '3634_8.txt', '8619_7.txt', '3216_8.txt', '10946_7.txt', '6439_10.txt', '5394_10.txt', '10208_7.txt', '7792_10.txt', '2378_8.txt', '2308_10.txt', '10669_10.txt', '12047_10.txt', '10817_10.txt', '7801_9.txt', '9241_10.txt', '4508_7.txt', '11150_10.txt', '2662_10.txt', '5785_10.txt', '1401_7.txt', '8170_7.txt', '10608_10.txt', '9319_8.txt', '9409_8.txt', '4175_8.txt', '7353_7.txt', '9490_10.txt', '6015_7.txt', '1986_10.txt', '10778_8.txt', '9026_9.txt', '1392_7.txt', '4098_10.txt', '7476_8.txt', '12107_10.txt', '10843_7.txt', '5859_9.txt', '6656_10.txt', '939_10.txt', '7913_10.txt', '11041_7.txt', '6514_10.txt', '2022_9.txt', '11701_9.txt', '12216_8.txt', '5042_9.txt', '12442_8.txt', '7444_10.txt', '2651_10.txt', '5231_10.txt', '922_8.txt', '11431_10.txt', '4581_10.txt', '9083_8.txt', '10979_9.txt', '11766_8.txt', '11262_7.txt', '5887_7.txt', '12489_10.txt', '4256_8.txt', '11764_10.txt', '345_7.txt', '9248_9.txt', '10509_7.txt', '7421_7.txt', '8573_10.txt', '1846_8.txt', '4738_7.txt', '3694_8.txt', '10999_7.txt', '11760_8.txt', '1471_9.txt', '1317_8.txt', '5049_9.txt', '5264_7.txt', '9063_8.txt', '6076_9.txt', '2404_8.txt', '3621_8.txt', '1964_7.txt', '11020_8.txt', '7431_10.txt', '605_8.txt', '1414_10.txt', '5161_8.txt', '6341_7.txt', '3095_10.txt', '8724_10.txt', '8427_7.txt', '4081_10.txt', '5952_9.txt', '10591_10.txt', '2916_9.txt', '9447_8.txt', '11025_7.txt', '6721_10.txt', '3005_8.txt', '7970_10.txt', '6003_8.txt', '11234_10.txt', '12370_8.txt', '7928_10.txt', '2055_10.txt', '9442_10.txt', '4719_10.txt', '8109_10.txt', '4704_8.txt', '981_7.txt', '11915_10.txt', '8125_7.txt', '7502_7.txt', '9933_8.txt', '9845_8.txt', '5373_7.txt', '10082_10.txt', '12289_9.txt', '5196_9.txt', '1909_10.txt', '3158_8.txt', '11454_10.txt', '1125_8.txt', '3082_10.txt', '10024_9.txt', '5456_10.txt', '3058_9.txt', '10647_8.txt', '9361_9.txt', '9799_7.txt', '4777_10.txt', '415_7.txt', '6303_8.txt', '3537_10.txt', '9168_7.txt', '9410_7.txt', '12172_7.txt', '6181_9.txt', '11861_10.txt', '11999_10.txt', '7211_10.txt', '9793_7.txt', '8505_8.txt', '9005_8.txt', '11982_7.txt', '8608_9.txt', '11377_9.txt', '9653_9.txt', '11786_8.txt', '5646_10.txt', '3311_10.txt', '3741_8.txt', '2679_8.txt', '11893_10.txt', '7611_9.txt', '10681_10.txt', '700_8.txt', '2153_9.txt', '11204_9.txt', '4757_8.txt', '7784_7.txt', '2134_10.txt', '7751_7.txt', '9459_8.txt', '9045_9.txt', '7689_10.txt', '11044_7.txt', '4951_8.txt', '8265_10.txt', '2536_7.txt', '1790_9.txt', '4246_8.txt', '256_9.txt', '4382_8.txt', '7786_8.txt', '6282_7.txt', '7141_8.txt', '9961_9.txt', '11784_10.txt', '2140_10.txt', '2821_9.txt', '12013_10.txt', '1547_7.txt', '11677_8.txt', '9571_9.txt', '9154_7.txt', '2646_10.txt', '6237_7.txt', '1061_10.txt', '3693_8.txt', '8546_10.txt', '9415_8.txt', '934_9.txt', '4129_10.txt', '10420_10.txt', '4099_8.txt', '10058_7.txt', '3141_10.txt', '5534_7.txt', '4974_10.txt', '7999_10.txt', '6532_8.txt', '2478_10.txt', '2126_10.txt', '8936_8.txt', '4482_7.txt', '498_10.txt', '6442_9.txt', '9072_9.txt', '6417_7.txt', '4814_10.txt', '7484_10.txt', '6218_7.txt', '9087_7.txt', '5155_9.txt', '10241_8.txt', '12097_7.txt', '3419_10.txt', '1214_10.txt', '3996_9.txt', '3435_10.txt', '4017_7.txt', '7613_9.txt', '6032_10.txt', '11934_8.txt', '7056_7.txt', '11609_10.txt', '5048_9.txt', '9549_8.txt', '9909_7.txt', '8694_10.txt', '768_9.txt', '11998_9.txt', '9386_8.txt', '7524_9.txt', '10057_9.txt', '9060_8.txt', '11309_9.txt', '1354_9.txt', '9910_10.txt', '10869_7.txt', '4995_9.txt', '6223_7.txt', '6850_7.txt', '2102_10.txt', '11322_9.txt', '9384_8.txt', '3762_8.txt', '5771_8.txt', '12150_7.txt', '10887_7.txt', '5334_7.txt', '1595_7.txt', '3503_7.txt', '8061_10.txt', '11575_10.txt', '2186_8.txt', '3260_8.txt', '4404_9.txt', '67_10.txt', '6495_10.txt', '714_10.txt', '4752_7.txt', '3637_10.txt', '3717_8.txt', '5860_8.txt', '10914_8.txt', '8533_8.txt', '8041_7.txt', '7050_7.txt', '11793_8.txt', '11453_9.txt', '6647_8.txt', '11841_9.txt', '2292_8.txt', '10730_10.txt', '9890_8.txt', '818_10.txt', '4962_7.txt', '11910_10.txt', '4686_10.txt', '9138_10.txt', '5849_8.txt', '6915_9.txt', '11832_7.txt', '5112_9.txt', '8839_8.txt', '557_9.txt', '393_8.txt', '7397_8.txt', '3579_8.txt', '9484_10.txt', '1243_9.txt', '1222_10.txt', '3049_9.txt', '8328_10.txt', '12421_10.txt', '8946_8.txt', '3830_10.txt', '2086_10.txt', '5487_10.txt', '1800_8.txt', '5928_8.txt', '3421_10.txt', '4233_7.txt', '1105_8.txt', '6279_10.txt', '1780_10.txt', '11423_8.txt', '5268_10.txt', '3407_8.txt', '8179_7.txt', '7867_7.txt', '7940_7.txt', '11203_8.txt', '246_7.txt', '4026_9.txt', '9237_7.txt', '3591_9.txt', '3414_8.txt', '6189_10.txt', '3730_10.txt', '12194_10.txt', '8333_9.txt', '11959_8.txt', '2750_10.txt', '1156_9.txt', '8687_9.txt', '9453_8.txt', '11209_8.txt', '1364_8.txt', '8466_9.txt', '8594_7.txt', '4574_10.txt', '6788_9.txt', '7631_10.txt', '7315_10.txt', '6845_10.txt', '907_8.txt', '865_9.txt', '1259_9.txt', '5477_7.txt', '3786_9.txt', '7520_8.txt', '3100_10.txt', '4902_8.txt', '1741_9.txt', '748_9.txt', '3869_9.txt', '6718_10.txt', '6855_10.txt', '9282_8.txt', '7307_10.txt', '5547_8.txt', '10107_8.txt', '569_10.txt', '5603_7.txt', '1942_10.txt', '2246_10.txt', '5917_7.txt', '302_10.txt', '11368_10.txt', '3495_7.txt', '9314_10.txt', '9708_10.txt', '5754_9.txt', '6516_10.txt', '5577_8.txt', '10406_10.txt', '11728_9.txt', '4750_7.txt', '8950_7.txt', '12025_7.txt', '6194_8.txt', '7110_8.txt', '8884_9.txt', '6074_7.txt', '11418_7.txt', '8598_7.txt', '8283_7.txt', '3388_7.txt', '7309_9.txt', '6483_10.txt', '8415_7.txt', '7258_10.txt', '7073_10.txt', '6753_7.txt', '2491_8.txt', '3948_9.txt', '2909_10.txt', '12105_10.txt', '9555_10.txt', '12144_8.txt', '7535_10.txt', '3725_8.txt', '1982_10.txt', '10889_10.txt', '1945_8.txt', '4611_10.txt', '12157_9.txt', '8820_7.txt', '427_10.txt', '9416_10.txt', '772_10.txt', '8937_9.txt', '3733_10.txt', '8528_7.txt', '9316_7.txt', '11808_9.txt', '7338_7.txt', '8640_10.txt', '4367_9.txt', '6522_10.txt', '6578_7.txt', '9200_8.txt', '218_9.txt', '3821_9.txt', '5868_8.txt', '3709_7.txt', '3754_8.txt', '7522_8.txt', '372_10.txt', '770_10.txt', '5181_10.txt', '9508_8.txt', '4223_8.txt', '6450_10.txt', '11352_9.txt', '4057_7.txt', '10780_10.txt', '2947_10.txt', '3789_8.txt', '5385_7.txt', '39_9.txt', '3304_10.txt', '11775_10.txt', '397_9.txt', '9539_7.txt', '11065_8.txt', '9755_7.txt', '715_10.txt', '5393_10.txt', '12427_7.txt', '3756_8.txt', '4844_8.txt', '5912_7.txt', '8693_10.txt', '2874_10.txt', '5899_7.txt', '6153_7.txt', '5801_10.txt', '3785_10.txt', '893_8.txt', '7813_10.txt', '3439_9.txt', '5188_8.txt', '11359_9.txt', '11727_7.txt', '7_7.txt', '2001_9.txt', '4612_10.txt', '8905_10.txt', '8534_10.txt', '6214_7.txt', '6595_9.txt', '8006_10.txt', '10291_7.txt', '458_10.txt', '8989_9.txt', '3824_9.txt', '8549_8.txt', '10571_8.txt', '7927_10.txt', '4922_7.txt', '4787_10.txt', '11166_7.txt', '6019_8.txt', '4422_8.txt', '10064_10.txt', '10255_9.txt', '11536_7.txt', '10178_10.txt', '12241_10.txt', '12143_8.txt', '5555_10.txt', '8960_10.txt', '4_8.txt', '7868_8.txt', '2568_10.txt', '6905_7.txt', '5241_7.txt', '11651_10.txt', '8140_10.txt', '2300_10.txt', '4118_10.txt', '3685_8.txt', '3532_8.txt', '8003_8.txt', '11058_10.txt', '11347_10.txt', '11236_8.txt', '5869_10.txt', '6523_10.txt', '10083_7.txt', '8380_9.txt', '4229_10.txt', '708_8.txt', '2794_8.txt', '10544_8.txt', '11637_8.txt', '2723_7.txt', '2121_10.txt', '4479_8.txt', '8892_10.txt', '6111_10.txt', '6683_8.txt', '10565_9.txt', '8624_7.txt', '9287_9.txt', '6485_10.txt', '9291_7.txt', '6816_7.txt', '3748_10.txt', '6365_7.txt', '11705_7.txt', '3430_10.txt', '10227_10.txt', '11169_7.txt', '3833_8.txt', '2148_10.txt', '1806_8.txt', '8317_8.txt', '6080_10.txt', '6854_10.txt', '1890_10.txt', '539_10.txt', '6319_10.txt', '10098_10.txt', '3239_10.txt', '3379_7.txt', '7109_10.txt', '723_8.txt', '9665_10.txt', '2579_8.txt', '8332_9.txt', '4912_8.txt', '9494_10.txt', '6736_10.txt', '2611_9.txt', '12283_8.txt', '8961_9.txt', '2626_8.txt', '12486_7.txt', '10340_9.txt', '10851_9.txt', '666_10.txt', '6220_8.txt', '9495_8.txt', '6823_10.txt', '1966_10.txt', '10297_8.txt', '5285_7.txt', '725_10.txt', '8353_10.txt', '7457_9.txt', '9408_10.txt', '3761_8.txt', '3267_8.txt', '6521_7.txt', '1258_9.txt', '1522_8.txt', '9006_7.txt', '4314_10.txt', '8873_8.txt', '6029_7.txt', '11433_8.txt', '10806_9.txt', '10900_8.txt', '1003_10.txt', '10739_10.txt', '10867_7.txt', '10243_10.txt', '11840_10.txt', '12263_10.txt', '2890_7.txt', '4697_7.txt', '2394_7.txt', '9820_10.txt', '10111_7.txt', '9400_8.txt', '6951_10.txt', '5915_7.txt', '8574_9.txt', '2177_8.txt', '7552_10.txt', '11199_9.txt', '12397_8.txt', '11751_10.txt', '5437_10.txt', '12441_9.txt', '5978_9.txt', '9897_10.txt', '8919_7.txt', '5944_9.txt', '7525_7.txt', '1541_8.txt', '4560_10.txt', '2154_10.txt', '6865_7.txt', '595_9.txt', '3478_8.txt', '6829_8.txt', '7064_8.txt', '7669_8.txt', '4613_10.txt', '4898_7.txt', '2319_8.txt', '8697_7.txt', '7818_9.txt', '11102_10.txt', '1279_9.txt', '11113_9.txt', '4512_9.txt', '11519_9.txt', '890_9.txt', '11891_9.txt', '2682_9.txt', '973_9.txt', '9692_10.txt', '1449_9.txt', '8337_10.txt', '3602_7.txt', '1503_9.txt', '7561_9.txt', '5593_10.txt', '7915_8.txt', '5238_7.txt', '2430_10.txt', '4199_7.txt', '5908_10.txt', '6150_7.txt', '696_10.txt', '287_9.txt', '6918_10.txt', '2928_10.txt', '7401_9.txt', '7214_7.txt', '8303_10.txt', '11224_8.txt', '8715_10.txt', '9523_10.txt', '9538_10.txt', '11975_7.txt', '11858_9.txt', '9299_8.txt', '6227_7.txt', '4207_7.txt', '5693_7.txt', '1051_9.txt', '6556_9.txt', '8821_9.txt', '11566_10.txt', '2275_7.txt', '5407_7.txt', '122_9.txt', '509_10.txt', '11892_9.txt', '8295_7.txt', '5150_7.txt', '11500_10.txt', '1010_10.txt', '3983_10.txt', '11268_8.txt', '2984_8.txt', '1678_9.txt', '10873_8.txt', '7232_8.txt', '1357_10.txt', '11914_7.txt', '54_10.txt', '12396_7.txt', '2748_8.txt', '5060_8.txt', '10666_8.txt', '4946_10.txt', '11919_7.txt', '12027_10.txt', '7712_10.txt', '278_9.txt', '4517_9.txt', '4346_10.txt', '6278_7.txt', '9395_9.txt', '837_7.txt', '6142_9.txt', '9216_10.txt', '4614_7.txt', '3477_10.txt', '10206_10.txt', '8464_10.txt', '8246_9.txt', '9566_7.txt', '765_9.txt', '9056_8.txt', '8547_10.txt', '72_7.txt', '5270_7.txt', '8824_8.txt', '10536_10.txt', '5183_9.txt', '10094_7.txt', '6862_10.txt', '1639_10.txt', '4312_10.txt', '11511_9.txt', '7233_7.txt', '4445_7.txt', '10362_8.txt', '11735_10.txt', '9171_9.txt', '7866_10.txt', '2386_8.txt', '12417_10.txt', '3808_10.txt', '1398_7.txt', '4631_10.txt', '1328_10.txt', '1036_9.txt', '7645_7.txt', '627_8.txt', '2243_7.txt', '7852_9.txt', '8262_10.txt', '7430_10.txt', '8107_8.txt', '4634_10.txt', '11522_8.txt', '7446_8.txt', '6838_7.txt', '12469_10.txt', '7043_7.txt', '3279_8.txt', '1783_8.txt', '4747_8.txt', '1208_9.txt', '7848_10.txt', '3356_10.txt', '1538_10.txt', '4136_10.txt', '11386_8.txt', '9116_9.txt', '2778_8.txt', '3097_9.txt', '5731_7.txt', '12063_10.txt', '6590_9.txt', '7320_10.txt', '11946_9.txt', '3348_7.txt', '9306_9.txt', '12358_7.txt', '12375_7.txt', '1039_9.txt', '5993_8.txt', '11154_10.txt', '11283_8.txt', '3906_10.txt', '6936_7.txt', '9774_8.txt', '7905_10.txt', '8631_7.txt', '2322_10.txt', '8243_9.txt', '4751_8.txt', '5642_7.txt', '11223_9.txt', '5008_10.txt', '7013_9.txt', '3473_9.txt', '11885_7.txt', '9901_8.txt', '9461_7.txt', '1588_8.txt', '252_9.txt', '10601_10.txt', '1793_9.txt', '10508_10.txt', '1299_10.txt', '10132_9.txt', '3615_9.txt', '6631_7.txt', '8620_8.txt', '6364_8.txt', '4215_9.txt', '6470_10.txt', '3415_9.txt', '1744_10.txt', '6352_10.txt', '12038_9.txt', '10934_10.txt', '11227_9.txt', '6317_10.txt', '8293_8.txt', '8888_7.txt', '5524_8.txt', '2504_10.txt', '9330_8.txt', '6894_7.txt', '11292_10.txt', '6379_9.txt', '9819_10.txt', '12342_8.txt', '3530_7.txt', '11001_10.txt', '10346_9.txt', '6927_10.txt', '9179_10.txt', '9030_10.txt', '750_8.txt', '10523_9.txt', '878_7.txt', '2455_8.txt', '6804_7.txt', '9914_7.txt', '2052_10.txt', '11055_10.txt', '3828_10.txt', '6588_9.txt', '10512_10.txt', '5365_10.txt', '449_10.txt', '4789_10.txt', '6626_7.txt', '3434_8.txt', '4206_9.txt', '8524_10.txt', '6765_9.txt', '10631_8.txt', '7433_10.txt', '10545_7.txt', '11541_10.txt', '3644_8.txt', '6902_7.txt', '396_8.txt', '3044_7.txt', '7248_9.txt', '5352_7.txt', '4949_8.txt', '2606_8.txt', '6998_7.txt', '3412_8.txt', '6840_10.txt', '3257_9.txt', '7142_8.txt', '1403_7.txt', '9960_7.txt', '7603_10.txt', '62_10.txt', '12431_8.txt', '9737_9.txt', '64_7.txt', '4043_7.txt', '8920_10.txt', '3810_9.txt', '2469_10.txt', '7749_8.txt', '8209_8.txt', '10773_9.txt', '1445_8.txt', '12344_8.txt', '9139_8.txt', '4248_10.txt', '9014_10.txt', '5875_8.txt', '11316_8.txt', '10863_8.txt', '2965_9.txt', '10514_8.txt', '9242_10.txt', '4522_9.txt', '5122_9.txt', '37_9.txt', '2098_10.txt', '10503_10.txt', '1623_10.txt', '9935_7.txt', '2958_10.txt', '9505_10.txt', '561_10.txt', '2792_10.txt', '407_10.txt', '10030_10.txt', '7303_10.txt', '11902_9.txt', '4019_7.txt', '3721_8.txt', '5504_10.txt', '8848_7.txt', '5959_7.txt', '9488_10.txt', '4990_8.txt', '6432_9.txt', '596_7.txt', '10850_10.txt', '2364_10.txt', '8079_8.txt', '11937_8.txt', '8518_10.txt', '10684_9.txt', '5611_10.txt', '7983_9.txt', '3895_8.txt', '6989_7.txt', '11295_9.txt', '3382_10.txt', '6323_7.txt', '2071_9.txt', '3484_10.txt', '6062_10.txt', '11132_10.txt', '6942_10.txt', '7536_10.txt', '7158_8.txt', '1256_8.txt', '1658_10.txt', '6067_10.txt', '10586_10.txt', '1733_7.txt', '781_9.txt', '9301_10.txt', '4028_10.txt', '10138_8.txt', '3350_7.txt', '6630_10.txt', '902_9.txt', '9771_10.txt', '10037_9.txt', '7441_7.txt', '8239_10.txt', '9532_10.txt', '4021_7.txt', '4381_10.txt', '6833_10.txt', '5306_7.txt', '1358_10.txt', '3613_8.txt', '5628_7.txt', '1394_8.txt', '9946_9.txt', '6524_8.txt', '4541_10.txt', '1627_10.txt', '9786_8.txt', '3635_9.txt', '10807_9.txt', '7876_8.txt', '286_10.txt', '11208_8.txt', '2851_10.txt', '75_8.txt', '9722_7.txt', '11340_7.txt', '8806_9.txt', '2700_10.txt', '2787_8.txt', '3014_8.txt', '12360_10.txt', '4083_10.txt', '4641_9.txt', '3224_7.txt', '7697_9.txt', '7483_10.txt', '327_8.txt', '7887_7.txt', '12430_7.txt', '5842_8.txt', '8972_10.txt', '10221_8.txt', '7126_10.txt', '11738_9.txt', '10749_8.txt', '3933_7.txt', '5184_9.txt', '8927_8.txt', '7833_8.txt', '9762_8.txt', '6732_10.txt', '5662_10.txt', '5710_8.txt', '6196_8.txt', '9696_8.txt', '739_7.txt', '1665_7.txt', '10047_10.txt', '11597_10.txt', '1007_10.txt', '6970_8.txt', '5866_9.txt', '2779_7.txt', '3055_9.txt', '6419_10.txt', '9867_10.txt', '6511_10.txt', '11487_10.txt', '6938_9.txt', '2357_10.txt', '1930_10.txt', '10876_7.txt', '8367_10.txt', '12496_8.txt', '11211_8.txt', '1490_8.txt', '9394_10.txt', '445_10.txt', '2941_10.txt', '8660_7.txt', '6307_8.txt', '10572_8.txt', '1171_10.txt', '4341_8.txt', '8018_10.txt', '5294_8.txt', '5377_7.txt', '11087_8.txt', '11461_10.txt', '5883_10.txt', '4668_10.txt', '10017_9.txt', '4749_8.txt', '2329_10.txt', '11710_10.txt', '9058_7.txt', '6424_10.txt', '3235_9.txt', '2033_8.txt', '11075_10.txt', '10487_7.txt', '8461_7.txt', '5741_10.txt', '4911_9.txt', '4475_8.txt', '9594_10.txt', '6297_10.txt', '10439_8.txt', '2236_9.txt', '12226_8.txt', '3256_9.txt', '235_10.txt', '1579_10.txt', '2026_8.txt', '1913_10.txt', '3275_10.txt', '5322_10.txt', '5364_10.txt', '11301_7.txt', '9181_10.txt', '10367_8.txt', '8833_9.txt', '1096_9.txt', '843_10.txt', '5630_8.txt', '11134_9.txt', '5709_10.txt', '3440_8.txt', '12223_10.txt', '12086_10.txt', '2021_8.txt', '10317_7.txt', '9421_10.txt', '11681_9.txt', '1189_9.txt', '6275_7.txt', '8705_8.txt', '6723_10.txt', '8268_7.txt', '9996_9.txt', '4326_7.txt', '11000_10.txt', '10650_8.txt', '11502_10.txt', '7374_10.txt', '4610_10.txt', '12374_7.txt', '1910_9.txt', '9824_10.txt', '2002_7.txt', '1462_9.txt', '9658_7.txt', '7296_10.txt', '11151_8.txt', '2902_9.txt', '1574_9.txt', '6216_7.txt', '8011_10.txt', '3575_10.txt', '5759_10.txt', '8673_7.txt', '10432_10.txt', '7680_8.txt', '9782_10.txt', '4981_10.txt', '11923_10.txt', '6752_7.txt', '5673_9.txt', '8441_10.txt', '1205_8.txt', '9877_8.txt', '9663_10.txt', '7072_9.txt', '571_10.txt', '8200_8.txt', '8535_7.txt', '1164_10.txt', '925_10.txt', '5764_7.txt', '2608_10.txt', '11457_10.txt', '4880_9.txt', '2376_7.txt', '5175_10.txt', '3659_9.txt', '3817_8.txt', '10292_7.txt', '4132_7.txt', '4177_9.txt', '5680_10.txt', '9051_10.txt', '11520_8.txt', '5904_8.txt', '9080_7.txt', '8376_10.txt', '4782_9.txt', '5162_9.txt', '11550_7.txt', '12472_10.txt', '1113_10.txt', '5865_9.txt', '8001_10.txt', '8385_10.txt', '168_9.txt', '1330_9.txt', '1893_10.txt', '4549_7.txt', '3355_10.txt', '4843_7.txt', '11491_8.txt', '361_10.txt', '5942_7.txt', '3449_8.txt', '10822_10.txt', '11350_9.txt', '4481_8.txt', '774_8.txt', '9037_8.txt', '12246_9.txt', '12264_9.txt', '111_10.txt', '11035_8.txt', '7153_8.txt', '2206_7.txt', '3952_10.txt', '10988_10.txt', '2596_10.txt', '8431_9.txt', '8971_9.txt', '10289_10.txt', '5596_10.txt', '1255_10.txt', '11608_10.txt', '9274_8.txt', '9344_8.txt', '8555_9.txt', '7548_8.txt', '11165_8.txt', '10606_10.txt', '11817_10.txt', '7193_10.txt', '6925_9.txt', '8633_8.txt', '910_10.txt', '5554_8.txt', '6928_9.txt', '2366_7.txt', '11872_10.txt', '5024_8.txt', '3384_8.txt', '10252_9.txt', '5255_10.txt', '5513_7.txt', '1569_10.txt', '7796_10.txt', '7675_8.txt', '3321_7.txt', '4999_9.txt', '4965_9.txt', '348_7.txt', '1670_8.txt', '3701_10.txt', '6622_10.txt', '4060_10.txt', '6635_10.txt', '2332_10.txt', '1345_9.txt', '11416_10.txt', '7945_8.txt', '11572_8.txt', '10812_8.txt', '12119_7.txt', '4998_9.txt', '7137_8.txt', '9387_9.txt', '1355_8.txt', '10360_8.txt', '6690_10.txt', '5229_10.txt', '9098_10.txt', '6695_10.txt', '11118_10.txt', '6388_7.txt', '5470_10.txt', '5174_10.txt', '6370_8.txt', '8296_8.txt', '8611_8.txt', '10063_9.txt', '2461_10.txt', '7997_10.txt', '8728_7.txt', '5197_10.txt', '2953_8.txt', '8126_7.txt', '3303_10.txt', '1052_8.txt', '4244_10.txt', '2591_7.txt', '2298_7.txt', '3608_9.txt', '4228_10.txt', '1292_8.txt', '412_8.txt', '1137_8.txt', '8957_7.txt', '4243_8.txt', '5970_10.txt', '11140_9.txt', '2906_9.txt', '4695_9.txt', '1969_10.txt', '1879_10.txt', '9021_10.txt', '5714_7.txt', '3554_10.txt', '10756_8.txt', '2438_9.txt', '1712_9.txt', '9023_10.txt', '2420_10.txt', '9456_8.txt', '2806_10.txt', '636_10.txt', '7216_10.txt', '10846_9.txt', '6621_8.txt', '5594_10.txt', '8559_8.txt', '5204_8.txt', '5001_7.txt', '6071_8.txt', '2091_9.txt', '12326_10.txt', '3805_8.txt', '4008_9.txt', '11077_8.txt', '11958_9.txt', '1199_10.txt', '5370_7.txt', '6000_9.txt', '4007_9.txt', '7529_10.txt', '8207_10.txt', '10164_7.txt', '12355_10.txt', '8225_8.txt', '5827_10.txt', '663_8.txt', '5142_10.txt', '8923_8.txt', '7700_10.txt', '10791_9.txt', '6801_9.txt', '4739_7.txt', '10322_7.txt', '5947_7.txt', '8867_10.txt', '9621_8.txt', '4018_7.txt', '6722_9.txt', '6552_9.txt', '3859_8.txt', '919_8.txt', '1448_8.txt', '437_9.txt', '7988_10.txt', '3174_9.txt', '2129_8.txt', '335_10.txt', '12060_9.txt', '2547_10.txt', '9119_10.txt', '11396_10.txt', '11748_8.txt', '1776_10.txt', '58_9.txt', '8655_9.txt', '11940_7.txt', '9428_10.txt', '1711_8.txt', '300_9.txt', '9501_10.txt', '11149_10.txt', '11642_10.txt', '1684_10.txt', '11778_10.txt', '7823_7.txt', '5687_7.txt', '625_10.txt', '77_7.txt', '9243_8.txt', '2940_10.txt', '6891_9.txt', '8282_7.txt', '6517_10.txt', '3056_8.txt', '475_10.txt', '11364_10.txt', '9818_7.txt', '6923_10.txt', '182_10.txt', '8371_10.txt', '2031_8.txt', '10479_10.txt', '11678_8.txt', '684_10.txt', '5729_9.txt', '2603_8.txt', '8529_9.txt', '5471_8.txt', '6764_9.txt', '2986_8.txt', '8275_10.txt', '647_10.txt', '7941_8.txt', '10923_9.txt', '2562_10.txt', '4487_9.txt', '5756_8.txt', '9474_10.txt', '9184_10.txt', '510_8.txt', '2929_10.txt', '11874_10.txt', '3492_7.txt', '10710_9.txt', '6414_8.txt', '5419_10.txt', '11684_8.txt', '5035_7.txt', '4190_10.txt', '5295_8.txt', '555_8.txt', '6799_9.txt', '4287_10.txt', '1119_10.txt', '3177_9.txt', '8108_10.txt', '3151_9.txt', '4523_10.txt', '1896_8.txt', '1556_8.txt', '7385_10.txt', '1985_10.txt', '9276_10.txt', '1939_8.txt', '6431_8.txt', '6232_10.txt', '4451_9.txt', '9144_7.txt', '2811_10.txt', '4901_9.txt', '12218_7.txt', '4602_8.txt', '7577_8.txt', '6759_7.txt', '12367_9.txt', '4694_10.txt', '4870_10.txt', '5096_7.txt', '5983_8.txt', '5194_10.txt', '10706_7.txt', '9843_7.txt', '6567_10.txt', '8843_7.txt', '3878_10.txt', '9937_10.txt', '142_8.txt', '1021_10.txt', '8709_8.txt', '10602_10.txt', '5029_8.txt', '819_10.txt', '7367_7.txt', '6350_8.txt', '825_10.txt', '2833_7.txt', '9822_10.txt', '8000_10.txt', '3837_9.txt', '2125_10.txt', '5530_8.txt', '6503_10.txt', '7665_7.txt', '11585_10.txt', '12017_7.txt', '7123_10.txt', '7565_10.txt', '11757_9.txt', '5999_7.txt', '11093_10.txt', '4240_9.txt', '9963_10.txt', '2227_7.txt', '5995_10.txt', '1889_10.txt', '11527_7.txt', '8897_10.txt', '3539_9.txt', '11046_8.txt', '6716_8.txt', '409_10.txt', '814_10.txt', '2222_10.txt', '5877_8.txt', '8102_7.txt', '2572_10.txt', '53_10.txt', '11051_8.txt', '6031_7.txt', '11143_10.txt', '10418_9.txt', '6286_8.txt', '5803_10.txt', '10895_7.txt', '10370_9.txt', '10190_7.txt', '2539_10.txt', '7659_10.txt', '3678_8.txt', '6725_9.txt', '5490_9.txt', '11618_8.txt', '6789_8.txt', '10259_8.txt', '1109_7.txt', '3043_8.txt', '969_7.txt', '9079_10.txt', '2831_7.txt', '6197_10.txt', '640_10.txt', '4615_10.txt', '10393_9.txt', '5067_10.txt', '11323_10.txt', '3513_10.txt', '7760_10.txt', '27_10.txt', '5220_8.txt', '7888_8.txt', '7442_7.txt', '11935_7.txt', '971_8.txt', '3362_8.txt', '9212_9.txt', '9261_7.txt', '6174_10.txt', '2703_9.txt', '5563_8.txt', '12434_10.txt', '2876_10.txt', '9525_8.txt', '3410_9.txt', '11557_8.txt', '1899_7.txt', '4595_10.txt', '1687_10.txt', '3302_10.txt', '472_10.txt', '3069_9.txt', '2761_10.txt', '5742_10.txt', '8054_8.txt', '1813_8.txt', '8310_10.txt', '1130_10.txt', '8900_10.txt', '5919_9.txt', '7229_7.txt', '9773_7.txt', '9198_8.txt', '9265_9.txt', '11484_9.txt', '8513_9.txt', '9750_10.txt', '11761_10.txt', '10278_7.txt', '5719_9.txt', '10099_10.txt', '1426_8.txt', '7855_8.txt', '5848_7.txt', '6026_8.txt', '9761_10.txt', '6201_9.txt', '5187_7.txt', '1577_9.txt', '190_10.txt', '1906_10.txt', '9619_10.txt', '1914_7.txt', '4424_7.txt', '9522_10.txt', '8430_9.txt', '6166_10.txt', '7699_10.txt', '10929_10.txt', '2814_10.txt', '2522_8.txt', '4657_10.txt', '12104_7.txt', '9113_8.txt', '7493_7.txt', '8172_9.txt', '1902_10.txt', '2483_7.txt', '6638_10.txt', '12196_10.txt', '8993_7.txt', '4886_8.txt', '3027_8.txt', '4943_10.txt', '9101_9.txt', '6983_8.txt', '6787_9.txt', '6281_8.txt', '2411_9.txt', '1451_8.txt', '2535_7.txt', '9038_8.txt', '1854_10.txt', '10573_10.txt', '10566_8.txt', '615_10.txt', '1850_10.txt', '3402_8.txt', '1722_7.txt', '6479_10.txt', '10177_9.txt', '9136_8.txt', '4418_10.txt', '5125_7.txt', '11683_8.txt', '328_10.txt', '718_10.txt', '10538_8.txt', '2184_7.txt', '2254_8.txt', '876_7.txt', '7918_10.txt', '3999_10.txt', '7827_10.txt', '719_10.txt', '3976_10.txt', '8149_10.txt', '10953_10.txt', '1630_8.txt', '10473_10.txt', '10372_7.txt', '7621_10.txt', '3015_9.txt', '8168_7.txt', '11806_10.txt', '7326_10.txt', '2058_9.txt', '7623_9.txt', '5686_9.txt', '8211_7.txt', '12345_10.txt', '392_9.txt', '4829_8.txt', '9950_8.txt', '10333_8.txt', '5057_10.txt', '3831_10.txt', '3813_7.txt', '11759_10.txt', '2131_9.txt', '2457_8.txt', '1278_9.txt', '4623_7.txt', '7053_7.txt', '10517_8.txt', '11348_10.txt', '16_7.txt', '10679_10.txt', '3641_9.txt', '3736_8.txt', '4533_8.txt', '10103_8.txt', '1356_8.txt', '6475_10.txt', '7575_10.txt', '7715_8.txt', '1927_8.txt', '4335_9.txt', '11212_8.txt', '2490_8.txt', '3428_9.txt', '948_10.txt', '8438_10.txt', '1215_10.txt', '7048_10.txt', '8887_9.txt', '11298_8.txt', '1886_10.txt', '12214_10.txt', '3007_7.txt', '11818_10.txt', '10034_8.txt', '2966_10.txt', '1310_7.txt', '12474_9.txt', '10464_7.txt', '377_7.txt', '2519_10.txt', '11950_8.txt', '3156_9.txt', '9883_8.txt', '1001_8.txt', '1093_8.txt', '690_9.txt', '4930_7.txt', '6283_7.txt', '1140_10.txt', '10626_7.txt', '8699_10.txt', '1625_7.txt', '12446_8.txt', '8876_10.txt', '9985_9.txt', '8164_8.txt', '1203_8.txt', '2788_9.txt', '4566_9.txt', '11343_8.txt', '2738_10.txt', '7495_7.txt', '7301_7.txt', '12004_10.txt', '7198_9.txt', '3601_7.txt', '11980_10.txt', '621_10.txt', '4466_8.txt', '2867_10.txt', '1591_10.txt', '10357_8.txt', '1897_10.txt', '780_7.txt', '6763_8.txt', '3531_7.txt', '490_9.txt', '1062_10.txt', '5933_7.txt', '10_9.txt', '3662_9.txt', '3942_9.txt', '12153_10.txt', '1680_8.txt', '9564_10.txt', '1673_8.txt', '2365_10.txt', '454_8.txt', '5245_8.txt', '4916_9.txt', '1683_7.txt', '8846_9.txt', '5621_10.txt', '4331_7.txt', '10298_9.txt', '3195_10.txt', '5464_7.txt', '6390_8.txt', '5931_7.txt', '11746_9.txt', '1055_10.txt', '9450_10.txt', '8292_8.txt', '3482_10.txt', '4932_8.txt', '7663_7.txt', '11736_9.txt', '6869_8.txt', '7545_8.txt', '11562_9.txt', '2330_8.txt', '880_10.txt', '12117_7.txt', '12158_7.txt', '5713_10.txt', '9086_7.txt', '8226_8.txt', '4772_10.txt', '12049_10.txt', '12080_8.txt', '8602_10.txt', '3164_10.txt', '2996_7.txt', '10833_10.txt', '9229_7.txt', '511_10.txt', '798_10.txt', '8253_10.txt', '10600_9.txt', '6487_10.txt', '3409_10.txt', '2476_10.txt', '12184_10.txt', '10084_10.txt', '2927_10.txt', '7358_10.txt', '9908_8.txt', '6979_10.txt', '10118_7.txt', '11480_10.txt', '6805_10.txt', '2559_9.txt', '8116_9.txt', '11172_10.txt', '10687_10.txt', '3240_10.txt', '9518_10.txt', '3969_8.txt', '849_7.txt', '12059_9.txt', '2316_10.txt', '3671_7.txt', '9698_10.txt', '10733_7.txt', '9983_7.txt', '6403_8.txt', '9205_7.txt', '8791_10.txt', '1098_9.txt', '10279_8.txt', '290_9.txt', '9753_10.txt', '2410_9.txt', '2532_8.txt', '9588_10.txt', '3953_10.txt', '11644_10.txt', '11325_10.txt', '1602_9.txt', '3274_8.txt', '2251_8.txt', '10325_10.txt', '10337_9.txt', '10134_7.txt', '2381_9.txt', '291_10.txt', '10764_9.txt', '6335_10.txt', '3039_8.txt', '9137_10.txt', '7145_9.txt', '578_10.txt', '8870_8.txt', '8304_8.txt', '11186_7.txt', '8550_8.txt', '1405_7.txt', '3050_9.txt', '9649_9.txt', '6986_8.txt', '10796_9.txt', '6157_10.txt', '4588_9.txt', '9827_10.txt', '11552_9.txt', '8448_10.txt', '2440_10.txt', '2264_9.txt', '2619_8.txt', '7047_10.txt', '6669_10.txt', '2409_9.txt', '4936_8.txt', '2631_7.txt', '4058_10.txt', '145_10.txt', '11842_10.txt', '11080_10.txt', '9957_7.txt', '6941_9.txt', '7856_10.txt', '2474_10.txt', '9423_8.txt', '11741_10.txt', '10237_10.txt', '1081_10.txt', '12490_8.txt', '11560_9.txt', '2636_9.txt', '5511_8.txt', '11059_9.txt', '8143_10.txt', '12368_8.txt', '8701_8.txt', '11067_7.txt', '11464_10.txt', '2808_10.txt', '806_10.txt', '7977_8.txt', '5937_9.txt', '1753_9.txt', '8725_10.txt', '1402_7.txt', '11971_10.txt', '784_10.txt', '10742_9.txt', '8760_7.txt', '3924_7.txt', '8727_7.txt', '3907_10.txt', '7102_7.txt', '5826_10.txt', '1091_10.txt', '2671_7.txt', '10033_10.txt', '6677_9.txt', '3299_10.txt', '7820_8.txt', '3375_9.txt', '6034_10.txt', '9429_9.txt', '431_8.txt', '11788_8.txt', '5948_8.txt', '7834_8.txt', '8645_8.txt', '12408_7.txt', '2824_8.txt', '6886_8.txt', '9578_10.txt', '10390_10.txt', '1433_10.txt', '1851_10.txt', '11771_10.txt', '11896_9.txt', '8379_10.txt', '10922_10.txt', '6641_8.txt', '8377_8.txt', '1311_10.txt', '6399_7.txt', '5025_10.txt', '6208_7.txt', '1141_10.txt', '3968_10.txt', '9007_10.txt', '6593_7.txt', '5951_10.txt', '5620_10.txt', '5834_9.txt', '3262_8.txt', '9284_8.txt', '7065_7.txt', '5556_10.txt', '7011_7.txt', '7800_8.txt', '8105_8.txt', '7990_7.txt', '574_7.txt', '4616_10.txt', '12197_9.txt', '9557_7.txt', '9967_10.txt', '228_7.txt', '2162_10.txt', '324_8.txt', '7209_8.txt', '3061_10.txt', '9039_10.txt', '751_9.txt', '4352_10.txt', '6478_10.txt', '2249_7.txt', '8698_10.txt', '3745_10.txt', '3660_10.txt', '7411_10.txt', '8543_8.txt', '8614_9.txt', '1562_10.txt', '297_10.txt', '515_10.txt', '2349_9.txt', '7763_8.txt', '995_9.txt', '7192_8.txt', '12005_10.txt', '6847_10.txt', '10071_9.txt', '5427_10.txt', '215_8.txt', '3077_10.txt', '9413_9.txt', '6612_8.txt', '11866_8.txt', '851_7.txt', '11665_8.txt', '3943_10.txt', '5420_7.txt', '10416_9.txt', '4780_9.txt', '10161_9.txt', '4104_9.txt', '1645_9.txt', '2201_10.txt', '8512_7.txt', '8291_8.txt', '8250_8.txt', '9268_9.txt', '6446_10.txt', '7781_8.txt', '3814_7.txt', '7368_8.txt', '2379_8.txt', '3534_10.txt', '5658_10.txt', '5505_10.txt', '1498_8.txt', '1779_10.txt', '7038_9.txt', '10196_10.txt', '1327_9.txt', '8612_7.txt', '9765_10.txt', '8648_9.txt', '964_8.txt', '12182_8.txt', '7449_10.txt', '7630_8.txt', '4461_8.txt', '11586_9.txt', '4501_7.txt', '6749_9.txt', '3475_9.txt', '306_10.txt', '4504_9.txt', '2340_10.txt', '11499_10.txt', '5224_10.txt', '7690_9.txt', '9832_10.txt', '4956_10.txt', '3515_7.txt', '7321_10.txt', '5814_8.txt', '5006_10.txt', '9275_9.txt', '9251_9.txt', '1423_10.txt', '10398_8.txt', '5551_7.txt', '5622_10.txt', '7106_8.txt', '3864_7.txt', '5804_10.txt', '1900_8.txt', '10761_10.txt', '2261_10.txt', '1867_9.txt', '1731_10.txt', '5258_10.txt', '1121_7.txt', '1955_9.txt', '2087_10.txt', '704_10.txt', '8659_7.txt', '6766_8.txt', '9886_10.txt', '10294_8.txt', '6809_7.txt', '7583_7.txt', '10415_7.txt', '6447_8.txt', '4885_9.txt', '10633_9.txt', '10437_7.txt', '6510_7.txt', '7610_9.txt', '2463_10.txt', '10027_7.txt', '8278_10.txt', '3716_9.txt', '12043_10.txt', '5651_10.txt', '5997_9.txt', '6585_10.txt', '8176_8.txt', '9835_9.txt', '277_8.txt', '1157_10.txt', '11330_8.txt', '10425_9.txt', '8384_7.txt', '10881_7.txt', '12353_9.txt', '1959_7.txt', '5704_7.txt', '6233_9.txt', '9259_10.txt', '11962_7.txt', '1303_10.txt', '12317_10.txt', '2963_8.txt', '3744_10.txt', '3316_10.txt', '3062_10.txt', '7609_10.txt', '5072_8.txt', '9577_8.txt', '2418_8.txt', '769_8.txt', '2653_10.txt', '9220_8.txt', '3041_7.txt', '43_10.txt', '8912_10.txt', '3974_8.txt', '5114_10.txt', '9715_7.txt', '11346_10.txt', '4419_7.txt', '6264_7.txt', '3206_8.txt', '4938_7.txt', '567_10.txt', '9610_10.txt', '9107_7.txt', '436_10.txt', '3386_9.txt', '6498_10.txt', '11664_9.txt', '11960_8.txt', '3137_8.txt', '5844_8.txt', '10445_10.txt', '3722_10.txt', '7942_10.txt', '2796_10.txt', '1605_10.txt', '4676_9.txt', '8644_7.txt', '1217_10.txt', '2630_8.txt', '7542_10.txt', '616_7.txt', '5307_7.txt', '2401_8.txt', '8462_9.txt', '7579_8.txt', '10364_10.txt', '8314_9.txt', '7008_8.txt', '8540_9.txt', '6762_9.txt', '2207_9.txt', '7923_8.txt', '5743_10.txt', '2368_8.txt', '477_10.txt', '8227_7.txt', '4609_8.txt', '4826_7.txt', '4664_8.txt', '9073_10.txt', '147_9.txt', '3508_8.txt', '6347_9.txt', '8737_9.txt', '6627_7.txt', '8784_9.txt', '7380_9.txt', '10085_10.txt', '9554_8.txt', '1694_10.txt', '6537_7.txt', '7178_10.txt', '5223_7.txt', '11421_10.txt', '6662_7.txt', '8499_9.txt', '12037_10.txt', '3850_8.txt', '3098_10.txt', '5094_8.txt', '10338_9.txt', '6107_7.txt', '10450_10.txt', '9921_8.txt', '5460_8.txt', '7799_8.txt', '11707_10.txt', '12479_10.txt', '7849_9.txt', '3688_8.txt', '8065_9.txt', '6751_8.txt', '6672_10.txt', '508_9.txt', '7054_9.txt', '4444_10.txt', '6345_7.txt', '1431_10.txt', '8399_10.txt', '7091_9.txt', '5384_8.txt', '1473_9.txt', '6412_9.txt', '4849_10.txt', '8647_7.txt', '8351_9.txt', '7594_8.txt', '230_9.txt', '10997_10.txt', '2105_8.txt', '10117_8.txt', '2689_9.txt', '10789_10.txt', '7003_10.txt', '2255_8.txt', '466_8.txt', '9257_7.txt', '6518_10.txt', '3799_8.txt', '4894_10.txt', '6624_9.txt', '6050_10.txt', '6337_7.txt', '10293_8.txt', '5382_7.txt', '137_7.txt', '9776_8.txt', '691_9.txt', '7116_9.txt', '8359_8.txt', '2797_10.txt', '979_8.txt', '10091_7.txt', '2353_10.txt', '10128_9.txt', '10251_10.txt', '1378_9.txt', '1571_10.txt', '11523_7.txt', '6104_10.txt', '4993_10.txt', '6081_9.txt', '11333_9.txt', '8326_7.txt', '4338_10.txt', '1329_8.txt', '3261_9.txt', '4231_7.txt', '4629_10.txt', '7424_10.txt', '12276_7.txt', '7771_9.txt', '10069_8.txt', '1138_10.txt', '8098_7.txt', '686_9.txt', '12220_8.txt', '2628_10.txt', '1042_10.txt', '8626_7.txt', '2269_10.txt', '12481_8.txt', '9815_7.txt', '6698_10.txt', '10250_10.txt', '4362_7.txt', '2905_7.txt', '8119_10.txt', '4328_10.txt', '7972_10.txt', '6545_10.txt', '9140_10.txt', '2414_10.txt', '11714_10.txt', '6016_10.txt', '11434_7.txt', '5818_7.txt', '10485_8.txt', '11947_9.txt', '9277_9.txt', '3447_9.txt', '8458_10.txt', '6959_7.txt', '7252_8.txt', '12121_7.txt', '4957_8.txt', '7725_10.txt', '7112_9.txt', '3192_10.txt', '11401_9.txt', '2070_9.txt', '10301_8.txt', '11109_9.txt', '9616_8.txt', '11318_9.txt', '8004_9.txt', '2520_10.txt', '5981_7.txt', '4230_10.txt', '4860_10.txt', '10032_10.txt', '10818_10.txt', '9846_7.txt', '1068_10.txt', '7341_8.txt', '12221_8.txt', '869_7.txt', '9153_8.txt', '11720_8.txt', '8592_7.txt', '2650_10.txt', '11639_10.txt', '5111_10.txt', '7693_9.txt', '3399_10.txt', '1755_10.txt', '7077_10.txt', '12259_7.txt', '6682_10.txt', '12468_7.txt', '7344_10.txt', '9789_10.txt', '5529_7.txt', '6312_7.txt', '12387_10.txt', '7313_10.txt', '5762_8.txt', '1594_8.txt', '2666_10.txt', '4004_9.txt', '9596_10.txt', '1953_10.txt', '10410_10.txt', '7736_10.txt', '10595_10.txt', '8019_7.txt', '9194_9.txt', '10341_7.txt', '7718_10.txt', '7607_8.txt', '12175_7.txt', '12061_10.txt', '5892_8.txt', '1437_8.txt', '6559_10.txt', '5433_10.txt', '791_9.txt', '7071_9.txt', '8286_7.txt', '11393_7.txt', '1231_7.txt', '7041_7.txt', '11617_9.txt', '10186_8.txt', '7440_7.txt', '10086_7.txt', '1045_8.txt', '3638_10.txt', '10755_10.txt', '4661_10.txt', '5284_9.txt', '2030_9.txt', '6826_9.txt', '5829_10.txt', '1721_8.txt', '3806_8.txt', '9889_9.txt', '563_10.txt', '33_7.txt', '614_10.txt', '10644_8.txt', '11081_10.txt', '468_7.txt', '2830_9.txt', '7124_8.txt', '7218_9.txt', '4251_9.txt', '116_10.txt', '5839_7.txt', '9994_10.txt', '2327_10.txt', '10683_7.txt', '7402_8.txt', '3697_7.txt', '8968_8.txt', '406_8.txt', '5031_10.txt', '11399_8.txt', '6720_9.txt', '2896_9.txt', '2564_10.txt', '3160_7.txt', '4947_8.txt', '7292_10.txt', '11133_10.txt', '8863_8.txt', '8563_10.txt', '7720_8.txt', '4420_8.txt', '10105_8.txt', '7762_8.txt', '3714_10.txt', '7709_7.txt', '1912_9.txt', '6058_8.txt', '7859_7.txt', '6462_10.txt', '1267_7.txt', '36_10.txt', '4967_10.txt', '6480_10.txt', '5760_8.txt', '12130_7.txt', '4128_10.txt', '10264_10.txt', '5641_7.txt', '336_10.txt', '5399_8.txt', '10746_10.txt', '4863_10.txt', '5489_10.txt', '11509_8.txt', '2467_10.txt', '5415_10.txt', '11473_10.txt', '4745_7.txt', '3305_10.txt', '7910_10.txt', '7650_9.txt', '11697_10.txt', '5375_8.txt', '1760_10.txt', '8144_9.txt', '1904_7.txt', '8765_10.txt', '3738_8.txt', '5949_10.txt', '4858_8.txt', '8435_10.txt', '12211_10.txt', '10661_9.txt', '11005_10.txt', '7601_10.txt', '2415_10.txt', '8242_8.txt', '4271_10.txt', '7417_10.txt', '1132_10.txt', '7404_9.txt', '9404_10.txt', '4562_9.txt', '7357_10.txt', '8643_7.txt', '6835_10.txt', '5626_8.txt', '9751_7.txt', '8756_9.txt', '6154_10.txt', '6310_10.txt', '8798_8.txt', '4125_8.txt', '6676_9.txt', '1077_8.txt', '9686_7.txt', '7713_10.txt', '8774_8.txt', '802_10.txt', '5708_10.txt', '2860_9.txt', '6912_10.txt', '4146_10.txt', '10903_10.txt', '9975_10.txt', '12127_8.txt', '7060_10.txt', '4241_10.txt', '6910_9.txt', '11833_7.txt', '10361_7.txt', '2342_8.txt', '173_7.txt', '10038_10.txt', '8992_9.txt', '10204_8.txt', '4506_10.txt', '279_9.txt', '1290_7.txt', '11230_10.txt', '80_9.txt', '9000_10.txt', '3842_7.txt', '4278_10.txt', '6772_10.txt', '8909_9.txt', '1078_8.txt', '8984_10.txt', '10185_10.txt', '318_10.txt', '8510_7.txt', '299_10.txt', '12456_10.txt', '8566_10.txt', '9419_8.txt', '6210_10.txt', '11193_7.txt', '12320_8.txt', '2189_10.txt', '9785_7.txt', '12201_8.txt', '11791_8.txt', '1038_7.txt', '2218_7.txt', '664_7.txt', '3879_8.txt', '2870_10.txt', '10052_10.txt', '12369_7.txt', '11356_9.txt', '6105_10.txt', '2739_9.txt', '4308_8.txt', '12019_8.txt', '7587_9.txt', '9689_9.txt', '3328_7.txt', '6405_7.txt', '10498_10.txt', '1751_8.txt', '3650_10.txt', '12191_7.txt', '10686_8.txt', '10491_7.txt', '8063_10.txt', '4945_7.txt', '6187_9.txt', '1404_10.txt', '9684_10.txt', '12400_8.txt', '11797_8.txt', '10856_8.txt', '4868_8.txt', '4137_8.txt', '2165_7.txt', '2744_10.txt', '6101_8.txt', '1390_9.txt', '6260_10.txt', '12498_10.txt', '8491_7.txt', '2615_9.txt', '10254_8.txt', '7143_10.txt', '12475_10.txt', '645_10.txt', '10652_9.txt', '11485_10.txt', '6596_8.txt', '3155_10.txt', '7640_10.txt', '1265_10.txt', '2484_10.txt', '3370_9.txt', '195_8.txt', '2865_10.txt', '980_7.txt', '9913_10.txt', '220_10.txt', '11875_7.txt', '6148_10.txt', '1636_10.txt', '6457_7.txt', '6070_8.txt', '4939_7.txt', '10245_10.txt', '5805_9.txt', '3315_10.txt', '4388_9.txt', '7373_8.txt', '3654_10.txt', '11951_8.txt', '3595_10.txt', '930_7.txt', '3682_8.txt', '6331_10.txt', '6717_7.txt', '11671_8.txt', '7498_10.txt', '7007_8.txt', '4976_10.txt', '6407_10.txt', '4263_8.txt', '11606_10.txt', '8731_7.txt', '866_8.txt', '6879_10.txt', '609_9.txt', '5571_10.txt', '9728_7.txt', '1230_10.txt', '2753_10.txt', '10535_7.txt', '10653_10.txt', '10680_8.txt', '7896_10.txt', '2740_8.txt', '9246_8.txt', '5324_10.txt', '2912_9.txt', '9485_10.txt', '3620_10.txt', '8789_10.txt', '6666_7.txt', '11809_10.txt', '10597_9.txt', '4815_10.txt', '9989_9.txt', '1999_9.txt', '5678_10.txt', '9188_10.txt', '1720_10.txt', '2093_7.txt', '4563_8.txt', '9451_8.txt', '1861_10.txt', '4357_10.txt', '6996_8.txt', '10810_8.txt', '9600_8.txt', '6645_8.txt', '5696_8.txt', '11592_10.txt', '9481_9.txt', '10392_10.txt', '6580_8.txt', '11887_8.txt', '1617_8.txt', '10501_10.txt', '8538_10.txt', '6274_8.txt', '3553_8.txt', '4924_7.txt', '3893_10.txt', '7728_7.txt', '1195_8.txt', '9856_8.txt', '2815_10.txt', '452_10.txt', '5639_7.txt', '10275_10.txt', '4095_8.txt', '1386_8.txt', '9849_9.txt', '5448_10.txt', '5938_10.txt', '985_7.txt', '3590_8.txt', '7636_8.txt', '1662_7.txt', '11232_10.txt', '634_8.txt', '7497_10.txt', '8808_9.txt', '5032_10.txt', '9146_9.txt', '3657_7.txt', '713_10.txt', '10532_8.txt', '8666_7.txt', '10149_9.txt', '4948_7.txt', '7691_9.txt', '8974_10.txt', '11274_9.txt', '275_10.txt', '7824_10.txt', '5027_10.txt', '9482_7.txt', '12410_8.txt', '9898_10.txt', '11565_9.txt', '10072_9.txt', '6744_8.txt', '38_10.txt', '10927_10.txt', '6579_10.txt', '1535_9.txt', '3902_10.txt', '10349_10.txt', '2119_10.txt', '11341_10.txt', '5502_10.txt', '11704_10.txt', '3804_10.txt', '5479_10.txt', '7777_10.txt', '4198_7.txt', '662_8.txt', '6164_7.txt', '889_10.txt', '6709_10.txt', '4677_9.txt', '4224_10.txt', '5444_8.txt', '5126_7.txt', '10553_8.txt', '7407_10.txt', '2100_7.txt', '1114_8.txt', '2232_7.txt', '2812_8.txt', '12236_10.txt', '2351_10.txt', '1332_8.txt', '1245_7.txt', '7627_10.txt', '9290_9.txt', '11019_10.txt', '9175_10.txt', '10611_8.txt', '3675_9.txt', '11308_9.txt', '4879_10.txt', '8646_7.txt', '4827_9.txt', '10304_7.txt', '5030_9.txt', '3301_10.txt', '11124_10.txt', '4570_10.txt', '8531_7.txt', '402_10.txt', '8483_7.txt', '369_10.txt', '1416_10.txt', '7089_9.txt', '4543_7.txt', '11237_8.txt', '4430_8.txt', '11159_8.txt', '6069_8.txt', '586_10.txt', '3359_10.txt', '11060_10.txt', '5247_10.txt', '2804_8.txt', '8785_10.txt', '2578_10.txt', '11693_7.txt', '2638_10.txt', '6577_8.txt', '7694_10.txt', '1350_9.txt', '2477_7.txt', '6402_8.txt', '9668_9.txt', '3967_7.txt', '8042_7.txt', '11112_7.txt', '6515_7.txt', '7001_10.txt', '10200_10.txt', '7494_10.txt', '7492_7.txt', '3254_9.txt', '3045_10.txt', '4833_10.txt', '2468_10.txt', '8822_10.txt', '5857_10.txt', '2515_10.txt', '7213_10.txt', '6269_10.txt', '1870_10.txt', '7000_7.txt', '2263_10.txt', '4321_8.txt', '1585_9.txt', '2530_8.txt', '2945_10.txt', '3378_7.txt', '2625_8.txt', '6660_8.txt', '7773_10.txt', '170_10.txt', '10725_9.txt', '3229_7.txt', '514_10.txt', '4805_8.txt', '5476_8.txt', '1046_10.txt', '5263_8.txt', '2452_10.txt', '7450_9.txt', '1836_7.txt', '8230_10.txt', '434_8.txt', '354_9.txt', '830_10.txt', '5391_9.txt', '4429_7.txt', '9221_7.txt', '1302_10.txt', '8160_7.txt', '476_7.txt', '3127_9.txt', '9159_10.txt', '1060_10.txt', '11702_10.txt', '11497_10.txt', '8661_8.txt', '12424_9.txt', '7191_9.txt', '1073_9.txt', '8841_8.txt', '5643_7.txt', '8739_9.txt', '9431_10.txt', '4644_10.txt', '2182_9.txt', '7780_8.txt', '4819_7.txt', '2445_10.txt', '493_10.txt', '6644_8.txt', '7147_10.txt', '10737_10.txt', '8394_10.txt', '12448_10.txt', '4913_9.txt', '5512_7.txt', '5619_9.txt', '2049_7.txt', '3466_7.txt', '4794_8.txt', '5141_9.txt', '3605_8.txt', '3467_7.txt', '2407_10.txt', '9965_10.txt', '11973_10.txt', '12247_8.txt', '11979_10.txt', '4176_10.txt', '1014_9.txt', '6863_7.txt', '9637_8.txt', '7223_10.txt', '8587_7.txt', '9744_7.txt', '1991_10.txt', '4768_10.txt', '10048_10.txt', '3165_10.txt', '6971_10.txt', '1284_7.txt', '11052_9.txt', '5299_8.txt', '9470_8.txt', '10784_10.txt', '11310_10.txt', '3070_7.txt', '12252_10.txt', '8830_8.txt', '8921_8.txt', '10171_7.txt', '2529_7.txt', '10625_7.txt', '10283_10.txt', '1882_10.txt', '9552_8.txt', '10295_7.txt', '9695_10.txt', '11954_9.txt', '12075_7.txt', '1894_8.txt', '9078_7.txt', '11570_9.txt', '12439_8.txt', '10510_7.txt', '12219_10.txt', '5746_9.txt', '3970_7.txt', '11903_10.txt', '594_9.txt', '12001_8.txt', '10447_10.txt', '1324_7.txt', '6346_10.txt', '5536_9.txt', '9097_10.txt', '3087_10.txt', '10752_10.txt', '3690_9.txt', '10327_7.txt', '7475_7.txt', '2856_10.txt', '6320_10.txt', '836_8.txt', '881_8.txt', '11068_9.txt', '8845_8.txt', '8112_9.txt', '9141_8.txt', '6758_10.txt', '2887_9.txt', '6678_7.txt', '8492_9.txt', '5498_7.txt', '2742_9.txt', '9830_7.txt', '11296_8.txt', '6724_8.txt', '10550_8.txt', '1094_9.txt', '3593_8.txt', '11851_10.txt', '5533_7.txt', '6065_10.txt', '4878_10.txt', '4848_7.txt', '8007_7.txt', '1240_7.txt', '12453_7.txt', '4103_7.txt', '8076_7.txt', '8074_10.txt', '5961_10.txt', '9959_7.txt', '1480_8.txt', '2147_10.txt', '9215_7.txt', '3815_7.txt', '6406_9.txt', '2920_8.txt', '6488_10.txt', '289_10.txt', '363_10.txt', '11185_9.txt', '8896_10.txt', '1917_9.txt', '8062_8.txt', '3498_10.txt', '9618_8.txt', '10277_9.txt', '330_10.txt', '118_8.txt', '8997_10.txt', '8959_8.txt', '44_8.txt', '5164_10.txt', '6889_10.txt', '952_10.txt', '5014_9.txt', '8223_9.txt', '12384_8.txt', '7164_10.txt', '3053_8.txt', '3129_10.txt', '8066_9.txt', '5767_8.txt', '9939_10.txt', '1201_8.txt', '1501_7.txt', '5010_10.txt', '906_10.txt', '11673_8.txt', '5616_8.txt', '3048_10.txt', '126_10.txt', '4587_10.txt', '1667_7.txt', '3280_10.txt', '9810_7.txt', '3215_10.txt', '5879_10.txt', '8194_9.txt', '7419_10.txt', '10505_10.txt', '12084_8.txt', '7471_10.txt', '10290_8.txt', '9031_10.txt', '10162_9.txt', '6169_10.txt', '2969_10.txt', '5411_10.txt', '845_7.txt', '4372_10.txt', '11580_10.txt', '7883_10.txt', '3021_8.txt', '628_9.txt', '1425_7.txt', '9972_10.txt', '12391_9.txt', '2731_10.txt', '12_9.txt', '5228_8.txt', '3631_7.txt', '6769_9.txt', '227_10.txt', '5749_10.txt', '10213_8.txt', '10938_10.txt', '12304_10.txt', '10055_7.txt', '7666_7.txt', '11816_8.txt', '7506_7.txt', '10719_10.txt', '1782_7.txt', '4626_8.txt', '1103_10.txt', '5935_9.txt', '5168_10.txt', '132_9.txt', '6468_7.txt', '5522_8.txt', '11926_10.txt', '12482_8.txt', '3448_7.txt', '5052_10.txt', '12392_9.txt', '8417_8.txt', '9916_7.txt', '10157_10.txt', '3433_9.txt', '3334_9.txt', '7196_8.txt', '9473_10.txt', '3342_7.txt', '2877_9.txt', '4412_9.txt', '2863_8.txt', '7998_9.txt', '8914_8.txt', '559_8.txt', '2094_10.txt', '11524_7.txt', '9466_7.txt', '11116_10.txt', '11968_10.txt', '4239_10.txt', '894_9.txt', '119_10.txt', '4859_7.txt', '9213_7.txt', '7139_10.txt', '10019_8.txt', '703_10.txt', '6994_8.txt', '9393_10.txt', '4464_10.txt', '611_10.txt', '9239_8.txt', '9803_7.txt', '11129_10.txt', '5378_7.txt', '8745_7.txt', '10570_8.txt', '7604_9.txt', '2453_8.txt', '778_10.txt', '6861_8.txt', '12148_10.txt', '6400_9.txt', '7059_10.txt', '2354_10.txt', '11911_10.txt', '1099_10.txt', '12293_10.txt', '2607_9.txt', '1828_8.txt', '1510_8.txt', '8455_10.txt', '4527_9.txt', '8475_10.txt', '12108_9.txt', '3570_10.txt', '9605_10.txt', '7973_10.txt', '4154_10.txt', '6591_8.txt', '1715_8.txt', '444_10.txt', '1319_10.txt', '10694_7.txt', '8637_10.txt', '7556_8.txt', '582_9.txt', '9611_8.txt', '6134_7.txt', '8488_8.txt', '3037_7.txt', '8231_10.txt', '3847_9.txt', '10925_9.txt', '1442_7.txt', '2690_9.txt', '3230_8.txt', '12305_8.txt', '2942_10.txt', '1526_9.txt', '988_8.txt', '11278_8.txt', '9102_8.txt', '9869_10.txt', '6853_10.txt', '6127_8.txt', '706_10.txt', '12162_8.txt', '3319_9.txt', '12071_8.txt', '7767_8.txt', '9623_7.txt', '8792_8.txt', '4368_10.txt', '370_10.txt', '1575_9.txt', '11261_9.txt', '5106_8.txt', '6226_10.txt', '2039_9.txt', '5862_8.txt', '11160_9.txt', '1486_7.txt', '6817_10.txt', '5669_10.txt', '2888_10.txt', '7619_10.txt', '5624_7.txt', '222_10.txt', '12031_7.txt', '2185_9.txt', '8267_7.txt', '9254_7.txt', '6629_10.txt', '2088_8.txt', '59_7.txt', '11571_9.txt', '7136_10.txt', '10518_9.txt', '3728_10.txt', '1071_8.txt', '10468_9.txt', '11241_10.txt', '2128_8.txt', '10123_10.txt', '8070_8.txt', '9054_9.txt', '6831_9.txt', '11255_10.txt', '271_10.txt', '11868_10.txt', '4642_10.txt', '11469_10.txt', '10682_10.txt', '1083_10.txt', '9747_10.txt', '10210_7.txt', '428_7.txt', '8080_8.txt', '11084_10.txt', '8240_9.txt', '4078_10.txt', '482_8.txt', '12275_9.txt', '10594_8.txt', '8472_10.txt', '17_9.txt', '8733_10.txt', '2600_10.txt', '7641_10.txt', '3085_10.txt', '12116_9.txt', '2019_10.txt', '10772_10.txt', '25_7.txt', '6053_10.txt', '12361_7.txt', '612_10.txt', '2253_8.txt', '7969_10.txt', '381_10.txt', '5946_7.txt', '3894_10.txt', '5093_10.txt', '8786_8.txt', '9040_9.txt', '5233_10.txt', '4680_10.txt', '1728_7.txt', '11459_10.txt', '7304_8.txt', '5075_7.txt', '11928_8.txt', '2970_10.txt', '11501_8.txt', '7410_7.txt', '31_8.txt', '8043_9.txt', '7726_10.txt', '10345_7.txt', '4807_10.txt', '1221_7.txt', '4654_7.txt', '7162_10.txt', '4051_8.txt', '8556_7.txt', '11641_7.txt', '2464_10.txt', '10943_10.txt', '8928_10.txt', '847_7.txt', '12347_9.txt', '9267_7.txt', '11331_8.txt', '12418_10.txt', '4192_10.txt', '6238_9.txt', '250_7.txt', '4470_8.txt', '1035_7.txt', '6760_9.txt', '655_10.txt', '3820_8.txt', '9739_7.txt', '1015_10.txt', '9217_7.txt', '524_10.txt', '2749_10.txt', '2767_8.txt', '10575_9.txt', '7168_10.txt', '9082_10.txt', '8610_10.txt', '6170_10.txt', '1548_8.txt', '10265_9.txt', '3212_7.txt', '4841_7.txt', '11012_9.txt', '1995_9.txt', '5761_8.txt', '3922_10.txt', '2233_10.txt', '3589_8.txt', '6097_10.txt', '10238_10.txt', '4572_10.txt', '316_10.txt', '2643_10.txt', '5664_8.txt', '10868_8.txt', '1691_8.txt', '9582_10.txt', '7790_9.txt', '10787_10.txt', '10898_7.txt', '1743_9.txt', '5103_8.txt', '947_10.txt', '2882_9.txt', '9043_7.txt', '1866_8.txt', '7069_8.txt', '8569_9.txt', '5864_7.txt', '3293_10.txt', '8677_9.txt', '11048_7.txt', '2827_10.txt', '12373_7.txt', '11121_10.txt', '2225_10.txt', '346_10.txt', '5005_8.txt', '1749_10.txt', '11228_10.txt', '4766_10.txt', '5288_7.txt', '1637_10.txt', '11988_8.txt', '10585_9.txt', '8720_9.txt', '1421_9.txt', '4385_9.txt', '8991_10.txt', '6489_10.txt', '9980_8.txt', '12068_9.txt', '7300_8.txt', '1973_8.txt', '3494_9.txt', '10499_10.txt', '5698_8.txt', '5355_8.txt', '11666_10.txt', '3197_10.txt', '8298_7.txt', '6132_10.txt', '4188_8.txt', '7554_10.txt', '11173_7.txt', '12433_8.txt', '10395_8.txt', '9486_10.txt', '4717_8.txt', '8114_8.txt', '12179_8.txt', '5648_10.txt', '9617_10.txt', '8584_8.txt', '1977_10.txt', '4006_8.txt', '6655_7.txt', '11174_8.txt', '8962_9.txt', '7481_10.txt', '4415_10.txt', '6633_10.txt', '3453_7.txt', '1937_10.txt', '5417_10.txt', '459_10.txt', '2686_9.txt', '4340_8.txt', '3603_7.txt', '12114_7.txt', '7769_7.txt', '10009_9.txt', '1075_10.txt', '1107_10.txt', '1583_8.txt', '5810_9.txt', '752_7.txt', '1784_10.txt', '8103_10.txt', '219_8.txt', '1761_9.txt', '10747_10.txt', '5950_10.txt', '7723_10.txt', '11870_10.txt', '3954_9.txt', '3464_10.txt', '10197_7.txt', '7390_10.txt', '6637_8.txt', '7299_8.txt', '12274_10.txt', '8695_9.txt', '5607_7.txt', '10036_8.txt', '1989_8.txt', '3713_10.txt', '8704_9.txt', '2612_10.txt', '11074_7.txt', '2057_10.txt', '5308_10.txt', '11540_10.txt', '3676_8.txt', '499_8.txt', '251_10.txt', '11645_8.txt', '9075_10.txt', '12161_7.txt', '2802_10.txt', '460_9.txt', '4524_9.txt', '6658_10.txt', '943_10.txt', '7731_9.txt', '8136_9.txt', '2694_10.txt', '7432_10.txt', '914_8.txt', '5638_10.txt', '5332_7.txt', '5499_10.txt', '3897_10.txt', '1998_9.txt', '2834_9.txt', '13_7.txt', '3889_10.txt', '8306_10.txt', '9878_7.txt', '3297_10.txt', '9585_10.txt', '7752_8.txt', '11045_9.txt', '5302_9.txt', '8732_9.txt', '11859_10.txt', '2076_9.txt', '1671_8.txt', '7076_10.txt', '4002_8.txt', '3768_10.txt', '5500_10.txt', '2580_10.txt', '7911_10.txt', '7286_8.txt', '11389_7.txt', '4708_7.txt', '4462_9.txt', '3960_10.txt', '8844_10.txt', '8251_10.txt', '11989_10.txt', '5538_7.txt', '10095_7.txt', '5443_8.txt', '10915_9.txt', '3107_8.txt', '11530_8.txt', '11030_8.txt', '10373_7.txt', '322_10.txt', '11033_9.txt', '6553_10.txt', '12156_8.txt', '10617_8.txt', '3544_9.txt', '3854_10.txt', '12006_10.txt', '3405_9.txt', '9721_7.txt', '1190_7.txt', '11304_7.txt', '11897_9.txt', '8188_8.txt', '9823_7.txt', '1664_10.txt', '4315_9.txt', '1032_7.txt', '11730_10.txt', '7230_8.txt', '4134_7.txt', '2684_10.txt', '7965_10.txt', '12337_7.txt', '262_8.txt', '10777_9.txt', '10974_10.txt', '167_7.txt', '10040_10.txt', '4536_7.txt', '3358_9.txt', '12103_7.txt', '11264_10.txt', '9391_8.txt', '3456_9.txt', '2062_10.txt', '3604_10.txt', '3150_10.txt', '9929_7.txt', '513_10.txt', '2541_7.txt', '10896_8.txt', '5634_8.txt', '11170_10.txt', '5383_10.txt', '11884_8.txt', '388_8.txt', '3712_7.txt', '8503_8.txt', '10605_7.txt', '9681_9.txt', '10839_10.txt', '4551_10.txt', '2082_10.txt', '12312_10.txt', '2617_10.txt', '10494_10.txt', '10492_10.txt', '9807_10.txt', '12381_8.txt', '8002_7.txt', '9568_7.txt', '12365_7.txt', '11712_10.txt', '1170_8.txt', '1306_7.txt', '7009_10.txt', '1970_9.txt', '4919_7.txt', '5576_9.txt', '12311_9.txt', '4283_10.txt', '5250_10.txt', '9871_7.txt', '9166_9.txt', '4191_10.txt', '6115_10.txt', '7197_7.txt', '5192_7.txt', '10448_10.txt', '8308_7.txt', '3172_9.txt', '7068_8.txt', '9364_9.txt', '6565_8.txt', '5920_9.txt', '8916_8.txt', '3680_9.txt', '2344_9.txt', '4281_10.txt', '7148_10.txt', '7325_9.txt', '4760_7.txt', '6149_7.txt', '11621_9.txt', '5339_8.txt', '1938_9.txt', '9114_10.txt', '7825_9.txt', '10116_10.txt', '8409_8.txt', '9027_7.txt', '5890_8.txt', '3263_7.txt', '4806_8.txt', '4899_10.txt', '3652_10.txt', '2373_7.txt', '584_8.txt', '1161_8.txt', '1811_10.txt', '4941_10.txt', '7703_8.txt', '3882_10.txt', '4096_10.txt', '6529_7.txt', '11320_10.txt', '47_8.txt', '2036_7.txt', '2172_7.txt', '9093_10.txt', '10348_8.txt', '11829_10.txt', '5707_10.txt', '7624_7.txt', '4862_7.txt', '2173_10.txt', '2331_10.txt', '8847_9.txt', '10163_8.txt', '1628_10.txt', '6587_9.txt', '1370_8.txt', '10168_8.txt', '3538_10.txt', '4721_8.txt', '8797_8.txt', '2152_8.txt', '675_9.txt', '7365_7.txt', '1898_9.txt', '12371_8.txt', '2293_7.txt', '3596_8.txt', '5846_10.txt', '9680_8.txt', '12359_8.txt', '1609_9.txt', '9713_10.txt', '7963_9.txt', '6014_8.txt', '5190_8.txt', '8130_10.txt', '8085_7.txt', '7049_7.txt', '4471_8.txt', '11913_10.txt', '4918_7.txt', '6046_7.txt', '4359_10.txt', '12376_7.txt', '7452_10.txt', '2043_7.txt', '2437_10.txt', '255_10.txt', '2220_9.txt', '3183_9.txt', '989_9.txt', '1517_7.txt', '4302_8.txt', '4074_10.txt', '6103_10.txt', '9094_10.txt', '8815_7.txt', '9542_10.txt', '403_8.txt', '6608_7.txt', '5289_10.txt', '2485_10.txt', '10323_10.txt', '3843_7.txt', '3354_10.txt', '9425_10.txt', '9326_10.txt', '626_9.txt', '12271_7.txt', '8615_10.txt', '552_8.txt', '3026_7.txt', '10328_8.txt', '1980_10.txt', '9403_8.txt', '7673_7.txt', '6176_9.txt', '1848_8.txt', '6504_10.txt', '12398_8.txt', '10659_8.txt', '7462_10.txt', '4764_10.txt', '11235_8.txt', '10140_8.txt', '8173_8.txt', '4783_10.txt', '8279_10.txt', '7580_7.txt', '5386_7.txt', '5851_10.txt', '10399_10.txt', '5159_10.txt', '10832_10.txt', '11591_10.txt', '9770_10.txt', '8177_8.txt', '2465_10.txt', '11889_7.txt', '7933_10.txt', '11855_7.txt', '1322_8.txt', '10240_8.txt', '8187_9.txt', '7843_9.txt', '3452_8.txt', '6880_7.txt', '10969_10.txt', '10219_10.txt', '8696_10.txt', '6251_7.txt', '3016_10.txt', '5173_9.txt', '10013_7.txt', '6729_10.txt', '9158_10.txt', '10324_9.txt', '3481_10.txt', '11279_10.txt', '2127_9.txt', '4556_8.txt', '11344_7.txt', '3510_7.txt', '11088_7.txt', '1377_7.txt', '990_9.txt', '5342_10.txt', '3443_9.txt', '763_10.txt', '7362_10.txt', '4961_10.txt', '4187_7.txt', '8548_10.txt', '1587_10.txt', '10966_9.txt', '7531_8.txt', '7496_8.txt', '5087_7.txt', '6328_10.txt', '7055_8.txt', '2660_10.txt', '12459_10.txt', '7403_8.txt', '8489_9.txt', '1757_8.txt', '9042_10.txt', '1795_8.txt', '11936_7.txt', '4537_8.txt', '11538_7.txt', '12258_10.txt', '6548_10.txt', '8115_10.txt', '9590_10.txt', '4720_8.txt', '10944_8.txt', '11539_9.txt', '7339_10.txt', '5752_8.txt', '9270_9.txt', '2089_10.txt', '7101_10.txt', '5717_9.txt', '10417_8.txt', '5234_10.txt', '12364_7.txt', '4383_9.txt', '11837_7.txt', '846_7.txt', '8204_8.txt', '7721_7.txt', '11037_8.txt', '1316_9.txt', '7154_10.txt', '5251_7.txt', '3856_10.txt', '7791_10.txt', '96_10.txt', '5684_10.txt', '3253_8.txt', '1778_10.txt', '10831_7.txt', '11110_9.txt', '10556_10.txt', '11725_10.txt', '30_7.txt', '11993_9.txt', '3793_7.txt', '2369_10.txt', '8222_9.txt', '10635_8.txt', '8951_7.txt', '10006_7.txt', '8189_10.txt', '4640_10.txt', '1971_9.txt', '7128_7.txt', '801_8.txt', '12239_10.txt', '8981_7.txt', '911_10.txt', '6654_7.txt', '212_9.txt', '2007_7.txt', '8287_9.txt', '9096_10.txt', '8447_8.txt', '3757_7.txt', '11747_8.txt', '2008_7.txt', '8434_9.txt', '2805_9.txt', '9383_8.txt', '5738_10.txt', '8322_7.txt', '6858_7.txt', '9029_10.txt', '11178_7.txt', '9238_10.txt', '3630_7.txt', '6375_8.txt', '3122_8.txt', '3614_7.txt', '10484_8.txt', '6109_8.txt', '10805_10.txt', '10668_7.txt', '8362_7.txt', '2654_10.txt', '3776_10.txt', '9222_7.txt', '9417_10.txt', '12095_8.txt', '10104_10.txt', '7944_9.txt', '7886_10.txt', '4354_8.txt', '11663_8.txt', '10942_9.txt', '5957_9.txt', '5449_8.txt', '5239_7.txt', '3816_7.txt', '7714_10.txt', '10375_10.txt', '9920_7.txt', '1309_10.txt', '6378_8.txt', '4973_9.txt', '11213_7.txt', '2400_7.txt', '7809_10.txt', '3189_8.txt', '7976_7.txt', '5275_10.txt', '5495_8.txt', '3997_10.txt', '2110_9.txt', '1234_10.txt', '2004_10.txt', '12192_7.txt', '3335_8.txt', '9656_10.txt', '5009_9.txt', '6126_10.txt', '188_7.txt', '10233_7.txt', '9714_10.txt', '10715_8.txt', '5766_10.txt', '12146_7.txt', '11181_10.txt', '6694_10.txt', '1453_8.txt', '347_10.txt', '4249_10.txt', '9709_10.txt', '3116_10.txt', '711_10.txt', '3029_8.txt', '4148_7.txt', '3057_8.txt', '2335_10.txt', '6868_10.txt', '2311_10.txt', '6892_8.txt', '7264_8.txt', '10584_10.txt', '10939_8.txt', '5367_9.txt', '7521_7.txt', '1237_8.txt', '8113_8.txt', '4909_8.txt', '12044_7.txt', '9018_8.txt', '1009_8.txt', '10884_8.txt', '9891_10.txt', '6225_8.txt', '5896_10.txt', '2667_8.txt', '8469_7.txt', '10142_8.txt', '404_9.txt', '3782_8.txt', '10502_9.txt', '3352_9.txt', '8504_8.txt', '2101_7.txt', '7807_10.txt', '8722_9.txt', '12088_9.txt', '6921_9.txt', '550_10.txt', '5955_10.txt', '3866_7.txt', '2229_7.txt', '179_8.txt', '1512_10.txt', '7961_10.txt', '6893_10.txt', '6922_8.txt', '1224_9.txt', '1169_8.txt', '556_9.txt', '6939_9.txt', '6564_7.txt', '9544_10.txt', '5671_9.txt', '2278_10.txt', '953_10.txt', '2732_8.txt', '4603_10.txt', '1367_10.txt', '4997_9.txt', '6342_10.txt', '5236_10.txt', '3633_10.txt', '12129_7.txt', '3559_10.txt', '11796_9.txt', '6513_9.txt', '3796_8.txt', '6943_9.txt', '11063_10.txt', '10800_8.txt', '6110_8.txt', '22_8.txt', '8565_7.txt', '9109_7.txt', '8419_9.txt', '9173_10.txt', '1701_10.txt', '2809_8.txt', '2758_7.txt', '3755_10.txt', '10531_10.txt', '2047_10.txt', '6707_9.txt', '5271_7.txt', '3310_8.txt', '2158_10.txt', '2847_8.txt', '6130_7.txt', '8674_9.txt', '1361_10.txt', '4665_10.txt', '11899_7.txt', '159_10.txt', '8835_9.txt', '4509_10.txt', '9155_10.txt', '2983_7.txt', '4117_9.txt', '1908_9.txt', '5817_10.txt', '5179_7.txt', '6554_7.txt', '11275_10.txt', '6650_8.txt', '10191_10.txt', '11789_10.txt', '5216_8.txt', '820_10.txt', '517_10.txt', '8738_8.txt', '717_7.txt', '767_9.txt', '12065_7.txt', '6321_7.txt', '8736_10.txt', '5972_8.txt', '2160_8.txt', '7612_9.txt', '4413_8.txt', '9997_7.txt', '799_8.txt', '11694_7.txt', '667_8.txt', '12497_10.txt', '12338_10.txt', '12429_7.txt', '998_7.txt', '10678_9.txt', '5301_8.txt', '6306_10.txt', '4141_10.txt', '9626_8.txt', '11481_10.txt', '11820_8.txt', '2157_10.txt', '2408_8.txt', '5244_7.txt', '9887_9.txt', '1430_9.txt', '2106_10.txt', '6814_7.txt', '11294_10.txt', '2644_8.txt', '9375_10.txt', '9397_9.txt', '1931_8.txt', '9613_10.txt', '5133_10.txt', '8536_9.txt', '6234_8.txt', '4029_10.txt', '3367_9.txt', '2336_10.txt', '8763_9.txt', '6380_9.txt', '2443_9.txt', '2192_9.txt', '3123_10.txt', '6066_10.txt', '5351_7.txt', '1610_10.txt', '10935_7.txt', '1817_8.txt', '631_10.txt', '11402_10.txt', '822_9.txt', '197_9.txt', '10263_10.txt', '5428_10.txt', '105_7.txt', '8487_10.txt', '2560_7.txt', '5549_8.txt', '6144_7.txt', '8507_10.txt', '916_10.txt', '4871_8.txt', '12463_8.txt', '4872_8.txt', '8208_8.txt', '3982_7.txt', '2576_8.txt', '5200_10.txt', '10482_10.txt', '727_9.txt', '3758_9.txt', '8545_9.txt', '8259_9.txt', '7090_10.txt', '9169_8.txt', '2421_9.txt', '5034_7.txt', '828_10.txt', '688_9.txt', '12029_10.txt', '2212_10.txt', '3340_8.txt', '2913_7.txt', '12215_10.txt', '1881_7.txt', '497_10.txt', '12394_10.txt', '7935_8.txt', '4534_9.txt', '4493_9.txt', '4927_8.txt', '12325_9.txt', '2675_9.txt', '8238_8.txt', '10144_8.txt', '6686_9.txt', '6138_8.txt', '1321_10.txt', '9772_10.txt', '6212_9.txt', '7674_10.txt', '4771_10.txt', '1399_9.txt', '2533_7.txt', '2514_8.txt', '1058_10.txt', '8931_9.txt', '2521_10.txt', '1250_10.txt', '11863_10.txt', '1533_8.txt', '273_9.txt', '4582_7.txt', '773_7.txt', '4803_8.txt', '11062_10.txt', '8420_9.txt', '8609_10.txt', '3700_9.txt', '7092_8.txt', '9134_7.txt', '620_10.txt', '4674_7.txt', '1558_10.txt', '11006_7.txt', '11465_7.txt', '5440_10.txt', '3201_10.txt', '1387_8.txt', '2939_10.txt', '11762_8.txt', '1342_10.txt', '9449_10.txt', '5784_8.txt', '721_10.txt', '8192_10.txt', '8092_8.txt', '5138_10.txt', '4330_10.txt', '7742_8.txt', '12346_10.txt', '8193_10.txt', '320_8.txt', '8340_8.txt', '11670_7.txt', '4906_9.txt', '11964_7.txt', '8045_8.txt', '5082_7.txt', '207_8.txt', '1407_7.txt', '12285_10.txt', '4857_7.txt', '7981_10.txt', '649_10.txt', '6944_9.txt', '7616_10.txt', '1150_10.txt', '9587_10.txt', '3154_10.txt', '1487_9.txt', '1082_10.txt', '7117_10.txt', '7895_10.txt', '7765_7.txt', '2875_10.txt', '10041_10.txt', '5320_10.txt', '10865_7.txt', '11770_10.txt', '9560_9.txt', '4538_7.txt', '3706_7.txt', '12020_7.txt', '5792_10.txt', '4817_10.txt', '6860_8.txt', '826_9.txt', '4759_7.txt', '10318_7.txt', '3276_8.txt', '1975_7.txt', '9955_9.txt', '7371_7.txt', '3818_8.txt', '9634_8.txt', '1491_9.txt', '8071_9.txt', '7029_7.txt', '3361_7.txt', '1950_8.txt', '9595_10.txt', '4465_7.txt', '9493_8.txt', '2241_7.txt', '4147_8.txt', '8772_8.txt', '2283_9.txt', '9245_8.txt', '9576_9.txt', '2616_10.txt', '2838_10.txt', '1379_8.txt', '8657_9.txt', '12382_8.txt', '1468_9.txt', '6008_7.txt', '11488_10.txt', '10893_8.txt', '4573_10.txt', '8578_8.txt', '7814_10.txt', '2911_10.txt', '9945_8.txt', '1843_9.txt', '7647_7.txt', '6473_8.txt', '8599_7.txt', '5880_10.txt', '10998_7.txt', '69_10.txt', '4364_7.txt', '1766_10.txt', '2762_9.txt', '6255_8.txt', '3905_10.txt', '1506_7.txt', '1412_8.txt', '7434_7.txt', '11815_10.txt', '5560_7.txt', '9452_9.txt', '1438_7.txt', '10018_8.txt', '9472_8.txt', '1589_10.txt', '9795_7.txt', '9934_8.txt', '8591_7.txt', '12032_8.txt', '8773_8.txt', '4842_10.txt', '9719_7.txt', '4778_9.txt', '12240_8.txt', '1994_10.txt', '11384_7.txt', '6745_8.txt', '55_9.txt', '12023_9.txt', '6461_10.txt', '1857_10.txt', '6268_9.txt', '7002_10.txt', '6877_7.txt', '10115_10.txt', '10429_10.txt', '9157_10.txt', '1031_10.txt', '5017_8.txt', '4653_10.txt', '6128_7.txt', '1682_7.txt', '6329_10.txt', '5129_9.txt', '6739_7.txt', '6775_8.txt', '7653_10.txt', '9411_8.txt', '11492_7.txt', '386_7.txt', '1759_8.txt', '7392_8.txt', '9458_10.txt', '10187_7.txt', '6611_7.txt', '1294_7.txt', '12303_9.txt', '6844_10.txt', '8249_10.txt', '5446_9.txt', '5135_10.txt', '4446_10.txt', '11852_10.txt', '7382_8.txt', '10958_10.txt', '6188_9.txt', '8344_10.txt', '4448_10.txt', '7794_7.txt', '9905_10.txt', '7095_9.txt', '3750_10.txt', '5867_9.txt', '2326_8.txt', '2427_10.txt', '11432_9.txt', '5211_8.txt', '7764_9.txt', '9019_8.txt', '11532_8.txt', '206_10.txt', '3765_10.txt', '4355_10.txt', '4502_7.txt', '9855_7.txt', '7489_7.txt', '7387_7.txt', '1523_9.txt', '2592_10.txt', '7724_10.txt', '10906_10.txt', '5833_10.txt', '9235_9.txt', '2439_8.txt', '1235_10.txt', '8217_8.txt', '11430_8.txt', '2020_7.txt', '2310_9.txt', '8767_10.txt', '12445_9.txt', '1202_9.txt', '7591_8.txt', '57_10.txt', '4068_10.txt', '6175_8.txt', '11938_7.txt', '7241_8.txt', '200_10.txt', '2242_7.txt', '3038_8.txt', '12173_8.txt', '3525_7.txt', '8998_10.txt', '11729_10.txt', '2135_8.txt', '558_10.txt', '7280_10.txt', '11765_8.txt', '4342_10.txt', '2247_10.txt', '4500_10.txt', '5583_8.txt', '6079_9.txt', '3930_9.txt', '1606_7.txt', '1732_10.txt', '7188_8.txt', '9860_7.txt', '4393_7.txt', '7416_9.txt', '7398_10.txt', '4122_10.txt', '2512_10.txt', '12351_8.txt', '8363_8.txt', '6628_7.txt', '12335_9.txt', '1074_10.txt', '151_10.txt', '10352_10.txt', '10891_7.txt', '955_7.txt', '8680_9.txt', '7871_9.txt', '5235_8.txt', '3268_8.txt', '8413_8.txt', '12354_10.txt', '758_9.txt', '1251_9.txt', '8245_9.txt', '12309_10.txt', '5903_8.txt', '5104_10.txt', '2005_10.txt', '12186_9.txt', '5853_10.txt', '1859_8.txt', '2479_10.txt', '12316_10.txt', '3139_10.txt', '3975_10.txt', '10130_10.txt', '5633_8.txt', '2542_10.txt', '9567_7.txt', '8493_10.txt', '12034_10.txt', '5274_7.txt', '12330_7.txt', '3846_10.txt', '1655_8.txt', '8418_7.txt', '2594_9.txt', '10355_9.txt', '3308_8.txt', '6021_7.txt', '12405_10.txt', '10119_7.txt', '10704_10.txt', '6155_7.txt', '8780_10.txt', '1333_10.txt', '11880_10.txt', '11877_10.txt', '10077_10.txt', '5107_10.txt', '2538_10.txt', '4439_8.txt', '4303_10.txt', '12122_7.txt', '3211_7.txt', '5503_10.txt', '11444_10.txt', '9821_8.txt', '4851_7.txt', '10788_10.txt', '9752_10.txt', '1209_10.txt', '11554_8.txt', '5861_8.txt', '7312_10.txt', '5400_10.txt', '1789_7.txt', '7947_10.txt', '11734_10.txt', '1117_10.txt', '4731_8.txt', '3607_8.txt', '440_10.txt', '7163_10.txt', '5397_9.txt', '6161_9.txt', '9644_10.txt', '5650_10.txt', '6896_7.txt', '5217_8.txt', '1725_8.txt', '5374_8.txt', '7219_7.txt', '7323_9.txt', '11447_7.txt', '5728_10.txt', '24_8.txt', '4282_10.txt', '3084_10.txt', '10011_9.txt', '12273_10.txt', '7333_10.txt', '8450_7.txt', '4033_9.txt', '6803_8.txt', '9546_8.txt', '4377_10.txt', '9204_10.txt', '6368_7.txt', '7120_9.txt', '3767_9.txt', '4174_9.txt', '2503_10.txt', '3317_10.txt', '8766_8.txt', '4542_9.txt', '11406_9.txt', '9066_8.txt', '7363_9.txt', '7701_10.txt', '8008_7.txt', '11496_10.txt', '12366_10.txt', '11200_8.txt', '1835_10.txt', '8396_8.txt', '6544_10.txt', '8511_10.txt', '10795_7.txt', '10455_10.txt', '4920_7.txt', '2534_8.txt', '3320_8.txt', '5509_10.txt', '4247_10.txt', '1820_9.txt', '9357_7.txt', '8710_7.txt', '2839_10.txt', '6271_9.txt', '3269_8.txt', '5726_7.txt', '8212_7.txt', '6191_9.txt', '2588_7.txt', '2023_7.txt', '9084_7.txt', '2881_8.txt', '5160_8.txt', '7408_8.txt', '11277_10.txt', '7195_10.txt', '9851_7.txt', '11021_8.txt', '506_7.txt', '9664_10.txt', '3686_10.txt', '7513_9.txt', '2144_8.txt', '3760_7.txt', '4743_8.txt', '7782_7.txt', '6876_8.txt', '6276_7.txt', '5905_9.txt', '10551_7.txt', '4705_7.txt', '9440_8.txt', '11090_8.txt', '2282_10.txt', '2037_8.txt', '1754_10.txt', '131_10.txt', '8945_10.txt', '4953_8.txt', '94_10.txt', '4292_7.txt', '5098_9.txt', '5953_9.txt', '3190_7.txt', '9298_9.txt', '7837_10.txt', '6240_10.txt', '5960_8.txt', '9609_7.txt', '3318_9.txt', '7958_10.txt', '12141_8.txt', '2948_10.txt', '4386_9.txt', '11493_7.txt', '8744_7.txt', '966_7.txt', '6277_7.txt', '1887_8.txt', '2795_7.txt', '10234_10.txt', '2107_7.txt', '3289_10.txt', '10879_10.txt', '10414_10.txt', '2291_7.txt', '1257_10.txt', '4679_10.txt', '812_10.txt', '6199_8.txt', '10145_8.txt', '10537_10.txt', '5532_10.txt', '1145_8.txt', '2553_7.txt', '12403_8.txt', '11388_8.txt', '2170_9.txt', '5832_9.txt', '9586_10.txt', '1707_10.txt', '4598_9.txt', '3946_7.txt', '11521_10.txt', '10220_7.txt', '5092_8.txt', '8490_7.txt', '861_7.txt', '6883_9.txt', '12260_10.txt', '2908_8.txt', '5154_8.txt', '8855_10.txt', '11941_8.txt', '1614_10.txt', '4452_8.txt', '11290_10.txt', '9253_10.txt', '10066_10.txt', '2635_7.txt', '5328_8.txt', '8502_9.txt', '12213_10.txt', '10440_9.txt', '9001_8.txt', '3872_9.txt', '873_8.txt', '4835_10.txt', '5472_7.txt', '7231_8.txt', '7426_10.txt', '11031_8.txt', '9507_10.txt', '7508_7.txt', '8254_8.txt', '3853_9.txt', '9103_10.txt', '12291_10.txt', '5379_7.txt', '10137_7.txt', '8237_8.txt', '2624_7.txt', '11003_10.txt', '10948_10.txt', '7908_9.txt', '9308_7.txt', '4064_10.txt', '8976_7.txt', '1033_10.txt', '9335_10.txt', '7399_10.txt', '1447_8.txt', '10792_9.txt', '8343_7.txt', '2166_7.txt', '3446_7.txt', '7084_10.txt', '8593_7.txt', '3965_8.txt', '1144_8.txt', '5737_7.txt', '1546_8.txt', '7501_8.txt', '93_10.txt', '10568_10.txt', '2574_7.txt', '7463_10.txt', '2424_7.txt', '5584_8.txt', '3787_10.txt', '10841_10.txt', '2872_10.txt', '1149_8.txt', '2217_7.txt', '2733_10.txt', '11360_7.txt', '3586_10.txt', '6385_10.txt', '11894_10.txt', '2382_7.txt', '9758_10.txt', '670_7.txt', '8201_8.txt', '9682_10.txt', '11337_10.txt', '9977_7.txt', '134_10.txt', '481_10.txt', '4785_10.txt', '5941_8.txt', '11782_8.txt', '5084_7.txt', '10980_7.txt', '2219_10.txt', '5145_10.txt', '1992_10.txt', '7608_10.txt', '1185_8.txt', '10728_10.txt', '4663_8.txt', '10557_9.txt', '11721_7.txt', '10262_10.txt', '8075_8.txt', '9648_8.txt', '2704_10.txt', '12099_9.txt', '7413_9.txt', '3287_9.txt', '6091_7.txt', '9754_10.txt', '1873_8.txt', '888_8.txt', '9969_10.txt', '6819_8.txt', '12187_9.txt', '12419_10.txt', '9943_7.txt', '5775_7.txt', '547_10.txt', '7340_8.txt', '1565_7.txt', '2898_9.txt', '4410_10.txt', '6917_9.txt', '3594_7.txt', '4274_10.txt', '439_9.txt', '425_10.txt', '665_9.txt', '8929_8.txt', '2880_8.txt', '1375_8.txt', '917_10.txt', '12379_8.txt', '786_7.txt', '183_8.txt', '4091_7.txt', '1174_10.txt', '867_8.txt', '4580_8.txt', '9032_8.txt', '12261_10.txt', '10203_10.txt', '4883_10.txt', '12233_8.txt', '9348_7.txt', '8807_9.txt', '1763_9.txt', '1730_10.txt', '6527_8.txt', '2161_10.txt', '2314_7.txt', '4276_10.txt', '8995_9.txt', '10700_8.txt', '3956_10.txt', '8851_7.txt', '9763_8.txt', '5539_10.txt', '1853_8.txt', '2610_9.txt', '6671_10.txt', '5176_10.txt', '8402_10.txt', '2717_10.txt', '3377_8.txt', '4186_7.txt', '10312_10.txt', '815_7.txt', '8759_8.txt', '3313_10.txt', '1111_10.txt', '8639_9.txt', '6881_9.txt', '1391_7.txt', '5906_8.txt', '480_10.txt', '7509_8.txt', '10016_8.txt', '9742_10.txt', '12357_7.txt', '7787_10.txt', '8330_7.txt', '12297_7.txt', '9671_10.txt', '10100_10.txt', '10967_10.txt', '4545_10.txt', '6098_10.txt', '2012_8.txt', '2392_8.txt', '5120_10.txt', '3179_8.txt', '264_7.txt', '642_10.txt', '4022_8.txt']\n",
            "['9562_10.txt', '7141_7.txt', '7467_8.txt', '3064_10.txt', '12103_10.txt', '7919_9.txt', '10626_8.txt', '1422_10.txt', '2910_7.txt', '4464_8.txt', '6062_8.txt', '8416_10.txt', '12235_8.txt', '9002_7.txt', '2328_9.txt', '657_10.txt', '10041_8.txt', '8390_8.txt', '9997_10.txt', '366_8.txt', '567_9.txt', '11920_9.txt', '8743_10.txt', '3008_8.txt', '4322_10.txt', '2736_9.txt', '4669_8.txt', '6051_9.txt', '2496_8.txt', '9327_9.txt', '10228_10.txt', '3209_10.txt', '7246_10.txt', '1798_10.txt', '3869_7.txt', '8659_9.txt', '2459_9.txt', '199_8.txt', '9222_10.txt', '1820_10.txt', '2269_7.txt', '5910_7.txt', '6211_8.txt', '8581_8.txt', '3663_10.txt', '8398_7.txt', '6370_10.txt', '5635_9.txt', '9464_8.txt', '6760_7.txt', '6789_10.txt', '11164_10.txt', '1429_7.txt', '10562_7.txt', '4561_10.txt', '7553_10.txt', '4072_7.txt', '8312_10.txt', '4786_9.txt', '7619_8.txt', '12167_7.txt', '145_9.txt', '2441_10.txt', '3387_10.txt', '651_9.txt', '7791_9.txt', '4269_7.txt', '5348_7.txt', '7261_9.txt', '9011_10.txt', '3733_8.txt', '3070_10.txt', '3932_8.txt', '2271_10.txt', '10722_7.txt', '1980_8.txt', '10770_7.txt', '7252_10.txt', '7615_10.txt', '4706_10.txt', '1492_9.txt', '1415_9.txt', '1275_7.txt', '9926_8.txt', '5726_10.txt', '610_9.txt', '9778_10.txt', '3407_10.txt', '9857_10.txt', '10363_7.txt', '9144_10.txt', '4104_10.txt', '10295_10.txt', '4850_7.txt', '2699_9.txt', '1431_7.txt', '5498_9.txt', '9716_8.txt', '12161_8.txt', '9246_10.txt', '7574_10.txt', '11807_8.txt', '2359_10.txt', '12415_8.txt', '7272_10.txt', '1722_10.txt', '1626_7.txt', '10597_10.txt', '11898_9.txt', '7276_10.txt', '3743_10.txt', '9284_9.txt', '4704_9.txt', '11939_7.txt', '6721_8.txt', '7394_10.txt', '5281_10.txt', '12227_7.txt', '10711_10.txt', '1894_10.txt', '11588_7.txt', '7519_9.txt', '223_10.txt', '508_7.txt', '5553_8.txt', '147_10.txt', '8055_9.txt', '5531_9.txt', '8255_8.txt', '3612_7.txt', '4917_8.txt', '3758_8.txt', '3601_9.txt', '1826_10.txt', '5590_8.txt', '2710_7.txt', '10362_7.txt', '7671_10.txt', '4381_9.txt', '7747_10.txt', '2735_9.txt', '9697_8.txt', '2825_10.txt', '139_9.txt', '1856_7.txt', '7582_10.txt', '2652_7.txt', '8617_8.txt', '8726_8.txt', '5218_7.txt', '356_9.txt', '6024_7.txt', '10082_8.txt', '2829_10.txt', '4973_10.txt', '1470_8.txt', '6041_8.txt', '1054_9.txt', '3618_10.txt', '1643_10.txt', '11021_10.txt', '3359_9.txt', '7756_10.txt', '5773_10.txt', '8077_7.txt', '9234_9.txt', '2709_10.txt', '6111_8.txt', '11332_8.txt', '6175_10.txt', '5961_8.txt', '1926_8.txt', '3719_10.txt', '579_10.txt', '2275_9.txt', '1232_8.txt', '158_9.txt', '3288_8.txt', '616_10.txt', '1729_10.txt', '6017_10.txt', '3093_8.txt', '1192_10.txt', '8814_8.txt', '1312_10.txt', '3521_8.txt', '2447_7.txt', '11073_7.txt', '2072_8.txt', '12089_10.txt', '1335_7.txt', '10496_10.txt', '1667_10.txt', '5135_9.txt', '456_8.txt', '11620_8.txt', '12295_7.txt', '4861_8.txt', '5785_8.txt', '3189_10.txt', '4682_7.txt', '3568_8.txt', '10020_8.txt', '4834_7.txt', '9467_9.txt', '5812_8.txt', '3168_7.txt', '6832_7.txt', '3030_9.txt', '687_9.txt', '8550_9.txt', '2074_9.txt', '7754_9.txt', '7712_7.txt', '2660_9.txt', '8630_7.txt', '3838_9.txt', '5037_10.txt', '4538_10.txt', '3528_10.txt', '9573_10.txt', '8470_10.txt', '4656_10.txt', '3275_8.txt', '9773_10.txt', '2054_9.txt', '5327_10.txt', '4575_10.txt', '10622_10.txt', '3512_7.txt', '6267_7.txt', '8729_8.txt', '5720_10.txt', '11094_7.txt', '9510_10.txt', '1262_8.txt', '10333_10.txt', '8294_9.txt', '12242_8.txt', '9264_10.txt', '3970_10.txt', '1400_7.txt', '7793_10.txt', '7460_9.txt', '1961_9.txt', '5395_10.txt', '8425_8.txt', '750_7.txt', '5243_7.txt', '10860_10.txt', '8017_10.txt', '4579_8.txt', '1154_10.txt', '3128_7.txt', '351_10.txt', '1240_9.txt', '11156_10.txt', '8092_7.txt', '11463_9.txt', '5449_7.txt', '5013_9.txt', '3507_10.txt', '7656_10.txt', '5086_8.txt', '10776_10.txt', '5478_9.txt', '7800_10.txt', '12362_10.txt', '4724_10.txt', '4222_7.txt', '1239_10.txt', '4977_9.txt', '5066_10.txt', '6679_9.txt', '10490_9.txt', '7313_7.txt', '10314_9.txt', '11512_8.txt', '3709_10.txt', '1478_8.txt', '4883_7.txt', '307_10.txt', '6272_9.txt', '8601_8.txt', '5269_9.txt', '2864_9.txt', '3047_10.txt', '6055_10.txt', '8302_8.txt', '1814_10.txt', '4595_8.txt', '4779_10.txt', '740_8.txt', '8642_10.txt', '7402_10.txt', '700_7.txt', '8865_10.txt', '6644_10.txt', '5824_10.txt', '1_10.txt', '7027_9.txt', '8698_7.txt', '1488_10.txt', '3317_8.txt', '178_10.txt', '8803_8.txt', '5125_9.txt', '2707_8.txt', '7743_7.txt', '6725_8.txt', '3699_9.txt', '3021_9.txt', '9597_10.txt', '2991_8.txt', '4527_8.txt', '2817_10.txt', '10069_10.txt', '8321_10.txt', '3178_10.txt', '5962_9.txt', '3807_10.txt', '8455_7.txt', '144_9.txt', '5831_10.txt', '4273_10.txt', '8453_10.txt', '9421_7.txt', '3829_10.txt', '6025_8.txt', '1806_9.txt', '525_9.txt', '5491_10.txt', '4060_8.txt', '10052_7.txt', '11932_10.txt', '7395_7.txt', '2868_7.txt', '950_10.txt', '11177_7.txt', '14_8.txt', '4814_7.txt', '443_8.txt', '11617_8.txt', '12238_10.txt', '9139_10.txt', '11853_9.txt', '4115_8.txt', '11018_9.txt', '8744_10.txt', '7949_10.txt', '11982_9.txt', '0_10.txt', '12355_8.txt', '5575_8.txt', '9801_10.txt', '2277_8.txt', '3779_8.txt', '6061_10.txt', '9146_8.txt', '11045_8.txt', '11363_10.txt', '7757_10.txt', '1760_9.txt', '1456_8.txt', '11743_9.txt', '1695_7.txt', '9395_8.txt', '662_9.txt', '5165_8.txt', '7828_10.txt', '8874_8.txt', '2708_9.txt', '11120_7.txt', '4979_7.txt', '5127_10.txt', '10645_10.txt', '11531_8.txt', '4968_10.txt', '12117_10.txt', '3195_8.txt', '4455_7.txt', '6130_9.txt', '5075_8.txt', '4223_10.txt', '11621_8.txt', '9396_8.txt', '9444_10.txt', '7127_10.txt', '1634_7.txt', '9204_8.txt', '1608_7.txt', '11475_7.txt', '10902_8.txt', '10593_8.txt', '9545_10.txt', '1860_10.txt', '4525_8.txt', '8087_10.txt', '2028_8.txt', '11417_7.txt', '3861_10.txt', '10545_10.txt', '4067_8.txt', '9067_8.txt', '10093_10.txt', '321_10.txt', '9572_7.txt', '284_10.txt', '10119_10.txt', '5028_8.txt', '10176_9.txt', '3614_10.txt', '146_8.txt', '632_8.txt', '10466_8.txt', '1775_10.txt', '10049_8.txt', '10535_10.txt', '12449_8.txt', '5363_8.txt', '11124_8.txt', '4662_8.txt', '6077_9.txt', '10615_8.txt', '10656_8.txt', '11378_7.txt', '7205_10.txt', '8041_8.txt', '9387_7.txt', '5207_10.txt', '2250_8.txt', '10950_8.txt', '2491_10.txt', '4775_7.txt', '8778_10.txt', '11108_10.txt', '6236_7.txt', '138_8.txt', '6085_8.txt', '9286_10.txt', '3993_9.txt', '1924_10.txt', '10467_9.txt', '3268_10.txt', '12078_8.txt', '231_8.txt', '1300_9.txt', '9331_7.txt', '12293_7.txt', '9152_8.txt', '254_10.txt', '10767_10.txt', '6610_10.txt', '5563_10.txt', '8596_7.txt', '11420_7.txt', '5932_7.txt', '2113_7.txt', '259_10.txt', '4695_10.txt', '10870_8.txt', '7931_9.txt', '5628_10.txt', '6683_9.txt', '10993_10.txt', '6990_8.txt', '7853_8.txt', '6467_7.txt', '5799_10.txt', '1086_10.txt', '1507_8.txt', '9863_10.txt', '8395_10.txt', '11072_8.txt', '7101_7.txt', '2041_7.txt', '6645_10.txt', '4030_8.txt', '4278_9.txt', '10895_10.txt', '4064_8.txt', '6539_9.txt', '4118_7.txt', '10935_8.txt', '91_10.txt', '11780_8.txt', '2798_9.txt', '11224_7.txt', '10908_8.txt', '6962_9.txt', '5020_10.txt', '5647_10.txt', '9206_10.txt', '11431_7.txt', '12447_7.txt', '12115_7.txt', '3312_7.txt', '9017_7.txt', '9689_10.txt', '11857_10.txt', '6982_10.txt', '3996_10.txt', '1642_10.txt', '1136_8.txt', '11673_10.txt', '1187_7.txt', '8155_9.txt', '6386_7.txt', '2112_7.txt', '9365_8.txt', '6402_10.txt', '4372_7.txt', '3782_9.txt', '9726_7.txt', '3424_8.txt', '2394_10.txt', '11676_10.txt', '11830_10.txt', '2191_10.txt', '12434_8.txt', '2035_8.txt', '8409_10.txt', '2734_7.txt', '5819_10.txt', '512_8.txt', '11909_10.txt', '5969_10.txt', '8188_10.txt', '6574_10.txt', '2928_9.txt', '9802_9.txt', '5858_8.txt', '2603_9.txt', '7060_9.txt', '4983_7.txt', '10651_9.txt', '9168_9.txt', '3147_10.txt', '6814_10.txt', '5219_7.txt', '4344_10.txt', '10631_9.txt', '11593_10.txt', '3505_8.txt', '2251_9.txt', '4330_8.txt', '9680_10.txt', '6685_7.txt', '9403_10.txt', '12294_10.txt', '533_10.txt', '590_7.txt', '5850_8.txt', '1025_10.txt', '484_8.txt', '6496_8.txt', '6719_7.txt', '9659_8.txt', '1153_8.txt', '4476_8.txt', '588_7.txt', '5475_8.txt', '193_9.txt', '2221_8.txt', '2787_10.txt', '1962_7.txt', '9045_8.txt', '3972_9.txt', '4081_9.txt', '5484_10.txt', '2180_8.txt', '12223_7.txt', '12012_10.txt', '2597_10.txt', '5629_10.txt', '2939_8.txt', '9108_10.txt', '5462_8.txt', '8366_7.txt', '12093_8.txt', '4925_10.txt', '7979_8.txt', '4636_10.txt', '10762_9.txt', '6770_8.txt', '9706_7.txt', '7262_8.txt', '6047_10.txt', '12189_10.txt', '10717_9.txt', '9944_8.txt', '8558_7.txt', '163_7.txt', '1166_10.txt', '7621_7.txt', '12397_10.txt', '672_8.txt', '8436_10.txt', '6876_10.txt', '12112_8.txt', '10386_7.txt', '1629_8.txt', '11308_10.txt', '7480_8.txt', '2424_9.txt', '3581_10.txt', '9047_7.txt', '12226_7.txt', '8569_8.txt', '9406_8.txt', '9477_8.txt', '1590_10.txt', '3242_8.txt', '11239_10.txt', '10044_8.txt', '2425_10.txt', '9653_10.txt', '1652_10.txt', '2015_10.txt', '3486_8.txt', '12032_7.txt', '9930_9.txt', '5485_10.txt', '11498_9.txt', '622_10.txt', '3060_10.txt', '606_9.txt', '9457_9.txt', '11413_10.txt', '5359_9.txt', '10825_7.txt', '6636_8.txt', '7124_10.txt', '1553_10.txt', '12042_9.txt', '9867_8.txt', '5745_7.txt', '9174_8.txt', '769_9.txt', '2598_10.txt', '10231_9.txt', '8408_10.txt', '344_9.txt', '6222_9.txt', '8990_8.txt', '2081_10.txt', '6248_8.txt', '11820_10.txt', '9058_9.txt', '1710_10.txt', '10302_7.txt', '8746_10.txt', '224_10.txt', '10230_7.txt', '791_10.txt', '10807_7.txt', '9794_10.txt', '5564_10.txt', '186_9.txt', '954_8.txt', '2421_8.txt', '8315_8.txt', '401_10.txt', '6811_8.txt', '3617_8.txt', '3740_8.txt', '9272_8.txt', '446_10.txt', '3578_9.txt', '4173_10.txt', '166_7.txt', '10465_10.txt', '6183_9.txt', '7982_10.txt', '11577_10.txt', '11083_7.txt', '3999_9.txt', '6936_9.txt', '7618_10.txt', '2924_8.txt', '8424_9.txt', '4162_8.txt', '11561_8.txt', '2082_8.txt', '8473_9.txt', '7427_10.txt', '12134_7.txt', '10012_9.txt', '8999_9.txt', '11150_8.txt', '12061_8.txt', '3418_8.txt', '5999_8.txt', '8608_10.txt', '5545_8.txt', '9714_9.txt', '1291_7.txt', '10511_10.txt', '10813_7.txt', '4258_10.txt', '8267_10.txt', '299_8.txt', '11441_10.txt', '2840_9.txt', '4213_10.txt', '7114_8.txt', '1739_10.txt', '453_9.txt', '3161_10.txt', '123_10.txt', '479_9.txt', '2906_8.txt', '741_7.txt', '10995_10.txt', '31_10.txt', '11548_10.txt', '3124_10.txt', '3364_7.txt', '7248_7.txt', '10846_10.txt', '4194_10.txt', '4345_10.txt', '1091_7.txt', '6369_9.txt', '11371_10.txt', '3441_9.txt', '9568_10.txt', '9976_9.txt', '8400_7.txt', '10131_7.txt', '11967_9.txt', '8383_10.txt', '10499_8.txt', '6146_9.txt', '10782_8.txt', '1567_7.txt', '7525_10.txt', '2183_7.txt', '11103_10.txt', '8706_8.txt', '4017_8.txt', '1612_8.txt', '9899_9.txt', '3230_9.txt', '3966_10.txt', '5453_8.txt', '5618_7.txt', '11327_8.txt', '10444_9.txt', '4068_9.txt', '1343_10.txt', '1512_9.txt', '4723_8.txt', '10963_8.txt', '11611_7.txt', '12282_10.txt', '10611_7.txt', '8485_8.txt', '11951_10.txt', '1458_8.txt', '7008_10.txt', '5837_10.txt', '6298_7.txt', '1485_10.txt', '836_9.txt', '8644_10.txt', '2186_10.txt', '9087_9.txt', '10206_8.txt', '2989_8.txt', '819_7.txt', '7182_7.txt', '202_9.txt', '4738_10.txt', '10029_10.txt', '7784_10.txt', '11696_10.txt', '2362_10.txt', '6830_9.txt', '5097_8.txt', '3276_10.txt', '5160_10.txt', '8968_7.txt', '9332_10.txt', '6166_7.txt', '6607_9.txt', '4521_7.txt', '9465_8.txt', '7244_8.txt', '3001_7.txt', '8205_10.txt', '2206_10.txt', '6623_7.txt', '10308_10.txt', '10424_7.txt', '8072_10.txt', '12402_10.txt', '7030_10.txt', '11882_10.txt', '6586_8.txt', '3704_8.txt', '1876_10.txt', '11758_7.txt', '5621_9.txt', '5690_8.txt', '938_10.txt', '3302_7.txt', '2933_10.txt', '3077_9.txt', '4485_8.txt', '2342_10.txt', '7125_8.txt', '7407_8.txt', '11178_10.txt', '11567_9.txt', '11721_9.txt', '7587_8.txt', '389_10.txt', '11574_10.txt', '8221_10.txt', '11683_9.txt', '5560_10.txt', '5501_7.txt', '1600_10.txt', '5011_10.txt', '924_10.txt', '11347_9.txt', '5667_10.txt', '10031_8.txt', '136_9.txt', '576_8.txt', '2227_10.txt', '3559_7.txt', '7593_9.txt', '10062_9.txt', '10384_7.txt', '11783_10.txt', '8870_9.txt', '1384_9.txt', '3158_10.txt', '1681_10.txt', '11027_10.txt', '9334_9.txt', '595_10.txt', '7138_8.txt', '3602_10.txt', '11712_7.txt', '11885_9.txt', '1258_10.txt', '7042_8.txt', '11276_7.txt', '11921_7.txt', '7169_10.txt', '8714_9.txt', '10789_8.txt', '915_10.txt', '9184_7.txt', '5807_10.txt', '1822_8.txt', '8021_9.txt', '3249_9.txt', '3417_9.txt', '4700_10.txt', '10677_10.txt', '6451_9.txt', '10236_10.txt', '11761_7.txt', '8016_8.txt', '7943_9.txt', '7418_10.txt', '2897_10.txt', '6303_9.txt', '11397_10.txt', '5681_9.txt', '5143_8.txt', '8413_10.txt', '9280_7.txt', '9301_8.txt', '2069_10.txt', '10852_9.txt', '1518_10.txt', '6866_9.txt', '10322_9.txt', '3333_7.txt', '4477_10.txt', '11688_7.txt', '11835_10.txt', '9586_8.txt', '8234_7.txt', '5668_10.txt', '4395_10.txt', '4012_10.txt', '6654_10.txt', '6098_9.txt', '9239_10.txt', '2633_7.txt', '7470_8.txt', '1576_7.txt', '8462_7.txt', '10129_10.txt', '3755_9.txt', '10098_9.txt', '10371_8.txt', '4320_10.txt', '6861_7.txt', '4892_10.txt', '7242_9.txt', '4664_7.txt', '5372_8.txt', '11804_10.txt', '9788_10.txt', '8343_10.txt', '1917_10.txt', '10637_9.txt', '8592_10.txt', '7374_7.txt', '1998_8.txt', '3697_10.txt', '8040_8.txt', '12185_10.txt', '9422_7.txt', '3621_10.txt', '5312_7.txt', '7321_7.txt', '9007_8.txt', '3591_10.txt', '12352_8.txt', '11392_10.txt', '12237_10.txt', '7329_7.txt', '8061_9.txt', '8093_7.txt', '10602_8.txt', '10867_9.txt', '10923_7.txt', '2050_10.txt', '1045_9.txt', '2133_10.txt', '10361_9.txt', '247_8.txt', '7557_10.txt', '6952_8.txt', '487_10.txt', '9130_9.txt', '6728_9.txt', '10269_8.txt', '10964_7.txt', '5710_10.txt', '7051_7.txt', '10768_8.txt', '9333_8.txt', '6287_7.txt', '6045_7.txt', '4298_8.txt', '7802_9.txt', '11265_10.txt', '4113_8.txt', '5436_9.txt', '685_8.txt', '5316_10.txt', '8497_10.txt', '203_10.txt', '5021_8.txt', '7932_10.txt', '4890_9.txt', '4226_9.txt', '6093_9.txt', '8969_7.txt', '2743_10.txt', '8776_10.txt', '11983_10.txt', '4541_9.txt', '7253_10.txt', '9207_10.txt', '11289_10.txt', '2129_9.txt', '1411_10.txt', '6284_7.txt', '7288_9.txt', '5214_8.txt', '10163_7.txt', '10109_10.txt', '3186_8.txt', '4440_8.txt', '11695_8.txt', '5069_8.txt', '6661_9.txt', '11075_8.txt', '5995_8.txt', '3538_8.txt', '10448_7.txt', '8918_7.txt', '4953_7.txt', '29_10.txt', '12377_10.txt', '5755_8.txt', '994_7.txt', '3572_10.txt', '11470_10.txt', '6859_8.txt', '900_9.txt', '10048_8.txt', '2420_8.txt', '2471_7.txt', '4901_10.txt', '7730_8.txt', '4463_7.txt', '4079_8.txt', '6987_10.txt', '1929_10.txt', '64_10.txt', '7315_7.txt', '8909_10.txt', '7487_9.txt', '4863_7.txt', '9509_10.txt', '2637_10.txt', '3918_8.txt', '11066_7.txt', '12074_10.txt', '3840_10.txt', '6028_10.txt', '8781_7.txt', '4071_8.txt', '179_10.txt', '238_9.txt', '7488_7.txt', '2632_9.txt', '9780_10.txt', '3114_7.txt', '9924_8.txt', '7199_10.txt', '1067_9.txt', '9640_8.txt', '8196_10.txt', '10160_7.txt', '10904_9.txt', '10165_9.txt', '6059_10.txt', '1475_7.txt', '8687_8.txt', '8147_10.txt', '7226_8.txt', '176_9.txt', '4821_8.txt', '8069_8.txt', '4100_8.txt', '1586_7.txt', '1320_9.txt', '6704_10.txt', '2610_7.txt', '4360_10.txt', '7183_10.txt', '8035_10.txt', '4219_10.txt', '3261_7.txt', '2783_10.txt', '12275_7.txt', '11616_7.txt', '397_7.txt', '7437_10.txt', '6581_10.txt', '11702_8.txt', '2493_10.txt', '894_7.txt', '10404_9.txt', '7441_9.txt', '8850_10.txt', '3712_10.txt', '3456_10.txt', '4798_9.txt', '343_9.txt', '7319_8.txt', '3420_10.txt', '4279_8.txt', '5257_10.txt', '7097_10.txt', '703_8.txt', '540_8.txt', '2176_8.txt', '4437_8.txt', '9074_9.txt', '2515_8.txt', '6525_10.txt', '11527_10.txt', '11361_10.txt', '3533_10.txt', '8986_10.txt', '4761_7.txt', '9183_7.txt', '9834_8.txt', '7236_10.txt', '6487_7.txt', '4144_8.txt', '751_7.txt', '6745_7.txt', '10503_8.txt', '134_8.txt', '7602_10.txt', '7835_7.txt', '6106_9.txt', '8899_7.txt', '11649_9.txt', '4145_8.txt', '9842_7.txt', '8910_10.txt', '9287_10.txt', '1922_10.txt', '10260_10.txt', '3019_9.txt', '4721_10.txt', '4235_7.txt', '5420_10.txt', '5002_10.txt', '2517_7.txt', '10848_9.txt', '229_10.txt', '7071_10.txt', '2334_9.txt', '11643_7.txt', '2140_7.txt', '10744_8.txt', '6268_8.txt', '5116_10.txt', '4852_8.txt', '10875_7.txt', '2590_10.txt', '10737_9.txt', '1191_7.txt', '10263_7.txt', '3674_8.txt', '7866_7.txt', '8723_8.txt', '6420_8.txt', '9636_10.txt', '8167_10.txt', '5573_10.txt', '4916_10.txt', '1210_8.txt', '8129_9.txt', '7023_7.txt', '8045_9.txt', '6436_10.txt', '4867_10.txt', '10468_10.txt', '1315_10.txt', '7975_10.txt', '5224_7.txt', '7305_10.txt', '5711_10.txt', '3405_10.txt', '6226_7.txt', '7116_7.txt', '3735_8.txt', '10033_8.txt', '821_10.txt', '10334_7.txt', '3725_7.txt', '10934_8.txt', '8618_7.txt', '10655_10.txt', '12378_7.txt', '1388_8.txt', '3471_10.txt', '3668_9.txt', '6619_10.txt', '12171_9.txt', '6069_10.txt', '11095_8.txt', '10918_8.txt', '9973_9.txt', '1449_8.txt', '6120_8.txt', '8818_10.txt', '9416_9.txt', '3422_10.txt', '245_8.txt', '10507_7.txt', '10892_8.txt', '12253_10.txt', '4913_10.txt', '1346_7.txt', '5602_10.txt', '5468_10.txt', '7829_7.txt', '8559_7.txt', '1211_8.txt', '5216_10.txt', '11505_10.txt', '2347_10.txt', '10560_9.txt', '6160_10.txt', '8237_10.txt', '7850_10.txt', '5098_10.txt', '9627_8.txt', '6808_9.txt', '7176_10.txt', '11866_10.txt', '7270_7.txt', '9192_7.txt', '8037_7.txt', '1849_10.txt', '1360_7.txt', '196_9.txt', '7797_10.txt', '6753_9.txt', '5461_7.txt', '4354_9.txt', '4688_10.txt', '5901_10.txt', '2427_8.txt', '6235_10.txt', '1374_9.txt', '6930_7.txt', '1085_9.txt', '3917_10.txt', '7290_10.txt', '6126_8.txt', '11404_8.txt', '9148_9.txt', '2574_10.txt', '10982_10.txt', '4715_9.txt', '1984_8.txt', '10181_10.txt', '2675_7.txt', '12083_10.txt', '8942_8.txt', '822_10.txt', '11720_7.txt', '4583_8.txt', '174_7.txt', '85_10.txt', '1633_8.txt', '1445_9.txt', '11884_10.txt', '20_9.txt', '3228_7.txt', '3454_8.txt', '824_8.txt', '5945_10.txt', '7847_10.txt', '7497_8.txt', '70_8.txt', '12375_10.txt', '4267_10.txt', '782_9.txt', '7405_10.txt', '8908_10.txt', '6117_10.txt', '7570_10.txt', '8868_7.txt', '1000_9.txt', '3890_8.txt', '618_7.txt', '8186_8.txt', '10538_10.txt', '7729_9.txt', '9650_7.txt', '11665_9.txt', '3090_8.txt', '9988_10.txt', '3910_9.txt', '5202_10.txt', '5622_8.txt', '8097_7.txt', '8933_8.txt', '4006_7.txt', '6066_9.txt', '5330_8.txt', '4121_10.txt', '6913_9.txt', '3556_9.txt', '11316_10.txt', '6696_9.txt', '3220_10.txt', '9504_9.txt', '10143_9.txt', '5082_10.txt', '4039_9.txt', '10168_9.txt', '9462_10.txt', '6321_9.txt', '11097_9.txt', '9826_8.txt', '11105_9.txt', '4816_8.txt', '3173_7.txt', '1132_8.txt', '8964_7.txt', '11055_9.txt', '11756_9.txt', '8346_8.txt', '3131_9.txt', '9072_10.txt', '3752_10.txt', '5972_9.txt', '9357_8.txt', '1530_10.txt', '10368_8.txt', '7105_8.txt', '4400_10.txt', '3219_10.txt', '10859_9.txt', '6878_9.txt', '11154_7.txt', '7811_10.txt', '10921_10.txt', '9960_10.txt', '1228_7.txt', '5335_8.txt', '342_10.txt', '3478_9.txt', '12020_10.txt', '3444_10.txt', '11823_8.txt', '977_9.txt', '4554_8.txt', '4797_8.txt', '7996_10.txt', '5104_8.txt', '10259_10.txt', '5418_9.txt', '8525_7.txt', '5540_7.txt', '5817_8.txt', '6200_8.txt', '8532_7.txt', '9670_10.txt', '7366_7.txt', '2816_9.txt', '1176_9.txt', '8738_10.txt', '2346_10.txt', '5753_10.txt', '1471_10.txt', '8375_8.txt', '7383_10.txt', '3363_7.txt', '10406_8.txt', '3580_10.txt', '5482_8.txt', '7489_10.txt', '5424_10.txt', '10060_10.txt', '4221_8.txt', '4811_8.txt', '6800_10.txt', '12394_7.txt', '6666_8.txt', '4936_9.txt', '1967_10.txt', '9779_10.txt', '6550_7.txt', '309_10.txt', '8173_10.txt', '12292_10.txt', '5583_10.txt', '11995_7.txt', '1517_9.txt', '6831_8.txt', '1416_7.txt', '3922_7.txt', '4355_8.txt', '9150_8.txt', '9285_10.txt', '56_10.txt', '6512_7.txt', '7708_10.txt', '8319_10.txt', '9619_7.txt', '1786_8.txt', '11214_10.txt', '1837_9.txt', '10366_8.txt', '12325_10.txt', '4515_10.txt', '3545_7.txt', '170_7.txt', '6604_7.txt', '3502_9.txt', '11826_10.txt', '11050_8.txt', '4831_8.txt', '258_8.txt', '5528_8.txt', '2764_10.txt', '6378_9.txt', '4900_7.txt', '2008_10.txt', '295_8.txt', '10471_10.txt', '12452_8.txt', '7325_10.txt', '4750_8.txt', '11605_7.txt', '7780_10.txt', '4985_7.txt', '6613_10.txt', '2592_8.txt', '2571_7.txt', '7530_9.txt', '6898_10.txt', '3767_8.txt', '5768_9.txt', '2417_8.txt', '3963_7.txt', '12261_7.txt', '11713_9.txt', '8834_9.txt', '8246_8.txt', '5778_7.txt', '2673_9.txt', '9401_7.txt', '4263_9.txt', '11372_9.txt', '6978_8.txt', '7478_10.txt', '4790_7.txt', '7611_7.txt', '5797_7.txt', '1454_8.txt', '2144_9.txt', '3153_10.txt', '12366_9.txt', '4885_10.txt', '11850_7.txt', '11971_8.txt', '2800_8.txt', '7476_10.txt', '5747_7.txt', '1808_9.txt', '8510_8.txt', '9390_10.txt', '8604_10.txt', '1649_10.txt', '1490_9.txt', '7122_10.txt', '5539_7.txt', '807_10.txt', '504_8.txt', '2171_10.txt', '3055_7.txt', '6901_8.txt', '788_10.txt', '8685_7.txt', '2802_8.txt', '2108_8.txt', '6445_10.txt', '1801_10.txt', '11598_10.txt', '9325_9.txt', '4981_8.txt', '9005_7.txt', '8777_10.txt', '10742_10.txt', '2504_7.txt', '11321_8.txt', '12176_10.txt', '11270_10.txt', '767_7.txt', '10922_8.txt', '38_8.txt', '6464_9.txt', '1396_8.txt', '4084_8.txt', '3756_7.txt', '1640_8.txt', '7416_10.txt', '7128_9.txt', '3660_8.txt', '6253_10.txt', '5708_8.txt', '6977_9.txt', '3574_9.txt', '12480_8.txt', '4378_7.txt', '7209_9.txt', '6625_8.txt', '5806_10.txt', '8082_7.txt', '3895_7.txt', '3811_9.txt', '10455_9.txt', '5906_10.txt', '1353_7.txt', '5874_10.txt', '636_9.txt', '2498_7.txt', '3508_10.txt', '5978_10.txt', '160_10.txt', '12374_10.txt', '3415_7.txt', '8972_7.txt', '7736_7.txt', '10986_10.txt', '4489_10.txt', '3429_8.txt', '8838_9.txt', '11698_10.txt', '2190_10.txt', '3785_8.txt', '2555_8.txt', '3336_7.txt', '546_7.txt', '680_8.txt', '1285_9.txt', '8794_10.txt', '1007_9.txt', '2193_10.txt', '2283_10.txt', '6381_9.txt', '2226_10.txt', '2287_10.txt', '9214_9.txt', '2151_10.txt', '7959_10.txt', '4109_7.txt', '9032_7.txt', '8388_9.txt', '8454_8.txt', '3304_8.txt', '1385_7.txt', '4321_9.txt', '12413_9.txt', '5887_10.txt', '8178_7.txt', '3320_7.txt', '8552_9.txt', '4101_8.txt', '6906_9.txt', '1819_10.txt', '42_10.txt', '6949_9.txt', '5189_9.txt', '13_9.txt', '4570_7.txt', '3516_7.txt', '501_10.txt', '5228_9.txt', '5645_10.txt', '10896_10.txt', '1443_7.txt', '1402_8.txt', '10256_10.txt', '7458_10.txt', '10174_9.txt', '12492_10.txt', '7314_10.txt', '12476_8.txt', '1111_7.txt', '12266_7.txt', '11960_7.txt', '10500_7.txt', '1004_10.txt', '4094_10.txt', '10889_9.txt', '839_10.txt', '322_8.txt', '3666_9.txt', '9300_9.txt', '12322_8.txt', '1381_7.txt', '10136_10.txt', '7207_9.txt', '5655_10.txt', '10196_8.txt', '4510_7.txt', '3959_10.txt', '8031_9.txt', '11466_8.txt', '66_10.txt', '211_10.txt', '8359_7.txt', '9064_7.txt', '3200_8.txt', '6251_10.txt', '9514_8.txt', '3558_10.txt', '10043_10.txt', '2324_9.txt', '12201_10.txt', '1137_10.txt', '4458_7.txt', '7606_10.txt', '10281_9.txt', '1996_10.txt', '5662_8.txt', '9868_10.txt', '6408_7.txt', '1991_7.txt', '4933_8.txt', '7523_10.txt', '11410_7.txt', '5761_10.txt', '5616_10.txt', '325_10.txt', '603_8.txt', '11535_10.txt', '10811_9.txt', '1878_8.txt', '7698_7.txt', '11064_8.txt', '1915_8.txt', '279_10.txt', '11251_7.txt', '3112_10.txt', '11594_9.txt', '5124_10.txt', '11578_10.txt', '5394_8.txt', '7110_7.txt', '2167_9.txt', '2318_8.txt', '7043_10.txt', '3171_8.txt', '12262_7.txt', '3326_9.txt', '9948_7.txt', '470_10.txt', '8521_8.txt', '1645_10.txt', '1424_10.txt', '11130_8.txt', '11456_10.txt', '602_10.txt', '5323_9.txt', '982_8.txt', '2486_8.txt', '9616_10.txt', '4745_8.txt', '7710_8.txt', '5147_7.txt', '9805_10.txt', '10834_10.txt', '7107_7.txt', '3915_8.txt', '6794_10.txt', '2885_9.txt', '809_10.txt', '8046_8.txt', '2968_7.txt', '11373_10.txt', '4765_7.txt', '12004_9.txt', '3898_8.txt', '5064_8.txt', '165_7.txt', '5523_8.txt', '2719_8.txt', '11273_10.txt', '10412_8.txt', '11366_10.txt', '3710_10.txt', '942_10.txt', '9311_10.txt', '9738_10.txt', '2344_10.txt', '6364_10.txt', '1287_8.txt', '6503_7.txt', '5158_9.txt', '1372_10.txt', '9952_7.txt', '3203_8.txt', '8066_7.txt', '1169_10.txt', '11407_7.txt', '5187_8.txt', '7191_7.txt', '324_10.txt', '9110_10.txt', '9702_8.txt', '1104_9.txt', '6737_10.txt', '981_9.txt', '852_7.txt', '2822_9.txt', '2730_7.txt', '605_10.txt', '9632_7.txt', '3243_9.txt', '3639_7.txt', '4326_10.txt', '6584_7.txt', '3552_7.txt', '7451_10.txt', '7067_10.txt', '4855_9.txt', '277_9.txt', '2594_10.txt', '9793_10.txt', '12244_8.txt', '1151_9.txt', '104_10.txt', '7988_9.txt', '7377_10.txt', '831_7.txt', '7673_10.txt', '7836_9.txt', '1763_10.txt', '4260_8.txt', '8589_8.txt', '5321_9.txt', '923_10.txt', '8527_7.txt', '8963_7.txt', '8495_10.txt', '7275_10.txt', '5360_10.txt', '11145_8.txt', '12435_8.txt', '3984_10.txt', '10420_9.txt', '3766_10.txt', '12300_10.txt', '8852_9.txt', '99_10.txt', '11468_8.txt', '3658_10.txt', '2511_10.txt', '9294_8.txt', '892_8.txt', '4055_8.txt', '11692_9.txt', '2891_10.txt', '5393_8.txt', '5724_8.txt', '8144_10.txt', '3308_7.txt', '8795_10.txt', '2698_10.txt', '5108_7.txt', '7335_10.txt', '3958_9.txt', '6631_10.txt', '4812_9.txt', '722_10.txt', '2432_10.txt', '7639_7.txt', '6339_10.txt', '7622_8.txt', '12252_8.txt', '11189_10.txt', '11408_7.txt', '11901_10.txt', '1799_9.txt', '6781_7.txt', '2169_7.txt', '1417_9.txt', '3198_10.txt', '5551_8.txt', '10065_8.txt', '326_9.txt', '1750_10.txt', '12196_7.txt', '7456_10.txt', '5794_8.txt', '5568_8.txt', '5379_8.txt', '5367_7.txt', '9736_7.txt', '1570_8.txt', '6796_10.txt', '4737_9.txt', '11529_8.txt', '9525_9.txt', '686_8.txt', '11267_10.txt', '7678_9.txt', '6136_10.txt', '11544_10.txt', '12102_10.txt', '6219_10.txt', '2837_10.txt', '8979_9.txt', '787_9.txt', '4889_10.txt', '778_9.txt', '9933_7.txt', '520_10.txt', '7146_9.txt', '1056_8.txt', '5897_10.txt', '11258_8.txt', '725_8.txt', '9881_10.txt', '7173_10.txt', '1361_9.txt', '532_8.txt', '10726_7.txt', '6576_10.txt', '8934_9.txt', '7781_10.txt', '7421_10.txt', '6780_8.txt', '10731_9.txt', '9221_10.txt', '7121_10.txt', '9921_9.txt', '12399_10.txt', '8429_8.txt', '773_8.txt', '1181_10.txt', '8236_8.txt', '9508_9.txt', '2655_10.txt', '4954_7.txt', '7940_10.txt', '7291_9.txt', '2000_9.txt', '9469_10.txt', '9478_7.txt', '4641_10.txt', '11679_10.txt', '701_8.txt', '8881_8.txt', '11009_10.txt', '1874_9.txt', '7748_9.txt', '811_10.txt', '9359_9.txt', '12446_9.txt', '4443_9.txt', '3347_8.txt', '7842_8.txt', '10712_8.txt', '1995_10.txt', '8566_8.txt', '891_9.txt', '8357_10.txt', '2938_10.txt', '11107_7.txt', '2889_10.txt', '7289_10.txt', '8554_9.txt', '7945_9.txt', '7420_7.txt', '2860_8.txt', '1770_10.txt', '4319_9.txt', '1323_9.txt', '3352_7.txt', '3152_10.txt', '4272_9.txt', '8140_7.txt', '1044_8.txt', '7186_7.txt', '3900_8.txt', '11436_9.txt', '3859_10.txt', '130_9.txt', '11271_9.txt', '934_10.txt', '2943_10.txt', '11808_8.txt', '3990_10.txt', '4585_10.txt', '8735_9.txt', '6155_10.txt', '5444_10.txt', '8766_9.txt', '9797_10.txt', '12348_10.txt', '5943_8.txt', '352_10.txt', '40_8.txt', '7864_8.txt', '10780_7.txt', '3927_9.txt', '6049_9.txt', '11785_10.txt', '5469_10.txt', '5994_10.txt', '4794_9.txt', '3251_8.txt', '8170_10.txt', '8026_10.txt', '9876_8.txt', '11537_7.txt', '9298_8.txt', '4262_10.txt', '3469_10.txt', '10080_10.txt', '1831_9.txt', '8511_8.txt', '10431_10.txt', '7917_8.txt', '12108_10.txt', '8168_10.txt', '8888_9.txt', '6038_10.txt', '9943_10.txt', '5263_9.txt', '2428_9.txt', '7701_7.txt', '6807_10.txt', '6809_8.txt', '8967_7.txt', '217_8.txt', '11442_10.txt', '3027_9.txt', '9740_10.txt', '4331_8.txt', '3588_10.txt', '7992_9.txt', '11362_10.txt', '1655_9.txt', '3023_7.txt', '11662_10.txt', '12232_8.txt', '9051_8.txt', '11074_8.txt', '12049_8.txt', '4472_8.txt', '867_9.txt', '1503_8.txt', '1130_8.txt', '9940_8.txt', '3827_9.txt', '907_7.txt', '6677_8.txt', '269_8.txt', '8048_7.txt', '3703_8.txt', '4494_8.txt', '6577_10.txt', '9628_9.txt', '1752_10.txt', '3911_10.txt', '997_7.txt', '2553_8.txt', '7568_10.txt', '463_8.txt', '10620_9.txt', '5440_8.txt', '11584_10.txt', '8603_10.txt', '3413_10.txt', '1308_8.txt', '5059_10.txt', '6078_8.txt', '4210_7.txt', '11460_10.txt', '7964_9.txt', '8216_8.txt', '1738_8.txt', '1500_9.txt', '4399_9.txt', '6730_7.txt', '8635_10.txt', '212_7.txt', '11358_9.txt', '4052_7.txt', '2894_10.txt', '941_10.txt', '12199_7.txt', '3323_10.txt', '9993_10.txt', '1498_10.txt', '9244_9.txt', '9046_10.txt', '4306_7.txt', '7846_9.txt', '4601_9.txt', '3321_9.txt', '8857_10.txt', '8831_10.txt', '8290_10.txt', '2642_8.txt', '11507_10.txt', '4011_8.txt', '8457_9.txt', '10760_8.txt', '5507_7.txt', '2792_9.txt', '4998_10.txt', '4730_10.txt', '9366_8.txt', '4617_10.txt', '5549_10.txt', '402_8.txt', '914_10.txt', '2209_8.txt', '9614_10.txt', '10457_8.txt', '6186_7.txt', '5131_8.txt', '11863_8.txt', '8376_7.txt', '7651_10.txt', '3043_10.txt', '1751_10.txt', '2306_8.txt', '2388_10.txt', '3014_7.txt', '9358_8.txt', '975_7.txt', '12154_7.txt', '8991_8.txt', '8100_8.txt', '2540_9.txt', '8571_10.txt', '12219_7.txt', '4409_10.txt', '10735_10.txt', '3253_9.txt', '3309_8.txt', '1457_10.txt', '3319_10.txt', '4766_8.txt', '9566_9.txt', '6398_9.txt', '6647_10.txt', '1973_9.txt', '1877_7.txt', '7491_10.txt', '6706_10.txt', '3902_9.txt', '4361_9.txt', '5963_10.txt', '2077_10.txt', '9372_8.txt', '11486_8.txt', '10574_10.txt', '3547_7.txt', '10968_8.txt', '4076_7.txt', '2886_7.txt', '10483_8.txt', '10781_10.txt', '3398_9.txt', '10855_10.txt', '3937_8.txt', '9233_8.txt', '705_10.txt', '4165_10.txt', '380_9.txt', '11771_7.txt', '9370_8.txt', '10907_8.txt', '12195_10.txt', '11004_9.txt', '11369_10.txt', '8740_9.txt', '4976_7.txt', '3401_10.txt', '3184_10.txt', '1944_9.txt', '12091_8.txt', '11755_7.txt', '1495_9.txt', '2661_10.txt', '10928_10.txt', '6144_10.txt', '11243_8.txt', '6396_8.txt', '4203_10.txt', '9382_10.txt', '7439_10.txt', '4245_8.txt', '3632_9.txt', '1019_10.txt', '7632_7.txt', '1092_9.txt', '3729_8.txt', '10970_7.txt', '12148_9.txt', '9346_8.txt', '218_10.txt', '3851_10.txt', '5697_7.txt', '8689_10.txt', '403_7.txt', '4893_8.txt', '10519_8.txt', '11469_8.txt', '8661_7.txt', '5695_10.txt', '4302_7.txt', '9443_10.txt', '12208_9.txt', '10195_10.txt', '10275_9.txt', '8631_10.txt', '585_10.txt', '3046_8.txt', '4142_10.txt', '6174_8.txt', '6382_10.txt', '10675_8.txt', '4424_9.txt', '2090_10.txt', '7031_10.txt', '10856_10.txt', '11140_10.txt', '12323_9.txt', '9288_8.txt', '296_9.txt', '4388_10.txt', '1523_10.txt', '11355_10.txt', '6079_7.txt', '857_7.txt', '8891_8.txt', '3711_7.txt', '6101_10.txt', '8854_10.txt', '659_8.txt', '2014_7.txt', '1773_7.txt', '7159_10.txt', '7880_10.txt', '4181_10.txt', '6915_10.txt', '5166_10.txt', '8044_9.txt', '2096_9.txt', '2674_7.txt', '10579_10.txt', '6546_10.txt', '6858_8.txt', '5656_8.txt', '12080_10.txt', '5236_8.txt', '7724_7.txt', '9499_7.txt', '9485_9.txt', '9744_10.txt', '7533_10.txt', '8162_9.txt', '5191_8.txt', '9249_9.txt', '4066_8.txt', '3088_8.txt', '5923_10.txt', '11955_9.txt', '11845_7.txt', '690_10.txt', '2839_8.txt', '373_10.txt', '10639_10.txt', '4548_10.txt', '9361_10.txt', '1787_7.txt', '1862_8.txt', '7283_9.txt', '11313_10.txt', '1858_8.txt', '2446_10.txt', '6749_10.txt', '5388_8.txt', '8478_9.txt', '2663_10.txt', '207_9.txt', '6390_10.txt', '5422_10.txt', '8653_10.txt', '8033_9.txt', '1579_7.txt', '8326_10.txt', '4782_10.txt', '4735_9.txt', '8324_10.txt', '732_8.txt', '10400_9.txt', '5001_8.txt', '7423_9.txt', '7665_9.txt', '8590_8.txt', '8638_10.txt', '7605_10.txt', '5362_10.txt', '6415_8.txt', '8664_10.txt', '7474_9.txt', '2776_10.txt', '10948_8.txt', '12182_10.txt', '1196_9.txt', '1235_8.txt', '3176_9.txt', '7801_10.txt', '12022_10.txt', '5476_7.txt', '5012_7.txt', '7083_9.txt', '9388_10.txt', '11202_10.txt', '12419_8.txt', '12250_10.txt', '6575_10.txt', '3721_10.txt', '4406_9.txt', '678_7.txt', '10974_8.txt', '4037_10.txt', '1679_10.txt', '423_10.txt', '10814_9.txt', '1269_10.txt', '10635_10.txt', '3544_8.txt', '11406_8.txt', '3016_8.txt', '3633_9.txt', '9050_9.txt', '11722_9.txt', '8809_10.txt', '2957_8.txt', '200_8.txt', '5060_7.txt', '5663_10.txt', '7258_9.txt', '630_7.txt', '4218_9.txt', '12256_9.txt', '4246_9.txt', '3615_8.txt', '9865_10.txt', '11476_10.txt', '8875_10.txt', '6071_10.txt', '7790_10.txt', '3794_10.txt', '554_9.txt', '396_7.txt', '1252_7.txt', '2588_8.txt', '6_7.txt', '5128_7.txt', '10599_8.txt', '7555_10.txt', '511_7.txt', '5434_7.txt', '4045_10.txt', '10456_10.txt', '5811_7.txt', '6726_9.txt', '4603_8.txt', '6674_10.txt', '8742_10.txt', '8702_10.txt', '10493_10.txt', '3664_8.txt', '5113_8.txt', '2204_10.txt', '7865_7.txt', '10798_10.txt', '10232_10.txt', '3301_8.txt', '1162_10.txt', '855_9.txt', '4895_10.txt', '11122_8.txt', '2967_9.txt', '3865_8.txt', '4422_10.txt', '9437_10.txt', '9306_8.txt', '4580_10.txt', '5289_8.txt', '1772_9.txt', '6149_10.txt', '9630_10.txt', '6801_8.txt', '4550_10.txt', '4000_10.txt', '9135_10.txt', '8741_10.txt', '8801_9.txt', '1919_8.txt', '4791_10.txt', '4753_9.txt', '5007_10.txt', '6843_10.txt', '1408_10.txt', '4649_10.txt', '10539_8.txt', '11266_10.txt', '5983_10.txt', '5567_10.txt', '6871_9.txt', '6562_8.txt', '59_10.txt', '3921_8.txt', '2011_10.txt', '1145_9.txt', '3076_10.txt', '6681_10.txt', '1901_10.txt', '3461_8.txt', '11359_8.txt', '12363_7.txt', '3122_7.txt', '4709_10.txt', '3463_8.txt', '5746_10.txt', '8102_9.txt', '246_10.txt', '1057_8.txt', '6665_8.txt', '10979_8.txt', '1675_9.txt', '5529_10.txt', '12331_9.txt', '11763_8.txt', '1865_8.txt', '3000_8.txt', '828_7.txt', '1817_10.txt', '10494_8.txt', '10300_10.txt', '8816_8.txt', '8678_9.txt', '10603_8.txt', '7774_10.txt', '3629_9.txt', '2804_9.txt', '1038_10.txt', '10733_10.txt', '3072_10.txt', '4672_8.txt', '10472_10.txt', '543_8.txt', '10847_10.txt', '3223_7.txt', '9342_8.txt', '9481_10.txt', '7069_10.txt', '11628_10.txt', '3474_10.txt', '4759_9.txt', '4151_10.txt', '9123_10.txt', '11294_8.txt', '3130_9.txt', '4701_10.txt', '2194_10.txt', '12158_10.txt', '8289_10.txt', '9195_7.txt', '2833_8.txt', '493_7.txt', '8758_10.txt', '8038_10.txt', '5163_10.txt', '8360_7.txt', '7644_7.txt', '9570_10.txt', '5700_9.txt', '7860_10.txt', '177_8.txt', '12306_10.txt', '4877_9.txt', '3926_7.txt', '8539_8.txt', '464_10.txt', '9430_8.txt', '1880_7.txt', '6261_8.txt', '2635_10.txt', '1286_8.txt', '7057_7.txt', '341_9.txt', '3821_10.txt', '4038_9.txt', '10135_8.txt', '7504_8.txt', '3647_10.txt', '9663_9.txt', '6239_8.txt', '2268_10.txt', '5199_10.txt', '2103_8.txt', '4991_10.txt', '5929_8.txt', '301_10.txt', '8498_7.txt', '282_10.txt', '6976_10.txt', '9393_9.txt', '7019_10.txt', '9837_7.txt', '2693_9.txt', '5915_8.txt', '7971_8.txt', '5639_9.txt', '1551_7.txt', '3185_10.txt', '11855_10.txt', '10262_7.txt', '7094_7.txt', '9932_10.txt', '11284_10.txt', '1354_7.txt', '5522_10.txt', '1206_10.txt', '2544_10.txt', '1087_10.txt', '6068_10.txt', '5885_10.txt', '2249_9.txt', '11583_10.txt', '5777_10.txt', '11472_7.txt', '728_10.txt', '9503_10.txt', '6711_7.txt', '9530_10.txt', '5562_9.txt', '4431_9.txt', '4569_10.txt', '3577_8.txt', '10152_9.txt', '1352_7.txt', '11556_9.txt', '3651_10.txt', '11625_10.txt', '10039_8.txt', '184_9.txt', '5909_8.txt', '1481_10.txt', '927_10.txt', '2310_10.txt', '1556_9.txt', '1167_10.txt', '10516_10.txt', '11953_10.txt', '5652_10.txt', '1983_9.txt', '10674_7.txt', '9622_9.txt', '4404_10.txt', '11599_7.txt', '4997_8.txt', '6358_10.txt', '3976_7.txt', '9090_8.txt', '779_8.txt', '8301_8.txt', '4195_7.txt', '10003_8.txt', '26_10.txt', '10460_10.txt', '8480_10.txt', '2322_7.txt', '2115_10.txt', '3318_7.txt', '9461_8.txt', '3111_10.txt', '2189_8.txt', '736_8.txt', '6826_7.txt', '5736_8.txt', '5515_10.txt', '9020_10.txt', '3563_8.txt', '8134_7.txt', '11935_9.txt', '3931_10.txt', '10977_9.txt', '9685_10.txt', '515_9.txt', '4001_8.txt', '4466_9.txt', '10919_7.txt', '11403_9.txt', '11098_8.txt', '8724_8.txt', '1821_8.txt', '11334_7.txt', '6948_9.txt', '5356_7.txt', '4126_8.txt', '10484_10.txt', '2647_10.txt', '3221_10.txt', '1307_10.txt', '11993_10.txt', '897_8.txt', '5256_8.txt', '6893_7.txt', '1757_10.txt', '7662_9.txt', '1721_10.txt', '921_9.txt', '7243_10.txt', '10249_8.txt', '4479_10.txt', '3904_9.txt', '9149_8.txt', '1079_8.txt', '6204_10.txt', '1716_9.txt', '3738_7.txt', '360_9.txt', '7044_10.txt', '4616_9.txt', '7392_9.txt', '1351_7.txt', '8091_7.txt', '3192_8.txt', '4268_8.txt', '4836_10.txt', '194_7.txt', '10284_9.txt', '11200_10.txt', '3769_8.txt', '2047_9.txt', '1119_8.txt', '7512_10.txt', '7010_10.txt', '1932_10.txt', '11562_8.txt', '2581_9.txt', '3442_10.txt', '11000_7.txt', '10513_7.txt', '1460_9.txt', '6036_7.txt', '4778_10.txt', '11435_9.txt', '11348_8.txt', '2542_9.txt', '8928_9.txt', '3517_8.txt', '11430_7.txt', '4441_9.txt', '7108_8.txt', '679_10.txt', '7661_9.txt', '2919_10.txt', '7851_8.txt', '6727_10.txt', '3800_7.txt', '1482_10.txt', '8020_9.txt', '4528_10.txt', '2806_9.txt', '7385_8.txt', '6656_8.txt', '2311_9.txt', '9907_7.txt', '1138_8.txt', '3006_10.txt', '2599_10.txt', '11254_10.txt', '12122_10.txt', '8323_10.txt', '1224_8.txt', '2569_9.txt', '3487_9.txt', '3286_7.txt', '6615_9.txt', '6178_10.txt', '5241_10.txt', '8101_8.txt', '2106_8.txt', '2927_9.txt', '7983_10.txt', '6543_10.txt', '11024_9.txt', '9527_7.txt', '4080_10.txt', '7271_9.txt', '4503_10.txt', '6765_10.txt', '4624_9.txt', '4224_9.txt', '3342_10.txt', '9687_10.txt', '2259_9.txt', '1709_7.txt', '3190_10.txt', '8306_7.txt', '10793_7.txt', '4002_10.txt', '6452_10.txt', '902_10.txt', '331_10.txt', '5570_10.txt', '6495_8.txt', '3938_8.txt', '7704_10.txt', '8235_7.txt', '4928_10.txt', '2852_7.txt', '492_10.txt', '2426_10.txt', '2918_9.txt', '5291_8.txt', '3177_10.txt', '7034_10.txt', '9711_9.txt', '486_10.txt', '10662_10.txt', '3796_10.txt', '9971_9.txt', '34_8.txt', '6995_8.txt', '4207_8.txt', '1418_10.txt', '6430_10.txt', '6371_10.txt', '9727_7.txt', '323_10.txt', '2971_10.txt', '5405_7.txt', '3751_10.txt', '5458_9.txt', '329_10.txt', '10442_8.txt', '1653_10.txt', '10786_7.txt', '4564_10.txt', '10771_8.txt', '6449_8.txt', '1741_10.txt', '6443_10.txt', '8479_9.txt', '6177_8.txt', '5732_10.txt', '6772_7.txt', '1769_10.txt', '1986_8.txt', '11492_10.txt', '10975_10.txt', '339_10.txt', '9673_7.txt', '5871_10.txt', '4866_7.txt', '5856_7.txt', '3665_10.txt', '1491_10.txt', '2772_10.txt', '6341_9.txt', '8481_10.txt', '6646_10.txt', '8430_10.txt', '6473_10.txt', '12272_8.txt', '808_10.txt', '11860_10.txt', '10509_8.txt', '4940_10.txt', '5298_9.txt', '8317_10.txt', '6184_8.txt', '8269_10.txt', '10264_8.txt', '12218_8.txt', '7045_7.txt', '8819_10.txt', '5309_10.txt', '2913_8.txt', '8226_9.txt', '3705_7.txt', '8837_10.txt', '4095_10.txt', '7465_7.txt', '548_10.txt', '544_8.txt', '10506_8.txt', '6029_9.txt', '583_8.txt', '2994_8.txt', '6690_8.txt', '8655_7.txt', '1534_10.txt', '1455_10.txt', '414_9.txt', '10378_8.txt', '7826_9.txt', '3788_10.txt', '905_10.txt', '8670_9.txt', '10419_8.txt', '5157_10.txt', '1782_8.txt', '8029_8.txt', '6245_8.txt', '7929_9.txt', '2732_7.txt', '3119_9.txt', '8652_8.txt', '4780_10.txt', '9581_10.txt', '10759_9.txt', '5145_8.txt', '11046_9.txt', '1693_7.txt', '4332_10.txt', '11677_10.txt', '1158_7.txt', '383_9.txt', '2293_8.txt', '2040_10.txt', '8779_8.txt', '1584_7.txt', '4346_7.txt', '6264_8.txt', '10540_10.txt', '8199_9.txt', '2252_9.txt', '9661_10.txt', '2626_10.txt', '7540_9.txt', '12494_8.txt', '3520_9.txt', '1023_10.txt', '1317_10.txt', '3511_10.txt', '11727_8.txt', '6428_8.txt', '4307_9.txt', '8204_7.txt', '5614_10.txt', '11082_8.txt', '3847_7.txt', '5666_10.txt', '8231_7.txt', '4864_8.txt', '9763_9.txt', '9544_7.txt', '4174_10.txt', '5889_10.txt', '2230_9.txt', '4911_7.txt', '3939_7.txt', '8200_10.txt', '7098_10.txt', '4545_9.txt', '8156_10.txt', '4206_7.txt', '11380_10.txt', '4505_9.txt', '10544_10.txt', '10663_10.txt', '11449_8.txt', '1563_8.txt', '10609_9.txt', '6602_7.txt', '11998_8.txt', '6961_9.txt', '1724_10.txt', '581_9.txt', '3820_9.txt', '11518_10.txt', '2980_7.txt', '2260_8.txt', '1094_7.txt', '4398_10.txt', '2038_8.txt', '9875_10.txt', '10942_7.txt', '12124_8.txt', '10036_10.txt', '4495_7.txt', '9281_9.txt', '5911_9.txt', '11786_10.txt', '405_10.txt', '11048_8.txt', '9276_8.txt', '11989_8.txt', '6907_8.txt', '8774_7.txt', '10641_8.txt', '1759_10.txt', '1664_9.txt', '6529_10.txt', '11385_10.txt', '141_8.txt', '10423_9.txt', '2018_10.txt', '12478_9.txt', '12231_7.txt', '8900_7.txt', '5112_10.txt', '2723_8.txt', '9849_8.txt', '11557_7.txt', '2657_10.txt', '12087_10.txt', '6367_10.txt', '3824_8.txt', '3399_8.txt', '10914_7.txt', '10583_10.txt', '10741_9.txt', '11353_10.txt', '3003_10.txt', '1685_10.txt', '6360_7.txt', '6290_7.txt', '9255_10.txt', '5661_10.txt', '10849_10.txt', '1912_8.txt', '4102_10.txt', '2752_10.txt', '4047_10.txt', '7707_10.txt', '11383_10.txt', '598_9.txt', '1340_10.txt', '1015_8.txt', '4980_7.txt', '5280_10.txt', '901_9.txt', '9695_8.txt', '6806_10.txt', '4844_7.txt', '4236_8.txt', '317_10.txt', '460_8.txt', '11301_10.txt', '11185_10.txt', '8073_10.txt', '8389_10.txt', '6708_10.txt', '5973_9.txt', '3569_10.txt', '10321_10.txt', '4994_8.txt', '6527_10.txt', '5886_8.txt', '4516_10.txt', '5988_10.txt', '9320_9.txt', '12058_9.txt', '9719_10.txt', '3453_8.txt', '2527_9.txt', '8316_10.txt', '6373_10.txt', '5110_10.txt', '9836_10.txt', '10276_8.txt', '5358_9.txt', '4050_10.txt', '3742_9.txt', '3945_7.txt', '653_10.txt', '8310_7.txt', '7898_10.txt', '11238_10.txt', '2178_7.txt', '5138_8.txt', '10147_7.txt', '6699_8.txt', '3942_8.txt', '118_10.txt', '10667_10.txt', '2124_8.txt', '1089_10.txt', '5892_10.txt', '9273_8.txt', '9974_8.txt', '9115_10.txt', '1516_7.txt', '2472_10.txt', '10433_8.txt', '12175_9.txt', '6974_7.txt', '2665_10.txt', '1521_8.txt', '10927_9.txt', '10306_8.txt', '4294_7.txt', '816_7.txt', '666_7.txt', '11114_8.txt', '12147_10.txt', '8349_10.txt', '677_9.txt', '9833_7.txt', '6033_8.txt', '538_8.txt', '835_8.txt', '11654_9.txt', '5115_10.txt', '8174_9.txt', '12120_7.txt', '12424_7.txt', '517_8.txt', '593_10.txt', '2758_9.txt', '11412_7.txt', '1762_10.txt', '2809_7.txt', '12067_7.txt', '1847_10.txt', '3259_7.txt', '5820_9.txt', '5751_10.txt', '805_10.txt', '2828_10.txt', '4459_9.txt', '256_10.txt', '7649_7.txt', '6064_9.txt', '1735_10.txt', '1355_7.txt', '592_10.txt', '861_9.txt', '11433_7.txt', '1127_10.txt', '4882_9.txt', '2117_10.txt', '12320_10.txt', '7095_7.txt', '9897_9.txt', '3274_7.txt', '10238_7.txt', '946_7.txt', '3491_7.txt', '6798_8.txt', '4848_10.txt', '5333_10.txt', '2316_8.txt', '10621_10.txt', '11067_10.txt', '7324_8.txt', '803_10.txt', '4389_10.txt', '5302_10.txt', '928_10.txt', '9213_10.txt', '2790_10.txt', '6927_7.txt', '10954_7.txt', '8270_10.txt', '10863_10.txt', '12403_10.txt', '2721_8.txt', '9075_8.txt', '2064_8.txt', '9175_8.txt', '7070_10.txt', '2801_10.txt', '1337_10.txt', '10795_10.txt', '3625_8.txt', '4242_9.txt', '2208_10.txt', '6953_9.txt', '2759_8.txt', '4048_10.txt', '4856_8.txt', '9844_8.txt', '2739_10.txt', '9601_10.txt', '5068_9.txt', '8404_10.txt', '10773_7.txt', '10413_8.txt', '1170_10.txt', '3957_10.txt', '12321_9.txt', '4986_9.txt', '8889_9.txt', '11328_9.txt', '4605_7.txt', '1225_7.txt', '12499_10.txt', '10899_8.txt', '7647_8.txt', '10690_7.txt', '6215_8.txt', '9071_8.txt', '9975_8.txt', '488_8.txt', '1010_9.txt', '3909_10.txt', '9438_10.txt', '11546_10.txt', '4004_7.txt', '10462_10.txt', '3322_7.txt', '11011_10.txt', '7365_8.txt', '7548_9.txt', '1052_10.txt', '11160_7.txt', '1868_10.txt', '3947_8.txt', '7872_10.txt', '3087_9.txt', '2664_10.txt', '9118_10.txt', '6850_10.txt', '3355_9.txt', '7331_7.txt', '2876_7.txt', '10649_10.txt', '6909_9.txt', '1088_8.txt', '5232_8.txt', '5597_9.txt', '1674_9.txt', '9535_9.txt', '4336_10.txt', '4288_8.txt', '6124_10.txt', '562_8.txt', '10240_10.txt', '6312_9.txt', '4630_10.txt', '6580_7.txt', '2330_10.txt', '3254_8.txt', '2922_9.txt', '4899_9.txt', '4182_10.txt', '4198_10.txt', '9524_9.txt', '1657_9.txt', '8761_9.txt', '5748_9.txt', '866_10.txt', '9613_8.txt', '989_7.txt', '6972_7.txt', '10958_8.txt', '1745_8.txt', '10470_10.txt', '9623_8.txt', '1907_10.txt', '8811_7.txt', '8117_10.txt', '3054_7.txt', '985_10.txt', '8646_8.txt', '11305_7.txt', '9293_10.txt', '7082_10.txt', '8907_10.txt', '11155_10.txt', '7256_10.txt', '6294_7.txt', '8939_8.txt', '9979_8.txt', '11444_8.txt', '3042_10.txt', '3264_8.txt', '1632_7.txt', '10296_8.txt', '5985_9.txt', '5642_8.txt', '12172_8.txt', '1177_8.txt', '7_9.txt', '11263_10.txt', '1434_10.txt', '530_10.txt', '8691_7.txt', '9263_8.txt', '6016_7.txt', '8598_8.txt', '550_8.txt', '8567_10.txt', '7759_9.txt', '3611_9.txt', '3771_9.txt', '8431_8.txt', '4138_8.txt', '9171_7.txt', '7735_8.txt', '3291_10.txt', '4696_9.txt', '9460_9.txt', '12106_10.txt', '7239_7.txt', '1788_10.txt', '1515_7.txt', '10512_9.txt', '11947_10.txt', '6713_8.txt', '3980_8.txt', '1237_7.txt', '12149_10.txt', '11179_10.txt', '5958_9.txt', '6193_10.txt', '12160_8.txt', '7614_7.txt', '8220_10.txt', '11360_10.txt', '10320_10.txt', '10790_10.txt', '8120_7.txt', '7412_7.txt', '3592_10.txt', '10310_8.txt', '7134_9.txt', '9385_10.txt', '495_10.txt', '6560_10.txt', '2102_9.txt', '3815_10.txt', '5168_8.txt', '9629_9.txt', '9230_8.txt', '4776_8.txt', '5619_10.txt', '10092_8.txt', '11674_10.txt', '9858_10.txt', '12016_7.txt', '1532_10.txt', '937_10.txt', '748_7.txt', '3546_8.txt', '12311_10.txt', '6944_10.txt', '3175_8.txt', '187_10.txt', '5569_10.txt', '10142_10.txt', '12438_10.txt', '6424_8.txt', '8621_8.txt', '8673_9.txt', '12035_9.txt', '8886_7.txt', '9247_10.txt', '8418_9.txt', '1129_9.txt', '6162_10.txt', '2087_9.txt', '9541_8.txt', '9182_7.txt', '5473_8.txt', '1208_10.txt', '8943_10.txt', '5521_8.txt', '1990_7.txt', '10833_9.txt', '1316_10.txt', '11658_8.txt', '3584_10.txt', '7131_9.txt', '4768_9.txt', '9451_10.txt', '11209_10.txt', '10227_7.txt', '5854_10.txt', '12174_10.txt', '4208_8.txt', '497_9.txt', '7211_7.txt', '4371_7.txt', '761_10.txt', '3673_10.txt', '10267_7.txt', '3133_10.txt', '9536_9.txt', '11188_8.txt', '1373_10.txt', '10755_9.txt', '3052_8.txt', '12347_10.txt', '4829_7.txt', '9018_7.txt', '10099_9.txt', '8403_7.txt', '1571_8.txt', '6164_10.txt', '8364_8.txt', '6171_10.txt', '6816_10.txt', '8136_7.txt', '9210_10.txt', '2152_7.txt', '4396_10.txt', '2530_9.txt', '7577_10.txt', '764_8.txt', '10839_9.txt', '3113_10.txt', '9337_10.txt', '3120_10.txt', '6008_10.txt', '5574_10.txt', '8787_8.txt', '9205_9.txt', '5601_10.txt', '3499_10.txt', '11566_8.txt', '12301_10.txt', '7088_7.txt', '11833_10.txt', '7517_10.txt', '6570_8.txt', '8542_9.txt', '11550_10.txt', '2063_10.txt', '8962_8.txt', '11450_10.txt', '3033_10.txt', '3570_8.txt', '4992_8.txt', '5860_7.txt', '2481_10.txt', '12098_10.txt', '6511_7.txt', '5213_10.txt', '9669_10.txt', '4891_10.txt', '8252_8.txt', '12296_9.txt', '8284_9.txt', '5816_10.txt', '12385_10.txt', '2697_10.txt', '12268_9.txt', '9807_9.txt', '5578_10.txt', '10202_9.txt', '7794_10.txt', '3692_10.txt', '4232_9.txt', '3404_10.txt', '10480_8.txt', '4621_8.txt', '9553_9.txt', '9753_8.txt', '1508_7.txt', '572_10.txt', '9649_10.txt', '11623_10.txt', '12401_10.txt', '4534_7.txt', '1555_10.txt', '11918_10.txt', '2012_9.txt', '2433_8.txt', '8996_9.txt', '8050_7.txt', '7282_8.txt', '7938_10.txt', '1097_9.txt', '11159_10.txt', '814_7.txt', '8281_9.txt', '4920_10.txt', '8914_9.txt', '8109_9.txt', '11660_10.txt', '7660_8.txt', '10291_9.txt', '9297_10.txt', '10725_7.txt', '10211_8.txt', '9038_10.txt', '9069_7.txt', '3282_8.txt', '9455_10.txt', '4632_7.txt', '516_9.txt', '3839_10.txt', '2229_10.txt', '4876_10.txt', '2512_9.txt', '5795_8.txt', '10555_10.txt', '6741_9.txt', '8264_10.txt', '2475_10.txt', '6304_9.txt', '1889_8.txt', '2915_9.txt', '8447_10.txt', '8585_8.txt', '3897_7.txt', '6734_10.txt', '10343_9.txt', '4955_7.txt', '152_10.txt', '4744_9.txt', '1066_8.txt', '4402_10.txt', '2998_8.txt', '11647_10.txt', '776_8.txt', '5689_8.txt', '6273_10.txt', '101_9.txt', '2585_8.txt', '10992_10.txt', '4337_10.txt', '5208_8.txt', '10261_8.txt', '11710_7.txt', '2436_10.txt', '4157_10.txt', '10802_8.txt', '6573_9.txt', '7297_8.txt', '3284_10.txt', '683_7.txt', '3925_8.txt', '5258_7.txt', '8555_7.txt', '7327_10.txt', '7005_8.txt', '1143_8.txt', '9963_8.txt', '10903_8.txt', '5750_8.txt', '5993_10.txt', '168_8.txt', '2946_8.txt', '9588_9.txt', '10700_10.txt', '5735_7.txt', '9217_9.txt', '10618_10.txt', '11781_10.txt', '8524_9.txt', '2285_8.txt', '9517_10.txt', '12417_9.txt', '11023_8.txt', '406_7.txt', '9224_10.txt', '4304_8.txt', '8682_10.txt', '9631_7.txt', '10357_7.txt', '1263_9.txt', '2668_10.txt', '12188_10.txt', '9279_8.txt', '10821_8.txt', '2354_8.txt', '125_7.txt', '5566_10.txt', '2611_8.txt', '933_10.txt', '10389_7.txt', '3600_8.txt', '2754_9.txt', '6688_9.txt', '2601_10.txt', '3978_7.txt', '11966_8.txt', '11822_10.txt', '3549_8.txt', '638_7.txt', '2742_10.txt', '243_9.txt', '7430_8.txt', '9888_8.txt', '11805_7.txt', '6345_9.txt', '10053_10.txt', '4757_10.txt', '1222_8.txt', '10121_10.txt', '7596_10.txt', '11329_9.txt', '7702_10.txt', '11181_8.txt', '10915_8.txt', '1184_10.txt', '6089_10.txt', '5537_7.txt', '2199_10.txt', '6862_7.txt', '7368_7.txt', '11949_9.txt', '9009_7.txt', '9107_10.txt', '8464_8.txt', '2669_7.txt', '11494_8.txt', '541_7.txt', '5895_10.txt', '3748_7.txt', '2930_10.txt', '3935_7.txt', '9345_10.txt', '1824_10.txt', '10125_8.txt', '10981_9.txt', '210_9.txt', '3459_9.txt', '2495_7.txt', '10158_9.txt', '2641_8.txt', '3414_7.txt', '9033_10.txt', '9603_10.txt', '272_10.txt', '2667_10.txt', '2849_7.txt', '9790_10.txt', '6959_9.txt', '5789_10.txt', '2443_10.txt', '7892_10.txt', '4049_9.txt', '2882_10.txt', '8397_10.txt', '6759_10.txt', '9531_9.txt', '2298_9.txt', '4216_8.txt', '8919_10.txt', '1964_8.txt', '7202_10.txt', '518_10.txt', '11669_10.txt', '9919_9.txt', '4567_10.txt', '6633_8.txt', '10243_9.txt', '6102_10.txt', '12243_10.txt', '9271_10.txt', '11395_10.txt', '2279_8.txt', '6676_10.txt', '10871_7.txt', '10372_10.txt', '1378_10.txt', '12038_10.txt', '8039_8.txt', '5931_8.txt', '11232_8.txt', '6614_10.txt', '430_10.txt', '877_10.txt', '9957_10.txt', '2587_9.txt', '8843_10.txt', '3446_10.txt', '421_9.txt', '1451_7.txt', '2893_10.txt', '291_9.txt', '1332_7.txt', '9547_8.txt', '10530_10.txt', '3435_9.txt', '3002_7.txt', '8183_7.txt', '1283_10.txt', '3634_10.txt', '8358_7.txt', '9947_9.txt', '4129_8.txt', '7592_9.txt', '5371_7.txt', '5186_7.txt', '4606_10.txt', '3103_7.txt', '5087_8.txt', '6558_8.txt', '5538_8.txt', '1828_9.txt', '7511_7.txt', '8859_10.txt', '2084_9.txt', '5223_8.txt', '10207_10.txt', '9578_8.txt', '7752_10.txt', '10747_7.txt', '11653_8.txt', '2161_7.txt', '7020_8.txt', '4385_8.txt', '7666_8.txt', '9583_9.txt', '1870_8.txt', '1251_10.txt', '4423_10.txt', '10336_7.txt', '11558_9.txt', '8915_7.txt', '9073_8.txt', '6920_7.txt', '3920_9.txt', '7222_7.txt', '6983_7.txt', '10671_9.txt', '449_9.txt', '3402_9.txt', '4708_10.txt', '5606_7.txt', '3887_10.txt', '9986_10.txt', '6855_7.txt', '4922_10.txt', '4261_8.txt', '2794_9.txt', '8656_7.txt', '7564_8.txt', '7689_7.txt', '9199_10.txt', '6750_10.txt', '7417_7.txt', '612_9.txt', '6009_8.txt', '3610_8.txt', '1413_9.txt', '6632_10.txt', '534_10.txt', '6884_7.txt', '4442_10.txt', '3576_7.txt', '10108_8.txt', '10421_8.txt', '9008_10.txt', '4557_9.txt', '6401_10.txt', '8475_7.txt', '5144_10.txt', '3585_10.txt', '11626_9.txt', '12164_8.txt', '10929_7.txt', '4063_8.txt', '10669_7.txt', '5882_9.txt', '2993_10.txt', '4514_10.txt', '9734_8.txt', '6315_8.txt', '5694_9.txt', '10405_7.txt', '12291_7.txt', '1042_7.txt', '8309_8.txt', '9475_8.txt', '7589_7.txt', '908_9.txt', '5270_10.txt', '6409_10.txt', '10659_10.txt', '6881_8.txt', '5907_7.txt', '8438_8.txt', '7857_10.txt', '5148_7.txt', '10973_7.txt', '5118_10.txt', '5688_7.txt', '5640_9.txt', '5936_8.txt', '3252_9.txt', '5008_9.txt', '12062_10.txt', '4912_10.txt', '12491_9.txt', '9892_10.txt', '2083_7.txt', '4465_8.txt', '8146_9.txt', '3797_8.txt', '2215_7.txt', '11613_7.txt', '65_7.txt', '10529_7.txt', '3373_8.txt', '8260_10.txt', '8233_8.txt', '11309_10.txt', '251_8.txt', '11115_7.txt', '7652_10.txt', '7677_10.txt', '1827_10.txt', '10815_8.txt', '2582_10.txt', '7381_9.txt', '7561_10.txt', '4767_9.txt', '2068_9.txt', '5596_9.txt', '9117_10.txt', '8754_10.txt', '2320_10.txt', '505_9.txt', '1466_8.txt', '10347_10.txt', '9883_10.txt', '11689_7.txt', '11902_10.txt', '4392_10.txt', '7425_9.txt', '7302_10.txt', '6911_9.txt', '5292_10.txt', '1520_8.txt', '11876_10.txt', '660_8.txt', '7987_8.txt', '11844_9.txt', '6882_7.txt', '491_9.txt', '4698_10.txt', '8024_10.txt', '11551_7.txt', '9384_7.txt', '1504_9.txt', '3949_10.txt', '7086_8.txt', '4675_8.txt', '3856_7.txt', '10344_9.txt', '12064_10.txt', '6662_9.txt', '9668_10.txt', '11394_10.txt', '2702_7.txt', '9795_9.txt', '1694_7.txt', '652_8.txt', '6348_8.txt', '8081_7.txt', '3395_9.txt', '3717_10.txt', '1008_10.txt', '8396_10.txt', '8446_10.txt', '8515_10.txt', '5814_10.txt', '3180_10.txt', '5919_8.txt', '2573_10.txt', '9996_10.txt', '5624_10.txt', '7459_10.txt', '5534_8.txt', '11447_8.txt', '6755_8.txt', '2237_7.txt', '4054_10.txt', '1733_8.txt', '11324_10.txt', '9620_7.txt', '1797_10.txt', '7376_8.txt', '3194_10.txt', '1665_8.txt', '756_7.txt', '5527_7.txt', '9598_10.txt', '957_10.txt', '9420_7.txt', '2356_7.txt', '12390_7.txt', '7616_8.txt', '2550_10.txt', '6519_9.txt', '5370_9.txt', '1616_8.txt', '9496_8.txt', '5752_7.txt', '2098_8.txt', '5809_10.txt', '3468_10.txt', '4734_9.txt', '7513_10.txt', '10427_10.txt', '10517_10.txt', '9534_9.txt', '9808_10.txt', '2029_8.txt', '7481_8.txt', '1845_10.txt', '2997_7.txt', '3366_10.txt', '8747_10.txt', '10218_7.txt', '10589_10.txt', '4552_8.txt', '6375_10.txt', '3504_8.txt', '6463_10.txt', '7363_10.txt', '11543_10.txt', '10552_7.txt', '12299_9.txt', '7062_9.txt', '3225_10.txt', '11950_7.txt', '3325_10.txt', '4615_9.txt', '10683_8.txt', '1617_7.txt', '664_9.txt', '5692_8.txt', '4408_10.txt', '9493_10.txt', '62_8.txt', '9559_9.txt', '8564_10.txt', '4365_7.txt', '10428_10.txt', '5767_10.txt', '5410_7.txt', '9353_8.txt', '4938_10.txt', '6786_10.txt', '11563_8.txt', '3880_10.txt', '8960_8.txt', '5149_7.txt', '7104_7.txt', '3024_7.txt', '7875_7.txt', '11427_7.txt', '3380_8.txt', '1672_10.txt', '11719_9.txt', '6744_7.txt', '5717_10.txt', '4046_10.txt', '7687_10.txt', '10536_8.txt', '1486_9.txt', '4140_9.txt', '3888_7.txt', '6985_7.txt', '9666_10.txt', '11386_10.txt', '9061_10.txt', '6996_9.txt', '1419_10.txt', '83_10.txt', '35_9.txt', '9159_9.txt', '333_10.txt', '6318_7.txt', '2859_8.txt', '6802_7.txt', '10623_8.txt', '1033_9.txt', '2429_10.txt', '5714_10.txt', '8820_10.txt', '7821_7.txt', '7025_9.txt', '6618_7.txt', '1245_8.txt', '7048_7.txt', '7482_10.txt', '9798_10.txt', '9415_9.txt', '4062_7.txt', '8606_9.txt', '10331_9.txt', '10657_10.txt', '8840_10.txt', '7079_7.txt', '214_9.txt', '9180_7.txt', '11811_10.txt', '2016_10.txt', '10698_8.txt', '6293_10.txt', '2419_7.txt', '4253_9.txt', '400_10.txt', '8145_9.txt', '1223_8.txt', '3875_9.txt', '7575_9.txt', '949_8.txt', '4633_10.txt', '8088_10.txt', '5329_8.txt', '3202_10.txt', '591_8.txt', '5442_8.txt', '2406_9.txt', '7676_9.txt', '4713_7.txt', '5791_10.txt', '148_9.txt', '11642_8.txt', '455_10.txt', '10245_9.txt', '10880_10.txt', '5266_7.txt', '5295_9.txt', '3430_7.txt', '4270_10.txt', '8739_7.txt', '661_9.txt', '6919_10.txt', '4903_7.txt', '5783_9.txt', '9879_9.txt', '6260_9.txt', '8193_9.txt', '3846_7.txt', '11104_7.txt', '2779_10.txt', '4127_10.txt', '4769_8.txt', '3531_9.txt', '119_9.txt', '2168_10.txt', '5448_7.txt', '3627_8.txt', '9494_7.txt', '11184_10.txt', '3236_10.txt', '12044_10.txt', '7391_9.txt', '2122_10.txt', '895_8.txt', '1618_10.txt', '11802_10.txt', '1742_7.txt', '9936_10.txt', '8966_8.txt', '3801_7.txt', '4111_10.txt', '49_10.txt', '4542_10.txt', '6819_10.txt', '1659_7.txt', '12126_8.txt', '4987_8.txt', '6787_10.txt', '2273_9.txt', '9201_10.txt', '6533_10.txt', '7830_10.txt', '7909_9.txt', '11147_10.txt', '7285_9.txt', '5111_7.txt', '6338_7.txt', '10495_8.txt', '6515_9.txt', '1999_7.txt', '10102_8.txt', '4560_9.txt', '2430_8.txt', '4658_7.txt', '10481_9.txt', '529_10.txt', '11821_10.txt', '8392_8.txt', '3073_10.txt', '1514_7.txt', '8800_10.txt', '8727_9.txt', '4879_8.txt', '1494_10.txt', '1309_7.txt', '2350_8.txt', '1112_8.txt', '9816_9.txt', '2053_8.txt', '2079_10.txt', '4234_9.txt', '3204_7.txt', '10933_8.txt', '1026_10.txt', '9303_8.txt', '1241_7.txt', '10587_10.txt', '4136_7.txt', '7006_8.txt', '4843_10.txt', '12053_9.txt', '7567_9.txt', '7633_7.txt', '6547_10.txt', '11631_7.txt', '5304_10.txt', '6343_8.txt', '3460_8.txt', '1921_8.txt', '12057_10.txt', '7699_9.txt', '2240_10.txt', '11058_8.txt', '3383_8.txt', '1159_8.txt', '3988_7.txt', '10610_7.txt', '12341_7.txt', '8978_10.txt', '6352_9.txt', '4680_7.txt', '482_9.txt', '3749_8.txt', '9232_8.txt', '9658_8.txt', '12468_10.txt', '11717_10.txt', '10949_9.txt', '9745_7.txt', '1198_10.txt', '3787_8.txt', '9584_7.txt', '5322_7.txt', '11070_8.txt', '4450_10.txt', '9012_10.txt', '2824_10.txt', '6481_7.txt', '5607_8.txt', '2148_7.txt', '948_8.txt', '12197_7.txt', '8616_8.txt', '310_9.txt', '9257_10.txt', '5209_10.txt', '4643_7.txt', '2449_9.txt', '270_8.txt', '11678_10.txt', '5212_8.txt', '6116_10.txt', '10632_9.txt', '2741_10.txt', '11798_10.txt', '250_10.txt', '5058_8.txt', '7505_9.txt', '2301_8.txt', '11032_7.txt', '757_9.txt', '3096_10.txt', '3977_10.txt', '6528_10.txt', '10758_10.txt', '6392_10.txt', '8002_9.txt', '3098_8.txt', '11856_7.txt', '5403_10.txt', '2854_7.txt', '8609_7.txt', '11367_10.txt', '1539_10.txt', '11655_10.txt', '10485_10.txt', '115_9.txt', '10124_8.txt', '8932_9.txt', '9295_10.txt', '3912_9.txt', '6347_8.txt', '12026_9.txt', '1243_7.txt', '4013_7.txt', '3218_10.txt', '2509_7.txt', '6391_7.txt', '7293_10.txt', '5900_10.txt', '7586_9.txt', '11257_10.txt', '6617_7.txt', '1148_8.txt', '11244_8.txt', '4209_8.txt', '8160_10.txt', '6108_8.txt', '9147_10.txt', '12495_10.txt', '3853_10.txt', '9343_10.txt', '12138_7.txt', '6733_10.txt', '1861_7.txt', '10247_10.txt', '5441_9.txt', '11619_9.txt', '7177_10.txt', '11597_9.txt', '6383_10.txt', '3238_8.txt', '699_9.txt', '3159_10.txt', '2763_7.txt', '9351_7.txt', '12203_10.txt', '7382_10.txt', '6784_7.txt', '8897_7.txt', '9454_9.txt', '10179_10.txt', '10925_8.txt', '8116_10.txt', '11002_8.txt', '7739_10.txt', '9862_9.txt', '11437_9.txt', '11039_8.txt', '10804_8.txt', '8172_10.txt', '7035_10.txt', '4003_10.txt', '3989_8.txt', '7046_7.txt', '8137_8.txt', '9911_10.txt', '11409_9.txt', '9589_10.txt', '8474_8.txt', '5913_10.txt', '3626_7.txt', '5430_8.txt', '2945_8.txt', '9_7.txt', '2338_10.txt', '9030_7.txt', '10885_10.txt', '4143_9.txt', '5089_9.txt', '1540_10.txt', '2935_7.txt', '10360_9.txt', '4040_10.txt', '9424_9.txt', '2931_8.txt', '9743_10.txt', '9163_10.txt', '11078_8.txt', '8848_8.txt', '1299_9.txt', '11708_7.txt', '1908_10.txt', '9034_10.txt', '2784_10.txt', '378_9.txt', '4141_7.txt', '833_7.txt', '9574_10.txt', '11569_7.txt', '4668_8.txt', '241_7.txt', '6165_8.txt', '9580_7.txt', '4342_7.txt', '8586_7.txt', '10549_10.txt', '5975_10.txt', '3421_7.txt', '9543_10.txt', '9576_10.txt', '5801_9.txt', '7080_9.txt', '2374_7.txt', '95_10.txt', '1513_8.txt', '5857_7.txt', '3306_8.txt', '6838_9.txt', '9085_8.txt', '7249_8.txt', '4764_7.txt', '11462_10.txt', '6851_7.txt', '5970_9.txt', '12280_7.txt', '6095_9.txt', '10086_10.txt', '6326_8.txt', '2331_9.txt', '11930_8.txt', '8994_10.txt', '9065_10.txt', '4156_8.txt', '9258_9.txt', '2987_8.txt', '9296_10.txt', '5849_7.txt', '7951_7.txt', '1585_8.txt', '5061_9.txt', '9289_10.txt', '5776_8.txt', '10660_10.txt', '11010_9.txt', '3110_8.txt', '4703_10.txt', '11711_9.txt', '10570_10.txt', '11849_9.txt', '11059_8.txt', '340_9.txt', '4565_8.txt', '9853_10.txt', '188_10.txt', '5518_10.txt', '8125_8.txt', '6752_10.txt', '1200_10.txt', '1440_8.txt', '7598_8.txt', '7150_10.txt', '5022_8.txt', '10453_10.txt', '10505_7.txt', '2110_7.txt', '9435_7.txt', '842_10.txt', '8449_9.txt', '8083_8.txt', '3770_10.txt', '10355_10.txt', '1630_7.txt', '6457_10.txt', '4874_9.txt', '697_10.txt', '3594_10.txt', '11099_10.txt', '3476_9.txt', '11937_9.txt', '12075_10.txt', '154_9.txt', '4124_7.txt', '6212_10.txt', '9441_10.txt', '4502_8.txt', '7337_10.txt', '7484_8.txt', '4944_10.txt', '10079_10.txt', '5939_7.txt', '7359_10.txt', '1934_7.txt', '7397_7.txt', '1620_7.txt', '12339_7.txt', '205_10.txt', '9984_9.txt', '10680_7.txt', '4729_9.txt', '10088_8.txt', '3791_9.txt', '792_8.txt', '6969_10.txt', '11042_8.txt', '11280_10.txt', '12398_10.txt', '3132_8.txt', '11162_7.txt', '675_8.txt', '3679_10.txt', '9774_10.txt', '12015_8.txt', '5400_9.txt', '8132_7.txt', '5828_10.txt', '992_7.txt', '9434_10.txt', '9245_10.txt', '4014_9.txt', '9507_9.txt', '4474_7.txt', '1048_8.txt', '11428_7.txt', '4646_10.txt', '1648_9.txt', '4391_8.txt', '2_7.txt', '7129_8.txt', '6886_9.txt', '7235_8.txt', '537_10.txt', '10382_10.txt', '5893_10.txt', '1936_7.txt', '10947_8.txt', '8014_10.txt', '624_10.txt', '9814_10.txt', '4959_10.txt', '9427_7.txt', '11381_10.txt', '102_8.txt', '4183_10.txt', '6748_8.txt', '2953_10.txt', '1185_10.txt', '9161_7.txt', '10629_10.txt', '1501_9.txt', '4256_10.txt', '6888_10.txt', '7623_8.txt', '12482_9.txt', '7461_8.txt', '5822_10.txt', '4250_8.txt', '4873_8.txt', '2292_10.txt', '3149_10.txt', '11191_10.txt', '11742_9.txt', '11859_8.txt', '7118_10.txt', '8703_10.txt', '7373_7.txt', '303_10.txt', '9746_10.txt', '237_8.txt', '11345_8.txt', '9014_9.txt', '6012_8.txt', '3732_7.txt', '8894_7.txt', '3445_10.txt', '1363_10.txt', '435_7.txt', '4199_8.txt', '10794_10.txt', '8049_7.txt', '5902_7.txt', '8468_8.txt', '6131_7.txt', '970_7.txt', '8716_9.txt', '11752_10.txt', '3874_7.txt', '6932_10.txt', '10140_10.txt', '1825_10.txt', '10822_8.txt', '7580_10.txt', '2525_8.txt', '11603_10.txt', '10173_8.txt', '2118_10.txt', '734_7.txt', '8593_9.txt', '9160_9.txt', '12361_9.txt', '2440_8.txt', '6220_10.txt', '11249_10.txt', '608_8.txt', '12289_10.txt', '9741_10.txt', '2353_7.txt', '5282_10.txt', '9815_8.txt', '4833_9.txt', '6712_8.txt', '3393_10.txt', '9900_9.txt', '5706_9.txt', '9600_9.txt', '2262_7.txt', '292_10.txt', '10028_10.txt', '1668_7.txt', '7494_9.txt', '4566_10.txt', '8634_7.txt', '4283_9.txt', '9282_9.txt', '11314_8.txt', '10417_7.txt', '5823_10.txt', '3066_10.txt', '2487_9.txt', '4309_9.txt', '114_10.txt', '2624_10.txt', '5195_10.txt', '2044_10.txt', '2497_7.txt', '5401_7.txt', '4280_9.txt', '7231_7.txt', '4291_7.txt', '8675_10.txt', '11794_8.txt', '4800_10.txt', '8283_10.txt', '6425_9.txt', '9690_10.txt', '11533_9.txt', '6524_9.txt', '11700_9.txt', '2602_10.txt', '2376_9.txt', '6792_9.txt', '11422_7.txt', '615_8.txt', '6740_10.txt', '10317_10.txt', '1016_7.txt', '7628_7.txt', '1697_7.txt', '1727_10.txt', '9376_8.txt', '2136_9.txt', '4090_7.txt', '5784_9.txt', '8660_9.txt', '4628_10.txt', '1379_10.txt', '526_10.txt', '6916_9.txt', '11245_10.txt', '1871_10.txt', '3358_8.txt', '4317_9.txt', '7629_8.txt', '11207_10.txt', '7250_8.txt', '2979_9.txt', '12086_9.txt', '5264_9.txt', '11760_7.txt', '11451_7.txt', '9784_10.txt', '2381_7.txt', '7883_9.txt', '4599_9.txt', '802_7.txt', '3250_10.txt', '1823_9.txt', '8071_8.txt', '8924_7.txt', '7072_8.txt', '9448_10.txt', '875_10.txt', '5177_8.txt', '6813_10.txt', '4325_9.txt', '5382_9.txt', '9604_10.txt', '12425_10.txt', '5649_7.txt', '157_10.txt', '8015_9.txt', '5677_10.txt', '1677_10.txt', '3509_8.txt', '4947_9.txt', '6975_8.txt', '6156_8.txt', '1842_10.txt', '264_10.txt', '11375_10.txt', '4350_10.txt', '884_8.txt', '4058_8.txt', '7188_7.txt', '9483_9.txt', '9831_10.txt', '9800_9.txt', '411_8.txt', '11663_10.txt', '10527_10.txt', '9704_7.txt', '1273_7.txt', '12338_8.txt', '12314_10.txt', '1885_8.txt', '859_8.txt', '1207_10.txt', '7389_9.txt', '6854_7.txt', '1311_9.txt', '1059_10.txt', '1542_7.txt', '1076_8.txt', '9546_10.txt', '8421_10.txt', '10685_7.txt', '12267_8.txt', '11131_10.txt', '2001_8.txt', '2255_9.txt', '9426_7.txt', '3389_10.txt', '11970_10.txt', '357_7.txt', '12264_7.txt', '5065_7.txt', '5517_10.txt', '3115_8.txt', '7770_10.txt', '2348_9.txt', '10832_9.txt', '5132_9.txt', '8133_8.txt', '2629_10.txt', '5185_7.txt', '2501_7.txt', '3440_10.txt', '2727_9.txt', '7255_9.txt', '2929_8.txt', '4284_9.txt', '391_10.txt', '3059_8.txt', '7876_9.txt', '577_8.txt', '228_10.txt', '8334_10.txt', '12101_8.txt', '4028_7.txt', '7434_10.txt', '9380_9.txt', '6693_10.txt', '9654_8.txt', '4167_10.txt', '1635_7.txt', '10746_8.txt', '4996_9.txt', '12287_9.txt', '9528_10.txt', '12277_7.txt', '7197_10.txt', '12031_10.txt', '5167_10.txt', '11651_9.txt', '10274_8.txt', '12436_10.txt', '9540_10.txt', '3541_8.txt', '11694_8.txt', '12179_7.txt', '3368_8.txt', '5305_7.txt', '5339_9.txt', '6966_7.txt', '4880_10.txt', '12121_9.txt', '4099_9.txt', '2409_8.txt', '5044_10.txt', '4604_7.txt', '4687_10.txt', '12143_9.txt', '3716_7.txt', '471_10.txt', '7453_10.txt', '1003_8.txt', '1366_10.txt', '2373_10.txt', '8573_7.txt', '4490_10.txt', '7551_10.txt', '79_8.txt', '8032_10.txt', '11153_10.txt', '4884_9.txt', '6803_9.txt', '986_10.txt', '1815_10.txt', '2384_8.txt', '5536_10.txt', '1114_10.txt', '5081_10.txt', '6299_8.txt', '1834_9.txt', '3022_7.txt', '10282_10.txt', '5025_8.txt', '8190_9.txt', '4773_7.txt', '9916_8.txt', '9894_8.txt', '3557_9.txt', '7367_9.txt', '3640_10.txt', '12327_10.txt', '1888_9.txt', '5617_7.txt', '2556_8.txt', '4096_7.txt', '6433_7.txt', '1314_8.txt', '3241_9.txt', '7310_7.txt', '52_10.txt', '4179_9.txt', '1717_10.txt', '338_10.txt', '2552_10.txt', '3593_10.txt', '4087_10.txt', '4908_9.txt', '10035_10.txt', '2297_9.txt', '376_10.txt', '4178_9.txt', '2146_9.txt', '9962_10.txt', '2773_8.txt', '9015_10.txt', '5670_8.txt', '9521_9.txt', '12481_10.txt', '12457_8.txt', '10826_10.txt', '11879_10.txt', '974_10.txt', '9480_10.txt', '6669_9.txt', '5664_10.txt', '4792_9.txt', '1135_8.txt', '995_7.txt', '10817_8.txt', '5450_7.txt', '8626_9.txt', '10337_10.txt', '5074_8.txt', '11777_9.txt', '4732_10.txt', '7569_10.txt', '9817_8.txt', '12391_8.txt', '2877_8.txt', '8553_10.txt', '4960_9.txt', '9821_10.txt', '10005_8.txt', '10514_9.txt', '8123_9.txt', '6213_8.txt', '8311_8.txt', '8327_9.txt', '107_10.txt', '10692_10.txt', '5775_10.txt', '3281_10.txt', '7273_8.txt', '5088_7.txt', '5352_10.txt', '12249_7.txt', '8572_10.txt', '10299_10.txt', '7529_7.txt', '7789_10.txt', '11999_8.txt', '3964_7.txt', '7654_10.txt', '9312_8.txt', '9874_7.txt', '2950_10.txt', '874_8.txt', '2431_9.txt', '10572_10.txt', '10222_8.txt', '2393_10.txt', '4972_8.txt', '8354_8.txt', '9558_10.txt', '11379_10.txt', '9305_7.txt', '9651_8.txt', '12324_10.txt', '2819_7.txt', '7447_8.txt', '1080_8.txt', '4813_8.txt', '10676_8.txt', '6007_10.txt', '451_8.txt', '5045_8.txt', '4204_8.txt', '5139_9.txt', '1666_9.txt', '4348_8.txt', '8263_8.txt', '11474_10.txt', '10435_7.txt', '265_9.txt', '7885_8.txt', '7161_10.txt', '2695_9.txt', '4023_7.txt', '11288_10.txt', '5766_7.txt', '3798_10.txt', '10785_10.txt', '7388_7.txt', '5912_10.txt', '8576_8.txt', '2397_8.txt', '7493_10.txt', '3004_10.txt', '11723_10.txt', '6900_8.txt', '7172_9.txt', '6540_7.txt', '3234_7.txt', '2059_10.txt', '9431_7.txt', '2026_7.txt', '2482_10.txt', '11659_10.txt', '4716_10.txt', '6968_10.txt', '5481_10.txt', '11043_10.txt', '8904_8.txt', '9290_10.txt', '5249_9.txt', '3258_7.txt', '1899_10.txt', '11448_8.txt', '9374_7.txt', '1043_9.txt', '8694_7.txt', '500_10.txt', '9922_8.txt', '10636_8.txt', '7658_10.txt', '9498_9.txt', '11129_9.txt', '3687_8.txt', '3929_8.txt', '10192_10.txt', '7204_9.txt', '4417_10.txt', '6768_8.txt', '7084_8.txt', '12233_10.txt', '10166_8.txt', '10045_7.txt', '2303_10.txt', '2676_10.txt', '60_8.txt', '8466_8.txt', '9694_10.txt', '12395_10.txt', '11206_9.txt', '6491_10.txt', '10883_10.txt', '11006_8.txt', '5949_7.txt', '12129_10.txt', '5447_7.txt', '5866_8.txt', '11471_7.txt', '641_8.txt', '5303_10.txt', '7348_10.txt', '12051_10.txt', '32_10.txt', '2686_10.txt', '9446_8.txt', '8517_8.txt', '11976_10.txt', '5782_10.txt', '11579_10.txt', '3837_10.txt', '5470_7.txt', '7613_8.txt', '7477_10.txt', '5891_10.txt', '5406_7.txt', '4107_8.txt', '3400_10.txt', '3015_7.txt', '312_10.txt', '6993_8.txt', '6329_7.txt', '5979_10.txt', '9686_10.txt', '11943_7.txt', '10778_10.txt', '11839_10.txt', '9935_8.txt', '5451_8.txt', '7727_10.txt', '8541_10.txt', '11996_7.txt', '10588_10.txt', '11173_10.txt', '10838_8.txt', '9847_10.txt', '676_7.txt', '3089_8.txt', '11774_10.txt', '7179_10.txt', '2092_10.txt', '3695_7.txt', '2248_10.txt', '7401_10.txt', '2304_7.txt', '2884_9.txt', '4589_10.txt', '3108_8.txt', '3561_7.txt', '10369_9.txt', '10242_8.txt', '8340_7.txt', '6651_7.txt', '832_7.txt', '9088_7.txt', '41_9.txt', '4523_9.txt', '898_9.txt', '6185_9.txt', '3350_8.txt', '334_9.txt', '10766_8.txt', '11211_10.txt', '3337_7.txt', '12118_8.txt', '1781_10.txt', '9219_10.txt', '9903_7.txt', '10581_10.txt', '11661_10.txt', '11687_10.txt', '589_10.txt', '6746_7.txt', '1776_7.txt', '5605_10.txt', '4117_10.txt', '1891_10.txt', '8273_9.txt', '6764_10.txt', '10857_9.txt', '9539_10.txt', '7870_10.txt', '2867_8.txt', '1444_8.txt', '11990_10.txt', '8622_10.txt', '7140_10.txt', '8707_7.txt', '2091_10.txt', '283_8.txt', '9352_10.txt', '10440_7.txt', '10474_10.txt', '6687_9.txt', '2182_8.txt', '9328_10.txt', '6504_9.txt', '9748_9.txt', '8206_10.txt', '4075_7.txt', '7930_10.txt', '4379_10.txt', '12462_9.txt', '9251_10.txt', '11434_9.txt', '4103_10.txt', '7595_10.txt', '6926_10.txt', '6484_10.txt', '11829_8.txt', '3107_10.txt', '7534_9.txt', '6362_10.txt', '11106_7.txt', '2442_10.txt', '6289_7.txt', '9398_10.txt', '4022_7.txt', '9729_8.txt', '5867_7.txt', '8798_10.txt', '2323_8.txt', '5015_7.txt', '8271_10.txt', '951_10.txt', '2567_9.txt', '8293_7.txt', '5786_10.txt', '3339_7.txt', '8128_8.txt', '12308_10.txt', '6422_8.txt', '1464_9.txt', '9606_10.txt', '4448_9.txt', '733_7.txt', '8248_8.txt', '6139_10.txt', '2104_10.txt', '4240_10.txt', '3381_10.txt', '11645_7.txt', '72_8.txt', '8639_8.txt', '10670_9.txt', '7029_10.txt', '11354_10.txt', '5586_10.txt', '93_9.txt', '2163_8.txt', '4722_8.txt', '5381_10.txt', '11349_10.txt', '1101_8.txt', '4169_8.txt', '2990_10.txt', '410_10.txt', '9692_9.txt', '2524_10.txt', '8708_10.txt', '9188_8.txt', '2378_10.txt', '1461_7.txt', '12346_8.txt', '11732_7.txt', '9920_8.txt', '4334_10.txt', '6667_9.txt', '10646_10.txt', '10475_10.txt', '860_7.txt', '11432_7.txt', '9757_10.txt', '8372_10.txt', '3661_10.txt', '6096_9.txt', '2308_9.txt', '9946_7.txt', '4316_7.txt', '11851_8.txt', '11167_10.txt', '5740_10.txt', '11595_9.txt', '1318_8.txt', '5835_10.txt', '1807_7.txt', '9228_10.txt', '7166_9.txt', '6506_8.txt', '5077_9.txt', '1619_10.txt', '8839_10.txt', '11339_9.txt', '6228_7.txt', '720_10.txt', '2031_10.txt', '7227_7.txt', '12084_10.txt', '11111_10.txt', '9712_10.txt', '7728_9.txt', '9754_7.txt', '2526_10.txt', '5702_10.txt', '961_8.txt', '7479_8.txt', '1334_10.txt', '8756_10.txt', '263_10.txt', '5050_8.txt', '3428_7.txt', '5343_8.txt', '1344_10.txt', '8842_9.txt', '4082_10.txt', '4742_10.txt', '3901_9.txt', '6596_10.txt', '4526_7.txt', '465_10.txt', '7808_9.txt', '5600_10.txt', '4547_10.txt', '1362_9.txt', '621_7.txt', '786_10.txt', '10015_8.txt', '9236_10.txt', '12372_9.txt', '9913_8.txt', '4339_8.txt', '10285_9.txt', '8245_10.txt', '5992_10.txt', '2196_8.txt', '11405_8.txt', '10745_8.txt', '2046_9.txt', '3998_10.txt', '1758_8.txt', '1256_7.txt', '12443_10.txt', '7387_8.txt', '5626_10.txt', '5548_9.txt', '8305_10.txt', '3860_8.txt', '7332_7.txt', '7657_10.txt', '8502_10.txt', '11534_7.txt', '3914_10.txt', '5709_9.txt', '12163_7.txt', '230_7.txt', '7778_10.txt', '4462_7.txt', '3694_10.txt', '8577_9.txt', '7087_10.txt', '8677_8.txt', '9412_8.txt', '2965_7.txt', '2132_8.txt', '7158_10.txt', '2704_9.txt', '189_9.txt', '9479_10.txt', '5623_10.txt', '4553_8.txt', '6196_7.txt', '6247_10.txt', '12081_10.txt', '4802_8.txt', '7734_10.txt', '913_10.txt', '7685_10.txt', '4598_10.txt', '6230_7.txt', '12432_7.txt', '9827_9.txt', '7648_7.txt', '7681_10.txt', '7768_10.txt', '11146_7.txt', '3365_8.txt', '9425_7.txt', '3143_7.txt', '8001_9.txt', '7322_10.txt', '2639_7.txt', '1075_9.txt', '10030_7.txt', '2595_7.txt', '707_10.txt', '6466_10.txt', '12113_7.txt', '8085_9.txt', '10829_9.txt', '7237_10.txt', '10736_9.txt', '11219_8.txt', '6873_8.txt', '9004_8.txt', '361_9.txt', '4659_10.txt', '3480_9.txt', '10175_7.txt', '9053_10.txt', '7263_10.txt', '9966_10.txt', '11213_10.txt', '5843_10.txt', '607_10.txt', '1602_10.txt', '2782_8.txt', '5279_9.txt', '5350_10.txt', '7637_7.txt', '1705_7.txt', '419_9.txt', '6599_7.txt', '9709_8.txt', '12152_10.txt', '5844_9.txt', '10200_7.txt', '2067_9.txt', '8197_8.txt', '9165_8.txt', '7966_8.txt', '3688_7.txt', '1236_7.txt', '7245_10.txt', '11388_10.txt', '9937_7.txt', '753_7.txt', '12128_7.txt', '8523_10.txt', '3526_7.txt', '4910_8.txt', '7953_9.txt', '8460_8.txt', '162_8.txt', '4897_8.txt', '7926_7.txt', '8864_10.txt', '6122_8.txt', '9835_8.txt', '729_10.txt', '11681_10.txt', '1029_10.txt', '7630_10.txt', '1708_7.txt', '7989_10.txt', '5559_10.txt', '11180_10.txt', '276_10.txt', '10056_8.txt', '7936_10.txt', '3995_9.txt', '4555_9.txt', '11602_8.txt', '9124_7.txt', '11138_7.txt', '11799_10.txt', '1882_7.txt', '1535_7.txt', '10403_10.txt', '1791_10.txt', '10359_8.txt', '3835_9.txt', '2101_8.txt', '11560_8.txt', '6032_7.txt', '2613_10.txt', '10287_10.txt', '9768_10.txt', '11079_8.txt', '4930_10.txt', '9367_10.txt', '4504_7.txt', '11961_8.txt', '2127_8.txt', '7507_8.txt', '10110_10.txt', '6107_8.txt', '8006_9.txt', '7675_10.txt', '10678_7.txt', '6023_10.txt', '53_7.txt', '46_10.txt', '5452_8.txt', '1095_8.txt', '3992_8.txt', '4739_10.txt', '6423_8.txt', '7379_7.txt', '5306_10.txt', '5488_8.txt', '7740_10.txt', '3040_8.txt', '4042_10.txt', '8602_9.txt', '11585_7.txt', '9657_10.txt', '2095_9.txt', '1502_10.txt', '11126_7.txt', '2379_9.txt', '2615_10.txt', '724_10.txt', '1325_9.txt', '8171_10.txt', '11312_9.txt', '11814_10.txt', '12071_10.txt', '8971_10.txt', '3551_7.txt', '3346_8.txt', '8034_9.txt', '9981_7.txt', '12224_9.txt', '1035_9.txt', '947_8.txt', '4390_8.txt', '4373_10.txt', '5130_9.txt', '12068_7.txt', '11091_8.txt', '1155_7.txt', '10764_10.txt', '3329_9.txt', '6075_10.txt', '10983_10.txt', '2593_10.txt', '2280_10.txt', '10713_10.txt', '8373_7.txt', '1597_7.txt', '12082_10.txt', '2951_10.txt', '6257_8.txt', '2502_8.txt', '8139_10.txt', '11061_10.txt', '4849_9.txt', '12009_10.txt', '10916_7.txt', '1954_8.txt', '3092_8.txt', '9872_8.txt', '5757_8.txt', '9394_8.txt', '6229_8.txt', '601_10.txt', '3344_7.txt', '8249_7.txt', '1063_10.txt', '5991_9.txt', '743_7.txt', '11376_10.txt', '8242_10.txt', '9775_9.txt', '2017_10.txt', '7360_9.txt', '10356_7.txt', '12046_10.txt', '673_8.txt', '3515_8.txt', '4650_10.txt', '3357_7.txt', '11231_10.txt', '7758_8.txt', '3793_9.txt', '11025_10.txt', '8465_10.txt', '6197_7.txt', '11612_10.txt', '2282_8.txt', '3397_10.txt', '5387_8.txt', '7075_10.txt', '11848_10.txt', '4312_8.txt', '10809_10.txt', '2523_10.txt', '2085_7.txt', '9951_8.txt', '11477_10.txt', '12125_7.txt', '2403_10.txt', '3086_7.txt', '9998_8.txt', '7721_8.txt', '7916_10.txt', '9928_7.txt', '6585_9.txt', '8068_10.txt', '5179_10.txt', '8829_8.txt', '3012_7.txt', '3426_10.txt', '8154_10.txt', '10709_8.txt', '9556_8.txt', '8477_10.txt', '5603_9.txt', '4832_8.txt', '665_10.txt', '8980_8.txt', '393_7.txt', '5721_10.txt', '1255_8.txt', '656_7.txt', '11828_7.txt', '10385_10.txt', '11846_9.txt', '8669_9.txt', '3028_7.txt', '8977_9.txt', '7608_8.txt', '9965_8.txt', '10547_10.txt', '9133_7.txt', '12464_8.txt', '11123_8.txt', '12146_8.txt', '11205_9.txt', '4896_7.txt', '2445_8.txt', '9717_10.txt', '521_7.txt', '5242_10.txt', '10625_8.txt', '6810_8.txt', '9579_10.txt', '1564_8.txt', '7157_10.txt', '5023_7.txt', '5610_7.txt', '2149_10.txt', '2720_8.txt', '2850_9.txt', '12248_9.txt', '7563_9.txt', '377_9.txt', '6344_9.txt', '9242_8.txt', '10395_10.txt', '5192_9.txt', '2357_7.txt', '8341_10.txt', '489_9.txt', '3619_8.txt', '10398_10.txt', '3334_7.txt', '9049_10.txt', '826_8.txt', '110_10.txt', '1435_10.txt', '3425_8.txt', '3870_10.txt', '7308_7.txt', '7369_10.txt', '8142_10.txt', '3737_9.txt', '3866_9.txt', '5255_7.txt', '8945_7.txt', '6218_8.txt', '9723_10.txt', '6270_10.txt', '12298_9.txt', '2060_10.txt', '5552_8.txt', '2961_10.txt', '12485_8.txt', '458_9.txt', '9679_10.txt', '9893_8.txt', '2978_8.txt', '10984_10.txt', '11143_9.txt', '12181_10.txt', '9354_9.txt', '5221_7.txt', '3540_9.txt', '5354_10.txt', '3792_8.txt', '4130_8.txt', '4078_8.txt', '11792_10.txt', '10502_7.txt', '8228_7.txt', '3372_7.txt', '12368_9.txt', '6393_10.txt', '3636_10.txt', '1528_9.txt', '1572_8.txt', '1698_10.txt', '4943_9.txt', '7194_9.txt', '12140_8.txt', '6863_9.txt', '12445_10.txt', '6374_10.txt', '1587_9.txt', '2416_7.txt', '7212_9.txt', '234_7.txt', '6938_8.txt', '10765_10.txt', '181_10.txt', '8529_7.txt', '1050_9.txt', '1692_10.txt', '11948_10.txt', '4815_7.txt', '2062_9.txt', '10234_9.txt', '10694_10.txt', '11667_8.txt', '11672_8.txt', '10277_10.txt', '8432_10.txt', '2937_8.txt', '1214_7.txt', '1527_10.txt', '10374_10.txt', '5657_10.txt', '10096_9.txt', '669_10.txt', '2128_9.txt', '7798_10.txt', '11136_10.txt', '8471_9.txt', '10607_7.txt', '6054_10.txt', '6497_10.txt', '4201_9.txt', '1785_8.txt', '9500_7.txt', '5284_10.txt', '5924_8.txt', '2848_7.txt', '9739_8.txt', '6731_10.txt', '2744_8.txt', '3825_10.txt', '235_7.txt', '5796_9.txt', '5457_8.txt', '6435_10.txt', '11854_7.txt', '6505_8.txt', '8896_8.txt', '10074_7.txt', '6960_10.txt', '1474_7.txt', '6621_10.txt', '2499_10.txt', '12332_7.txt', '2757_10.txt', '9335_8.txt', '8089_9.txt', '1790_10.txt', '1221_10.txt', '6207_7.txt', '7886_8.txt', '2534_10.txt', '12055_8.txt', '1446_9.txt', '10951_7.txt', '8161_10.txt', '4051_10.txt', '3848_9.txt', '8121_8.txt', '1568_9.txt', '3965_10.txt', '6896_10.txt', '155_8.txt', '9060_7.txt', '9463_10.txt', '6594_10.txt', '2473_10.txt', '5483_10.txt', '8519_8.txt', '5980_10.txt', '12330_8.txt', '790_10.txt', '9243_10.txt', '3928_7.txt', '8374_7.txt', '12404_10.txt', '3227_10.txt', '5930_8.txt', '11187_10.txt', '3279_9.txt', '11401_10.txt', '9166_7.txt', '1069_10.txt', '10063_10.txt', '7937_10.txt', '17_8.txt', '2901_7.txt', '5984_10.txt', '8745_8.txt', '5275_7.txt', '1190_10.txt', '12002_8.txt', '1691_10.txt', '5492_10.txt', '5636_8.txt', '10702_10.txt', '8526_7.txt', '9703_7.txt', '1647_10.txt', '2925_10.txt', '3406_10.txt', '3396_10.txt', '4480_10.txt', '9756_10.txt', '11281_9.txt', '50_10.txt', '10272_7.txt', '5325_8.txt', '11479_8.txt', '8938_8.txt', '11633_8.txt', '151_8.txt', '4484_10.txt', '9822_7.txt', '5225_8.txt', '8435_9.txt', '2565_8.txt', '3207_10.txt', '9764_10.txt', '3127_8.txt', '9953_10.txt', '12342_7.txt', '11638_10.txt', '11929_10.txt', '1768_8.txt', '3946_10.txt', '7980_7.txt', '3256_10.txt', '4175_7.txt', '4645_10.txt', '2811_8.txt', '2533_8.txt', '8946_9.txt', '5042_7.txt', '8955_8.txt', '11110_10.txt', '10605_10.txt', '9489_10.txt', '6001_9.txt', '6946_9.txt', '9895_10.txt', '745_10.txt', '9693_7.txt', '9355_10.txt', '2638_7.txt', '7004_8.txt', '2270_8.txt', '4375_9.txt', '2796_7.txt', '6354_10.txt', '4828_8.txt', '9873_9.txt', '6895_7.txt', '10769_7.txt', '5966_7.txt', '12028_10.txt', '314_10.txt', '2621_9.txt', '11166_10.txt', '5842_10.txt', '8607_10.txt', '4840_7.txt', '11390_10.txt', '2352_7.txt', '8810_10.txt', '9186_10.txt', '2866_9.txt', '1839_8.txt', '3718_10.txt', '2458_8.txt', '3527_10.txt', '11739_8.txt', '6470_8.txt', '7590_7.txt', '226_9.txt', '804_8.txt', '7438_10.txt', '9054_8.txt', '1280_9.txt', '9003_10.txt', '11220_10.txt', '5954_10.txt', '6947_10.txt', '8179_8.txt', '10409_10.txt', '7600_8.txt', '10752_7.txt', '2061_8.txt', '2361_10.txt', '8764_9.txt', '4887_10.txt', '6044_10.txt', '4170_9.txt', '11793_7.txt', '5310_9.txt', '11201_10.txt', '12310_10.txt', '3583_10.txt', '10945_8.txt', '8796_10.txt', '8386_10.txt', '97_7.txt', '12383_10.txt', '11253_10.txt', '6954_10.txt', '2116_10.txt', '8329_10.txt', '10391_9.txt', '976_8.txt', '128_10.txt', '12191_9.txt', '10751_10.txt', '9639_7.txt', '11425_10.txt', '3873_7.txt', '11652_9.txt', '10724_10.txt', '10672_7.txt', '11538_8.txt', '8926_10.txt', '5665_10.txt', '10784_9.txt', '382_10.txt', '11582_7.txt', '7873_10.txt', '1389_7.txt', '2948_9.txt', '7021_10.txt', '6137_10.txt', '10548_10.txt', '2630_10.txt', '11255_9.txt', '3759_7.txt', '6864_7.txt', '1895_10.txt', '1947_8.txt', '3118_9.txt', '1165_7.txt', '10586_9.txt', '870_7.txt', '1956_10.txt', '10862_9.txt', '6823_8.txt', '5464_10.txt', '5612_10.txt', '4217_8.txt', '9655_10.txt', '6589_9.txt', '2934_10.txt', '6141_10.txt', '10673_9.txt', '7906_10.txt', '1018_7.txt', '4590_10.txt', '6125_7.txt', '6548_8.txt', '12095_9.txt', '3934_10.txt', '1916_7.txt', '10756_7.txt', '5041_8.txt', '9083_9.txt', '12444_10.txt', '7444_7.txt', '11227_10.txt', '3726_7.txt', '4290_7.txt', '1453_10.txt', '12173_9.txt', '1349_9.txt', '8690_7.txt', '8570_8.txt', '4196_8.txt', '450_10.txt', '4817_8.txt', '332_10.txt', '11730_8.txt', '963_8.txt', '10154_10.txt', '183_10.txt', '1631_7.txt', '10446_10.txt', '5632_10.txt', '8256_10.txt', '2618_10.txt', '12451_10.txt', '9492_10.txt', '10001_9.txt', '4449_7.txt', '7744_10.txt', '3172_10.txt', '4755_8.txt', '4160_9.txt', '9371_9.txt', '7843_8.txt', '6455_7.txt', '8561_9.txt', '11370_10.txt', '11020_10.txt', '5729_10.txt', '8467_10.txt', '3702_8.txt', '10532_9.txt', '11728_7.txt', '2687_9.txt', '4622_8.txt', '6283_8.txt', '3817_9.txt', '7189_9.txt', '7352_7.txt', '3335_9.txt', '6715_7.txt', '4875_10.txt', '9025_10.txt', '4574_8.txt', '10912_8.txt', '10441_9.txt', '7896_8.txt', '4858_10.txt', '5051_8.txt', '1465_7.txt', '4277_8.txt', '11038_10.txt', '4781_8.txt', '1107_9.txt', '8274_10.txt', '8753_10.txt', '8318_10.txt', '6841_10.txt', '9059_10.txt', '8770_8.txt', '2024_8.txt', '777_10.txt', '7599_7.txt', '8509_10.txt', '5200_9.txt', '11077_10.txt', '1611_10.txt', '8314_7.txt', '4988_10.txt', '6056_10.txt', '8192_9.txt', '12465_10.txt', '4915_10.txt', '6110_10.txt', '1736_10.txt', '3986_9.txt', '10184_9.txt', '25_10.txt', '9505_8.txt', '12017_8.txt', '1329_7.txt', '1661_10.txt', '1034_10.txt', '11873_8.txt', '4413_7.txt', '4403_10.txt', '5712_10.txt', '5102_10.txt', '12206_10.txt', '10840_9.txt', '8922_10.txt', '10808_8.txt', '8299_8.txt', '3727_10.txt', '7963_10.txt', '6568_8.txt', '8488_9.txt', '1903_10.txt', '2835_7.txt', '2899_10.txt', '6834_10.txt', '7974_10.txt', '8118_9.txt', '10271_8.txt', '11604_8.txt', '6288_10.txt', '86_10.txt', '3157_10.txt', '8876_8.txt', '4638_10.txt', '12008_8.txt', '3676_10.txt', '6113_10.txt', '9096_7.txt', '1920_10.txt', '2952_10.txt', '8456_10.txt', '3270_8.txt', '754_9.txt', '3385_10.txt', '4041_10.txt', '5715_10.txt', '710_10.txt', '6258_8.txt', '5047_10.txt', '7750_7.txt', '10940_10.txt', '6555_7.txt', '1001_10.txt', '11429_7.txt', '12488_8.txt', '84_10.txt', '5953_8.txt', '6761_10.txt', '3013_9.txt', '1496_10.txt', '9880_8.txt', '10972_10.txt', '11221_10.txt', '1987_10.txt', '2466_7.txt', '11869_10.txt', '11568_10.txt', '5497_8.txt', '11852_7.txt', '2920_10.txt', '3809_9.txt', '12371_10.txt', '1809_7.txt', '8804_10.txt', '2088_9.txt', '11293_8.txt', '3011_7.txt', '7670_10.txt', '3681_10.txt', '10633_8.txt', '2579_9.txt', '9411_7.txt', '2479_9.txt', '7745_9.txt', '3622_7.txt', '2351_7.txt', '10326_10.txt', '11399_10.txt', '5210_10.txt', '445_9.txt', '4809_9.txt', '4535_10.txt', '4770_10.txt', '3891_8.txt', '5918_7.txt', '7820_7.txt', '4728_7.txt', '11336_9.txt', '10991_10.txt', '4301_9.txt', '10961_9.txt', '10223_10.txt', '9777_9.txt', '8493_8.txt', '440_8.txt', '5137_10.txt', '5598_8.txt', '3292_7.txt', '236_10.txt', '3470_8.txt', '3199_10.txt', '1700_8.txt', '2457_10.txt', '4964_10.txt', '5790_9.txt', '11053_10.txt', '886_7.txt', '7646_8.txt', '8428_9.txt', '4083_8.txt', '12284_10.txt', '9041_8.txt', '4971_8.txt', '1441_8.txt', '1371_8.txt', '6308_8.txt', '11750_10.txt', '5627_10.txt', '3071_8.txt', '1479_8.txt', '10837_10.txt', '12440_7.txt', '5300_7.txt', '7640_9.txt', '4384_10.txt', '8401_10.txt', '11810_10.txt', '539_7.txt', '4639_10.txt', '7962_10.txt', '3224_10.txt', '469_8.txt', '3882_8.txt', '3503_8.txt', '8965_8.txt', '11084_7.txt', '12137_8.txt', '48_9.txt', '10447_7.txt', '11907_9.txt', '4387_9.txt', '3416_10.txt', '2114_10.txt', '10707_9.txt', '8307_10.txt', '3967_9.txt', '920_10.txt', '11277_9.txt', '4748_8.txt', '5237_10.txt', '6714_7.txt', '10411_10.txt', '4255_9.txt', '5296_7.txt', '7810_10.txt', '8348_8.txt', '5314_8.txt', '11942_8.txt', '5825_10.txt', '5922_8.txt', '4584_10.txt', '2658_10.txt', '1282_10.txt', '7684_10.txt', '2546_9.txt', '1053_10.txt', '6118_10.txt', '4252_10.txt', '12193_8.txt', '8701_7.txt', '5435_7.txt', '12354_8.txt', '9810_10.txt', '11291_10.txt', '7443_8.txt', '1268_8.txt', '5808_10.txt', '10557_8.txt', '7831_8.txt', '6572_9.txt', '6992_9.txt', '8499_10.txt', '9156_8.txt', '4358_10.txt', '4801_10.txt', '8624_10.txt', '11751_9.txt', '2369_8.txt', '1883_9.txt', '2843_7.txt', '457_8.txt', '8998_7.txt', '4416_10.txt', '3332_10.txt', '9318_7.txt', '2861_8.txt', '7918_8.txt', '11157_9.txt', '2453_9.txt', '8110_8.txt', '3940_9.txt', '1702_7.txt', '1061_8.txt', '2239_8.txt', '5203_9.txt', '6517_8.txt', '5763_10.txt', '11225_10.txt', '3548_8.txt', '7240_7.txt', '967_7.txt', '5872_10.txt', '2200_10.txt', '4500_9.txt', '1754_8.txt', '2467_9.txt', '11282_10.txt', '2718_9.txt', '8067_8.txt', '8684_8.txt', '12228_9.txt', '12041_7.txt', '7064_9.txt', '11701_8.txt', '4491_10.txt', '8845_9.txt', '8027_10.txt', '2349_8.txt', '3649_9.txt', '1805_7.txt', '6438_7.txt', '12153_7.txt', '2791_8.txt', '4710_10.txt', '6394_10.txt', '4293_7.txt', '9076_7.txt', '3078_10.txt', '87_10.txt', '11139_10.txt', '6778_8.txt', '3802_10.txt', '1863_9.txt', '535_10.txt', '10118_8.txt', '692_7.txt', '2726_10.txt', '6691_9.txt', '8165_10.txt', '9203_9.txt', '5027_8.txt', '5495_10.txt', '7336_7.txt', '11926_8.txt', '8028_9.txt', '8381_9.txt', '7542_9.txt', '6100_10.txt', '2620_9.txt', '1410_7.txt', '7624_10.txt', '3449_7.txt', '1459_7.txt', '3795_9.txt', '2649_9.txt', '10396_8.txt', '8860_10.txt', '11071_10.txt', '11924_10.txt', '7170_9.txt', '2172_9.txt', '5951_9.txt', '257_9.txt', '8657_7.txt', '3462_9.txt', '1212_7.txt', '9315_8.txt', '6571_10.txt', '12389_8.txt', '10209_7.txt', '7717_8.txt', '8295_10.txt', '7874_8.txt', '12065_10.txt', '2745_10.txt', '7625_10.txt', '422_10.txt', '5454_7.txt', '2156_10.txt', '11311_10.txt', '9386_7.txt', '4439_9.txt', '5508_7.txt', '6775_9.txt', '8153_10.txt', '8981_9.txt', '10027_8.txt', '3410_10.txt', '11335_9.txt', '2138_9.txt', '1875_7.txt', '3535_10.txt', '10820_8.txt', '1641_10.txt', '10533_10.txt', '1873_7.txt', '7976_10.txt', '2857_7.txt', '2456_10.txt', '6249_9.txt', '7100_7.txt', '8841_9.txt', '1622_9.txt', '8992_8.txt', '1146_10.txt', '7220_8.txt', '762_7.txt', '8676_10.txt', '2256_9.txt', '7109_7.txt', '2290_10.txt', '5366_10.txt', '9551_7.txt', '11803_8.txt', '11650_8.txt', '5146_7.txt', '2644_10.txt', '10569_7.txt', '3962_9.txt', '9433_7.txt', '3135_9.txt', '12469_7.txt', '5151_9.txt', '7923_9.txt', '11706_8.txt', '112_10.txt', '7085_7.txt', '10905_8.txt', '9128_8.txt', '5407_8.txt', '8931_10.txt', '7559_8.txt', '6031_9.txt', '11789_9.txt', '11816_9.txt', '11874_8.txt', '8382_9.txt', '11017_8.txt', '5679_7.txt', '9676_9.txt', '6747_8.txt', '10689_10.txt', '2332_8.txt', '7766_10.txt', '9095_10.txt', '4818_10.txt', '8056_8.txt', '51_10.txt', '8562_10.txt', '5684_8.txt', '1209_7.txt', '11487_8.txt', '4414_7.txt', '1683_9.txt', '1175_8.txt', '5701_10.txt', '1011_8.txt', '5704_9.txt', '2622_8.txt', '968_8.txt', '9381_9.txt', '1725_9.txt', '8297_10.txt', '9136_10.txt', '10891_10.txt', '9086_9.txt', '5493_10.txt', '3068_10.txt', '7956_10.txt', '876_10.txt', '4351_10.txt', '11726_10.txt', '1341_10.txt', '7278_7.txt', '7550_10.txt', '3273_9.txt', '2976_10.txt', '12407_10.txt', '285_10.txt', '4281_7.txt', '11528_9.txt', '7920_10.txt', '7093_10.txt', '3436_8.txt', '349_10.txt', '313_10.txt', '11299_7.txt', '4587_8.txt', '11183_9.txt', '8268_10.txt', '6931_7.txt', '7799_10.txt', '2856_8.txt', '3094_10.txt', '2528_10.txt', '8507_7.txt', '2009_9.txt', '3765_7.txt', '6757_10.txt', '6429_10.txt', '8705_10.txt', '6500_7.txt', '468_8.txt', '12276_9.txt', '9254_10.txt', '1178_10.txt', '3616_7.txt', '4568_10.txt', '8405_7.txt', '1957_10.txt', '6000_10.txt', '7436_10.txt', '1596_8.txt', '9389_9.txt', '11256_9.txt', '6812_8.txt', '4419_10.txt', '7692_10.txt', '1566_8.txt', '9829_7.txt', '1253_9.txt', '9638_8.txt', '7664_8.txt', '5691_7.txt', '604_10.txt', '11776_10.txt', '5558_10.txt', '4056_8.txt', '9964_8.txt', '569_7.txt', '10032_8.txt', '9909_9.txt', '4974_7.txt', '11787_10.txt', '1624_8.txt', '8882_8.txt', '8036_8.txt', '9970_10.txt', '4993_7.txt', '6176_8.txt', '2691_7.txt', '4172_10.txt', '5948_9.txt', '7818_8.txt', '11690_10.txt', '906_7.txt', '11555_7.txt', '11424_8.txt', '11274_8.txt', '387_8.txt', '9767_10.txt', '5561_8.txt', '12021_8.txt', '8419_10.txt', '5231_9.txt', '6021_10.txt', '1607_9.txt', '3530_8.txt', '5524_10.txt', '10985_9.txt', '3018_9.txt', '7531_10.txt', '9373_7.txt', '1082_9.txt', '6020_9.txt', '6592_10.txt', '6563_8.txt', '10193_7.txt', '2716_10.txt', '12290_10.txt', '12069_10.txt', '7294_10.txt', '5184_8.txt', '7817_7.txt', '9445_10.txt', '8560_8.txt', '5193_8.txt', '7591_7.txt', '10865_8.txt', '6357_10.txt', '4112_8.txt', '8765_8.txt', '5852_7.txt', '6908_9.txt', '11878_9.txt', '1365_8.txt', '8949_10.txt', '10241_10.txt', '7840_9.txt', '2623_9.txt', '4948_10.txt', '3587_10.txt', '4508_10.txt', '12141_9.txt', '198_7.txt', '11991_10.txt', '10318_8.txt', '11724_7.txt', '3247_10.txt', '1582_8.txt', '3677_9.txt', '912_10.txt', '1484_10.txt', '7066_10.txt', '1254_10.txt', '10114_8.txt', '1117_9.txt', '7464_10.txt', '12190_9.txt', '6314_10.txt', '559_10.txt', '9066_10.txt', '5873_10.txt', '2778_10.txt', '9313_9.txt', '11152_10.txt', '7933_8.txt', '8733_9.txt', '6950_10.txt', '9896_9.txt', '8813_9.txt', '10392_8.txt', '30_9.txt', '1935_7.txt', '473_9.txt', '9189_10.txt', '7844_9.txt', '7653_7.txt', '7915_7.txt', '3226_10.txt', '5004_9.txt', '6606_9.txt', '1297_7.txt', '4435_10.txt', '7882_8.txt', '7151_10.txt', '6742_10.txt', '11035_10.txt', '12133_7.txt', '904_10.txt', '10600_10.txt', '8600_10.txt', '880_8.txt', '9094_9.txt', '58_8.txt', '4559_10.txt', '5105_8.txt', '2236_7.txt', '12450_7.txt', '668_10.txt', '4454_8.txt', '5977_10.txt', '4036_10.txt', '9864_8.txt', '11622_10.txt', '4937_9.txt', '780_9.txt', '4105_10.txt', '2234_7.txt', '11416_7.txt', '9511_9.txt', '11675_10.txt', '2670_8.txt', '6824_7.txt', '12380_7.txt', '3193_10.txt', '1288_8.txt', '10425_10.txt', '8544_10.txt', '7165_10.txt', '5344_7.txt', '12005_7.txt', '1771_10.txt', '4914_7.txt', '7813_7.txt', '1777_10.txt', '11034_8.txt', '10900_7.txt', '2253_10.txt', '5839_9.txt', '5609_10.txt', '506_8.txt', '12350_10.txt', '1249_9.txt', '12303_10.txt', '1615_9.txt', '6330_10.txt', '6263_10.txt', '7081_8.txt', '744_10.txt', '11001_7.txt', '4635_10.txt', '3483_10.txt', '3485_7.txt', '9529_10.txt', '4945_10.txt', '2559_10.txt', '856_7.txt', '9751_9.txt', '1313_9.txt', '8941_8.txt', '417_10.txt', '570_9.txt', '2907_8.txt', '7229_9.txt', '7788_10.txt', '2892_10.txt', '10989_8.txt', '10303_9.txt', '5675_9.txt', '6773_8.txt', '7180_7.txt', '5604_8.txt', '7353_10.txt', '9752_8.txt', '6903_10.txt', '7149_8.txt', '7576_10.txt', '1830_9.txt', '5878_10.txt', '2265_9.txt', '12090_8.txt', '11250_10.txt', '11981_10.txt', '5725_10.txt', '10213_7.txt', '8433_9.txt', '6334_8.txt', '3644_9.txt', '385_9.txt', '865_10.txt', '10806_8.txt', '2284_9.txt', '6280_7.txt', '122_8.txt', '10159_7.txt', '730_9.txt', '2210_8.txt', '5425_10.txt', '2823_10.txt', '9806_10.txt', '8078_8.txt', '1157_9.txt', '8434_10.txt', '6004_8.txt', '9675_9.txt', '8672_9.txt', '63_10.txt', '7667_7.txt', '11899_10.txt', '7026_10.txt', '8948_9.txt', '12216_10.txt', '10938_7.txt', '9707_7.txt', '10582_10.txt', '1737_8.txt', '6094_10.txt', '6736_9.txt', '7148_9.txt', '7822_8.txt', '646_9.txt', '1810_10.txt', '560_8.txt', '7804_10.txt', '2412_10.txt', '3378_10.txt', '7508_10.txt', '5053_8.txt', '3283_9.txt', '10522_10.txt', '6027_9.txt', '8683_8.txt', '10783_7.txt', '7610_10.txt', '959_8.txt', '103_10.txt', '6583_7.txt', '8775_10.txt', '11963_9.txt', '9608_8.txt', '8627_10.txt', '8506_10.txt', '10648_9.txt', '7723_8.txt', '4956_9.txt', '2554_10.txt', '12052_8.txt', '11318_8.txt', '3519_10.txt', '684_9.txt', '8936_7.txt', '6892_10.txt', '11455_10.txt', '10316_10.txt', '8925_10.txt', '4787_8.txt', '11641_9.txt', '8783_7.txt', '11252_7.txt', '7193_9.txt', '108_10.txt', '813_10.txt', '6256_8.txt', '11036_7.txt', '8257_10.txt', '834_8.txt', '5576_10.txt', '6465_8.txt', '5171_10.txt', '4990_7.txt', '10246_9.txt', '5582_10.txt', '993_8.txt', '1761_10.txt', '6243_8.txt', '9304_9.txt', '12247_9.txt', '2845_8.txt', '9987_9.txt', '4733_9.txt', '10953_9.txt', '1686_10.txt', '8361_8.txt', '6471_7.txt', '6179_10.txt', '12166_10.txt', '11112_9.txt', '4225_7.txt', '3994_8.txt', '7422_10.txt', '9488_9.txt', '2461_7.txt', '9256_8.txt', '8952_9.txt', '2030_8.txt', '5544_8.txt', '8365_9.txt', '4820_10.txt', '6924_9.txt', '3214_10.txt', '12313_10.txt', '5996_8.txt', '8757_10.txt', '1892_10.txt', '12037_7.txt', '191_9.txt', '3844_7.txt', '2862_9.txt', '1347_8.txt', '8135_8.txt', '320_7.txt', '10878_10.txt', '5738_7.txt', '11508_9.txt', '2537_7.txt', '983_7.txt', '5201_8.txt', '1714_10.txt', '8974_8.txt', '1923_9.txt', '8013_9.txt', '4967_7.txt', '1024_9.txt', '549_10.txt', '7096_10.txt', '12281_8.txt', '4426_10.txt', '12099_8.txt', '7894_9.txt', '5260_10.txt', '3852_7.txt', '1951_7.txt', '10438_9.txt', '4803_10.txt', '1390_8.txt', '1704_8.txt', '4576_10.txt', '972_7.txt', '5109_8.txt', '6680_9.txt', '3783_10.txt', '2631_9.txt', '1841_10.txt', '2627_10.txt', '1436_9.txt', '4383_10.txt', '9910_8.txt', '4150_7.txt', '2607_10.txt', '1963_10.txt', '8391_9.txt', '5754_10.txt', '6195_10.txt', '9923_8.txt', '1690_9.txt', '2722_10.txt', '1267_8.txt', '2205_8.txt', '2235_7.txt', '8793_9.txt', '8276_10.txt', '10754_8.txt', '5671_8.txt', '10351_8.txt', '8451_8.txt', '10072_10.txt', '2591_9.txt', '10008_8.txt', '837_8.txt', '10665_10.txt', '2703_7.txt', '7403_10.txt', '4982_7.txt', '5625_9.txt', '4180_10.txt', '11946_7.txt', '4065_9.txt', '2677_10.txt', '9491_10.txt', '362_9.txt', '9941_9.txt', '5003_10.txt', '1336_10.txt', '4931_8.txt', '9202_10.txt', '11137_10.txt', '9912_10.txt', '8099_9.txt', '2392_10.txt', '8285_10.txt', '6837_7.txt', '10561_9.txt', '6301_7.txt', '5585_8.txt', '6839_8.txt', '10930_7.txt', '2551_10.txt', '7446_10.txt', '5904_10.txt', '10434_8.txt', '1588_7.txt', '4453_10.txt', '4482_10.txt', '796_10.txt', '474_8.txt', '8426_8.txt', '2672_10.txt', '2003_10.txt', '1338_7.txt', '8261_10.txt', '12097_10.txt', '271_7.txt', '6684_9.txt', '6114_10.txt', '5832_10.txt', '4536_10.txt', '6601_9.txt', '4197_10.txt', '2272_8.txt', '2315_10.txt', '4259_10.txt', '7556_10.txt', '10377_8.txt', '8347_10.txt', '9302_7.txt', '6501_10.txt', '140_9.txt', '1071_9.txt', '11945_7.txt', '9016_8.txt', '10691_10.txt', '2755_10.txt', '11956_8.txt', '1046_9.txt', '1172_7.txt', '5353_10.txt', '1872_7.txt', '5222_7.txt', '6214_8.txt', '3300_8.txt', '12198_10.txt', '10164_9.txt', '4044_10.txt', '4558_8.txt', '4032_8.txt', '609_7.txt', '9518_9.txt', '10477_9.txt', '8322_10.txt', '11262_8.txt', '11610_10.txt', '9227_8.txt', '4299_10.txt', '1115_9.txt', '8651_7.txt', '4678_9.txt', '698_10.txt', '12229_9.txt', '9338_10.txt', '6971_8.txt', '3362_10.txt', '3034_10.txt', '9134_8.txt', '5016_8.txt', '2462_10.txt', '367_8.txt', '7803_10.txt', '6822_8.txt', '8288_10.txt', '12271_10.txt', '4941_9.txt', '11545_10.txt', '1857_7.txt', '11096_10.txt', '3181_10.txt', '346_7.txt', '6121_9.txt', '1707_8.txt', '4918_8.txt', '5480_7.txt', '1505_7.txt', '7037_9.txt', '9172_7.txt', '8003_9.txt', '7584_10.txt', '4881_9.txt', '6145_8.txt', '304_10.txt', '4676_8.txt', '7502_8.txt', '3919_9.txt', '2155_10.txt', '12408_10.txt', '3101_8.txt', '1533_10.txt', '8230_7.txt', '10107_9.txt', '36_8.txt', '5525_7.txt', '1848_9.txt', '7993_10.txt', '5734_10.txt', '3138_8.txt', '8782_9.txt', '1473_7.txt', '2605_9.txt', '9759_10.txt', '10565_10.txt', '1142_7.txt', '266_8.txt', '2685_10.txt', '2765_9.txt', '8075_9.txt', '7428_7.txt', '11709_9.txt', '1840_10.txt', '3908_10.txt', '8513_10.txt', '3849_8.txt', '6158_10.txt', '7099_10.txt', '2078_10.txt', '5982_9.txt', '6311_9.txt', '10703_9.txt', '4184_10.txt', '9549_10.txt', '11344_9.txt', '3543_10.txt', '4652_10.txt', '1595_10.txt', '4625_10.txt', '4185_9.txt', '2177_7.txt', '8895_9.txt', '6246_10.txt', '4907_8.txt', '10757_10.txt', '1432_10.txt', '5543_7.txt', '88_10.txt', '6934_10.txt', '2296_9.txt', '10854_10.txt', '6187_10.txt', '5244_10.txt', '10066_7.txt', '2836_8.txt', '7132_9.txt', '694_8.txt', '12466_10.txt', '2217_8.txt', '6973_7.txt', '8292_10.txt', '208_10.txt', '10524_10.txt', '3877_9.txt', '6620_10.txt', '11596_10.txt', '117_10.txt', '8332_10.txt', '930_10.txt', '4166_10.txt', '4152_8.txt', '4926_8.txt', '7899_8.txt', '3826_10.txt', '4410_8.txt', '4591_7.txt', '11488_7.txt', '7904_10.txt', '5512_10.txt', '1123_10.txt', '7341_10.txt', '4627_7.txt', '6554_8.txt', '3536_10.txt', '3624_8.txt', '12070_8.txt', '4497_9.txt', '2045_10.txt', '3431_10.txt', '6313_8.txt', '7135_9.txt', '11151_9.txt', '2916_7.txt', '1613_10.txt', '6353_7.txt', '2548_7.txt', '3298_10.txt', '10952_10.txt', '9804_10.txt', '11148_9.txt', '882_9.txt', '4069_8.txt', '8368_10.txt', '6703_8.txt', '8169_8.txt', '999_8.txt', '1483_8.txt', '9081_8.txt', '4287_9.txt', '6417_8.txt', '4888_8.txt', '4691_10.txt', '7499_9.txt', '3239_8.txt', '454_10.txt', '4010_9.txt', '10358_7.txt', '1958_10.txt', '6013_7.txt', '8597_8.txt', '4685_8.txt', '2949_10.txt', '9611_7.txt', '2452_7.txt', '6203_10.txt', '3465_10.txt', '7133_9.txt', '337_9.txt', '8025_7.txt', '3923_10.txt', '9577_10.txt', '8176_7.txt', '4692_10.txt', '3571_9.txt', '11549_10.txt', '6456_9.txt', '7746_10.txt', '768_10.txt', '11086_8.txt', '3628_10.txt', '3438_8.txt', '3542_9.txt', '7669_9.txt', '2711_8.txt', '10305_10.txt', '1549_10.txt', '1040_9.txt', '5870_8.txt', '7516_7.txt', '8157_10.txt', '4305_7.txt', '11959_10.txt', '7018_10.txt', '11197_7.txt', '6659_7.txt', '9231_8.txt', '2335_9.txt', '12460_8.txt', '7998_10.txt', '3670_8.txt', '7469_10.txt', '10280_8.txt', '8437_10.txt', '10585_8.txt', '75_10.txt', '7370_7.txt', '7311_8.txt', '6628_10.txt', '4714_8.txt', '3768_8.txt', '10313_10.txt', '7014_10.txt', '7539_10.txt', '1174_7.txt', '11489_10.txt', '2385_9.txt', '755_10.txt', '2820_10.txt', '5550_8.txt', '7113_7.txt', '8835_8.txt', '5313_7.txt', '6109_10.txt', '8333_8.txt', '11627_8.txt', '11446_7.txt', '5056_7.txt', '6670_7.txt', '6872_8.txt', '991_7.txt', '1489_10.txt', '789_8.txt', '3206_10.txt', '6296_10.txt', '8790_8.txt', '760_7.txt', '3121_10.txt', '12072_9.txt', '8954_7.txt', '8195_8.txt', '4788_9.txt', '9938_8.txt', '10592_8.txt', '11767_8.txt', '10578_10.txt', '9218_10.txt', '11014_10.txt', '9404_9.txt', '4845_10.txt', '1537_10.txt', '1593_10.txt', '8805_10.txt', '9708_8.txt', '5944_7.txt', '9554_10.txt', '6421_7.txt', '9057_10.txt', '8817_9.txt', '8752_9.txt', '1020_7.txt', '2656_10.txt', '4070_10.txt', '10113_9.txt', '5788_10.txt', '8824_10.txt', '6063_9.txt', '1027_9.txt', '5581_10.txt', '6945_9.txt', '10059_10.txt', '1047_8.txt', '6053_8.txt', '5032_8.txt', '9408_7.txt', '6980_9.txt', '11735_8.txt', '11965_8.txt', '1401_10.txt', '10931_10.txt', '3597_10.txt', '3564_8.txt', '11438_9.txt', '7445_10.txt', '726_7.txt', '12254_7.txt', '12210_10.txt', '840_8.txt', '9299_9.txt', '7408_9.txt', '280_10.txt', '3080_10.txt', '6377_8.txt', '7679_9.txt', '6278_9.txt', '7032_10.txt', '2454_10.txt', '9145_10.txt', '1993_10.txt', '10564_7.txt', '1968_8.txt', '3174_7.txt', '2977_10.txt', '11208_10.txt', '944_8.txt', '2873_10.txt', '7102_8.txt', '6493_9.txt', '6664_8.txt', '9402_8.txt', '1326_8.txt', '9487_10.txt', '6472_7.txt', '6188_10.txt', '2295_8.txt', '7965_9.txt', '3833_10.txt', '3777_10.txt', '9350_8.txt', '6735_10.txt', '4984_9.txt', '409_8.txt', '11285_8.txt', '9413_7.txt', '9215_10.txt', '12092_8.txt', '288_7.txt', '6494_8.txt', '7036_10.txt', '5070_10.txt', '5997_7.txt', '10596_10.txt', '6413_8.txt', '9356_8.txt', '939_8.txt', '10068_8.txt', '1552_10.txt', '180_10.txt', '10214_10.txt', '2010_10.txt', '7753_10.txt', '7224_9.txt', '7737_10.txt', '918_10.txt', '5542_8.txt', '12240_10.txt', '416_10.txt', '1124_8.txt', '1603_10.txt', '3294_7.txt', '1925_9.txt', '8901_10.txt', '9392_9.txt', '1803_10.txt', '8654_8.txt', '10913_7.txt', '1699_8.txt', '1450_10.txt', '9705_10.txt', '903_10.txt', '10978_10.txt', '5968_8.txt', '5749_8.txt', '8122_9.txt', '3031_7.txt', '1982_8.txt', '4804_7.txt', '6088_10.txt', '9884_10.txt', '674_9.txt', '9954_8.txt', '1726_10.txt', '4349_10.txt', '3343_10.txt', '3349_10.txt', '4529_7.txt', '3834_10.txt', '3447_10.txt', '10258_8.txt', '6453_10.txt', '5340_8.txt', '7238_10.txt', '6701_7.txt', '9177_8.txt', '11634_10.txt', '1728_10.txt', '74_10.txt', '2212_8.txt', '9624_10.txt', '5965_7.txt', '10901_10.txt', '4837_10.txt', '5277_10.txt', '3656_10.txt', '7514_7.txt', '2609_7.txt', '8094_7.txt', '379_10.txt', '11905_10.txt', '6080_9.txt', '8379_8.txt', '4513_8.txt', '1260_10.txt', '6559_7.txt', '11715_7.txt', '7884_9.txt', '7472_9.txt', '1467_10.txt', '11142_10.txt', '6397_7.txt', '531_10.txt', '1526_7.txt', '10229_10.txt', '10148_10.txt', '4333_9.txt', '4_10.txt', '10339_8.txt', '5057_8.txt', '11411_8.txt', '1084_8.txt', '1696_10.txt', '8152_10.txt', '7977_7.txt', '1339_8.txt', '3691_10.txt', '6509_8.txt', '1168_10.txt', '7466_8.txt', '2439_10.txt', '1426_7.txt', '5153_8.txt', '7528_7.txt', '19_10.txt', '11875_8.txt', '11194_7.txt', '3654_8.txt', '2150_9.txt', '1651_10.txt', '1126_10.txt', '6447_10.txt', '12463_10.txt', '10376_10.txt', '8700_8.txt', '11541_9.txt', '4935_10.txt', '2055_9.txt', '2211_7.txt', '639_7.txt', '5019_9.txt', '6940_10.txt', '1625_9.txt', '8734_7.txt', '10155_7.txt', '2165_8.txt', '2715_9.txt', '4795_8.txt', '11796_10.txt', '10458_7.txt', '9838_7.txt', '4488_10.txt', '6305_10.txt', '10594_10.txt', '10354_7.txt', '545_7.txt', '9742_9.txt', '10816_10.txt', '11938_9.txt', '124_10.txt', '742_8.txt', '9348_10.txt', '5572_7.txt', '3841_7.txt', '9079_7.txt', '3213_10.txt', '4824_8.txt', '7040_10.txt', '11482_7.txt', '11015_10.txt', '11171_10.txt', '10944_7.txt', '3892_8.txt', '8665_8.txt', '12384_10.txt', '9162_9.txt', '3696_9.txt', '6486_10.txt', '6857_10.txt', '573_10.txt', '6821_7.txt', '7889_7.txt', '1960_9.txt', '2944_8.txt', '9024_8.txt', '7668_10.txt', '5659_10.txt', '10792_8.txt', '6955_9.txt', '12487_7.txt', '2224_10.txt', '8181_10.txt', '7946_8.txt', '9931_9.txt', '2135_9.txt', '3144_9.txt', '9269_9.txt', '431_9.txt', '6965_10.txt', '8884_10.txt', '3951_10.txt', '7318_10.txt', '6404_10.txt', '5254_9.txt', '5018_10.txt', '4486_7.txt', '1073_8.txt', '10654_8.txt', '5803_9.txt', '731_8.txt', '5779_10.txt', '1133_8.txt', '10244_7.txt', '2558_10.txt', '568_9.txt', '8975_8.txt', '2143_9.txt', '2648_10.txt', '11169_8.txt', '2188_9.txt', '8500_10.txt', '929_10.txt', '3773_8.txt', '931_9.txt', '3260_10.txt', '10534_10.txt', '10537_9.txt', '12024_10.txt', '12132_8.txt', '3032_9.txt', '4934_7.txt', '9699_10.txt', '4609_10.txt', '716_10.txt', '11_8.txt', '2821_10.txt', '749_7.txt', '12259_8.txt', '11791_10.txt', '8096_7.txt', '7201_8.txt', '1844_9.txt', '6943_8.txt', '7225_10.txt', '5055_10.txt', '4600_8.txt', '8224_10.txt', '4043_10.txt', '10845_10.txt', '8058_10.txt', '10890_10.txt', '6984_8.txt', '9383_7.txt', '7824_7.txt', '11922_9.txt', '6597_9.txt', '8862_9.txt', '10701_10.txt', '9341_10.txt', '12255_9.txt', '11697_7.txt', '1660_8.txt', '1884_7.txt', '3669_8.txt', '9209_10.txt', '6459_7.txt', '9091_8.txt', '8877_8.txt', '12426_7.txt', '838_7.txt', '5215_10.txt', '6791_10.txt', '8668_8.txt', '10436_8.txt', '3868_7.txt', '1140_9.txt', '5103_10.txt', '825_8.txt', '1064_8.txt', '10910_8.txt', '4053_9.txt', '8008_10.txt', '4420_10.txt', '3338_7.txt', '996_7.txt', '8828_9.txt', '3065_10.txt', '5505_7.txt', '11490_10.txt', '4975_8.txt', '6209_8.txt', '8158_8.txt', '6700_7.txt', '10497_10.txt', '10089_9.txt', '11987_10.txt', '12336_7.txt', '863_10.txt', '6241_10.txt', '8565_9.txt', '6439_7.txt', '8445_9.txt', '759_10.txt', '9823_8.txt', '11978_10.txt', '8851_10.txt', '8291_10.txt', '10478_10.txt', '8791_8.txt', '9468_9.txt', '7690_10.txt', '12340_8.txt', '4473_8.txt', '7404_8.txt', '7683_7.txt', '4005_10.txt', '2387_10.txt', '5412_10.txt', '4093_7.txt', '7560_10.txt', '7266_7.txt', '3482_9.txt', '1022_10.txt', '3562_8.txt', '7642_7.txt', '7620_9.txt', '758_10.txt', '10139_10.txt', '10220_10.txt', '6921_8.txt', '3855_10.txt', '15_10.txt', '9211_9.txt', '1804_8.txt', '4163_8.txt', '3608_8.txt', '3489_7.txt', '9419_10.txt', '213_10.txt', '2398_10.txt', '1557_10.txt', '10177_10.txt', '5769_9.txt', '1128_10.txt', '1525_10.txt', '6221_8.txt', '6793_10.txt', '8266_10.txt', '10137_10.txt', '11485_9.txt', '12416_7.txt', '4108_10.txt', '7841_7.txt', '9439_9.txt', '5090_8.txt', '2564_8.txt', '8879_7.txt', '7626_7.txt', '9645_8.txt', '8106_10.txt', '4324_10.txt', '2389_9.txt', '5043_9.txt', '695_10.txt', '4215_7.txt', '2751_10.txt', '6929_8.txt', '7265_7.txt', '1554_8.txt', '3589_10.txt', '2606_7.txt', '7878_7.txt', '7765_9.txt', '5079_8.txt', '5974_10.txt', '1328_9.txt', '7688_10.txt', '6887_10.txt', '10888_10.txt', '6668_10.txt', '10571_10.txt', '647_9.txt', '9077_9.txt', '5660_10.txt', '9068_7.txt', '7957_9.txt', '7604_8.txt', '4865_8.txt', '1774_7.txt', '12088_7.txt', '12000_9.txt', '1393_8.txt', '5252_10.txt', '8518_7.txt', '9375_8.txt', '11168_9.txt', '830_7.txt', '4772_9.txt', '7455_9.txt', '4995_7.txt', '3906_8.txt', '6163_8.txt', '7814_8.txt', '12343_7.txt', '8983_9.txt', '12484_9.txt', '10071_8.txt', '5154_10.txt', '3188_9.txt', '10638_9.txt', '8823_8.txt', '2399_10.txt', '9278_7.txt', '2547_7.txt', '2972_10.txt', '658_7.txt', '5048_10.txt', '3582_10.txt', '11705_8.txt', '4296_9.txt', '11573_10.txt', '9044_8.txt', '6005_9.txt', '3606_7.txt', '11242_8.txt', '8203_7.txt', '433_8.txt', '10957_10.txt', '5637_10.txt', '2434_9.txt', '9890_10.txt', '3707_10.txt', '4189_9.txt', '10828_9.txt', '10962_7.txt', '4671_7.txt', '688_7.txt', '9812_10.txt', '9193_10.txt', '9409_10.txt', '6018_7.txt', '9678_9.txt', '7578_9.txt', '1032_10.txt', '3723_10.txt', '1688_10.txt', '2760_8.txt', '1420_8.txt', '2071_10.txt', '415_10.txt', '6967_9.txt', '4154_8.txt', '10917_8.txt', '7755_10.txt', '11958_8.txt', '727_8.txt', '2874_9.txt', '9701_9.txt', '12025_9.txt', '11686_10.txt', '7718_9.txt', '3266_10.txt', '1970_8.txt', '8812_10.txt', '7543_10.txt', '6774_9.txt', '5347_9.txt', '5413_10.txt', '2187_9.txt', '4311_7.txt', '6307_9.txt', '872_9.txt', '1818_10.txt', '10381_8.txt', '3715_10.txt', '169_7.txt', '6513_7.txt', '9667_8.txt', '4407_8.txt', '8486_7.txt', '3419_9.txt', '12151_10.txt', '9939_8.txt', '9733_10.txt', '10106_10.txt', '11248_10.txt', '6087_9.txt', '9340_10.txt', '3971_8.txt', '9283_9.txt', '4362_10.txt', '2769_10.txt', '12139_7.txt', '8792_10.txt', '9501_7.txt', '6232_9.txt', '9092_8.txt', '8720_7.txt', '7549_10.txt', '9502_10.txt', '12109_10.txt', '11102_9.txt', '6324_10.txt', '9732_10.txt', '8658_10.txt', '8238_10.txt', '1562_8.txt', '747_8.txt', '7572_10.txt', '2842_9.txt', '623_8.txt', '11087_9.txt', '5336_8.txt', '11210_8.txt', '11196_10.txt', '8827_7.txt', '9783_9.txt', '8768_7.txt', '10225_10.txt', '5674_7.txt', '6933_7.txt', '3781_9.txt', '11790_10.txt', '6836_7.txt', '9671_9.txt', '3857_8.txt', '11968_8.txt', '5673_8.txt', '6416_10.txt', '8417_9.txt', '4613_9.txt', '2264_7.txt', '2478_9.txt', '3858_10.txt', '979_10.txt', '9019_9.txt', '5376_7.txt', '9116_10.txt', '432_10.txt', '4492_10.txt', '4607_7.txt', '5392_7.txt', '7960_10.txt', '5981_10.txt', '11668_9.txt', '7634_7.txt', '418_9.txt', '7686_10.txt', '5188_7.txt', '9904_8.txt', '5226_7.txt', '1216_10.txt', '3307_8.txt', '7144_10.txt', '11897_10.txt', '9818_10.txt', '12328_7.txt', '4153_8.txt', '4380_9.txt', '11351_10.txt', '428_10.txt', '6707_10.txt', '8313_8.txt', '3244_9.txt', '2214_8.txt', '4469_9.txt', '8849_10.txt', '5196_7.txt', '8681_7.txt', '8692_8.txt', '2846_9.txt', '11733_10.txt', '3394_10.txt', '5535_8.txt', '5838_10.txt', '9564_9.txt', '10955_10.txt', '10290_10.txt', '9674_9.txt', '11867_8.txt', '681_7.txt', '4382_7.txt', '8663_8.txt', '1477_8.txt', '12077_8.txt', '12409_10.txt', '12315_10.txt', '4427_7.txt', '1829_8.txt', '9197_9.txt', '5595_10.txt', '6870_8.txt', '4016_10.txt', '10288_8.txt', '2002_9.txt', '6605_10.txt', '2535_10.txt', '11069_7.txt', '1599_7.txt', '12239_7.txt', '5579_10.txt', '7722_7.txt', '7167_8.txt', '8713_9.txt', '10463_10.txt', '10279_9.txt', '447_10.txt', '2203_10.txt', '8009_10.txt', '441_10.txt', '1433_8.txt', '78_8.txt', '10215_10.txt', '6534_8.txt', '7155_9.txt', '8107_10.txt', '3961_7.txt', '5865_10.txt', '8696_9.txt', '5730_10.txt', '8953_7.txt', '7468_10.txt', '7924_8.txt', '12428_7.txt', '7024_10.txt', '3867_8.txt', '9927_7.txt', '8111_10.txt', '3139_9.txt', '8883_8.txt', '1948_10.txt', '7771_10.txt', '6037_10.txt', '12003_9.txt', '6531_10.txt', '6462_8.txt', '1118_7.txt', '5114_8.txt', '909_10.txt', '8935_7.txt', '8194_8.txt', '6710_8.txt', '3412_7.txt', '4546_9.txt', '11287_9.txt', '315_8.txt', '9458_9.txt', '6963_8.txt', '9506_10.txt', '6349_9.txt', '7058_10.txt', '1428_10.txt', '10151_8.txt', '9902_8.txt', '10718_10.txt', '9571_10.txt', '712_9.txt', '10311_10.txt', '1468_7.txt', '3432_8.txt', '4397_7.txt', '12221_10.txt', '12157_7.txt', '4699_10.txt', '10050_8.txt', '2134_7.txt', '7053_10.txt', '4445_10.txt', '6002_7.txt', '12136_8.txt', '1266_8.txt', '9664_7.txt', '1233_10.txt', '8030_10.txt', '799_7.txt', '6046_10.txt', '1942_9.txt', '853_7.txt', '8459_10.txt', '9625_8.txt', '7230_10.txt', '8214_7.txt', '7552_8.txt', '1246_9.txt', '9710_9.txt', '6663_10.txt', '1028_10.txt', '3754_10.txt', '4447_9.txt', '1519_9.txt', '5283_10.txt', '9252_10.txt', '11515_7.txt', '2179_7.txt', '12333_7.txt', '3106_7.txt', '1529_10.txt', '1090_8.txt', '8469_8.txt', '2683_10.txt', '8053_8.txt', '8623_8.txt', '4428_10.txt', '7364_10.txt', '11590_10.txt', '12130_8.txt', '10924_10.txt', '3560_8.txt', '3099_8.txt', '10613_8.txt', '5206_10.txt', '2507_10.txt', '1002_9.txt', '11278_10.txt', '6092_10.txt', '5078_7.txt', '9442_8.txt', '8736_8.txt', '9785_10.txt', '1544_10.txt', '11439_8.txt', '8721_7.txt', '438_9.txt', '4644_9.txt', '11944_8.txt', '3854_9.txt', '3091_10.txt', '10684_7.txt', '8856_10.txt', '12159_8.txt', '12142_8.txt', '5123_10.txt', '7761_10.txt', '6799_10.txt', '2365_8.txt', '10732_10.txt', '2890_10.txt', '3936_8.txt', '8944_10.txt', '6956_8.txt', '3369_7.txt', '7955_10.txt', '6403_10.txt', '3812_10.txt', '4085_10.txt', '2549_7.txt', '3197_9.txt', '12178_7.txt', '502_7.txt', '7879_10.txt', '2774_10.txt', '9112_10.txt', '1543_7.txt', '2258_10.txt', '3340_10.txt', '12475_8.txt', '319_10.txt', '5463_10.txt', '12100_10.txt', '11393_10.txt', '6366_9.txt', '11629_10.txt', '1152_8.txt', '1950_9.txt', '11746_8.txt', '1193_10.txt', '6169_8.txt', '8201_7.txt', '599_9.txt', '5100_10.txt', '2380_8.txt', '4061_9.txt', '9995_8.txt', '10647_10.txt', '150_9.txt', '12396_9.txt', '10515_8.txt', '5765_7.txt', '2130_7.txt', '429_10.txt', '8802_10.txt', '2037_7.txt', '11957_10.txt', '1383_10.txt', '476_9.txt', '3746_7.txt', '8345_10.txt', '7340_10.txt', '1904_10.txt', '5357_10.txt', '9992_10.txt', '10761_8.txt', '249_7.txt', '3386_10.txt', '1463_9.txt', '6476_8.txt', '8531_10.txt', '1712_8.txt', '1083_7.txt', '9129_9.txt', '4315_10.txt', '4467_10.txt', '7115_8.txt', '1227_7.txt', '7343_10.txt', '3642_7.txt', '4614_8.txt', '1350_8.txt', '6316_9.txt', '2770_10.txt', '11969_10.txt', '1213_7.txt', '7838_9.txt', '10763_9.txt', '4731_9.txt', '12217_9.txt', '4343_10.txt', '6642_9.txt', '129_9.txt', '5723_8.txt', '11415_7.txt', '5588_10.txt', '4784_10.txt', '6897_7.txt', '3646_8.txt', '9336_7.txt', '7546_10.txt', '4097_7.txt', '3497_10.txt', '12056_9.txt', '9555_9.txt', '8825_8.txt', '8060_9.txt', '12212_10.txt', '9022_8.txt', '3609_8.txt', '10408_10.txt', '11307_8.txt', '6678_10.txt', '3324_9.txt', '7609_8.txt', '7156_10.txt', '6771_9.txt', '6526_7.txt', '7775_10.txt', '7805_10.txt', '3566_9.txt', '8557_10.txt', '9275_7.txt', '6333_9.txt', '12230_7.txt', '11779_10.txt', '11141_10.txt', '2903_7.txt', '2625_10.txt', '6991_7.txt', '6492_7.txt', '10459_10.txt', '68_9.txt', '3575_7.txt', '5391_7.txt', '3708_10.txt', '4657_7.txt', '7419_8.txt', '2395_9.txt', '8086_9.txt', '10077_7.txt', '6359_8.txt', '10198_8.txt', '6376_10.txt', '5781_7.txt', '1359_10.txt', '8956_10.txt', '239_9.txt', '2405_9.txt', '6142_10.txt', '11233_10.txt', '878_10.txt', '8355_7.txt', '5355_10.txt', '9178_8.txt', '3653_10.txt', '5261_9.txt', '6242_8.txt', '1748_10.txt', '1838_10.txt', '11325_9.txt', '12349_9.txt', '9591_10.txt', '10567_8.txt', '4741_10.txt', '5516_8.txt', '8308_10.txt', '3884_10.txt', '1250_9.txt', '5368_8.txt', '12014_10.txt', '9141_10.txt', '1226_7.txt', '9170_8.txt', '6138_10.txt', '3899_10.txt', '6804_8.txt', '7033_10.txt', '2805_8.txt', '11997_7.txt', '3083_8.txt', '8771_7.txt', '2728_7.txt', '6652_8.txt', '2048_10.txt', '7415_10.txt', '2508_10.txt', '3296_10.txt', '879_10.txt', '5271_10.txt', '4432_10.txt', '8422_10.txt', '6532_9.txt', '8940_10.txt', '8516_10.txt', '7190_8.txt', '9344_10.txt', '5396_10.txt', '10868_9.txt', '7812_9.txt', '3063_10.txt', '7257_8.txt', '827_8.txt', '10226_10.txt', '7217_7.txt', '1832_7.txt', '5365_8.txt', '9143_8.txt', '8356_8.txt', '3271_9.txt', '6879_8.txt', '6302_8.txt', '9400_10.txt', '6957_8.txt', '4131_9.txt', '8076_10.txt', '5429_8.txt', '3100_7.txt', '3973_10.txt', '2386_9.txt', '8320_10.txt', '7981_7.txt', '3599_7.txt', '10133_8.txt', '1102_9.txt', '11259_10.txt', '12036_7.txt', '3894_9.txt', '9198_7.txt', '6342_9.txt', '12045_10.txt', '12257_7.txt', '7795_10.txt', '4677_8.txt', '9526_10.txt', '8141_10.txt', '8150_10.txt', '3671_9.txt', '11092_9.txt', '10328_10.txt', '6842_8.txt', '11547_9.txt', '8325_10.txt', '10877_10.txt', '6925_10.txt', '11772_7.txt', '11261_10.txt', '9266_8.txt', '7903_10.txt', '10257_10.txt', '4231_8.txt', '3522_8.txt', '6123_10.txt', '8166_10.txt', '3125_7.txt', '390_10.txt', '12111_8.txt', '6641_9.txt', '8064_8.txt', '5682_10.txt', '6414_9.txt', '11483_10.txt', '3348_9.txt', '9803_9.txt', '7518_9.txt', '5499_8.txt', '3881_10.txt', '3079_9.txt', '4670_7.txt', '2705_7.txt', '943_8.txt', '5705_10.txt', '6202_7.txt', '8717_8.txt', '1108_8.txt', '12168_10.txt', '3376_8.txt', '4352_9.txt', '10201_7.txt', '9447_10.txt', '1663_9.txt', '9634_9.txt', '735_7.txt', '8612_8.txt', '11176_10.txt', '11304_9.txt', '5000_10.txt', '392_7.txt', '1409_10.txt', '1006_8.txt', '7738_8.txt', '6660_7.txt', '9917_10.txt', '7650_8.txt', '10486_10.txt', '221_9.txt', '2962_7.txt', '7985_8.txt', '8643_9.txt', '9575_8.txt', '1796_8.txt', '10070_10.txt', '11992_10.txt', '4705_10.txt', '161_7.txt', '1706_9.txt', '1333_7.txt', '365_10.txt', '4158_10.txt', '10388_10.txt', '2984_10.txt', '8595_10.txt', '7538_7.txt', '3009_7.txt', '12437_8.txt', '3685_10.txt', '3433_10.txt', '9656_9.txt', '12245_10.txt', '7234_10.txt', '9292_10.txt', '11337_8.txt', '6265_8.txt', '2411_8.txt', '9122_8.txt', '11049_9.txt', '1248_8.txt', '11824_10.txt', '1550_7.txt', '4133_10.txt', '6875_8.txt', '8394_9.txt', '5653_10.txt', '854_7.txt', '5727_7.txt', '4689_10.txt', '8780_8.txt', '3231_9.txt', '9851_8.txt', '9153_9.txt', '7579_10.txt', '7893_8.txt', '2766_10.txt', '4370_7.txt', '11300_8.txt', '10170_8.txt', '364_10.txt', '7414_9.txt', '395_8.txt', '5092_9.txt', '4540_10.txt', '12279_9.txt', '2717_8.txt', '885_8.txt', '12410_10.txt', '6410_8.txt', '7950_8.txt', '6598_10.txt', '5426_10.txt', '9225_9.txt', '3232_10.txt', '1160_10.txt', '10422_9.txt', '613_10.txt', '9267_10.txt', '1276_9.txt', '461_8.txt', '858_7.txt', '2713_8.txt', '3731_7.txt', '10217_7.txt', '4707_7.txt', '1274_7.txt', '10469_10.txt', '5408_7.txt', '6989_10.txt', '3893_8.txt', '408_7.txt', '1606_10.txt', '3514_10.txt', '746_7.txt', '1573_8.txt', '6399_10.txt', '11500_8.txt', '3473_10.txt', '817_7.txt', '8958_8.txt', '7454_10.txt', '5178_8.txt', '12288_7.txt', '2355_7.txt', '2013_7.txt', '10205_10.txt', '7295_9.txt', '6040_8.txt', '135_9.txt', '10946_7.txt', '9592_10.txt', '574_10.txt', '7792_10.txt', '889_7.txt', '4823_8.txt', '8444_9.txt', '4425_9.txt', '4353_10.txt', '12145_9.txt', '4498_9.txt', '7334_10.txt', '1277_7.txt', '5589_10.txt', '6198_10.txt', '2662_10.txt', '12414_8.txt', '5830_10.txt', '459_9.txt', '10608_10.txt', '2557_9.txt', '1238_8.txt', '5297_10.txt', '1859_10.txt', '7571_10.txt', '1952_7.txt', '9490_10.txt', '11773_10.txt', '5881_10.txt', '5332_8.txt', '6379_8.txt', '8131_9.txt', '11302_9.txt', '9428_7.txt', '1765_10.txt', '1392_7.txt', '9735_7.txt', '3085_7.txt', '8530_10.txt', '4149_8.txt', '4965_10.txt', '5859_9.txt', '10097_10.txt', '11047_7.txt', '466_9.txt', '10720_8.txt', '1914_8.txt', '4727_10.txt', '2022_9.txt', '10350_9.txt', '3265_7.txt', '5140_8.txt', '2781_7.txt', '2651_10.txt', '2577_8.txt', '10449_10.txt', '1397_10.txt', '2080_10.txt', '4537_10.txt', '3689_7.txt', '2372_10.txt', '922_8.txt', '2932_7.txt', '9860_10.txt', '11260_10.txt', '5274_8.txt', '11204_10.txt', '11509_10.txt', '5608_8.txt', '2448_7.txt', '4110_7.txt', '12489_10.txt', '345_7.txt', '4736_8.txt', '5318_8.txt', '1846_8.txt', '2988_10.txt', '771_9.txt', '7994_10.txt', '528_7.txt', '5049_9.txt', '6910_8.txt', '6076_9.txt', '2404_8.txt', '3728_8.txt', '7832_8.txt', '10076_10.txt', '5644_9.txt', '10402_8.txt', '9796_10.txt', '1414_10.txt', '3095_10.txt', '7995_10.txt', '12360_7.txt', '8535_9.txt', '10010_9.txt', '5952_9.txt', '10340_7.txt', '6083_10.txt', '7054_7.txt', '10591_10.txt', '6556_8.txt', '12486_9.txt', '7970_10.txt', '11234_10.txt', '628_8.txt', '10156_8.txt', '8830_9.txt', '7928_10.txt', '4719_10.txt', '9179_8.txt', '10823_9.txt', '6885_7.txt', '5159_9.txt', '9845_8.txt', '12319_10.txt', '5373_7.txt', '2678_10.txt', '3944_9.txt', '5423_10.txt', '8189_7.txt', '10187_10.txt', '3262_7.txt', '10024_9.txt', '4412_10.txt', '4777_10.txt', '4249_7.txt', '2410_7.txt', '10716_8.txt', '2803_8.txt', '5802_8.txt', '1906_7.txt', '11223_8.txt', '8505_8.txt', '7890_10.txt', '8832_9.txt', '2358_7.txt', '4549_8.txt', '225_10.txt', '7566_9.txt', '7022_8.txt', '5964_7.txt', '5646_10.txt', '3741_8.txt', '7187_7.txt', '12060_10.txt', '11893_10.txt', '7527_7.txt', '7429_8.txt', '5467_10.txt', '9238_7.txt', '12187_8.txt', '2111_8.txt', '8209_10.txt', '10969_8.txt', '11217_9.txt', '5813_10.txt', '11769_10.txt', '11044_7.txt', '8265_10.txt', '3126_9.txt', '7952_7.txt', '2883_8.txt', '7776_10.txt', '347_7.txt', '9961_9.txt', '9915_10.txt', '11784_10.txt', '11933_10.txt', '10518_7.txt', '12422_7.txt', '92_8.txt', '8243_7.txt', '2484_8.txt', '149_9.txt', '2646_10.txt', '412_7.txt', '9715_8.txt', '240_9.txt', '12365_10.txt', '10172_9.txt', '7655_7.txt', '6639_8.txt', '7635_7.txt', '10723_9.txt', '3141_10.txt', '5459_9.txt', '7300_9.txt', '1204_8.txt', '498_10.txt', '9237_8.txt', '8588_9.txt', '8711_10.txt', '9277_10.txt', '8253_8.txt', '9185_10.txt', '3036_10.txt', '5337_10.txt', '267_10.txt', '11934_8.txt', '7056_7.txt', '11609_10.txt', '4826_9.txt', '3278_10.txt', '7524_9.txt', '9105_10.txt', '6351_7.txt', '1896_10.txt', '4520_10.txt', '8666_9.txt', '10869_7.txt', '6223_7.txt', '3991_8.txt', '2363_10.txt', '1905_8.txt', '5771_8.txt', '8338_7.txt', '964_7.txt', '5334_7.txt', '5384_10.txt', '649_7.txt', '11768_8.txt', '9456_10.txt', '2056_10.txt', '5246_9.txt', '11575_10.txt', '11134_10.txt', '11484_10.txt', '10204_10.txt', '67_10.txt', '7277_10.txt', '3987_8.txt', '714_10.txt', '6999_10.txt', '10681_8.txt', '4752_7.txt', '3637_10.txt', '8533_8.txt', '11520_7.txt', '404_8.txt', '5487_8.txt', '5383_8.txt', '10843_10.txt', '10911_8.txt', '494_10.txt', '7901_8.txt', '3555_9.txt', '2051_7.txt', '10844_10.txt', '11841_9.txt', '4025_8.txt', '10127_10.txt', '10730_10.txt', '5233_9.txt', '4962_7.txt', '11910_10.txt', '4686_10.txt', '7537_8.txt', '4092_9.txt', '358_9.txt', '9138_10.txt', '9226_10.txt', '6502_9.txt', '3903_8.txt', '8522_8.txt', '5513_10.txt', '10081_10.txt', '9869_7.txt', '557_9.txt', '2244_7.txt', '2604_7.txt', '4563_7.txt', '10553_7.txt', '3579_8.txt', '9484_10.txt', '3049_9.txt', '8328_10.txt', '7399_9.txt', '7260_7.txt', '3136_9.txt', '4341_7.txt', '8847_10.txt', '3830_10.txt', '7908_7.txt', '2086_10.txt', '1399_7.txt', '5046_9.txt', '413_8.txt', '5928_8.txt', '12096_10.txt', '7354_8.txt', '12039_8.txt', '10270_10.txt', '2954_9.txt', '5180_8.txt', '5286_9.txt', '354_10.txt', '1780_10.txt', '11423_8.txt', '5486_7.txt', '5268_10.txt', '10932_8.txt', '6291_7.txt', '4026_9.txt', '3876_9.txt', '10990_8.txt', '752_10.txt', '11342_10.txt', '960_8.txt', '3730_10.txt', '12194_10.txt', '6052_10.txt', '8861_10.txt', '1931_10.txt', '1156_9.txt', '12073_10.txt', '10721_7.txt', '5774_10.txt', '10182_10.txt', '3145_9.txt', '9776_10.txt', '10266_7.txt', '6788_9.txt', '11491_10.txt', '6845_10.txt', '11377_10.txt', '3667_10.txt', '8202_7.txt', '3786_9.txt', '6723_7.txt', '1171_8.txt', '11913_7.txt', '9250_9.txt', '4902_8.txt', '7763_10.txt', '6718_10.txt', '12094_10.txt', '7307_10.txt', '11319_7.txt', '5547_8.txt', '11165_10.txt', '9319_9.txt', '2246_10.txt', '9760_10.txt', '302_10.txt', '11368_10.txt', '3495_7.txt', '9314_10.txt', '9089_8.txt', '9839_8.txt', '1976_8.txt', '6192_10.txt', '6516_10.txt', '1869_10.txt', '253_10.txt', '5546_10.txt', '8950_7.txt', '298_10.txt', '4637_9.txt', '8695_8.txt', '5083_10.txt', '1816_10.txt', '6074_7.txt', '11418_7.txt', '650_10.txt', '8185_9.txt', '6483_10.txt', '10091_10.txt', '5273_10.txt', '7073_10.txt', '9612_10.txt', '1147_10.txt', '6582_8.txt', '12105_10.txt', '12144_8.txt', '5876_10.txt', '7535_10.txt', '1945_8.txt', '6874_7.txt', '12335_7.txt', '4611_10.txt', '7214_10.txt', '427_10.txt', '6395_10.txt', '11290_7.txt', '3693_10.txt', '772_10.txt', '11912_7.txt', '11843_9.txt', '8528_7.txt', '8143_7.txt', '9316_7.txt', '8640_10.txt', '4367_9.txt', '6522_10.txt', '6717_8.txt', '6578_7.txt', '5800_7.txt', '8620_7.txt', '11497_7.txt', '3105_7.txt', '770_10.txt', '5181_10.txt', '1173_7.txt', '6450_10.txt', '11352_9.txt', '4057_7.txt', '6848_8.txt', '2947_10.txt', '4282_7.txt', '39_9.txt', '11775_10.txt', '8180_9.txt', '9755_7.txt', '715_10.txt', '1394_9.txt', '738_10.txt', '8755_9.txt', '9850_8.txt', '11962_8.txt', '2614_10.txt', '5971_10.txt', '8693_10.txt', '5733_9.txt', '153_8.txt', '2865_7.txt', '5916_7.txt', '5094_10.txt', '4963_8.txt', '893_8.txt', '478_9.txt', '3439_9.txt', '2541_10.txt', '848_9.txt', '966_10.txt', '2881_9.txt', '4612_10.txt', '6444_7.txt', '8905_10.txt', '8534_10.txt', '5293_9.txt', '6595_9.txt', '5862_7.txt', '9615_8.txt', '8989_9.txt', '5739_7.txt', '8549_8.txt', '7927_10.txt', '8583_7.txt', '10073_7.txt', '10064_10.txt', '3831_9.txt', '11536_7.txt', '10178_10.txt', '5555_10.txt', '12461_8.txt', '7868_8.txt', '12387_8.txt', '5744_10.txt', '426_9.txt', '2789_8.txt', '1654_10.txt', '8636_9.txt', '3205_9.txt', '8715_8.txt', '5869_10.txt', '8191_10.txt', '6523_10.txt', '5446_7.txt', '5787_8.txt', '6437_7.txt', '11637_8.txt', '829_10.txt', '9109_10.txt', '2121_10.txt', '5474_8.txt', '8625_9.txt', '8937_7.txt', '6485_10.txt', '6365_7.txt', '2302_8.txt', '8759_10.txt', '4470_7.txt', '8_9.txt', '6224_8.txt', '1890_10.txt', '6319_10.txt', '8503_7.txt', '9407_10.txt', '10884_9.txt', '1703_7.txt', '1074_7.txt', '5033_7.txt', '7816_7.txt', '9665_10.txt', '9737_10.txt', '3818_10.txt', '11994_9.txt', '11506_10.txt', '693_9.txt', '10009_10.txt', '4923_9.txt', '619_10.txt', '1972_7.txt', '4088_9.txt', '289_8.txt', '12318_10.txt', '2926_7.txt', '7349_10.txt', '12283_8.txt', '2402_10.txt', '8961_9.txt', '3455_8.txt', '6127_7.txt', '11718_7.txt', '8342_9.txt', '10851_9.txt', '1852_10.txt', '7483_8.txt', '3706_10.txt', '6797_10.txt', '4749_7.txt', '11656_8.txt', '11068_10.txt', '7041_10.txt', '2119_9.txt', '8353_10.txt', '7934_10.txt', '3371_9.txt', '10090_10.txt', '5014_10.txt', '11864_7.txt', '3761_8.txt', '3267_8.txt', '11041_10.txt', '9602_8.txt', '7375_8.txt', '7547_9.txt', '4314_10.txt', '3017_9.txt', '3341_8.txt', '4363_10.txt', '368_8.txt', '11840_10.txt', '12263_10.txt', '6899_8.txt', '9820_10.txt', '9599_10.txt', '2858_9.txt', '11297_8.txt', '6951_10.txt', '1581_8.txt', '11419_8.txt', '8393_10.txt', '9713_8.txt', '11199_9.txt', '12204_10.txt', '810_9.txt', '4522_7.txt', '12441_9.txt', '2042_8.txt', '6499_8.txt', '8212_9.txt', '10714_9.txt', '4544_9.txt', '6997_10.txt', '6865_7.txt', '8788_9.txt', '4660_10.txt', '8258_10.txt', '4999_10.txt', '369_8.txt', '185_10.txt', '11235_10.txt', '4898_7.txt', '2319_8.txt', '10489_8.txt', '11648_10.txt', '6057_8.txt', '3941_8.txt', '1116_7.txt', '9167_8.txt', '4512_9.txt', '10199_10.txt', '890_9.txt', '7532_9.txt', '4608_8.txt', '4228_7.txt', '6905_9.txt', '6937_7.txt', '9870_8.txt', '514_9.txt', '4313_10.txt', '11398_9.txt', '6852_7.txt', '5593_10.txt', '9725_10.txt', '10315_10.txt', '10452_8.txt', '6112_8.txt', '5500_9.txt', '10324_8.txt', '6387_7.txt', '11504_10.txt', '5238_7.txt', '5908_10.txt', '6150_7.txt', '2522_10.txt', '696_10.txt', '795_10.txt', '6918_10.txt', '483_10.txt', '797_10.txt', '6686_10.txt', '9039_8.txt', '4475_10.txt', '2746_8.txt', '9101_10.txt', '4247_8.txt', '8303_10.txt', '7716_10.txt', '10526_10.txt', '11915_9.txt', '3648_10.txt', '1330_10.txt', '9523_10.txt', '9538_10.txt', '1946_7.txt', '5903_9.txt', '5693_7.txt', '5328_10.txt', '812_7.txt', '1546_7.txt', '6082_8.txt', '2643_9.txt', '2561_10.txt', '11819_10.txt', '5511_10.txt', '172_7.txt', '9029_7.txt', '10017_8.txt', '6011_10.txt', '11657_10.txt', '7772_8.txt', '5150_7.txt', '1638_10.txt', '4394_10.txt', '3983_10.txt', '11268_8.txt', '1678_9.txt', '10873_8.txt', '7232_8.txt', '11914_7.txt', '54_10.txt', '7526_9.txt', '2370_8.txt', '2065_8.txt', '12222_7.txt', '6389_8.txt', '7986_8.txt', '6133_8.txt', '10450_7.txt', '635_8.txt', '6552_10.txt', '2748_8.txt', '1110_7.txt', '12027_10.txt', '7164_8.txt', '4796_10.txt', '7536_9.txt', '4517_9.txt', '5342_9.txt', '2756_8.txt', '5818_10.txt', '8730_7.txt', '9216_10.txt', '9519_8.txt', '1604_8.txt', '9662_7.txt', '9048_7.txt', '4457_10.txt', '9164_9.txt', '765_9.txt', '8547_10.txt', '8582_10.txt', '5183_9.txt', '11452_7.txt', '1364_10.txt', '1639_10.txt', '7233_7.txt', '6695_7.txt', '5821_10.txt', '11186_10.txt', '4027_9.txt', '9852_9.txt', '1122_8.txt', '2006_10.txt', '8633_7.txt', '9111_7.txt', '6653_7.txt', '3808_10.txt', '4631_10.txt', '1718_10.txt', '2826_9.txt', '1965_10.txt', '5764_10.txt', '7645_7.txt', '5073_8.txt', '8611_9.txt', '10679_8.txt', '8047_10.txt', '2243_7.txt', '8262_10.txt', '4634_10.txt', '2139_10.txt', '5772_9.txt', '11737_10.txt', '11788_10.txt', '3789_9.txt', '4989_7.txt', '11813_10.txt', '5438_8.txt', '11522_8.txt', '11128_7.txt', '4754_8.txt', '4747_8.txt', '10022_10.txt', '7848_10.txt', '3356_10.txt', '10161_7.txt', '9832_7.txt', '5510_9.txt', '4610_9.txt', '7259_10.txt', '919_10.txt', '12302_9.txt', '5141_10.txt', '8718_10.txt', '3097_9.txt', '8628_7.txt', '12063_10.txt', '7320_10.txt', '8124_8.txt', '2831_9.txt', '11936_8.txt', '9643_7.txt', '9990_10.txt', '10014_7.txt', '12030_8.txt', '12358_7.txt', '11247_10.txt', '12273_9.txt', '5899_10.txt', '11283_8.txt', '355_10.txt', '7905_10.txt', '1833_9.txt', '11838_10.txt', '4161_9.txt', '11445_8.txt', '3025_8.txt', '6167_10.txt', '252_9.txt', '4310_10.txt', '10601_10.txt', '1793_9.txt', '10695_10.txt', '3836_10.txt', '2073_10.txt', '3472_8.txt', '6250_9.txt', '6065_8.txt', '11892_10.txt', '12043_9.txt', '633_10.txt', '2423_9.txt', '3330_10.txt', '4932_10.txt', '7509_10.txt', '9563_10.txt', '7869_10.txt', '7914_8.txt', '477_8.txt', '6894_7.txt', '11292_10.txt', '7185_8.txt', '6237_8.txt', '3832_10.txt', '1324_10.txt', '9819_10.txt', '11478_10.txt', '3187_8.txt', '12165_8.txt', '10346_9.txt', '587_8.txt', '8584_7.txt', '5230_9.txt', '10523_9.txt', '2455_8.txt', '2871_8.txt', '12420_10.txt', '9368_9.txt', '7852_8.txt', '8184_9.txt', '8402_7.txt', '2052_10.txt', '11940_10.txt', '3828_10.txt', '2701_10.txt', '9587_7.txt', '6588_9.txt', '11296_7.txt', '11216_9.txt', '4789_10.txt', '4077_8.txt', '7274_8.txt', '6626_7.txt', '3434_8.txt', '12479_9.txt', '7922_8.txt', '9750_9.txt', '5156_8.txt', '7433_10.txt', '7769_10.txt', '7384_8.txt', '6902_7.txt', '2634_10.txt', '3044_7.txt', '12337_9.txt', '5349_9.txt', '4949_8.txt', '6998_7.txt', '6840_10.txt', '6191_10.txt', '7762_9.txt', '11192_7.txt', '7142_8.txt', '1403_7.txt', '7603_10.txt', '12431_8.txt', '6060_9.txt', '6279_8.txt', '2469_10.txt', '7065_8.txt', '4114_8.txt', '7751_10.txt', '1476_8.txt', '8872_9.txt', '2963_9.txt', '9561_10.txt', '4248_10.txt', '5875_8.txt', '3104_7.txt', '11272_8.txt', '2506_7.txt', '3863_10.txt', '37_9.txt', '3496_7.txt', '9378_7.txt', '3479_10.txt', '9418_7.txt', '11514_8.txt', '561_10.txt', '7303_10.txt', '4019_7.txt', '9261_10.txt', '5504_10.txt', '11236_10.txt', '5959_7.txt', '4905_9.txt', '6432_9.txt', '7939_10.txt', '10850_10.txt', '10836_9.txt', '11636_9.txt', '8575_7.txt', '5877_10.txt', '2364_10.txt', '785_7.txt', '6608_9.txt', '1747_8.txt', '384_9.txt', '2679_9.txt', '2299_10.txt', '5262_8.txt', '3382_10.txt', '10002_8.txt', '5976_10.txt', '2995_10.txt', '3484_10.txt', '1179_7.txt', '6282_10.txt', '9099_7.txt', '6942_10.txt', '5220_10.txt', '1559_10.txt', '1658_10.txt', '1302_8.txt', '6067_10.txt', '10643_9.txt', '11516_7.txt', '8443_7.txt', '781_9.txt', '11467_7.txt', '8725_8.txt', '10138_10.txt', '11972_7.txt', '2312_10.txt', '6630_10.txt', '3506_9.txt', '9771_10.txt', '3211_10.txt', '3822_8.txt', '9532_10.txt', '4021_7.txt', '12274_9.txt', '6833_10.txt', '1358_10.txt', '2438_10.txt', '1627_10.txt', '9786_8.txt', '216_10.txt', '3635_9.txt', '9495_10.txt', '4751_7.txt', '2740_10.txt', '286_10.txt', '12131_8.txt', '4825_9.txt', '5686_8.txt', '3058_10.txt', '9722_7.txt', '3913_8.txt', '1689_8.txt', '8806_9.txt', '2700_10.txt', '12076_10.txt', '2400_8.txt', '8490_10.txt', '7887_7.txt', '3492_9.txt', '9010_8.txt', '305_10.txt', '10221_8.txt', '7126_10.txt', '11738_9.txt', '190_9.txt', '10749_8.txt', '11847_8.txt', '10120_10.txt', '3933_7.txt', '8927_8.txt', '4970_9.txt', '6724_10.txt', '9762_8.txt', '5239_8.txt', '584_10.txt', '9470_9.txt', '9696_8.txt', '10971_7.txt', '9682_9.txt', '7711_8.txt', '10047_10.txt', '6411_8.txt', '7396_7.txt', '862_9.txt', '11101_8.txt', '1380_9.txt', '4089_10.txt', '503_9.txt', '10876_7.txt', '8367_10.txt', '5672_7.txt', '6442_8.txt', '551_9.txt', '2326_9.txt', '1911_8.txt', '12059_10.txt', '8641_10.txt', '1881_10.txt', '8018_10.txt', '6776_9.txt', '311_10.txt', '6161_8.txt', '5883_10.txt', '4793_10.txt', '2329_10.txt', '10390_7.txt', '7111_7.txt', '8514_10.txt', '3235_9.txt', '2033_8.txt', '10487_7.txt', '8461_7.txt', '5741_10.txt', '1427_10.txt', '10332_10.txt', '9594_10.txt', '6297_10.txt', '1270_8.txt', '10439_8.txt', '6869_7.txt', '1406_10.txt', '7935_9.txt', '3872_10.txt', '21_9.txt', '1913_10.txt', '5364_10.txt', '2681_10.txt', '654_9.txt', '10367_8.txt', '8833_9.txt', '127_10.txt', '843_10.txt', '7316_9.txt', '11906_8.txt', '5630_8.txt', '4799_8.txt', '1646_7.txt', '8210_10.txt', '8163_7.txt', '936_9.txt', '5855_7.txt', '708_10.txt', '5496_8.txt', '12286_10.txt', '1013_7.txt', '7221_10.txt', '5198_10.txt', '4119_7.txt', '10101_9.txt', '11365_10.txt', '1442_8.txt', '10219_9.txt', '5341_7.txt', '9989_10.txt', '11502_10.txt', '3916_10.txt', '2309_10.txt', '11740_7.txt', '12490_10.txt', '7174_7.txt', '5076_9.txt', '4838_9.txt', '5404_7.txt', '1462_9.txt', '8007_10.txt', '7296_10.txt', '10397_10.txt', '1574_9.txt', '1682_10.txt', '10886_7.txt', '6216_7.txt', '7863_9.txt', '5759_10.txt', '10432_10.txt', '2181_7.txt', '9782_10.txt', '1676_10.txt', '6738_10.txt', '2827_9.txt', '1784_8.txt', '11511_10.txt', '7039_8.txt', '11614_9.txt', '4329_10.txt', '9877_8.txt', '5251_9.txt', '9885_7.txt', '571_10.txt', '5036_8.txt', '925_10.txt', '11457_10.txt', '5175_10.txt', '3659_9.txt', '6829_10.txt', '10835_9.txt', '4132_7.txt', '4177_9.txt', '5_7.txt', '73_10.txt', '7991_10.txt', '9080_7.txt', '1740_9.txt', '10546_10.txt', '9548_8.txt', '2714_9.txt', '3169_9.txt', '5162_9.txt', '9436_8.txt', '5245_10.txt', '12472_10.txt', '8890_7.txt', '3683_10.txt', '8385_10.txt', '12050_9.txt', '3051_10.txt', '6658_7.txt', '9635_8.txt', '9878_9.txt', '5942_7.txt', '8414_10.txt', '11350_9.txt', '4481_8.txt', '7837_9.txt', '774_8.txt', '6448_9.txt', '12246_9.txt', '7338_8.txt', '6914_10.txt', '111_10.txt', '7153_8.txt', '3952_10.txt', '10988_10.txt', '2596_10.txt', '8363_7.txt', '7503_8.txt', '6551_7.txt', '386_10.txt', '9043_10.txt', '9274_8.txt', '1561_10.txt', '1305_9.txt', '4323_7.txt', '6152_8.txt', '820_9.txt', '507_7.txt', '10606_10.txt', '11817_10.txt', '1938_7.txt', '910_10.txt', '11917_10.txt', '2366_7.txt', '2377_9.txt', '1113_8.txt', '536_7.txt', '8011_9.txt', '5926_9.txt', '6846_8.txt', '7796_10.txt', '4619_10.txt', '3974_7.txt', '8916_7.txt', '9405_7.txt', '348_7.txt', '1670_8.txt', '3701_10.txt', '6635_10.txt', '8903_10.txt', '8380_7.txt', '1345_9.txt', '10130_8.txt', '6363_7.txt', '7954_9.txt', '11572_8.txt', '8648_10.txt', '197_10.txt', '3762_9.txt', '3955_10.txt', '7137_8.txt', '12048_7.txt', '8650_7.txt', '5920_7.txt', '5229_10.txt', '9098_10.txt', '11118_10.txt', '2141_7.txt', '5174_10.txt', '8296_8.txt', '9949_8.txt', '2391_9.txt', '2844_10.txt', '6904_9.txt', '4227_7.txt', '8728_7.txt', '5833_7.txt', '5197_10.txt', '1866_9.txt', '11229_9.txt', '9452_10.txt', '8126_7.txt', '5685_9.txt', '4274_7.txt', '3303_10.txt', '370_8.txt', '9229_8.txt', '4244_10.txt', '4237_8.txt', '2131_8.txt', '1292_8.txt', '9691_9.txt', '9861_7.txt', '1764_8.txt', '1969_10.txt', '195_10.txt', '9021_10.txt', '3554_10.txt', '11671_10.txt', '9023_10.txt', '8688_7.txt', '7298_8.txt', '8614_7.txt', '7705_10.txt', '2231_7.txt', '7216_10.txt', '4238_7.txt', '2986_10.txt', '6827_8.txt', '7130_9.txt', '5594_10.txt', '6514_8.txt', '8378_7.txt', '3277_7.txt', '8712_10.txt', '10866_9.txt', '12326_10.txt', '3805_8.txt', '1656_7.txt', '5719_8.txt', '8138_9.txt', '4531_7.txt', '1199_10.txt', '6616_8.txt', '8225_8.txt', '5827_10.txt', '5142_10.txt', '8923_8.txt', '7485_7.txt', '2415_7.txt', '7016_10.txt', '11391_10.txt', '7861_8.txt', '10791_9.txt', '5947_7.txt', '8867_10.txt', '3201_9.txt', '10171_8.txt', '1448_8.txt', '437_9.txt', '6030_9.txt', '335_10.txt', '2444_10.txt', '9093_7.txt', '9119_10.txt', '11396_10.txt', '11748_8.txt', '3240_9.txt', '6244_10.txt', '7241_9.txt', '510_7.txt', '844_10.txt', '7700_8.txt', '5106_10.txt', '3488_8.txt', '1711_8.txt', '300_9.txt', '10779_9.txt', '11778_10.txt', '11121_9.txt', '7823_7.txt', '1644_9.txt', '625_10.txt', '448_8.txt', '3263_10.txt', '90_9.txt', '704_8.txt', '3102_10.txt', '475_10.txt', '9212_10.txt', '11364_10.txt', '8239_9.txt', '8789_7.txt', '4264_8.txt', '182_10.txt', '11461_9.txt', '4810_7.txt', '8371_10.txt', '10956_8.txt', '11747_10.txt', '10479_10.txt', '6762_8.txt', '7855_7.txt', '11295_8.txt', '8632_8.txt', '8275_10.txt', '8415_10.txt', '2562_10.txt', '4487_9.txt', '6891_10.txt', '5287_10.txt', '8976_8.txt', '9369_8.txt', '10508_7.txt', '9248_10.txt', '5419_10.txt', '5035_7.txt', '11862_7.txt', '4190_10.txt', '10189_10.txt', '3057_9.txt', '10461_10.txt', '10559_7.txt', '1743_8.txt', '12007_8.txt', '8108_10.txt', '7413_7.txt', '10319_8.txt', '12334_8.txt', '1985_10.txt', '9569_7.txt', '2682_10.txt', '9241_7.txt', '7819_10.txt', '971_10.txt', '2812_10.txt', '2333_8.txt', '1939_8.txt', '6890_10.txt', '10451_7.txt', '6431_8.txt', '4451_9.txt', '6970_10.txt', '4581_8.txt', '1201_10.txt', '4602_8.txt', '1480_7.txt', '12367_9.txt', '11315_7.txt', '8826_8.txt', '4694_10.txt', '4870_10.txt', '5987_7.txt', '3657_8.txt', '1955_10.txt', '5194_10.txt', '11744_7.txt', '9843_7.txt', '12454_10.txt', '5810_7.txt', '8629_7.txt', '9813_10.txt', '10708_9.txt', '3878_10.txt', '987_7.txt', '10575_10.txt', '9683_7.txt', '2696_10.txt', '4265_10.txt', '9027_9.txt', '142_8.txt', '11539_10.txt', '1545_7.txt', '8762_10.txt', '4297_8.txt', '896_8.txt', '6350_8.txt', '12040_9.txt', '2724_7.txt', '5898_9.txt', '8223_10.txt', '8000_10.txt', '6217_10.txt', '2125_10.txt', '6535_7.txt', '10349_8.txt', '6694_9.txt', '5580_10.txt', '11320_8.txt', '3029_7.txt', '11230_8.txt', '7063_9.txt', '5722_9.txt', '7123_10.txt', '7565_10.txt', '11757_9.txt', '7068_10.txt', '7152_10.txt', '11093_10.txt', '7409_8.txt', '9610_9.txt', '10095_9.txt', '3539_9.txt', '9102_10.txt', '6716_8.txt', '2267_9.txt', '2222_10.txt', '10965_8.txt', '8556_10.txt', '9347_10.txt', '5345_10.txt', '2572_10.txt', '11286_8.txt', '11453_7.txt', '12386_10.txt', '11051_8.txt', '10380_7.txt', '2589_10.txt', '2070_10.txt', '12023_8.txt', '11222_10.txt', '2539_10.txt', '4073_7.txt', '7659_10.txt', '682_9.txt', '261_9.txt', '2992_10.txt', '11564_7.txt', '2575_10.txt', '10551_10.txt', '11974_7.txt', '5490_9.txt', '6340_7.txt', '1975_9.txt', '2337_9.txt', '10642_10.txt', '8277_9.txt', '7967_8.txt', '1812_8.txt', '10393_9.txt', '5067_10.txt', '956_10.txt', '12269_9.txt', '11346_8.txt', '6507_8.txt', '7760_10.txt', '1264_9.txt', '2680_9.txt', '1398_8.txt', '4577_8.txt', '1370_10.txt', '7442_7.txt', '7510_7.txt', '2563_7.txt', '626_10.txt', '10169_8.txt', '8917_10.txt', '1623_8.txt', '3196_7.txt', '8686_10.txt', '1687_10.txt', '472_10.txt', '3069_9.txt', '2761_10.txt', '5742_10.txt', '8054_8.txt', '9000_8.txt', '7585_10.txt', '12429_10.txt', '643_7.txt', '5369_10.txt', '3775_10.txt', '9265_9.txt', '8022_7.txt', '1558_9.txt', '10819_9.txt', '10278_7.txt', '5848_7.txt', '6026_8.txt', '6201_9.txt', '8387_9.txt', '11606_8.txt', '8613_8.txt', '9522_10.txt', '11827_10.txt', '2921_7.txt', '8440_7.txt', '4620_8.txt', '3290_7.txt', '9414_10.txt', '9459_9.txt', '2814_10.txt', '9681_10.txt', '10699_8.txt', '5071_8.txt', '509_7.txt', '12104_7.txt', '12456_8.txt', '7247_9.txt', '12467_10.txt', '1979_10.txt', '1524_10.txt', '1902_10.txt', '1021_7.txt', '6638_10.txt', '4886_8.txt', '4251_10.txt', '1106_9.txt', '7208_8.txt', '4460_8.txt', '9151_7.txt', '9672_10.txt', '4164_9.txt', '209_10.txt', '1577_8.txt', '7371_9.txt', '6722_10.txt', '3529_8.txt', '1854_10.txt', '10573_10.txt', '1290_10.txt', '1850_10.txt', '6153_10.txt', '10861_10.txt', '6479_10.txt', '4139_9.txt', '10293_9.txt', '1800_9.txt', '481_7.txt', '9520_9.txt', '4418_10.txt', '10365_7.txt', '5890_10.txt', '9181_8.txt', '10796_8.txt', '328_10.txt', '718_10.txt', '9982_8.txt', '2184_7.txt', '9270_10.txt', '3510_9.txt', '2142_9.txt', '9132_9.txt', '3457_9.txt', '9721_9.txt', '7895_7.txt', '4673_8.txt', '7827_10.txt', '8149_10.txt', '10473_10.txt', '485_10.txt', '6418_8.txt', '11806_10.txt', '4233_8.txt', '7326_10.txt', '12421_8.txt', '11801_10.txt', '8151_9.txt', '11198_10.txt', '2058_9.txt', '8207_8.txt', '3179_9.txt', '9999_10.txt', '2488_9.txt', '2810_9.txt', '10075_10.txt', '11685_10.txt', '1541_10.txt', '12345_10.txt', '6756_9.txt', '7973_9.txt', '3524_8.txt', '9950_8.txt', '3930_8.txt', '12369_10.txt', '9036_8.txt', '5868_7.txt', '8866_10.txt', '11759_10.txt', '4405_7.txt', '3784_8.txt', '2294_9.txt', '5385_8.txt', '6143_9.txt', '3823_10.txt', '3641_9.txt', '6323_9.txt', '4533_8.txt', '7521_10.txt', '8878_10.txt', '1356_8.txt', '6475_10.txt', '7715_8.txt', '7695_10.txt', '3532_7.txt', '3134_10.txt', '4822_8.txt', '12018_10.txt', '4335_9.txt', '7541_8.txt', '3248_8.txt', '8982_9.txt', '5375_7.txt', '11119_8.txt', '5338_8.txt', '1855_10.txt', '2137_9.txt', '1215_10.txt', '8887_9.txt', '11275_8.txt', '11298_8.txt', '1886_10.txt', '10894_10.txt', '3148_10.txt', '11837_9.txt', '12214_10.txt', '723_10.txt', '4725_7.txt', '9137_9.txt', '2966_10.txt', '12110_7.txt', '4254_10.txt', '5134_9.txt', '1093_8.txt', '775_9.txt', '2969_9.txt', '244_9.txt', '8699_10.txt', '1766_9.txt', '9985_9.txt', '8164_8.txt', '7378_7.txt', '2788_9.txt', '7346_10.txt', '5267_8.txt', '12123_7.txt', '8662_9.txt', '11343_8.txt', '1430_10.txt', '496_9.txt', '7749_9.txt', '2738_10.txt', '7495_7.txt', '4034_7.txt', '1060_8.txt', '7301_7.txt', '2383_8.txt', '2749_8.txt', '8208_7.txt', '2007_10.txt', '3151_10.txt', '10827_9.txt', '1376_8.txt', '11028_10.txt', '11980_10.txt', '424_10.txt', '4519_10.txt', '1669_9.txt', '1591_10.txt', '10188_10.txt', '1897_10.txt', '98_9.txt', '6763_8.txt', '8551_10.txt', '11640_10.txt', '5272_10.txt', '8836_8.txt', '5933_7.txt', '3662_9.txt', '1673_8.txt', '4808_7.txt', '10604_8.txt', '8846_9.txt', '5990_10.txt', '10298_9.txt', '1589_9.txt', '1701_7.txt', '6820_10.txt', '6939_10.txt', '3183_8.txt', '1055_10.txt', '1289_8.txt', '6790_9.txt', '10312_9.txt', '9450_10.txt', '11736_9.txt', '9552_10.txt', '12241_8.txt', '6779_10.txt', '5361_9.txt', '10375_8.txt', '6259_7.txt', '5615_9.txt', '9154_9.txt', '8052_10.txt', '5713_10.txt', '3164_10.txt', '4665_7.txt', '105_8.txt', '9730_10.txt', '798_10.txt', '1928_9.txt', '11731_7.txt', '11984_8.txt', '3409_10.txt', '8051_10.txt', '10289_9.txt', '2476_10.txt', '4654_10.txt', '8229_8.txt', '12184_10.txt', '10330_9.txt', '10084_10.txt', '7358_10.txt', '9330_9.txt', '9882_10.txt', '6979_10.txt', '4857_8.txt', '4483_10.txt', '11480_10.txt', '6805_10.txt', '11060_7.txt', '4135_8.txt', '8247_10.txt', '11172_10.txt', '6981_7.txt', '10112_10.txt', '9677_10.txt', '3969_8.txt', '849_7.txt', '4862_9.txt', '9698_10.txt', '9983_7.txt', '9410_8.txt', '1522_10.txt', '156_9.txt', '4289_10.txt', '1098_9.txt', '10252_10.txt', '3747_7.txt', '4539_10.txt', '290_9.txt', '2532_8.txt', '11644_10.txt', '3780_7.txt', '2185_10.txt', '6266_7.txt', '5592_8.txt', '1499_9.txt', '4648_10.txt', '18_8.txt', '2964_7.txt', '11795_8.txt', '709_9.txt', '10134_7.txt', '372_9.txt', '6782_10.txt', '8671_9.txt', '10805_7.txt', '8645_10.txt', '6335_10.txt', '3039_8.txt', '4712_9.txt', '9339_8.txt', '2213_8.txt', '10055_10.txt', '3596_7.txt', '8406_7.txt', '9945_10.txt', '6986_8.txt', '4588_9.txt', '9466_9.txt', '9323_7.txt', '10998_10.txt', '8448_10.txt', '4597_7.txt', '5611_9.txt', '7200_8.txt', '5494_7.txt', '1357_9.txt', '7047_10.txt', '6129_8.txt', '11842_10.txt', '2288_8.txt', '11080_10.txt', '4098_8.txt', '620_8.txt', '7856_10.txt', '8568_9.txt', '2474_10.txt', '9423_8.txt', '7350_10.txt', '11741_10.txt', '10237_10.txt', '1081_10.txt', '2396_8.txt', '5925_9.txt', '5031_7.txt', '6490_8.txt', '5265_10.txt', '2032_7.txt', '3245_9.txt', '5126_8.txt', '7306_9.txt', '2981_8.txt', '4740_9.txt', '10255_10.txt', '7457_10.txt', '2808_10.txt', '1369_7.txt', '806_10.txt', '11691_7.txt', '5696_9.txt', '201_9.txt', '2494_8.txt', '5937_9.txt', '1070_10.txt', '784_10.txt', '6454_8.txt', '9497_7.txt', '6923_9.txt', '3924_7.txt', '3390_10.txt', '4122_8.txt', '9291_10.txt', '3753_10.txt', '1560_10.txt', '5826_10.txt', '10146_10.txt', '2671_7.txt', '2767_10.txt', '564_9.txt', '3299_10.txt', '5914_10.txt', '11861_9.txt', '5248_9.txt', '6336_10.txt', '4717_10.txt', '6034_10.txt', '233_8.txt', '12423_9.txt', '5172_7.txt', '3331_10.txt', '7834_8.txt', '10612_9.txt', '3886_8.txt', '2753_9.txt', '8339_8.txt', '7175_7.txt', '1851_10.txt', '4327_9.txt', '8863_10.txt', '8377_8.txt', '7120_10.txt', '10167_9.txt', '11600_10.txt', '6208_7.txt', '1141_10.txt', '3968_10.txt', '940_7.txt', '5620_10.txt', '4667_7.txt', '9031_9.txt', '4241_7.txt', '5556_10.txt', '9769_9.txt', '1879_7.txt', '8105_8.txt', '12498_7.txt', '8987_7.txt', '4805_9.txt', '9647_8.txt', '371_8.txt', '10830_9.txt', '3452_7.txt', '9967_10.txt', '8610_8.txt', '5934_9.txt', '10292_10.txt', '6194_10.txt', '10976_8.txt', '6478_10.txt', '1578_7.txt', '5290_8.txt', '8649_8.txt', '7007_10.txt', '3745_10.txt', '1139_10.txt', '7411_10.txt', '248_7.txt', '1941_7.txt', '297_10.txt', '6675_7.txt', '2875_8.txt', '8012_7.txt', '3678_10.txt', '7192_8.txt', '8384_10.txt', '6847_10.txt', '3810_7.txt', '5427_10.txt', '215_8.txt', '899_9.txt', '1949_10.txt', '4168_10.txt', '7697_7.txt', '8892_7.txt', '3026_10.txt', '6612_8.txt', '9131_10.txt', '6276_8.txt', '851_7.txt', '8159_7.txt', '3943_10.txt', '5530_9.txt', '10190_10.txt', '5853_8.txt', '10416_9.txt', '1538_7.txt', '2973_8.txt', '9126_10.txt', '9363_8.txt', '2768_10.txt', '10224_9.txt', '2201_10.txt', '8250_8.txt', '9268_9.txt', '6446_10.txt', '1447_9.txt', '3814_7.txt', '3763_7.txt', '10872_9.txt', '3534_10.txt', '5155_7.txt', '3255_9.txt', '8244_10.txt', '6099_7.txt', '7038_9.txt', '917_9.txt', '1327_9.txt', '8719_8.txt', '3163_8.txt', '294_8.txt', '8902_8.txt', '9765_10.txt', '9958_8.txt', '7449_10.txt', '4461_8.txt', '11586_9.txt', '10061_10.txt', '5847_7.txt', '10748_8.txt', '3475_9.txt', '663_9.txt', '5967_7.txt', '306_10.txt', '2896_10.txt', '2340_10.txt', '10650_9.txt', '5565_10.txt', '5006_10.txt', '9062_10.txt', '6856_7.txt', '1423_10.txt', '1195_10.txt', '3537_9.txt', '8062_10.txt', '4720_10.txt', '10183_9.txt', '5770_7.txt', '7106_8.txt', '547_7.txt', '12119_10.txt', '3613_7.txt', '3458_9.txt', '5804_10.txt', '1900_8.txt', '4878_9.txt', '2261_10.txt', '1867_9.txt', '1731_10.txt', '1121_7.txt', '1244_9.txt', '11891_10.txt', '1278_10.txt', '7558_10.txt', '4035_9.txt', '6766_8.txt', '9886_10.txt', '9397_10.txt', '4421_10.txt', '10415_7.txt', '12205_10.txt', '11057_8.txt', '2797_8.txt', '4303_9.txt', '1756_10.txt', '7012_9.txt', '4033_8.txt', '3246_10.txt', '8300_7.txt', '648_8.txt', '11016_8.txt', '6510_7.txt', '2463_10.txt', '8278_10.txt', '2305_8.txt', '8476_8.txt', '5651_10.txt', '2640_8.txt', '2021_10.txt', '766_8.txt', '6372_9.txt', '10543_7.txt', '5864_10.txt', '9841_8.txt', '2912_8.txt', '4347_10.txt', '11894_8.txt', '6795_10.txt', '7284_9.txt', '11330_8.txt', '12107_9.txt', '7709_9.txt', '8898_7.txt', '2914_10.txt', '1580_8.txt', '6172_9.txt', '1077_10.txt', '10739_9.txt', '1303_10.txt', '12317_10.txt', '2955_9.txt', '7145_10.txt', '4543_10.txt', '3590_9.txt', '6634_9.txt', '5443_7.txt', '9113_10.txt', '3062_10.txt', '3411_10.txt', '8298_8.txt', '6828_8.txt', '10286_10.txt', '10520_10.txt', '2418_8.txt', '5805_10.txt', '958_10.txt', '2653_10.txt', '9766_7.txt', '9220_8.txt', '2228_10.txt', '43_10.txt', '12010_8.txt', '394_9.txt', '7714_8.txt', '2153_10.txt', '8912_10.txt', '10153_10.txt', '2300_9.txt', '4499_8.txt', '6673_8.txt', '6140_7.txt', '1375_10.txt', '10297_10.txt', '12209_9.txt', '4961_8.txt', '3353_10.txt', '6692_8.txt', '1284_9.txt', '436_10.txt', '6498_10.txt', '11664_9.txt', '3137_8.txt', '11338_9.txt', '10445_10.txt', '3722_10.txt', '10634_8.txt', '7942_10.txt', '1261_7.txt', '2518_8.txt', '955_10.txt', '4211_7.txt', '845_10.txt', '7944_10.txt', '9840_7.txt', '12066_10.txt', '192_10.txt', '2390_9.txt', '11904_8.txt', '11745_9.txt', '5648_9.txt', '10364_10.txt', '12183_9.txt', '2855_10.txt', '7328_9.txt', '5374_9.txt', '10248_9.txt', '12373_10.txt', '3907_7.txt', '3056_9.txt', '8540_9.txt', '11031_10.txt', '6084_10.txt', '8482_9.txt', '627_7.txt', '8452_10.txt', '2343_8.txt', '6549_7.txt', '5743_10.txt', '10999_8.txt', '2368_8.txt', '8259_10.txt', '3007_10.txt', '8227_7.txt', '7254_9.txt', '3061_8.txt', '1811_9.txt', '11977_10.txt', '6627_7.txt', '9641_8.txt', '1144_10.txt', '10085_10.txt', '5173_10.txt', '7862_8.txt', '519_7.txt', '7178_10.txt', '4894_8.txt', '11421_10.txt', '4693_10.txt', '7181_9.txt', '7911_7.txt', '4159_10.txt', '11836_7.txt', '5080_8.txt', '9106_10.txt', '10338_9.txt', '2451_10.txt', '978_7.txt', '5532_8.txt', '11707_10.txt', '2166_8.txt', '10067_7.txt', '3598_9.txt', '7849_9.txt', '5119_7.txt', '6751_8.txt', '8251_7.txt', '6672_10.txt', '5845_10.txt', '7091_7.txt', '11883_10.txt', '2483_9.txt', '9324_10.txt', '1910_8.txt', '5285_10.txt', '7594_8.txt', '10997_10.txt', '2689_9.txt', '7003_10.txt', '10616_10.txt', '4155_8.txt', '7206_10.txt', '3850_9.txt', '6518_10.txt', '8282_10.txt', '3799_8.txt', '9617_9.txt', '6050_10.txt', '6337_7.txt', '6091_9.txt', '5514_10.txt', '137_7.txt', '4511_7.txt', '8175_10.txt', '6754_10.txt', '8784_7.txt', '10897_10.txt', '5557_10.txt', '7279_10.txt', '10251_10.txt', '11523_7.txt', '6104_10.txt', '11333_9.txt', '12477_7.txt', '8441_8.txt', '4415_9.txt', '9084_9.txt', '5935_7.txt', '7424_10.txt', '5120_9.txt', '12260_7.txt', '4369_10.txt', '6541_7.txt', '9792_10.txt', '2401_7.txt', '8098_7.txt', '7103_8.txt', '2762_8.txt', '2904_7.txt', '6168_8.txt', '12220_8.txt', '2628_10.txt', '1005_7.txt', '3081_8.txt', '23_10.txt', '3210_10.txt', '6698_10.txt', '9329_10.txt', '1746_10.txt', '10250_10.txt', '10853_8.txt', '2905_7.txt', '9720_10.txt', '8119_10.txt', '4328_10.txt', '3883_7.txt', '7972_10.txt', '6545_10.txt', '9140_10.txt', '4958_7.txt', '11100_9.txt', '11163_8.txt', '11175_10.txt', '10426_8.txt', '3623_10.txt', '2960_7.txt', '10387_9.txt', '12155_10.txt', '6603_10.txt', '12473_8.txt', '5998_7.txt', '2780_7.txt', '4957_8.txt', '7597_10.txt', '4188_10.txt', '2941_9.txt', '9310_8.txt', '2120_10.txt', '6530_9.txt', '308_9.txt', '4024_10.txt', '4230_10.txt', '4860_10.txt', '11135_7.txt', '11132_7.txt', '10818_10.txt', '9846_7.txt', '1068_10.txt', '12356_10.txt', '262_9.txt', '869_7.txt', '5703_8.txt', '9848_9.txt', '7171_9.txt', '2650_10.txt', '9013_10.txt', '10476_10.txt', '973_10.txt', '5389_9.txt', '1755_10.txt', '7077_10.txt', '4629_9.txt', '6682_10.txt', '4468_9.txt', '11495_8.txt', '7344_10.txt', '2505_10.txt', '4176_9.txt', '10525_7.txt', '634_10.txt', '9789_10.txt', '1182_7.txt', '3953_9.txt', '10941_10.txt', '2174_7.txt', '1594_8.txt', '2785_8.txt', '2666_10.txt', '3450_9.txt', '9596_10.txt', '10909_7.txt', '1953_10.txt', '5121_8.txt', '2536_10.txt', '10410_10.txt', '4726_10.txt', '10595_10.txt', '100_10.txt', '11570_10.txt', '10341_7.txt', '121_8.txt', '10208_10.txt', '9056_10.txt', '6384_10.txt', '1437_8.txt', '6732_9.txt', '8198_8.txt', '2936_8.txt', '8906_9.txt', '24_10.txt', '9700_9.txt', '1231_7.txt', '1723_10.txt', '9196_8.txt', '10429_9.txt', '10801_10.txt', '3384_10.txt', '3638_10.txt', '10348_10.txt', '268_10.txt', '4661_10.txt', '1041_10.txt', '12114_9.txt', '7638_10.txt', '6086_9.txt', '7017_10.txt', '5829_10.txt', '2974_7.txt', '2659_10.txt', '7431_9.txt', '3806_8.txt', '8084_8.txt', '9889_9.txt', '563_10.txt', '33_7.txt', '2807_10.txt', '614_10.txt', '10644_8.txt', '11081_10.txt', '6521_8.txt', '2830_9.txt', '6482_7.txt', '7218_9.txt', '3493_9.txt', '1981_10.txt', '926_10.txt', '116_10.txt', '9994_10.txt', '2327_10.txt', '6441_7.txt', '3979_8.txt', '2314_10.txt', '6657_10.txt', '204_9.txt', '12393_7.txt', '9187_8.txt', '4308_10.txt', '11133_10.txt', '3370_7.txt', '1296_8.txt', '12170_9.txt', '8563_10.txt', '7720_8.txt', '3466_10.txt', '10105_8.txt', '2584_9.txt', '12382_9.txt', '9191_8.txt', '8410_7.txt', '6058_8.txt', '6480_10.txt', '11589_9.txt', '8104_8.txt', '2066_10.txt', '2583_8.txt', '1412_7.txt', '4128_10.txt', '4229_9.txt', '5240_9.txt', '4684_9.txt', '5641_7.txt', '336_10.txt', '5399_8.txt', '883_8.txt', '4586_10.txt', '4841_9.txt', '11473_10.txt', '8004_10.txt', '7910_10.txt', '6720_7.txt', '4018_10.txt', '6281_7.txt', '7544_10.txt', '6406_10.txt', '4212_7.txt', '11499_8.txt', '3222_10.txt', '12211_10.txt', '10661_9.txt', '10342_9.txt', '8335_7.txt', '6643_10.txt', '4271_10.txt', '8680_8.txt', '1322_9.txt', '2909_7.txt', '7203_10.txt', '9830_10.txt', '4562_9.txt', '1609_10.txt', '12392_10.txt', '11868_8.txt', '600_8.txt', '7357_10.txt', '6173_10.txt', '6835_10.txt', '6154_10.txt', '6310_10.txt', '5519_7.txt', '4125_8.txt', '11400_8.txt', '7764_8.txt', '3905_9.txt', '1096_7.txt', '7356_8.txt', '8574_10.txt', '10301_10.txt', '5587_8.txt', '8494_9.txt', '2813_10.txt', '8880_7.txt', '5009_10.txt', '4411_10.txt', '5152_10.txt', '10162_10.txt', '10329_10.txt', '173_7.txt', '7500_10.txt', '7267_8.txt', '2578_8.txt', '11387_10.txt', '2195_9.txt', '6689_9.txt', '1125_10.txt', '12265_9.txt', '11753_8.txt', '582_10.txt', '10521_10.txt', '3842_7.txt', '10273_10.txt', '9688_10.txt', '10185_10.txt', '318_10.txt', '11218_8.txt', '6702_7.txt', '11797_9.txt', '3501_10.txt', '4655_8.txt', '10710_10.txt', '4578_10.txt', '11193_7.txt', '5259_7.txt', '523_9.txt', '1099_7.txt', '2435_10.txt', '11374_10.txt', '11684_10.txt', '4364_10.txt', '5439_8.txt', '10268_7.txt', '439_10.txt', '8369_7.txt', '2470_9.txt', '2870_10.txt', '8213_10.txt', '7251_9.txt', '6105_10.txt', '10686_7.txt', '4171_10.txt', '388_10.txt', '7877_10.txt', '10498_10.txt', '3328_8.txt', '5182_10.txt', '3650_10.txt', '2923_8.txt', '3513_8.txt', '1279_8.txt', '3074_10.txt', '10491_7.txt', '8063_10.txt', '9082_8.txt', '1404_10.txt', '8095_10.txt', '9684_10.txt', '11553_7.txt', '2477_10.txt', '12400_8.txt', '10936_7.txt', '4137_8.txt', '6988_9.txt', '7583_9.txt', '1610_8.txt', '5170_8.txt', '9473_9.txt', '8019_8.txt', '8079_10.txt', '3129_7.txt', '7050_8.txt', '2145_8.txt', '10254_8.txt', '11212_10.txt', '7143_10.txt', '645_10.txt', '7309_7.txt', '10652_9.txt', '3155_10.txt', '10693_10.txt', '1265_10.txt', '6361_7.txt', '8090_8.txt', '47_10.txt', '980_7.txt', '220_10.txt', '1605_9.txt', '4571_7.txt', '8893_7.txt', '6072_10.txt', '7888_10.txt', '6427_7.txt', '1974_9.txt', '3595_10.txt', '10937_8.txt', '287_8.txt', '6331_10.txt', '10401_7.txt', '7498_10.txt', '5117_7.txt', '6407_10.txt', '4086_10.txt', '737_7.txt', '7386_8.txt', '11246_10.txt', '1131_10.txt', '8731_7.txt', '6073_10.txt', '1511_9.txt', '5571_10.txt', '1230_10.txt', '10653_10.txt', '1438_9.txt', '1497_10.txt', '3550_7.txt', '12202_10.txt', '5324_10.txt', '9749_8.txt', '1100_9.txt', '11809_10.txt', '10576_9.txt', '7184_9.txt', '5678_10.txt', '3997_9.txt', '3142_9.txt', '4594_8.txt', '8538_8.txt', '1720_10.txt', '10370_10.txt', '3010_7.txt', '9550_9.txt', '597_9.txt', '8399_8.txt', '8287_10.txt', '1012_8.txt', '3037_8.txt', '11029_8.txt', '4357_10.txt', '10810_8.txt', '11552_10.txt', '11592_10.txt', '3375_7.txt', '11013_10.txt', '10687_7.txt', '2223_10.txt', '462_7.txt', '11887_8.txt', '4393_10.txt', '4746_9.txt', '3217_10.txt', '12496_10.txt', '7011_10.txt', '10501_10.txt', '7631_7.txt', '3720_7.txt', '5317_10.txt', '8115_8.txt', '374_9.txt', '10926_10.txt', '3553_8.txt', '7380_10.txt', '11269_7.txt', '452_10.txt', '4718_8.txt', '5938_10.txt', '6520_8.txt', '7636_8.txt', '1671_7.txt', '1662_7.txt', '2254_7.txt', '8808_9.txt', '11226_9.txt', '11149_8.txt', '1927_9.txt', '11630_7.txt', '10149_9.txt', '1062_8.txt', '275_10.txt', '6477_9.txt', '4243_9.txt', '1531_9.txt', '9898_10.txt', '3698_9.txt', '8920_9.txt', '11919_10.txt', '3391_10.txt', '11341_10.txt', '5502_10.txt', '7515_9.txt', '11704_10.txt', '3804_10.txt', '5479_10.txt', '1150_9.txt', '1039_10.txt', '11923_8.txt', '2100_7.txt', '3879_9.txt', '4904_7.txt', '2232_7.txt', '12236_10.txt', '8957_8.txt', '7627_10.txt', '4193_7.txt', '11022_8.txt', '3451_7.txt', '11019_10.txt', '5161_10.txt', '9621_7.txt', '2841_9.txt', '11908_9.txt', '1014_8.txt', '4059_9.txt', '10304_7.txt', '7119_7.txt', '9537_10.txt', '7588_10.txt', '16_8.txt', '11524_10.txt', '7089_9.txt', '4340_9.txt', '12011_8.txt', '2853_7.txt', '1421_10.txt', '7978_10.txt', '5247_10.txt', '10025_8.txt', '7160_10.txt', '7691_7.txt', '8785_10.txt', '8973_7.txt', '2175_8.txt', '1386_10.txt', '5416_8.txt', '7694_10.txt', '6419_7.txt', '8458_8.txt', '8042_7.txt', '9194_10.txt', '7001_10.txt', '8350_10.txt', '8010_9.txt', '7492_7.txt', '9652_10.txt', '9866_10.txt', '1732_8.txt', '6729_8.txt', '7741_10.txt', '11565_7.txt', '4681_8.txt', '12379_7.txt', '2468_10.txt', '8822_10.txt', '3774_10.txt', '7213_10.txt', '5472_10.txt', '6269_10.txt', '2263_10.txt', '8546_9.txt', '5377_8.txt', '1188_10.txt', '7773_10.txt', '9127_8.txt', '5030_8.txt', '1493_10.txt', '4530_8.txt', '2286_9.txt', '2733_8.txt', '6148_9.txt', '10309_8.txt', '11716_10.txt', '3229_7.txt', '11881_10.txt', '10580_10.txt', '8489_7.txt', '11800_10.txt', '6536_10.txt', '2307_8.txt', '4927_10.txt', '7450_9.txt', '242_10.txt', '1836_7.txt', '8821_8.txt', '2317_7.txt', '434_8.txt', '10051_8.txt', '9379_9.txt', '10799_10.txt', '4429_7.txt', '5062_7.txt', '2313_8.txt', '11389_10.txt', '1049_9.txt', '10598_10.txt', '10430_10.txt', '6189_7.txt', '10740_10.txt', '10307_7.txt', '10554_9.txt', '7015_10.txt', '9824_8.txt', '6785_7.txt', '513_8.txt', '9200_10.txt', '783_8.txt', '8520_7.txt', '3020_8.txt', '5643_7.txt', '10887_10.txt', '1680_10.txt', '10294_9.txt', '4651_10.txt', '11085_7.txt', '3067_7.txt', '9646_10.txt', '4819_7.txt', '7147_10.txt', '12448_10.txt', '6010_10.txt', '9906_9.txt', '4596_7.txt', '1030_9.txt', '7522_10.txt', '3605_8.txt', '3467_7.txt', '2407_10.txt', '5731_9.txt', '9360_7.txt', '10727_9.txt', '11973_10.txt', '1536_10.txt', '11979_10.txt', '164_7.txt', '9637_8.txt', '11076_10.txt', '6043_9.txt', '7223_10.txt', '4760_9.txt', '4338_9.txt', '1220_10.txt', '8587_7.txt', '3165_10.txt', '5054_8.txt', '5299_8.txt', '11310_10.txt', '6206_7.txt', '8921_8.txt', '3630_8.txt', '2276_8.txt', '2034_7.txt', '10577_9.txt', '10283_10.txt', '3140_10.txt', '11624_10.txt', '3314_9.txt', '10664_9.txt', '11954_9.txt', '2975_10.txt', '6474_7.txt', '10128_10.txt', '11900_10.txt', '4374_9.txt', '1767_10.txt', '7215_10.txt', '6292_8.txt', '9078_7.txt', '12439_8.txt', '10510_7.txt', '10920_8.txt', '3518_9.txt', '11030_10.txt', '4506_7.txt', '4205_7.txt', '11903_10.txt', '6489_8.txt', '594_9.txt', '818_9.txt', '12001_8.txt', '3739_8.txt', '524_9.txt', '5676_7.txt', '5956_7.txt', '6346_10.txt', '10864_7.txt', '10007_10.txt', '9097_10.txt', '7696_10.txt', '1348_8.txt', '7347_9.txt', '6254_7.txt', '7601_8.txt', '8815_9.txt', '10327_7.txt', '9633_8.txt', '6320_10.txt', '9259_9.txt', '12033_7.txt', '2281_8.txt', '5331_9.txt', '5414_9.txt', '881_8.txt', '575_7.txt', '3392_10.txt', '5421_9.txt', '2956_7.txt', '8112_9.txt', '4220_8.txt', '6758_10.txt', '10488_7.txt', '3655_8.txt', '10563_9.txt', '2887_9.txt', '5940_9.txt', '11005_7.txt', '3315_8.txt', '11402_9.txt', '8579_10.txt', '11306_10.txt', '11608_9.txt', '10550_8.txt', '7948_8.txt', '5085_8.txt', '6557_7.txt', '9856_10.txt', '5533_7.txt', '7435_10.txt', '932_9.txt', '5095_9.txt', '10117_9.txt', '1197_9.txt', '5798_10.txt', '8074_10.txt', '9959_7.txt', '8679_10.txt', '2147_10.txt', '12427_8.txt', '6815_10.txt', '8737_8.txt', '363_10.txt', '5024_9.txt', '77_10.txt', '9125_9.txt', '3498_10.txt', '6210_8.txt', '7228_10.txt', '9618_8.txt', '12127_10.txt', '330_10.txt', '8997_10.txt', '44_8.txt', '5164_10.txt', '6889_10.txt', '952_10.txt', '11952_7.txt', '3053_8.txt', '6275_9.txt', '5894_10.txt', '2750_8.txt', '5010_10.txt', '10812_9.txt', '5793_8.txt', '10706_10.txt', '11635_7.txt', '1794_9.txt', '3351_7.txt', '11559_9.txt', '2170_8.txt', '3045_9.txt', '3573_9.txt', '11858_7.txt', '3048_10.txt', '353_10.txt', '7345_9.txt', '9307_8.txt', '6609_9.txt', '126_10.txt', '3354_9.txt', '8240_10.txt', '10383_8.txt', '5699_7.txt', '5526_9.txt', '3280_10.txt', '3215_10.txt', '5879_10.txt', '6022_8.txt', '7471_10.txt', '5658_9.txt', '3075_7.txt', '5411_10.txt', '2731_10.txt', '3146_9.txt', '12_9.txt', '3631_7.txt', '8215_10.txt', '5716_10.txt', '227_10.txt', '4951_9.txt', '2869_8.txt', '9309_8.txt', '12304_10.txt', '7506_7.txt', '7643_8.txt', '2999_9.txt', '1272_8.txt', '4626_8.txt', '1103_10.txt', '132_9.txt', '9362_9.txt', '9223_8.txt', '5052_10.txt', '12353_7.txt', '11519_7.txt', '8760_9.txt', '11812_8.txt', '10026_10.txt', '9728_8.txt', '7196_8.txt', '10719_7.txt', '12412_7.txt', '2039_10.txt', '12135_8.txt', '2863_8.txt', '8537_9.txt', '2094_10.txt', '7219_10.txt', '9026_7.txt', '11116_10.txt', '4239_10.txt', '7782_10.txt', '8423_10.txt', '1180_7.txt', '2266_9.txt', '5211_10.txt', '6252_8.txt', '12430_8.txt', '4758_10.txt', '7372_7.txt', '2025_9.txt', '10013_9.txt', '7891_10.txt', '5386_10.txt', '175_8.txt', '12305_9.txt', '120_9.txt', '7139_10.txt', '5756_9.txt', '3050_7.txt', '10019_8.txt', '4966_7.txt', '10734_8.txt', '6705_8.txt', '6935_9.txt', '6994_8.txt', '11986_7.txt', '3212_10.txt', '3604_7.txt', '4366_10.txt', '11895_10.txt', '611_10.txt', '5378_7.txt', '9120_9.txt', '1072_8.txt', '8442_8.txt', '1509_8.txt', '2500_8.txt', '11237_10.txt', '8057_9.txt', '4257_9.txt', '10753_8.txt', '868_7.txt', '8304_7.txt', '566_9.txt', '9169_9.txt', '1510_8.txt', '3293_9.txt', '5351_8.txt', '717_8.txt', '9605_10.txt', '1715_8.txt', '444_10.txt', '2339_9.txt', '1319_10.txt', '871_10.txt', '7049_8.txt', '8637_10.txt', '7299_9.txt', '1933_9.txt', '2872_9.txt', '3374_10.txt', '10418_8.txt', '1036_10.txt', '6003_9.txt', '11766_7.txt', '133_8.txt', '3160_10.txt', '6134_7.txt', '3778_9.txt', '4942_10.txt', '232_7.txt', '8344_7.txt', '2895_7.txt', '1368_8.txt', '6591_7.txt', '2154_8.txt', '80_7.txt', '7900_9.txt', '2690_9.txt', '10750_7.txt', '1966_9.txt', '7806_8.txt', '2942_10.txt', '6295_8.txt', '5437_8.txt', '988_8.txt', '9918_9.txt', '5101_10.txt', '11109_7.txt', '552_9.txt', '706_10.txt', '11190_9.txt', '7674_9.txt', '12162_8.txt', '3523_7.txt', '2245_10.txt', '2570_8.txt', '4368_10.txt', '2516_10.txt', '5204_9.txt', '7581_10.txt', '28_9.txt', '3567_7.txt', '1864_8.txt', '11240_10.txt', '3388_10.txt', '6817_10.txt', '5669_10.txt', '2888_10.txt', '10630_7.txt', '984_8.txt', '9799_10.txt', '4009_8.txt', '4743_10.txt', '222_10.txt', '467_9.txt', '6629_10.txt', '6818_9.txt', '4939_10.txt', '11571_9.txt', '7136_10.txt', '9240_8.txt', '4433_9.txt', '7486_10.txt', '11241_10.txt', '10123_10.txt', '8070_8.txt', '10373_10.txt', '7925_10.txt', '4642_10.txt', '6928_8.txt', '10682_10.txt', '9747_10.txt', '10210_7.txt', '11113_10.txt', '8911_10.txt', '12471_8.txt', '11587_8.txt', '6300_7.txt', '10614_9.txt', '8472_10.txt', '12411_8.txt', '1105_10.txt', '2600_10.txt', '2027_8.txt', '12116_9.txt', '6014_9.txt', '2019_10.txt', '10772_10.txt', '2818_10.txt', '3803_10.txt', '11458_10.txt', '9476_7.txt', '10103_9.txt', '6600_10.txt', '7969_10.txt', '9035_9.txt', '9901_10.txt', '381_10.txt', '6958_10.txt', '4524_8.txt', '2460_7.txt', '5122_10.txt', '5946_7.txt', '4683_9.txt', '586_8.txt', '1472_10.txt', '6426_7.txt', '6883_10.txt', '5093_10.txt', '8786_8.txt', '9040_9.txt', '11459_10.txt', '7304_8.txt', '11928_8.txt', '2970_10.txt', '11501_8.txt', '3845_9.txt', '11865_7.txt', '12054_9.txt', '274_9.txt', '8218_9.txt', '1943_7.txt', '8043_9.txt', '3757_8.txt', '7726_10.txt', '10345_7.txt', '4807_10.txt', '4618_7.txt', '4950_10.txt', '2202_8.txt', '7825_10.txt', '281_8.txt', '4711_9.txt', '8280_10.txt', '6157_9.txt', '2464_10.txt', '10157_8.txt', '847_7.txt', '11510_9.txt', '5227_8.txt', '4763_7.txt', '7406_8.txt', '850_7.txt', '11331_8.txt', '6277_10.txt', '4192_10.txt', '8331_10.txt', '7112_8.txt', '4116_7.txt', '6285_8.txt', '1988_8.txt', '12470_7.txt', '10996_9.txt', '10566_9.txt', '6035_8.txt', '655_10.txt', '10464_10.txt', '5276_8.txt', '10541_8.txt', '7168_10.txt', '6170_10.txt', '10265_9.txt', '9828_7.txt', '3285_8.txt', '7573_10.txt', '7779_10.txt', '667_10.txt', '11580_7.txt', '3345_10.txt', '6097_10.txt', '10042_8.txt', '4572_10.txt', '316_10.txt', '442_10.txt', '5205_10.txt', '10787_10.txt', '10898_7.txt', '9317_10.txt', '10705_10.txt', '10335_7.txt', '4839_7.txt', '10058_8.txt', '2225_10.txt', '10216_10.txt', '8463_10.txt', '5005_8.txt', '10738_8.txt', '2712_8.txt', '3675_7.txt', '1749_10.txt', '11228_10.txt', '10235_10.txt', '5288_7.txt', '10132_10.txt', '1637_10.txt', '10037_7.txt', '12278_7.txt', '10627_9.txt', '9980_8.txt', '11542_10.txt', '542_7.txt', '7210_10.txt', '3494_9.txt', '12474_8.txt', '10696_10.txt', '5698_8.txt', '5431_7.txt', '691_7.txt', '11666_10.txt', '10966_8.txt', '6132_10.txt', '7554_10.txt', '4015_10.txt', '8148_10.txt', '12433_8.txt', '9486_10.txt', '1306_8.txt', '8114_8.txt', '3423_9.txt', '2489_10.txt', '11323_7.txt', '4762_8.txt', '8749_9.txt', '6655_7.txt', '11174_8.txt', '9349_7.txt', '10492_8.txt', '8337_7.txt', '10126_9.txt', '1937_10.txt', '5417_10.txt', '6567_8.txt', '12150_10.txt', '3603_7.txt', '8023_10.txt', '3313_8.txt', '4518_10.txt', '1583_8.txt', '8103_10.txt', '7907_10.txt', '8127_10.txt', '219_8.txt', '8580_10.txt', '61_9.txt', '11382_10.txt', '2192_10.txt', '5950_10.txt', '3162_10.txt', '565_8.txt', '6119_10.txt', '1310_8.txt', '3464_10.txt', '12180_7.txt', '3950_10.txt', '7390_10.txt', '4008_8.txt', '6637_8.txt', '9761_7.txt', '7028_10.txt', '11682_8.txt', '11825_10.txt', '4593_8.txt', '1989_8.txt', '3713_10.txt', '8704_9.txt', '2612_10.txt', '2057_10.txt', '7990_9.txt', '5308_10.txt', '3403_10.txt', '11540_10.txt', '8187_8.txt', '499_8.txt', '7731_9.txt', '2694_10.txt', '3954_10.txt', '5638_10.txt', '1835_8.txt', '10542_10.txt', '2834_9.txt', '12442_10.txt', '8501_10.txt', '1217_7.txt', '10803_9.txt', '2706_10.txt', '3297_10.txt', '5840_10.txt', '6388_10.txt', '4702_10.txt', '6205_9.txt', '8512_10.txt', '7076_10.txt', '7783_10.txt', '7607_10.txt', '3116_8.txt', '1382_10.txt', '9262_10.txt', '2580_10.txt', '5380_8.txt', '10881_10.txt', '7286_8.txt', '3960_10.txt', '9557_9.txt', '8844_10.txt', '12047_8.txt', '11530_8.txt', '2173_8.txt', '5506_9.txt', '11117_7.txt', '10083_10.txt', '6553_10.txt', '12156_8.txt', '10617_8.txt', '4300_10.txt', '113_8.txt', '7713_8.txt', '11714_7.txt', '3408_9.txt', '12006_10.txt', '6238_8.txt', '8492_7.txt', '7719_7.txt', '6135_9.txt', '2608_7.txt', '2325_7.txt', '7281_8.txt', '12458_10.txt', '4295_7.txt', '9453_7.txt', '1186_10.txt', '6743_8.txt', '9100_10.txt', '11465_10.txt', '10004_9.txt', '3170_10.txt', '11525_7.txt', '1301_9.txt', '4134_7.txt', '3684_10.txt', '2684_10.txt', '2543_9.txt', '2242_9.txt', '3361_10.txt', '2160_7.txt', '10777_9.txt', '629_7.txt', '5471_10.txt', '3724_10.txt', '10040_10.txt', '7777_9.txt', '6542_9.txt', '11264_10.txt', '9391_8.txt', '5927_8.txt', '6622_9.txt', '2093_8.txt', '3150_10.txt', '9929_7.txt', '11680_9.txt', '5884_9.txt', '6649_10.txt', '10212_7.txt', '5634_8.txt', '11170_10.txt', '12251_8.txt', '9474_7.txt', '2940_7.txt', '9429_7.txt', '7475_9.txt', '4551_10.txt', '7641_8.txt', '12312_10.txt', '2617_10.txt', '1219_9.txt', '7706_8.txt', '9972_9.txt', '5834_7.txt', '823_7.txt', '12316_9.txt', '4924_10.txt', '5599_10.txt', '4478_9.txt', '3109_8.txt', '7009_10.txt', '4919_7.txt', '12019_10.txt', '6233_8.txt', '4592_10.txt', '10797_10.txt', '1120_9.txt', '5250_10.txt', '7410_8.txt', '9871_7.txt', '4191_10.txt', '6115_10.txt', '6048_10.txt', '1547_9.txt', '9364_9.txt', '6565_8.txt', '4854_8.txt', '11008_10.txt', '3700_10.txt', '7682_10.txt', '3680_9.txt', '5432_9.txt', '10180_8.txt', '8751_10.txt', '9855_9.txt', '9114_10.txt', '10116_10.txt', '76_8.txt', '4697_9.txt', '2218_10.txt', '8913_8.txt', '4806_8.txt', '3652_10.txt', '1779_9.txt', '7703_8.txt', '11896_10.txt', '2576_9.txt', '2036_7.txt', '2341_10.txt', '4509_9.txt', '7330_7.txt', '9718_10.txt', '1592_10.txt', '6090_10.txt', '5707_10.txt', '9142_8.txt', '8871_9.txt', '841_9.txt', '11964_9.txt', '8930_8.txt', '6587_9.txt', '8412_10.txt', '4356_10.txt', '1887_7.txt', '10186_10.txt', '8797_8.txt', '5846_10.txt', '527_10.txt', '8272_10.txt', '9565_9.txt', '12307_9.txt', '7448_10.txt', '9607_10.txt', '5190_8.txt', '2645_10.txt', '6151_10.txt', '3734_8.txt', '8130_10.txt', '12483_7.txt', '6849_8.txt', '9908_7.txt', '1037_10.txt', '9104_7.txt', '7440_10.txt', '10504_7.txt', '7672_9.txt', '8750_9.txt', '4471_8.txt', '965_9.txt', '11513_10.txt', '5683_9.txt', '3500_8.txt', '4120_8.txt', '11125_7.txt', '4359_10.txt', '9052_7.txt', '9208_10.txt', '7452_10.txt', '2043_7.txt', '398_8.txt', '2437_10.txt', '255_10.txt', '2220_9.txt', '6231_9.txt', '2321_8.txt', '4074_10.txt', '6227_8.txt', '171_7.txt', '11834_8.txt', '9542_10.txt', '1569_8.txt', '5762_9.txt', '6569_9.txt', '5687_9.txt', '1792_8.txt', '2485_10.txt', '10323_10.txt', '6039_9.txt', '3843_7.txt', '11012_10.txt', '9326_10.txt', '8615_10.txt', '11357_7.txt', '1377_10.txt', '5477_9.txt', '8667_10.txt', '1898_10.txt', '7462_10.txt', '580_10.txt', '6458_7.txt', '4846_8.txt', '4783_10.txt', '8279_10.txt', '10399_10.txt', '11646_8.txt', '2367_10.txt', '11871_8.txt', '11591_10.txt', '6103_7.txt', '9770_10.txt', '8177_8.txt', '6640_9.txt', '3035_8.txt', '7913_9.txt', '2568_8.txt', '7061_9.txt', '6880_7.txt', '8483_10.txt', '10057_8.txt', '1598_10.txt', '9158_10.txt', '4285_8.txt', '3481_10.txt', '11279_10.txt', '6440_7.txt', '5278_8.txt', '8594_10.txt', '4556_8.txt', '4969_9.txt', '11088_7.txt', '5815_9.txt', '5460_10.txt', '9642_7.txt', '10038_7.txt', '3443_9.txt', '763_10.txt', '7897_9.txt', '7362_10.txt', '4187_7.txt', '8439_7.txt', '8548_10.txt', '2198_9.txt', '7496_8.txt', '7342_10.txt', '6328_10.txt', '7055_8.txt', '2529_10.txt', '12459_10.txt', '8336_8.txt', '9042_10.txt', '10150_8.txt', '8763_10.txt', '1795_8.txt', '4830_7.txt', '8985_7.txt', '2289_8.txt', '7292_9.txt', '3672_9.txt', '4906_10.txt', '7858_8.txt', '12258_10.txt', '9590_10.txt', '6405_10.txt', '5654_10.txt', '9582_7.txt', '1134_8.txt', '5554_10.txt', '7339_10.txt', '8065_7.txt', '9190_8.txt', '2089_10.txt', '5234_10.txt', '10994_10.txt', '12364_7.txt', '12493_7.txt', '1636_8.txt', '2566_9.txt', '327_10.txt', '3871_10.txt', '7941_10.txt', '846_7.txt', '6400_10.txt', '2996_9.txt', '6537_10.txt', '11037_8.txt', '4123_8.txt', '7154_10.txt', '11554_10.txt', '96_10.txt', '1778_10.txt', '10831_7.txt', '3233_9.txt', '10556_10.txt', '689_7.txt', '11725_10.txt', '5718_10.txt', '2422_7.txt', '6964_8.txt', '10006_7.txt', '9825_7.txt', '3889_7.txt', '5888_10.txt', '4640_10.txt', '801_8.txt', '10087_7.txt', '911_10.txt', '8219_8.txt', '3772_8.txt', '9854_10.txt', '8769_8.txt', '4286_8.txt', '5680_7.txt', '12200_10.txt', '10590_9.txt', '12370_10.txt', '12079_10.txt', '7361_8.txt', '2164_7.txt', '5841_10.txt', '7198_10.txt', '7997_9.txt', '2898_10.txt', '6566_7.txt', '2654_7.txt', '6508_9.txt', '10668_7.txt', '8362_7.txt', '1017_7.txt', '5509_9.txt', '3776_10.txt', '1783_10.txt', '8959_9.txt', '9585_7.txt', '10104_10.txt', '4501_9.txt', '3981_7.txt', '5957_9.txt', '1650_9.txt', '11615_8.txt', '8286_9.txt', '9859_8.txt', '3816_7.txt', '10528_8.txt', '3985_10.txt', '5760_10.txt', '4756_8.txt', '10034_9.txt', '3690_8.txt', '7809_10.txt', '3316_7.txt', '9417_8.txt', '1234_10.txt', '2004_10.txt', '12192_7.txt', '6590_7.txt', '11526_8.txt', '3448_10.txt', '3750_7.txt', '10233_7.txt', '2490_9.txt', '10111_10.txt', '10980_10.txt', '644_8.txt', '9991_8.txt', '2545_10.txt', '6579_7.txt', '5402_7.txt', '711_10.txt', '10774_10.txt', '3311_8.txt', '12225_10.txt', '4666_7.txt', '1684_8.txt', '4148_7.txt', '5039_7.txt', '7984_9.txt', '11931_8.txt', '7264_8.txt', '399_8.txt', '10939_8.txt', '11749_7.txt', '11764_7.txt', '8113_8.txt', '11632_10.txt', '1009_8.txt', '11356_10.txt', '5136_8.txt', '9891_10.txt', '1959_9.txt', '6225_8.txt', '5896_10.txt', '9724_10.txt', '9121_8.txt', '3379_9.txt', '8504_8.txt', '8970_9.txt', '5415_9.txt', '7807_10.txt', '8722_9.txt', '6624_7.txt', '6867_8.txt', '10728_8.txt', '11703_7.txt', '7961_10.txt', '3191_10.txt', '6922_8.txt', '6564_7.txt', '5863_10.txt', '8352_10.txt', '10628_9.txt', '2278_10.txt', '953_10.txt', '1367_10.txt', '553_9.txt', '6356_9.txt', '11063_10.txt', '10800_8.txt', '22_8.txt', '3208_10.txt', '9173_10.txt', '8873_10.txt', '11927_8.txt', '10531_10.txt', '7785_10.txt', '5311_9.txt', '7463_9.txt', '8993_10.txt', '2257_10.txt', '3310_8.txt', '2158_10.txt', '2847_8.txt', '106_9.txt', '1813_9.txt', '3295_7.txt', '159_10.txt', '3041_9.txt', '1452_9.txt', '89_10.txt', '3736_7.txt', '7162_9.txt', '11464_8.txt', '9155_10.txt', '2983_7.txt', '2291_8.txt', '2076_10.txt', '10584_8.txt', '359_7.txt', '6709_9.txt', '6650_8.txt', '10191_10.txt', '420_10.txt', '9787_8.txt', '10943_9.txt', '375_10.txt', '9516_10.txt', '4679_8.txt', '2747_7.txt', '7912_7.txt', '5038_8.txt', '7612_9.txt', '12497_10.txt', '2917_9.txt', '10394_9.txt', '998_7.txt', '11215_8.txt', '4438_9.txt', '702_7.txt', '12381_10.txt', '9006_10.txt', '3377_9.txt', '12085_10.txt', '671_8.txt', '4430_7.txt', '4434_9.txt', '7859_8.txt', '12270_9.txt', '5541_7.txt', '8951_9.txt', '11890_10.txt', '6306_10.txt', '9626_8.txt', '8748_10.txt', '11481_10.txt', '2157_10.txt', '2408_8.txt', '10775_10.txt', '1161_10.txt', '4952_10.txt', '1109_10.txt', '4266_10.txt', '6274_10.txt', '11988_10.txt', '10437_9.txt', '9887_9.txt', '3117_10.txt', '1189_10.txt', '2692_7.txt', '6042_10.txt', '794_7.txt', '1628_8.txt', '10054_7.txt', '12177_8.txt', '2123_8.txt', '9731_10.txt', '8984_8.txt', '7663_10.txt', '5133_10.txt', '7680_10.txt', '8858_8.txt', '1909_9.txt', '7999_7.txt', '1744_8.txt', '4020_7.txt', '11639_7.txt', '6234_8.txt', '4029_10.txt', '8411_10.txt', '3367_9.txt', '2519_7.txt', '2336_10.txt', '6380_9.txt', '6777_10.txt', '8869_8.txt', '11414_7.txt', '9512_10.txt', '5397_8.txt', '3477_8.txt', '3156_10.txt', '7078_10.txt', '3123_10.txt', '1971_7.txt', '631_10.txt', '2514_7.txt', '4200_10.txt', '8619_8.txt', '1575_8.txt', '7000_8.txt', '5428_10.txt', '8487_10.txt', '2560_7.txt', '916_10.txt', '4871_8.txt', '3437_7.txt', '4202_9.txt', '4872_8.txt', '3982_7.txt', '3813_10.txt', '8407_10.txt', '10482_10.txt', '8545_9.txt', '11326_9.txt', '11040_8.txt', '7090_10.txt', '9533_10.txt', '12344_10.txt', '5034_7.txt', '3714_9.txt', '522_10.txt', '6182_8.txt', '1183_10.txt', '4827_7.txt', '12029_10.txt', '10_7.txt', '3305_7.txt', '8491_8.txt', '12215_10.txt', '7693_10.txt', '490_8.txt', '8182_10.txt', '2216_7.txt', '7767_10.txt', '4978_9.txt', '4493_9.txt', '10824_7.txt', '6327_7.txt', '4318_9.txt', '1719_10.txt', '7902_9.txt', '10144_8.txt', '1321_10.txt', '9772_10.txt', '9377_8.txt', '4771_10.txt', '7013_10.txt', '1247_9.txt', '8543_10.txt', '1058_10.txt', '2521_10.txt', '8929_7.txt', '9063_10.txt', '5758_7.txt', '4847_10.txt', '9791_10.txt', '8222_10.txt', '4582_7.txt', '11062_10.txt', '8420_9.txt', '7092_8.txt', '10194_7.txt', '1065_9.txt', '969_9.txt', '9809_8.txt', '4674_7.txt', '10987_10.txt', '7323_10.txt', '10078_10.txt', '1295_8.txt', '8697_8.txt', '3864_10.txt', '11440_8.txt', '5091_10.txt', '3643_7.txt', '1387_8.txt', '11576_10.txt', '1734_10.txt', '2902_8.txt', '11762_8.txt', '5613_7.txt', '12388_7.txt', '1342_10.txt', '5466_10.txt', '9449_10.txt', '1918_10.txt', '596_10.txt', '4031_7.txt', '721_10.txt', '7742_8.txt', '4909_10.txt', '9260_10.txt', '6783_10.txt', '11670_7.txt', '2049_10.txt', '1439_8.txt', '1407_7.txt', '12285_10.txt', '3167_10.txt', '10666_10.txt', '3154_10.txt', '1487_9.txt', '7117_10.txt', '9968_10.txt', '713_8.txt', '5445_9.txt', '1218_10.txt', '5320_10.txt', '4868_7.txt', '8508_9.txt', '11770_10.txt', '4106_9.txt', '1293_10.txt', '9322_10.txt', '9560_9.txt', '3005_10.txt', '6309_9.txt', '962_9.txt', '5792_10.txt', '6860_8.txt', '2450_10.txt', '945_7.txt', '3682_9.txt', '8947_8.txt', '1271_9.txt', '7921_7.txt', '9955_9.txt', '10842_10.txt', '1940_9.txt', '8330_9.txt', '12359_7.txt', '5917_8.txt', '9595_10.txt', '12207_9.txt', '3764_10.txt', '4147_8.txt', '8772_8.txt', '11054_8.txt', '9432_7.txt', '2616_10.txt', '2838_10.txt', '5315_10.txt', '2375_7.txt', '81_9.txt', '7854_8.txt', '2510_7.txt', '1469_9.txt', '3182_9.txt', '10893_8.txt', '4573_10.txt', '8578_8.txt', '4663_7.txt', '7520_7.txt', '6941_8.txt', '1621_9.txt', '9471_10.txt', '2911_10.txt', '1843_9.txt', '10688_10.txt', '7355_8.txt', '8599_7.txt', '5880_10.txt', '8080_7.txt', '2159_7.txt', '6648_9.txt', '69_10.txt', '6006_8.txt', '1506_7.txt', '11815_10.txt', '293_10.txt', '5026_10.txt', '10018_8.txt', '9472_8.txt', '8536_7.txt', '9934_8.txt', '8591_7.txt', '8773_8.txt', '5096_10.txt', '4007_7.txt', '1994_10.txt', '11384_7.txt', '6461_10.txt', '7002_10.txt', '6877_7.txt', '9157_10.txt', '1031_10.txt', '8799_10.txt', '5017_8.txt', '4653_10.txt', '5253_9.txt', '6147_10.txt', '11581_7.txt', '5390_7.txt', '6015_9.txt', '5129_9.txt', '6739_7.txt', '1425_8.txt', '7432_9.txt', '407_7.txt', '3490_7.txt', '350_10.txt', '6488_7.txt', '6412_10.txt', '2688_9.txt', '7833_9.txt', '6469_7.txt', '9176_8.txt', '4532_10.txt', '6611_7.txt', '1294_7.txt', '6844_10.txt', '4774_8.txt', '2880_10.txt', '4853_7.txt', '3166_10.txt', '4446_10.txt', '8211_9.txt', '27_9.txt', '11601_9.txt', '2799_8.txt', '2109_10.txt', '11454_7.txt', '9905_10.txt', '1802_7.txt', '11699_8.txt', '5072_9.txt', '6262_8.txt', '2126_9.txt', '11532_8.txt', '206_10.txt', '9811_10.txt', '9037_7.txt', '2786_8.txt', '109_8.txt', '2531_9.txt', '2099_7.txt', '11003_8.txt', '1304_8.txt', '4507_10.txt', '10906_10.txt', '6181_8.txt', '8853_10.txt', '10379_9.txt', '9235_9.txt', '7400_10.txt', '2197_10.txt', '8217_8.txt', '1601_10.txt', '1298_8.txt', '6460_8.txt', '2020_7.txt', '11426_7.txt', '5780_9.txt', '2832_7.txt', '1331_9.txt', '8767_10.txt', '5326_8.txt', '6325_9.txt', '1202_9.txt', '57_10.txt', '5955_9.txt', '11985_8.txt', '6159_8.txt', '12406_10.txt', '5040_8.txt', '1977_9.txt', '11303_8.txt', '11195_9.txt', '3948_7.txt', '6912_7.txt', '640_9.txt', '11161_9.txt', '3038_8.txt', '1930_9.txt', '8496_10.txt', '11033_10.txt', '4376_10.txt', '3525_7.txt', '3885_7.txt', '11729_10.txt', '2360_7.txt', '5577_9.txt', '558_10.txt', '2793_10.txt', '7280_10.txt', '7815_7.txt', '11765_8.txt', '1203_7.txt', '5986_9.txt', '2247_10.txt', '2274_10.txt', '4496_10.txt', '935_10.txt', '7490_7.txt', '2775_10.txt', '2985_9.txt', '887_8.txt', '143_8.txt', '11911_8.txt', '7725_7.txt', '5591_9.txt', '1229_7.txt', '2480_10.txt', '7398_10.txt', '5851_7.txt', '990_7.txt', '8674_10.txt', '8988_7.txt', '12351_8.txt', '1163_10.txt', '12453_10.txt', '4869_8.txt', '4401_10.txt', '10352_10.txt', '2959_7.txt', '3237_7.txt', '11925_10.txt', '7871_9.txt', '5235_8.txt', '3287_10.txt', '12169_8.txt', '3272_10.txt', '1051_10.txt', '12309_10.txt', '6190_8.txt', '2005_10.txt', '10743_7.txt', '4275_9.txt', '3975_10.txt', '2729_8.txt', '5633_8.txt', '5433_7.txt', '11888_10.txt', '9567_7.txt', '637_9.txt', '12034_10.txt', '6868_9.txt', '5409_7.txt', '8427_10.txt', '6767_9.txt', '12376_10.txt', '10443_7.txt', '11916_10.txt', '6070_10.txt', '5307_10.txt', '5455_8.txt', '2737_10.txt', '12405_10.txt', '10704_10.txt', '800_8.txt', '11880_10.txt', '11877_10.txt', '4842_9.txt', '10960_9.txt', '555_7.txt', '5107_10.txt', '2958_7.txt', '2538_10.txt', '4859_10.txt', '5503_10.txt', '11872_7.txt', '5489_8.txt', '4851_7.txt', '5631_9.txt', '6332_10.txt', '10788_10.txt', '10046_10.txt', '8241_9.txt', '10407_10.txt', '5319_9.txt', '5861_8.txt', '7312_10.txt', '2878_7.txt', '1789_7.txt', '7947_10.txt', '11734_10.txt', '7839_8.txt', '3607_8.txt', '7163_10.txt', '11818_8.txt', '7968_8.txt', '2097_8.txt', '11693_10.txt', '1978_7.txt', '4456_10.txt', '8710_10.txt', '9644_10.txt', '5650_10.txt', '11317_7.txt', '5169_10.txt', '10023_8.txt', '617_9.txt', '5217_8.txt', '9513_9.txt', '6317_9.txt', '2982_10.txt', '578_9.txt', '11089_7.txt', '10325_9.txt', '1078_9.txt', '7059_8.txt', '5728_10.txt', '10122_10.txt', '3084_10.txt', '10959_8.txt', '8995_10.txt', '9321_10.txt', '10011_9.txt', '7333_10.txt', '8450_7.txt', '11607_7.txt', '4377_10.txt', '2725_10.txt', '6368_7.txt', '3620_8.txt', '11889_10.txt', '8605_8.txt', '8647_10.txt', '1548_10.txt', '6434_9.txt', '11975_8.txt', '2503_10.txt', '7732_9.txt', '71_9.txt', '5099_10.txt', '10715_9.txt', '1281_9.txt', '11443_8.txt', '9914_8.txt', '10115_8.txt', '6544_10.txt', '1194_10.txt', '1997_8.txt', '11832_10.txt', '6271_9.txt', '2879_7.txt', '3269_8.txt', '11618_10.txt', '2413_9.txt', '6697_7.txt', '10619_9.txt', '2023_7.txt', '10353_10.txt', '11503_8.txt', '11007_8.txt', '9440_9.txt', '8059_8.txt', '4690_10.txt', '7195_10.txt', '6468_8.txt', '4946_8.txt', '5029_7.txt', '3645_7.txt', '3686_10.txt', '864_10.txt', '3760_7.txt', '2492_9.txt', '5905_9.txt', '10697_10.txt', '11090_8.txt', '10658_9.txt', '1205_10.txt', '2636_7.txt', '11052_8.txt', '2771_9.txt', '94_10.txt', '3819_10.txt', '4292_7.txt', '11870_8.txt', '7545_10.txt', '7473_7.txt', '4214_7.txt', '6240_10.txt', '5960_8.txt', '11322_8.txt', '9609_7.txt', '9978_9.txt', '2619_10.txt', '7958_10.txt', '5520_10.txt', '4386_9.txt', '11493_7.txt', '3360_10.txt', '2795_7.txt', '4186_10.txt', '11065_10.txt', '2107_7.txt', '82_10.txt', '3289_10.txt', '10879_10.txt', '10414_10.txt', '7562_9.txt', '9942_8.txt', '12234_7.txt', '1257_10.txt', '2207_10.txt', '1893_8.txt', '6199_8.txt', '10145_8.txt', '1405_10.txt', '9593_9.txt', '7845_8.txt', '11831_8.txt', '4647_10.txt', '10253_7.txt', '11158_7.txt', '11521_10.txt', '6593_8.txt', '1395_7.txt', '6081_10.txt', '7786_7.txt', '2513_8.txt', '2908_8.txt', '8855_10.txt', '6128_10.txt', '3082_9.txt', '1259_10.txt', '2075_9.txt', '4444_8.txt', '4929_10.txt', '1614_10.txt', '4452_8.txt', '9253_10.txt', '6019_10.txt', '8351_7.txt', '7351_8.txt', '3862_8.txt', '12213_10.txt', '2238_7.txt', '10640_7.txt', '2586_9.txt', '1713_9.txt', '9001_8.txt', '2900_10.txt', '873_8.txt', '4835_10.txt', '7426_10.txt', '11941_7.txt', '5836_10.txt', '7881_7.txt', '6561_8.txt', '8254_8.txt', '2105_9.txt', '6538_9.txt', '6769_7.txt', '2851_8.txt', '1242_7.txt', '7317_8.txt', '793_8.txt', '2345_8.txt', '9103_10.txt', '5301_9.txt', '167_10.txt', '9308_7.txt', '9956_10.txt', '719_7.txt', '9070_10.txt', '4146_7.txt', '11182_8.txt', '55_10.txt', '5989_10.txt', '2465_7.txt', '6355_9.txt', '5737_7.txt', '7501_8.txt', '10568_10.txt', '3_7.txt', '11754_10.txt', '10454_8.txt', '5584_8.txt', '6322_9.txt', '3216_10.txt', '10841_10.txt', '10558_9.txt', '9028_7.txt', '5346_10.txt', '1149_8.txt', '10874_7.txt', '3744_7.txt', '556_7.txt', '11203_10.txt', '6853_8.txt', '3586_10.txt', '6385_10.txt', '2382_7.txt', '7867_10.txt', '9758_10.txt', '9925_9.txt', '8232_7.txt', '670_7.txt', '9977_7.txt', '7074_10.txt', '4785_10.txt', '10197_8.txt', '2777_9.txt', '4921_10.txt', '5941_8.txt', '11782_8.txt', '12329_8.txt', '3896_8.txt', '9660_8.txt', '5084_7.txt', '6255_10.txt', '6671_8.txt', '10858_10.txt', '2219_10.txt', '1992_10.txt', '10882_9.txt', '278_10.txt', '9055_7.txt', '10094_9.txt', '3427_10.txt', '8484_7.txt', '9648_8.txt', '7733_8.txt', '5465_10.txt', '2815_9.txt', '11056_7.txt', '888_8.txt', '7287_10.txt', '9969_10.txt', '273_10.txt', '45_9.txt', '3327_8.txt', '1565_7.txt', '6286_10.txt', '6917_9.txt', '131_7.txt', '5294_10.txt', '425_10.txt', '2162_7.txt', '4091_7.txt', '9482_10.txt', '11026_9.txt', '5063_8.txt', '12186_10.txt', '5456_9.txt', '9515_7.txt', '10239_9.txt', '10203_10.txt', '10729_9.txt', '2233_9.txt', '3257_8.txt', '2371_10.txt', '3565_8.txt', '7393_10.txt', '8807_9.txt', '1730_10.txt', '4276_10.txt', '6180_10.txt', '11144_7.txt', '8005_10.txt', '10141_8.txt', '7269_8.txt', '3956_10.txt', '1753_7.txt', '12418_7.txt', '3790_7.txt', '1853_8.txt', '8709_10.txt', '2520_9.txt', '5176_10.txt', '12455_10.txt', '9781_10.txt', '9399_10.txt', '8732_8.txt', '815_7.txt', '11340_8.txt', '4623_10.txt', '260_10.txt', '1391_7.txt', '480_10.txt', '12013_7.txt', '8885_8.txt', '8370_8.txt', '10016_8.txt', '12357_7.txt', '11127_7.txt', '11517_8.txt', '642_9.txt', '11496_8.txt', '2414_7.txt', '7787_10.txt', '12297_7.txt', '10100_10.txt', '739_10.txt', '10000_7.txt', '7617_7.txt', '2241_10.txt', '11886_9.txt', '10967_10.txt', '10624_10.txt', '6825_9.txt', '7268_10.txt', '5921_10.txt', '7052_7.txt', '1164_9.txt', '5398_10.txt', '4436_10.txt', '10021_9.txt']\n"
          ],
          "name": "stdout"
        }
      ]
    },
    {
      "cell_type": "code",
      "metadata": {
        "colab_type": "code",
        "id": "1igOnvcbO0GA",
        "colab": {}
      },
      "source": [
        " '''\n",
        "    Split the documents into train and test datasets\n",
        "  '''\n",
        "document = {'train': [], 'test': []} # Put the documents here\n",
        "labels = {'train': [], 'test': []} # Put the labels here\n",
        "\n",
        "for i in all_train_data:\n",
        "    document['train'].append(i[0])\n",
        "    labels['train'].append(i[1])\n",
        "for i in all_test_data:\n",
        "    document['test'].append(i[0])\n",
        "    labels['test'].append(i[1])"
      ],
      "execution_count": 0,
      "outputs": []
    },
    {
      "cell_type": "markdown",
      "metadata": {
        "colab_type": "text",
        "id": "7ANcY_UJP9EY"
      },
      "source": [
        "Now you train the dense model on this dataset. Use one of the encoding approaches you used for the prior dataset and then feed the preprocessed data into the model. "
      ]
    },
    {
      "cell_type": "code",
      "metadata": {
        "colab_type": "code",
        "id": "WNcB0BmAQ50T",
        "colab": {}
      },
      "source": [
        "'''\n",
        "     Encode documents to a vector representation.\n",
        "'''\n",
        "xs = {'train': [], 'test': []} # Put the document vectors here\n",
        "ys = {'train': [], 'test': []} # Put the label vectors here\n",
        "\n",
        "  ########################################\n",
        "  #     Put your implementation here     #\n",
        "  ########################################"
      ],
      "execution_count": 0,
      "outputs": []
    },
    {
      "cell_type": "code",
      "metadata": {
        "colab_type": "code",
        "id": "3--WpasERTmI",
        "colab": {}
      },
      "source": [
        "data = {'x_train': xs['train'], 'y_train': ys['train'],\n",
        "        'x_test': xs['test'], 'y_test': ys['test']}\n",
        "model = create_model(2, (data['x_train'].shape[1], ))\n",
        "model.compile(loss='binary_crossentropy',optimizer=\"adam\", metrics=[\"accuracy\",f1,recall,precision])\n",
        "history = model.fit(data['x_train'], data['y_train'],\n",
        "              batch_size=32,\n",
        "              epochs=20,\n",
        "              validation_data=(data['x_test'], data['y_test']))"
      ],
      "execution_count": 0,
      "outputs": []
    },
    {
      "cell_type": "code",
      "metadata": {
        "colab_type": "code",
        "id": "hPyTfnrmRcHH",
        "outputId": "2344dc89-7287-4a61-b960-66f90d310e7a",
        "colab": {
          "base_uri": "https://localhost:8080/",
          "height": 229
        }
      },
      "source": [
        "history_dict = history.history\n",
        "acc = history_dict['acc']\n",
        "\n",
        "epochs = range(1, len(acc) + 1)\n",
        "\n",
        "acc_values = history_dict['acc']\n",
        "val_acc = history_dict['val_acc']\n",
        "\n",
        "plt.plot(epochs, acc, 'bo', label='Training acc')\n",
        "plt.plot(epochs, val_acc, 'b', label='Validation acc')\n",
        "plt.title('Training and validation accuracy')\n",
        "plt.xlabel('Epochs')\n",
        "plt.ylabel('Acc')\n",
        "plt.legend()\n",
        "\n",
        "plt.show()"
      ],
      "execution_count": 0,
      "outputs": [
        {
          "output_type": "error",
          "ename": "NameError",
          "evalue": "ignored",
          "traceback": [
            "\u001b[0;31m---------------------------------------------------------------------------\u001b[0m",
            "\u001b[0;31mNameError\u001b[0m                                 Traceback (most recent call last)",
            "\u001b[0;32m<ipython-input-1-91b45b559936>\u001b[0m in \u001b[0;36m<module>\u001b[0;34m()\u001b[0m\n\u001b[0;32m----> 1\u001b[0;31m \u001b[0mhistory_dict\u001b[0m \u001b[0;34m=\u001b[0m \u001b[0mhistory\u001b[0m\u001b[0;34m.\u001b[0m\u001b[0mhistory\u001b[0m\u001b[0;34m\u001b[0m\u001b[0;34m\u001b[0m\u001b[0m\n\u001b[0m\u001b[1;32m      2\u001b[0m \u001b[0macc\u001b[0m \u001b[0;34m=\u001b[0m \u001b[0mhistory_dict\u001b[0m\u001b[0;34m[\u001b[0m\u001b[0;34m'acc'\u001b[0m\u001b[0;34m]\u001b[0m\u001b[0;34m\u001b[0m\u001b[0;34m\u001b[0m\u001b[0m\n\u001b[1;32m      3\u001b[0m \u001b[0;34m\u001b[0m\u001b[0m\n\u001b[1;32m      4\u001b[0m \u001b[0mepochs\u001b[0m \u001b[0;34m=\u001b[0m \u001b[0mrange\u001b[0m\u001b[0;34m(\u001b[0m\u001b[0;36m1\u001b[0m\u001b[0;34m,\u001b[0m \u001b[0mlen\u001b[0m\u001b[0;34m(\u001b[0m\u001b[0macc\u001b[0m\u001b[0;34m)\u001b[0m \u001b[0;34m+\u001b[0m \u001b[0;36m1\u001b[0m\u001b[0;34m)\u001b[0m\u001b[0;34m\u001b[0m\u001b[0;34m\u001b[0m\u001b[0m\n\u001b[1;32m      5\u001b[0m \u001b[0;34m\u001b[0m\u001b[0m\n",
            "\u001b[0;31mNameError\u001b[0m: name 'history' is not defined"
          ]
        }
      ]
    },
    {
      "cell_type": "markdown",
      "metadata": {
        "colab_type": "text",
        "id": "oLUsZDrkRhyo"
      },
      "source": [
        "### Word Embeddings\n",
        "In this section, we want to use a pre-trained word embedding to encode the reviews. To do so, we leverage the Google News Word2Vec model, a model that provides 300 semantic features for each word. These features are extracted concerning the position of the training word and by considering adjacent words in the training data (Google News). More detailed information will be discussed in your class later.\n",
        "\n",
        "You can download the pre-trained model from [here](https://s3.amazonaws.com/dl4j-distribution/GoogleNews-vectors-negative300.bin.gz), and you may want to use [gensim](https://radimrehurek.com/gensim/) to load the file. Next, you need to replace the document vector with the average of word vectors that are available in the W2V model. Use a weighted average to consider the frequency of a word as well as its presence."
      ]
    },
    {
      "cell_type": "code",
      "metadata": {
        "id": "xOtsGSXJ_iLZ",
        "colab_type": "code",
        "outputId": "19fd4dcd-8d3c-4abd-93e6-46582687b98c",
        "colab": {
          "base_uri": "https://localhost:8080/",
          "height": 204
        }
      },
      "source": [
        "!wget -c \"https://s3.amazonaws.com/dl4j-distribution/GoogleNews-vectors-negative300.bin.gz\"\n",
        "\n",
        "!gzip -d GoogleNews-vectors-negative300.bin.gz"
      ],
      "execution_count": 0,
      "outputs": [
        {
          "output_type": "stream",
          "text": [
            "--2019-11-30 11:39:26--  https://s3.amazonaws.com/dl4j-distribution/GoogleNews-vectors-negative300.bin.gz\n",
            "Resolving s3.amazonaws.com (s3.amazonaws.com)... 52.216.94.237\n",
            "Connecting to s3.amazonaws.com (s3.amazonaws.com)|52.216.94.237|:443... connected.\n",
            "HTTP request sent, awaiting response... 200 OK\n",
            "Length: 1647046227 (1.5G) [application/x-gzip]\n",
            "Saving to: ‘GoogleNews-vectors-negative300.bin.gz’\n",
            "\n",
            "GoogleNews-vectors- 100%[===================>]   1.53G  87.1MB/s    in 17s     \n",
            "\n",
            "2019-11-30 11:39:43 (93.9 MB/s) - ‘GoogleNews-vectors-negative300.bin.gz’ saved [1647046227/1647046227]\n",
            "\n"
          ],
          "name": "stdout"
        }
      ]
    },
    {
      "cell_type": "code",
      "metadata": {
        "colab_type": "code",
        "id": "1YZjxO2uUd_0",
        "colab": {}
      },
      "source": [
        "'''\n",
        "     Encode documents to a vector representation.\n",
        "'''\n",
        "xs = {'train': [], 'test': []} # Put the document vectors here\n",
        "ys = {'train': [], 'test': []} # Put the label vectors here\n",
        "\n",
        "from gensim import models\n",
        "\n",
        "w = models.KeyedVectors.load_word2vec_format('GoogleNews-vectors-negative300.bin', binary=True)"
      ],
      "execution_count": 0,
      "outputs": []
    },
    {
      "cell_type": "code",
      "metadata": {
        "id": "QvkkI5sdIGHI",
        "colab_type": "code",
        "colab": {}
      },
      "source": [
        "print(w['king'])"
      ],
      "execution_count": 0,
      "outputs": []
    },
    {
      "cell_type": "code",
      "metadata": {
        "colab_type": "code",
        "id": "9QogSlZjVlb6",
        "colab": {}
      },
      "source": [
        "data = {'x_train': xs['train'], 'y_train': ys['train'],\n",
        "        'x_test': xs['test'], 'y_test': ys['test']}\n",
        "model = create_model(2, (data['x_train'].shape[1], ))\n",
        "model.compile(loss='binary_crossentropy',optimizer=\"adam\", metrics=[\"accuracy\",f1,recall,precision])\n",
        "history = model.fit(data['x_train'], data['y_train'],\n",
        "              batch_size=32,\n",
        "              epochs=20,\n",
        "              validation_data=(data['x_test'], data['y_test']))"
      ],
      "execution_count": 0,
      "outputs": []
    },
    {
      "cell_type": "code",
      "metadata": {
        "colab_type": "code",
        "id": "jtBMBnkrVn_D",
        "colab": {}
      },
      "source": [
        "history_dict = history.history\n",
        "acc = history_dict['acc']\n",
        "\n",
        "epochs = range(1, len(acc) + 1)\n",
        "\n",
        "acc_values = history_dict['acc']\n",
        "val_acc = history_dict['val_acc']\n",
        "\n",
        "plt.plot(epochs, acc, 'bo', label='Training acc')\n",
        "plt.plot(epochs, val_acc, 'b', label='Validation acc')\n",
        "plt.title('Training and validation accuracy')\n",
        "plt.xlabel('Epochs')\n",
        "plt.ylabel('Acc')\n",
        "plt.legend()\n",
        "\n",
        "plt.show()"
      ],
      "execution_count": 0,
      "outputs": []
    },
    {
      "cell_type": "markdown",
      "metadata": {
        "button": false,
        "colab_type": "text",
        "id": "zeDLckyY_Yuq",
        "new_sheet": false,
        "run_control": {
          "read_only": false
        }
      },
      "source": [
        "# 3. Image classification\n"
      ]
    },
    {
      "cell_type": "markdown",
      "metadata": {
        "button": false,
        "colab_type": "text",
        "id": "Xl8ZYWYb6CD-",
        "new_sheet": false,
        "run_control": {
          "read_only": false
        }
      },
      "source": [
        "In this part, We want to classify animal images according to their species (frog vs penguin).\n",
        "\n",
        "First, we should download the dataset."
      ]
    },
    {
      "cell_type": "code",
      "metadata": {
        "colab_type": "code",
        "id": "MFcAjcsYkmum",
        "outputId": "cd52e823-ef1d-4c1d-ce55-40b745230ead",
        "colab": {
          "base_uri": "https://localhost:8080/",
          "height": 1000
        }
      },
      "source": [
        "% cd /content/\n",
        "# Download the dataset\n",
        "! wget -q http://iust-deep-learning.github.io/981/static_files/assignments/asg01_assets/data.zip\n",
        "  \n",
        "# Then, Extact it\n",
        "! unzip data.zip -d .\n",
        "! cat frog_url.txt"
      ],
      "execution_count": 0,
      "outputs": [
        {
          "output_type": "stream",
          "text": [
            "/content\n",
            "Archive:  data.zip\n",
            "replace ./peng_url.txt? [y]es, [n]o, [A]ll, [N]one, [r]ename: y\n",
            "  inflating: ./peng_url.txt          \n",
            "replace ./frog_url.txt? [y]es, [n]o, [A]ll, [N]one, [r]ename: y\n",
            "  inflating: ./frog_url.txt          \n",
            "https://upload.wikimedia.org/wikipedia/commons/thumb/d/d6/Tree_frog2.jpg/1200px-Tree_frog2.jpg\n",
            "http://www.jigzone.com/p/jz/isA/TreeFrog.jpg\n",
            "http://www.nationalgeographic.com/content/dam/animals/thumbs/rights-exempt/amphibians/r/red-eyed-tree-frog_thumb.ngsversion.1475172005418.adapt.1900.1.JPG\n",
            "https://www.joshsfrogs.com/media/catalog/product/cache/1/image/265x150/9df78eab33525d08d6e5fb8d27136e95/r/e/red_eye_category_picture.jpg\n",
            "http://www.normanmcmillan.com/wp-content/uploads/2012/07/tree_frog_slide1.jpg\n",
            "http://www.activewild.com/wp-content/uploads/2015/09/Red-Eyed-Tree-Frog-Staring.jpg\n",
            "http://www.backwaterreptiles.com/images/frogs/whites-tree-frog-for-sale.jpg\n",
            "https://s-media-cache-ak0.pinimg.com/736x/e3/df/79/e3df79bb5e04dfb6e63e94df5998b447--cute-frogs-red-eyed-tree-frog.jpg\n",
            "https://upload.wikimedia.org/wikipedia/commons/thumb/d/d4/Gladiator_frog_Osa.JPG/220px-Gladiator_frog_Osa.JPG\n",
            "https://s-media-cache-ak0.pinimg.com/736x/50/be/2d/50be2d252c2489910fc19edf43854798--frog-tattoos-tree-frog-tattoo.jpg\n",
            "http://www.animalplace.net/wp-content/uploads/2012/04/Green-tree-frog1.jpg\n",
            "http://bransonswildworld.com/wp-content/uploads/2013/05/Clown-Tree-Frog.jpg\n",
            "https://s-media-cache-ak0.pinimg.com/736x/71/c3/f1/71c3f1b80e5270796cf81e9ddaa2875c--frog-pics-red-eyed-tree-frog.jpg\n",
            "http://images.mentalfloss.com/sites/default/files/styles/insert_main_wide_image/public/cutie_0.png\n",
            "http://kids.nationalgeographic.com/content/dam/kids/photos/animals/Amphibians/Q-Z/red-eyed-tree-frog-walk-leaf.adapt.945.1.jpg\n",
            "http://kids.nationalgeographic.com/content/dam/kids/photos/animals/Amphibians/Q-Z/red-eyed-tree-frog-eyes.adapt.945.1.jpg\n",
            "http://www.clubfauna.com/wp-content/uploads/2015/04/Tiger-Leg-Tree-Frog.png\n",
            "http://cdn.natgeotv.com.au/factsheets/thumbnails/greentreefrog_greentreefrog.jpg%3Fv%3D27%26azure%3Dfalse%26scale%3Dboth%26width%3D1024%26height%3D560%26mode%3Dcrop\n",
            "http://www.backwaterreptiles.com/images/frogs/red-eye-tree-frog-for-sale.jpg\n",
            "http://www.redeyedtreefrog.org/wp-content/uploads/2010/01/red-eyed-tree-frog-in-australia.jpg\n",
            "https://farm6.staticflickr.com/5501/14420902589_98092c8092_o.jpg\n",
            "https://media.mnn.com/assets/images/2015/08/leptopelis-vermiculatus-tree-frog.jpg.990x0_q80_crop-smart.jpg\n",
            "http://wallpaperswide.com/download/red_eyed_tree_frog-wallpaper-1280x960.jpg\n",
            "https://upload.wikimedia.org/wikipedia/commons/f/fc/Agalychnis_moreletii03.jpg\n",
            "http://www.clubfauna.com/wp-content/uploads/2015/04/Red-Eyed-Tree-Frog.jpg\n",
            "http://www.redeyedtreefrog.org/wp-content/uploads/2009/11/red-eyed-tree-frog-tank-temperature-setting.jpg\n",
            "http://images.mentalfloss.com/sites/default/files/styles/insert_main_wide_image/public/istock_000003433701_small.jpg\n",
            "https://s-media-cache-ak0.pinimg.com/originals/5a/42/b1/5a42b1a9d6befcb8821434e610f66706.jpg\n",
            "https://upload.wikimedia.org/wikipedia/commons/thumb/4/49/Green_treefrog.jpg/1200px-Green_treefrog.jpg\n",
            "http://cdn.wallpapersafari.com/37/14/RMV6co.jpg\n",
            "https://www.treefrog.ca/usercontent/Articles//about-tree-frogs.jpg\n",
            "https://media.mnn.com/assets/images/2015/08/Upper-amazonian-tree-frog.jpg.990x0_q80_crop-smart.jpg\n",
            "https://i.ytimg.com/vi/U7cChtwrXxI/hqdefault.jpg\n",
            "https://s-media-cache-ak0.pinimg.com/736x/64/da/10/64da104d8cc46192f3a3fe212f2dc3a3--frog-tattoos-amphibians.jpg\n",
            "https://upload.wikimedia.org/wikipedia/commons/thumb/0/0d/Laubfrosch_cropped.jpg/1200px-Laubfrosch_cropped.jpg\n",
            "http://www.interestingeverything.com/wp-content/uploads/2013/02/red-eyed-tree-frog.png\n",
            "https://upload.wikimedia.org/wikipedia/commons/b/b4/Litoria_infrafrenata_-_Julatten.jpg\n",
            "https://s-media-cache-ak0.pinimg.com/736x/23/6a/bc/236abc549ce69111916e562c8ffbdc63--tree-frogs-trees.jpg\n",
            "http://www.rainforestjunkys.com/wp-content/uploads/2014/08/agalychniscallidryasblack01.jpg\n",
            "https://s-media-cache-ak0.pinimg.com/736x/4e/ac/95/4eac95a205179c9871d892d373a78ba9--animals-tattoo-frog-tattoos.jpg\n",
            "http://i.dailymail.co.uk/i/pix/2013/03/26/article-2299468-18EDA05C000005DC-246_634x452.jpg\n",
            "https://i.ytimg.com/vi/9xGY0PFz-T0/maxresdefault.jpg\n",
            "http://images.wisegeek.com/tree-frog-on-leaf.jpg\n",
            "https://upload.wikimedia.org/wikipedia/commons/b/be/Red_eyed_tree_frog_edit2.jpg\n",
            "https://s-media-cache-ak0.pinimg.com/736x/15/f5/28/15f5284d5015d1013cd00c6c7f65d901--glass-frog-big-eyes.jpg\n",
            "http://cdn.wallpapersafari.com/53/57/gcYQ2w.jpg\n",
            "https://www.treefrog.ca/usercontent/Articles//clown-tree-frog.jpg\n",
            "http://www.activewild.com/wp-content/uploads/2015/09/Red-Eyed-Tree-Frog-Facts-For-Kids-624x345.jpg\n",
            "http://www.activewild.com/wp-content/uploads/2015/09/Red-Eyed-Tree-Frog-Facts-For-Kids-624x345.jpg\n",
            "http://cdn.wallpapersafari.com/26/47/GVgY6N.jpg\n",
            "http://www.frogforum.net/careinfo/Hyla-versicolor-Hyla-chrysoscelis/Johnny-O-Farnen-Hyla-chrysoscelis-Cope-Gray-Treefrog.jpg\n"
          ],
          "name": "stdout"
        }
      ]
    },
    {
      "cell_type": "markdown",
      "metadata": {
        "colab_type": "text",
        "id": "p3GGwUnuk7nL"
      },
      "source": [
        "As you see, two files have the URL address of images, so you should download and save them in appropriate folders. Do it in this cell:"
      ]
    },
    {
      "cell_type": "code",
      "metadata": {
        "colab_type": "code",
        "id": "te1V5YkglNCG",
        "outputId": "f38c5bfd-ea43-4334-eb6f-fe0ae967ed44",
        "colab": {
          "base_uri": "https://localhost:8080/",
          "height": 85
        }
      },
      "source": [
        "import urllib.request\n",
        "% cd /content/\n",
        "%rm -rf frog\n",
        "%rm -rf peng\n",
        "! mkdir frog\n",
        "! mkdir peng\n",
        "\n",
        "peng_urls = open('peng_url.txt', 'r')\n",
        "frog_urls = open('frog_url.txt', 'r')\n",
        "\n",
        "\n",
        "print('Beginning file download with urllib2...')\n",
        "\n",
        "% cd /content/peng\n",
        "counter = 0\n",
        "for i in peng_urls.readlines():\n",
        "  try:\n",
        "    urllib.request.urlretrieve(i, '/content/peng/'+str(counter)+'.jpg')\n",
        "    counter += 1 \n",
        "  except:\n",
        "    continue\n",
        "\n",
        "% cd /content/frog\n",
        "counter = 0\n",
        "for i in frog_urls.readlines():\n",
        "  try:\n",
        "    urllib.request.urlretrieve(i, '/content/frog/'+str(counter)+'.jpg')\n",
        "    counter += 1 \n",
        "  except:\n",
        "    continue\n",
        "\n"
      ],
      "execution_count": 0,
      "outputs": [
        {
          "output_type": "stream",
          "text": [
            "/content\n",
            "Beginning file download with urllib2...\n",
            "/content/peng\n",
            "/content/frog\n"
          ],
          "name": "stdout"
        }
      ]
    },
    {
      "cell_type": "markdown",
      "metadata": {
        "colab_type": "text",
        "id": "cR4k4lq9ltef"
      },
      "source": [
        "As a suggestion, it is better to view some of the images at first. To do so, modify this code:"
      ]
    },
    {
      "cell_type": "code",
      "metadata": {
        "colab_type": "code",
        "id": "nzKqluHImCT2",
        "outputId": "3d5ae018-4b95-4404-9e50-5ed108a64a75",
        "colab": {
          "base_uri": "https://localhost:8080/",
          "height": 286
        }
      },
      "source": [
        "import cv2\n",
        "import matplotlib.pyplot as plt\n",
        "import os\n",
        "\n",
        "# print(os.listdir('/content/peng/'))\n",
        "\n",
        "img_path = '/content/peng/0.jpg'\n",
        "img = cv2.imread(img_path)\n",
        "plt.imshow(img)\n",
        "\n",
        "# img_path = '/content/frog/0.jpg'\n",
        "# img = cv2.imread(img_path)\n",
        "# plt.imshow(img)\n"
      ],
      "execution_count": 0,
      "outputs": [
        {
          "output_type": "execute_result",
          "data": {
            "text/plain": [
              "<matplotlib.image.AxesImage at 0x7f0fa4df8438>"
            ]
          },
          "metadata": {
            "tags": []
          },
          "execution_count": 3
        },
        {
          "output_type": "display_data",
          "data": {
            "image/png": "[encoded data removed]",
            "text/plain": [
              "<Figure size 432x288 with 1 Axes>"
            ]
          },
          "metadata": {
            "tags": []
          }
        }
      ]
    },
    {
      "cell_type": "markdown",
      "metadata": {
        "colab_type": "text",
        "id": "7lZIpkWWocwl"
      },
      "source": [
        "Before going any further, we have to import some prerequisites:"
      ]
    },
    {
      "cell_type": "code",
      "metadata": {
        "colab_type": "code",
        "id": "4ytC3UWEodnm",
        "outputId": "e138f277-0855-4e09-98c0-405314ac2e9b",
        "colab": {
          "base_uri": "https://localhost:8080/",
          "height": 80
        }
      },
      "source": [
        "from keras.applications.vgg16 import VGG16\n",
        "from keras.preprocessing import image\n",
        "from keras.applications.vgg16 import preprocess_input\n",
        "from keras.applications.vgg16 import decode_predictions\n",
        "import numpy as np\n",
        "import random"
      ],
      "execution_count": 0,
      "outputs": [
        {
          "output_type": "stream",
          "text": [
            "Using TensorFlow backend.\n"
          ],
          "name": "stderr"
        },
        {
          "output_type": "display_data",
          "data": {
            "text/html": [
              "<p style=\"color: red;\">\n",
              "The default version of TensorFlow in Colab will soon switch to TensorFlow 2.x.<br>\n",
              "We recommend you <a href=\"https://www.tensorflow.org/guide/migrate\" target=\"_blank\">upgrade</a> now \n",
              "or ensure your notebook will continue to use TensorFlow 1.x via the <code>%tensorflow_version 1.x</code> magic:\n",
              "<a href=\"https://colab.research.google.com/notebooks/tensorflow_version.ipynb\" target=\"_blank\">more info</a>.</p>\n"
            ],
            "text/plain": [
              "<IPython.core.display.HTML object>"
            ]
          },
          "metadata": {
            "tags": []
          }
        }
      ]
    },
    {
      "cell_type": "markdown",
      "metadata": {
        "colab_type": "text",
        "id": "9Bz5l-eJn9zG"
      },
      "source": [
        "In every deep learning task, we need to divide our dataset into train and test categories. The train category is used to train the model, and the test one is used to evaluate the trained model. The proportion of train and test dataset does not have any specific formula, and it is up to you, but you should consider the majority of the dataset as the train one."
      ]
    },
    {
      "cell_type": "code",
      "metadata": {
        "colab_type": "code",
        "id": "yetgwkdfn-Vd",
        "colab": {}
      },
      "source": [
        "  '''\n",
        "    Split the images into train and test datasets\n",
        "  '''\n",
        "images = {'train': [], 'test': []} # Put the images here\n",
        "labels = {'train': [], 'test': []} # Put the labels here\n",
        "\n",
        "peng_images_addr = []\n",
        "for i in os.listdir('/content/peng/'):\n",
        "    peng_images_addr.append(os.path.join('/content/peng/', i))\n",
        "frog_images_addr = []\n",
        "for i in os.listdir('/content/frog/'):\n",
        "    if i!='30.jpg' and i!='46.jpg':\n",
        "        frog_images_addr.append(os.path.join('/content/frog/', i))\n",
        "data = []\n",
        "for i in peng_images_addr:\n",
        "    data.append((i,0))\n",
        "for i in frog_images_addr:\n",
        "    data.append((i,1))\n",
        "random.shuffle(data)\n",
        "# print(len(data))\n",
        "train_addr = data[:75]\n",
        "test_addr = data[75:]\n",
        "for i in train_addr:\n",
        "    images['train'].append(i[0])\n",
        "    labels['train'].append(i[1])\n",
        "for i in test_addr:\n",
        "    images['test'].append(i[0])\n",
        "    labels['test'].append(i[1])"
      ],
      "execution_count": 0,
      "outputs": []
    },
    {
      "cell_type": "markdown",
      "metadata": {
        "colab_type": "text",
        "id": "_POcPVJ3p5SZ"
      },
      "source": [
        "Now we change images to numeric feature vectors to feed them into the network.\n",
        "\n",
        "To do so, we leverage the vgg16 model. It is a CNN model; these models will be discussed in the future."
      ]
    },
    {
      "cell_type": "code",
      "metadata": {
        "colab_type": "code",
        "id": "FdFUx4onq1ke",
        "outputId": "2d817ed9-e5df-4a31-b79b-87c7bfb66f76",
        "colab": {
          "base_uri": "https://localhost:8080/",
          "height": 1000
        }
      },
      "source": [
        "vgg16_model = VGG16(weights='imagenet', include_top=False)\n",
        "vgg16_model.summary()"
      ],
      "execution_count": 0,
      "outputs": [
        {
          "output_type": "stream",
          "text": [
            "WARNING:tensorflow:From /usr/local/lib/python3.6/dist-packages/keras/backend/tensorflow_backend.py:66: The name tf.get_default_graph is deprecated. Please use tf.compat.v1.get_default_graph instead.\n",
            "\n",
            "WARNING:tensorflow:From /usr/local/lib/python3.6/dist-packages/keras/backend/tensorflow_backend.py:541: The name tf.placeholder is deprecated. Please use tf.compat.v1.placeholder instead.\n",
            "\n",
            "WARNING:tensorflow:From /usr/local/lib/python3.6/dist-packages/keras/backend/tensorflow_backend.py:4432: The name tf.random_uniform is deprecated. Please use tf.random.uniform instead.\n",
            "\n",
            "WARNING:tensorflow:From /usr/local/lib/python3.6/dist-packages/keras/backend/tensorflow_backend.py:4267: The name tf.nn.max_pool is deprecated. Please use tf.nn.max_pool2d instead.\n",
            "\n",
            "WARNING:tensorflow:From /usr/local/lib/python3.6/dist-packages/keras/backend/tensorflow_backend.py:190: The name tf.get_default_session is deprecated. Please use tf.compat.v1.get_default_session instead.\n",
            "\n",
            "WARNING:tensorflow:From /usr/local/lib/python3.6/dist-packages/keras/backend/tensorflow_backend.py:197: The name tf.ConfigProto is deprecated. Please use tf.compat.v1.ConfigProto instead.\n",
            "\n",
            "WARNING:tensorflow:From /usr/local/lib/python3.6/dist-packages/keras/backend/tensorflow_backend.py:203: The name tf.Session is deprecated. Please use tf.compat.v1.Session instead.\n",
            "\n",
            "WARNING:tensorflow:From /usr/local/lib/python3.6/dist-packages/keras/backend/tensorflow_backend.py:207: The name tf.global_variables is deprecated. Please use tf.compat.v1.global_variables instead.\n",
            "\n",
            "WARNING:tensorflow:From /usr/local/lib/python3.6/dist-packages/keras/backend/tensorflow_backend.py:216: The name tf.is_variable_initialized is deprecated. Please use tf.compat.v1.is_variable_initialized instead.\n",
            "\n",
            "WARNING:tensorflow:From /usr/local/lib/python3.6/dist-packages/keras/backend/tensorflow_backend.py:223: The name tf.variables_initializer is deprecated. Please use tf.compat.v1.variables_initializer instead.\n",
            "\n",
            "Model: \"vgg16\"\n",
            "_________________________________________________________________\n",
            "Layer (type)                 Output Shape              Param #   \n",
            "=================================================================\n",
            "input_1 (InputLayer)         (None, None, None, 3)     0         \n",
            "_________________________________________________________________\n",
            "block1_conv1 (Conv2D)        (None, None, None, 64)    1792      \n",
            "_________________________________________________________________\n",
            "block1_conv2 (Conv2D)        (None, None, None, 64)    36928     \n",
            "_________________________________________________________________\n",
            "block1_pool (MaxPooling2D)   (None, None, None, 64)    0         \n",
            "_________________________________________________________________\n",
            "block2_conv1 (Conv2D)        (None, None, None, 128)   73856     \n",
            "_________________________________________________________________\n",
            "block2_conv2 (Conv2D)        (None, None, None, 128)   147584    \n",
            "_________________________________________________________________\n",
            "block2_pool (MaxPooling2D)   (None, None, None, 128)   0         \n",
            "_________________________________________________________________\n",
            "block3_conv1 (Conv2D)        (None, None, None, 256)   295168    \n",
            "_________________________________________________________________\n",
            "block3_conv2 (Conv2D)        (None, None, None, 256)   590080    \n",
            "_________________________________________________________________\n",
            "block3_conv3 (Conv2D)        (None, None, None, 256)   590080    \n",
            "_________________________________________________________________\n",
            "block3_pool (MaxPooling2D)   (None, None, None, 256)   0         \n",
            "_________________________________________________________________\n",
            "block4_conv1 (Conv2D)        (None, None, None, 512)   1180160   \n",
            "_________________________________________________________________\n",
            "block4_conv2 (Conv2D)        (None, None, None, 512)   2359808   \n",
            "_________________________________________________________________\n",
            "block4_conv3 (Conv2D)        (None, None, None, 512)   2359808   \n",
            "_________________________________________________________________\n",
            "block4_pool (MaxPooling2D)   (None, None, None, 512)   0         \n",
            "_________________________________________________________________\n",
            "block5_conv1 (Conv2D)        (None, None, None, 512)   2359808   \n",
            "_________________________________________________________________\n",
            "block5_conv2 (Conv2D)        (None, None, None, 512)   2359808   \n",
            "_________________________________________________________________\n",
            "block5_conv3 (Conv2D)        (None, None, None, 512)   2359808   \n",
            "_________________________________________________________________\n",
            "block5_pool (MaxPooling2D)   (None, None, None, 512)   0         \n",
            "=================================================================\n",
            "Total params: 14,714,688\n",
            "Trainable params: 14,714,688\n",
            "Non-trainable params: 0\n",
            "_________________________________________________________________\n"
          ],
          "name": "stdout"
        }
      ]
    },
    {
      "cell_type": "markdown",
      "metadata": {
        "colab_type": "text",
        "id": "Ajha6oTkrIUD"
      },
      "source": [
        "To prepare images to feed them into the network, some preprocessing is required. Implement this in this cell. For example, you can normalize images."
      ]
    },
    {
      "cell_type": "code",
      "metadata": {
        "colab_type": "code",
        "id": "gv4_ZHMjrtjz",
        "colab": {}
      },
      "source": [
        "def preprocess_image(image):\n",
        "    \"\"\"\n",
        "    preprocess input image\n",
        "\n",
        "    Args:\n",
        "      image: 2d numpy array input image\n",
        "\n",
        "    Returns:\n",
        "      img: 2d numpy array preprocessed image\n",
        "    \"\"\"\n",
        "    img = image.copy()\n",
        "    img = img//255.0\n",
        "    return img"
      ],
      "execution_count": 0,
      "outputs": []
    },
    {
      "cell_type": "markdown",
      "metadata": {
        "colab_type": "text",
        "id": "ViiuhnAjr50a"
      },
      "source": [
        "Now, you must first preprocess the images, then convert/encode them into feature vectors."
      ]
    },
    {
      "cell_type": "code",
      "metadata": {
        "colab_type": "code",
        "id": "Fv0ON92sr5Aj",
        "outputId": "fa690877-b04c-434b-d0af-e27c85b1c62b",
        "colab": {
          "base_uri": "https://localhost:8080/",
          "height": 1000
        }
      },
      "source": [
        "xs = {'train': [], 'test': []}\n",
        "for image in images['train']:\n",
        "    img = cv2.imread(image)\n",
        "    print(image)\n",
        "    img = cv2.resize(img, (224, 224))\n",
        "    img = np.expand_dims(img, axis=0)\n",
        "    img = preprocess_image(img)\n",
        "    features = vgg16_model.predict(img)\n",
        "    ff = features.flatten()\n",
        "    xs['train'].append(ff)\n",
        "\n",
        "for image in images['test']:\n",
        "    img = cv2.imread(image)\n",
        "    img = cv2.resize(img, (224, 224))\n",
        "    img = np.expand_dims(img, axis=0)\n",
        "    img = preprocess_image(img)\n",
        "    features = vgg16_model.predict(img)\n",
        "    ff = features.flatten()\n",
        "    xs['test'].append(ff)\n",
        "xs['train'] = np.array(xs['train'])\n",
        "xs['test'] = np.array(xs['test'])\n"
      ],
      "execution_count": 0,
      "outputs": [
        {
          "output_type": "stream",
          "text": [
            "/content/peng/38.jpg\n",
            "/content/frog/48.jpg\n",
            "/content/peng/37.jpg\n",
            "/content/frog/47.jpg\n",
            "/content/frog/14.jpg\n",
            "/content/frog/24.jpg\n",
            "/content/peng/17.jpg\n",
            "/content/peng/13.jpg\n",
            "/content/frog/26.jpg\n",
            "/content/frog/36.jpg\n",
            "/content/frog/2.jpg\n",
            "/content/frog/0.jpg\n",
            "/content/peng/28.jpg\n",
            "/content/peng/15.jpg\n",
            "/content/peng/20.jpg\n",
            "/content/frog/3.jpg\n",
            "/content/frog/15.jpg\n",
            "/content/peng/26.jpg\n",
            "/content/frog/23.jpg\n",
            "/content/frog/44.jpg\n",
            "/content/frog/43.jpg\n",
            "/content/peng/21.jpg\n",
            "/content/peng/39.jpg\n",
            "/content/frog/7.jpg\n",
            "/content/frog/33.jpg\n",
            "/content/peng/29.jpg\n",
            "/content/frog/45.jpg\n",
            "/content/peng/1.jpg\n",
            "/content/peng/7.jpg\n",
            "/content/frog/37.jpg\n",
            "/content/frog/31.jpg\n",
            "/content/frog/35.jpg\n",
            "/content/frog/41.jpg\n",
            "/content/frog/40.jpg\n",
            "/content/frog/32.jpg\n",
            "/content/peng/14.jpg\n",
            "/content/peng/9.jpg\n",
            "/content/peng/8.jpg\n",
            "/content/frog/1.jpg\n",
            "/content/frog/20.jpg\n",
            "/content/frog/50.jpg\n",
            "/content/frog/25.jpg\n",
            "/content/frog/17.jpg\n",
            "/content/peng/3.jpg\n",
            "/content/frog/4.jpg\n",
            "/content/peng/0.jpg\n",
            "/content/peng/30.jpg\n",
            "/content/peng/25.jpg\n",
            "/content/frog/16.jpg\n",
            "/content/frog/19.jpg\n",
            "/content/peng/27.jpg\n",
            "/content/peng/23.jpg\n",
            "/content/peng/18.jpg\n",
            "/content/frog/9.jpg\n",
            "/content/frog/42.jpg\n",
            "/content/frog/12.jpg\n",
            "/content/peng/22.jpg\n",
            "/content/peng/6.jpg\n",
            "/content/frog/27.jpg\n",
            "/content/peng/33.jpg\n",
            "/content/frog/5.jpg\n",
            "/content/frog/6.jpg\n",
            "/content/frog/22.jpg\n",
            "/content/frog/38.jpg\n",
            "/content/peng/11.jpg\n",
            "/content/frog/8.jpg\n",
            "/content/frog/13.jpg\n",
            "/content/frog/18.jpg\n",
            "/content/peng/12.jpg\n",
            "/content/peng/31.jpg\n",
            "/content/frog/21.jpg\n",
            "/content/frog/39.jpg\n",
            "/content/frog/29.jpg\n",
            "/content/peng/5.jpg\n",
            "/content/frog/10.jpg\n"
          ],
          "name": "stdout"
        }
      ]
    },
    {
      "cell_type": "markdown",
      "metadata": {
        "colab_type": "text",
        "id": "a8pRFojytQ0S"
      },
      "source": [
        "If you need to convert the labels into another format, you can do so by deleting the two last lines and implementing your code."
      ]
    },
    {
      "cell_type": "code",
      "metadata": {
        "colab_type": "code",
        "id": "SjKjuiI3tcgB",
        "outputId": "b1a78689-bb2d-4d83-ac72-35de6354847f",
        "colab": {
          "base_uri": "https://localhost:8080/",
          "height": 85
        }
      },
      "source": [
        "import keras\n",
        "ys = {'train': [], 'test': []}\n",
        "ys['train'] = np.array(keras.utils.to_categorical(labels['train'][:], num_classes=None, dtype='float32'))\n",
        "ys['test'] = np.array(keras.utils.to_categorical(labels['test'][:], num_classes=None, dtype='float32'))\n",
        "print(len(xs['train']))\n",
        "print(len(xs['test']))\n",
        "print(len(ys['train']))\n",
        "print(len(ys['test']))"
      ],
      "execution_count": 0,
      "outputs": [
        {
          "output_type": "stream",
          "text": [
            "75\n",
            "14\n",
            "75\n",
            "14\n"
          ],
          "name": "stdout"
        }
      ]
    },
    {
      "cell_type": "markdown",
      "metadata": {
        "colab_type": "text",
        "id": "-u2XPRdhuq5H"
      },
      "source": [
        "Now implement an MLP model for this task to separate frog images from penguin images."
      ]
    },
    {
      "cell_type": "markdown",
      "metadata": {
        "colab_type": "text",
        "id": "CaEYxYW7vEyh"
      },
      "source": [
        "If you want to import some modules or implement some helper functions or classes you can do it in this cell."
      ]
    },
    {
      "cell_type": "code",
      "metadata": {
        "colab_type": "code",
        "id": "-rAxGzrWvEy8",
        "colab": {}
      },
      "source": [
        "import numpy as np\n",
        "import random\n",
        "from tqdm import tqdm_notebook\n",
        "import matplotlib.pyplot as plt\n",
        "import pickle "
      ],
      "execution_count": 0,
      "outputs": []
    },
    {
      "cell_type": "markdown",
      "metadata": {
        "button": false,
        "colab_type": "text",
        "id": "3mPZERqlvEzN",
        "new_sheet": false,
        "run_control": {
          "read_only": false
        }
      },
      "source": [
        "Now, implement your MLP from scratch."
      ]
    },
    {
      "cell_type": "code",
      "metadata": {
        "colab_type": "code",
        "id": "FS4YAJ-UvEzR",
        "colab": {}
      },
      "source": [
        "class MLP(object):\n",
        "    def __init__(self, input_size, lr=0.01, epochs=100):\n",
        "        self.w = {}\n",
        "        self.b = {}\n",
        "        self.layers = [input_size]\n",
        "        self.lr = lr\n",
        "        self.epochs = epochs\n",
        "        self.input_size = input_size\n",
        "        self.num_of_hidden_layer = -1\n",
        "        self.acc = []\n",
        "      \n",
        "    def add_hidden_layer(self, num_of_neurons):\n",
        "        self.num_of_hidden_layer+=1\n",
        "        self.layers.append(num_of_neurons)\n",
        "\n",
        "    def compile_model(self):\n",
        "        self.number_of_classes =  self.layers[-1]\n",
        "        for i in range(len(self.layers)-1):\n",
        "            self.w[i+1] = np.random.randn(self.layers[i], self.layers[i+1])\n",
        "            self.b[i+1] = np.zeros((1, self.layers[i+1]))\n",
        "\n",
        "\n",
        "    def _sigmoid(self, x):\n",
        "        return 1.0/(1.0 + np.exp(-x))\n",
        "\n",
        "    def _gradient_of_sigmoid(self, x):\n",
        "        return x*(1-x) \n",
        "  \n",
        "    def _softmax(self, x):\n",
        "        exps = np.exp(x)\n",
        "        return exps / np.sum(exps)\n",
        "\n",
        "\n",
        "    def _forward(self, x):\n",
        "        self.activation = {}\n",
        "        self.activation[0] = x.reshape(1, -1)\n",
        "        for i in range(self.num_of_hidden_layer):\n",
        "          tmp = np.matmul(self.activation[i], self.w[i+1]) + self.b[i+1]\n",
        "          self.activation[i+1] = self._sigmoid(tmp)\n",
        "        tmp = np.matmul(self.activation[self.num_of_hidden_layer], self.w[self.num_of_hidden_layer+1]) + self.b[self.num_of_hidden_layer+1]\n",
        "        self.activation[self.num_of_hidden_layer+1] = self._softmax(tmp)\n",
        "        return self.activation[self.num_of_hidden_layer+1]\n",
        "\n",
        "    def _backward_gradients(self, x, y):\n",
        "        self._forward(x)\n",
        "        self.dw = {}\n",
        "        self.db = {}\n",
        "        err = {}\n",
        "        err[self.num_of_hidden_layer + 1] = (self.activation[self.num_of_hidden_layer + 1] - y)\n",
        "        for i in range(self.num_of_hidden_layer + 1, 0, -1):\n",
        "            self.dw[i] = np.matmul(self.activation[i-1].T, err[i])\n",
        "            self.db[i] = err[i]\n",
        "            tmp = np.matmul(err[i], self.w[i].T)\n",
        "            err[i-1] = np.multiply(tmp, self._gradient_of_sigmoid(self.activation[i-1])) \n",
        "\n",
        "\n",
        "    def train(self, X, Y):\n",
        "\n",
        "        \"\"\"\n",
        "        train MLP model on train data\n",
        "\n",
        "        Args:\n",
        "          x: 2d numpy array or list of train data\n",
        "          y: 1d or 2d numpy array or list of train data labels\n",
        "        \"\"\"       \n",
        "        for epoch in range(self.epochs):\n",
        "            print('Start train at epoch ',epoch,' :')\n",
        "            dw = {}\n",
        "            db = {}\n",
        "            for i in range(self.num_of_hidden_layer +1):\n",
        "                dw[i+1] = np.zeros((self.layers[i], self.layers[i+1]))\n",
        "                db[i+1] = np.zeros((1, self.layers[i+1]))\n",
        "            for x, y in zip(X, Y):\n",
        "                self._backward_gradients(x, y)\n",
        "                for i in range(self.num_of_hidden_layer+1):\n",
        "                    dw[i+1] += self.dw[i+1]\n",
        "                    db[i+1] += self.db[i+1]\n",
        "                      \n",
        "            batch = X.shape[1]\n",
        "            for i in range(self.num_of_hidden_layer+1):\n",
        "                self.w[i+1] -= self.lr * (dw[i+1]/batch)\n",
        "                self.b[i+1] -= self.lr * (db[i+1]/batch)\n",
        "            \n",
        "\n",
        "            pred = self.predict(X) \n",
        "\n",
        "            c=0\n",
        "            for k in range(len(Y)):\n",
        "\n",
        "                m1 = max(Y[k])\n",
        "                m2 = max(pred[k])\n",
        "                if (list(Y[k]).index(m1)) == (list(pred[k]).index(m2)):\n",
        "                    c+=1\n",
        "            c/=len(X)  \n",
        "\n",
        "            self.acc.append(c)\n",
        "            print('Train acc : ', c)\n",
        "            \n",
        "        plt.plot(self.acc)\n",
        "        plt.xlabel('Epochs')\n",
        "        plt.ylabel('ACC')\n",
        "        plt.show()\n",
        "        \n",
        "        return True\n",
        "\n",
        "\n",
        "\n",
        "    def predict(self, X):\n",
        "        \"\"\"\n",
        "        predict output of MLP model on input data\n",
        "\n",
        "        Args:\n",
        "          x: 1d or 2d numpy array or list of input data\n",
        "\n",
        "        Returns:\n",
        "          pred: 1d numpy array or list or integer that represent output predicted \n",
        "                from MLP\n",
        "        \"\"\"\n",
        "\n",
        "        pred = []\n",
        "        for x in X:\n",
        "            pred.append(self._forward(x))\n",
        "        return np.round(np.array(pred).squeeze(),3)\n",
        "        \n",
        "\n",
        "    def test(self, x, y):\n",
        "        \"\"\"\n",
        "        test MLP model on test data\n",
        "\n",
        "        Args:\n",
        "          x: 2d numpy array or list of test data\n",
        "          y: 1d or 2d numpy array or list of test data labels\n",
        "\n",
        "        Returns:\n",
        "          acc: In the simplest way ratio between the number of correct predicts with the number \n",
        "                of all train data\n",
        "        \"\"\"\n",
        "\n",
        "        pred = self.predict(x)\n",
        "        c=0\n",
        "        for k in range(len(y)):\n",
        "            m1 = max(y[k])\n",
        "            m2 = max(pred[k])\n",
        "            if (list(y[k]).index(m1)) == (list(pred[k]).index(m2)):\n",
        "                c+=1\n",
        "        acc = c/len(x)  \n",
        "\n",
        "\n",
        "        # print('Test acc : ', acc)\n",
        "        \n",
        "        return acc\n",
        "\n",
        "    \n",
        "\n",
        "    def save_model(self, model_path):\n",
        "        \"\"\"\n",
        "        save model to disk\n",
        "\n",
        "        Args:\n",
        "          model_path: path of model\n",
        "        \"\"\"\n",
        "\n",
        "        filehandler = open(model_path, 'wb') \n",
        "        pickle.dump(self, filehandler)\n",
        "        \n",
        "        return True\n",
        "\n",
        "    def load_model(self, model_path):\n",
        "        \"\"\"\n",
        "        load model from disk\n",
        "\n",
        "        Args:\n",
        "          model_path: path of model\n",
        "        \"\"\"\n",
        "\n",
        "        filehandler = open(model_path, 'rb') \n",
        "        obj = pickle.load(filehandler)\n",
        "        self.w = obj.w\n",
        "        self.b = obj.b\n",
        "        self.layers = obj.layers\n",
        "        self.lr = obj.lr\n",
        "        self.epochs = obj.epochs\n",
        "        self.input_size = obj.input_size\n",
        "        self.num_of_hidden_layer = obj.num_of_hidden_layer\n",
        "        self.acc = obj.acc\n",
        "        \n",
        "        return True\n",
        "\n",
        "\n"
      ],
      "execution_count": 0,
      "outputs": []
    },
    {
      "cell_type": "code",
      "metadata": {
        "colab_type": "code",
        "id": "aMkLre5GvEze",
        "colab": {}
      },
      "source": [
        "from keras.models import Sequential\n",
        "from keras.layers import Dense\n",
        "\n",
        "def initialize_model():\n",
        "  \"\"\"\n",
        "  initilize a MLP model that classify Iris dataset\n",
        "  \n",
        "  Returns:\n",
        "    model: A MLP object\n",
        "               \n",
        "  Hint: Consider the number of features in the Iris dataset and the number of its classes \n",
        "        and initialize weights.\n",
        "  \"\"\"\n",
        "  \n",
        "  model = MLP(25088, epochs=2)\n",
        "  model.add_hidden_layer(10000)\n",
        "  model.add_hidden_layer(5000)\n",
        "  model.add_hidden_layer(2500)\n",
        "  model.add_hidden_layer(1000)\n",
        "  model.add_hidden_layer(500)\n",
        "  model.add_hidden_layer(250)\n",
        "  model.add_hidden_layer(100)\n",
        "  model.add_hidden_layer(25)\n",
        "  model.add_hidden_layer(10)\n",
        "  model.add_hidden_layer(2)\n",
        "  model.compile_model()\n",
        "  # print(xs['train'].shape)\n",
        "  # print(ys['train'].shape)\n",
        "\n",
        "  # model = Sequential()\n",
        "  # model.add(Dense(units=25088, activation='relu', input_dim=25088))\n",
        "  # model.add(Dense(units=10000, activation='relu'))\n",
        "  # model.add(Dense(units=5000, activation='relu'))\n",
        "  # model.add(Dense(units=2500, activation='relu'))\n",
        "  # model.add(Dense(units=1000, activation='relu'))\n",
        "  # model.add(Dense(units=500, activation='relu'))\n",
        "  # model.add(Dense(units=250, activation='relu'))\n",
        "  # model.add(Dense(units=100, activation='relu'))\n",
        "  # model.add(Dense(units=50, activation='relu'))\n",
        "  # model.add(Dense(units=25, activation='relu'))\n",
        "  # model.add(Dense(units=2, activation='softmax'))\n",
        "  # model.compile(loss='categorical_crossentropy',\n",
        "  #             optimizer='sgd',\n",
        "  #             metrics=['accuracy'])\n",
        "\n",
        "  \n",
        "  return model"
      ],
      "execution_count": 0,
      "outputs": []
    },
    {
      "cell_type": "markdown",
      "metadata": {
        "colab_type": "text",
        "id": "trLVIeBcvEzm"
      },
      "source": [
        "Evaluate your model(don't change this cell):"
      ]
    },
    {
      "cell_type": "code",
      "metadata": {
        "colab_type": "code",
        "id": "VmzZgRSuvEzo",
        "outputId": "7bc9ba45-a1e2-4cc5-b028-ec118ac217a1",
        "colab": {
          "base_uri": "https://localhost:8080/",
          "height": 426
        }
      },
      "source": [
        "mlp = initialize_model()\n",
        "# mlp.fit(xs['train'], ys['train'], epochs=5)\n",
        "\n",
        "mlp.train(xs['train'], ys['train'])\n",
        "print('your model accuracy on test data is: %s' % (mlp.test(xs['train'], ys['test'])))\n",
        "mlp.save_model('topvgg16_model.h5')"
      ],
      "execution_count": 0,
      "outputs": [
        {
          "output_type": "stream",
          "text": [
            "Start train at epoch  0  :\n",
            "Train acc :  0.6\n",
            "Start train at epoch  1  :\n"
          ],
          "name": "stdout"
        },
        {
          "output_type": "error",
          "ename": "KeyboardInterrupt",
          "evalue": "ignored",
          "traceback": [
            "\u001b[0;31m---------------------------------------------------------------------------\u001b[0m",
            "\u001b[0;31mKeyboardInterrupt\u001b[0m                         Traceback (most recent call last)",
            "\u001b[0;32m<ipython-input-13-32daf09543f3>\u001b[0m in \u001b[0;36m<module>\u001b[0;34m()\u001b[0m\n\u001b[1;32m      2\u001b[0m \u001b[0;31m# mlp.fit(xs['train'], ys['train'], epochs=5)\u001b[0m\u001b[0;34m\u001b[0m\u001b[0;34m\u001b[0m\u001b[0;34m\u001b[0m\u001b[0m\n\u001b[1;32m      3\u001b[0m \u001b[0;34m\u001b[0m\u001b[0m\n\u001b[0;32m----> 4\u001b[0;31m \u001b[0mmlp\u001b[0m\u001b[0;34m.\u001b[0m\u001b[0mtrain\u001b[0m\u001b[0;34m(\u001b[0m\u001b[0mxs\u001b[0m\u001b[0;34m[\u001b[0m\u001b[0;34m'train'\u001b[0m\u001b[0;34m]\u001b[0m\u001b[0;34m,\u001b[0m \u001b[0mys\u001b[0m\u001b[0;34m[\u001b[0m\u001b[0;34m'train'\u001b[0m\u001b[0;34m]\u001b[0m\u001b[0;34m)\u001b[0m\u001b[0;34m\u001b[0m\u001b[0;34m\u001b[0m\u001b[0m\n\u001b[0m\u001b[1;32m      5\u001b[0m \u001b[0mprint\u001b[0m\u001b[0;34m(\u001b[0m\u001b[0;34m'your model accuracy on test data is: %s'\u001b[0m \u001b[0;34m%\u001b[0m \u001b[0;34m(\u001b[0m\u001b[0mmlp\u001b[0m\u001b[0;34m.\u001b[0m\u001b[0mtest\u001b[0m\u001b[0;34m(\u001b[0m\u001b[0mxs\u001b[0m\u001b[0;34m[\u001b[0m\u001b[0;34m'train'\u001b[0m\u001b[0;34m]\u001b[0m\u001b[0;34m,\u001b[0m \u001b[0mys\u001b[0m\u001b[0;34m[\u001b[0m\u001b[0;34m'test'\u001b[0m\u001b[0;34m]\u001b[0m\u001b[0;34m)\u001b[0m\u001b[0;34m)\u001b[0m\u001b[0;34m)\u001b[0m\u001b[0;34m\u001b[0m\u001b[0;34m\u001b[0m\u001b[0m\n\u001b[1;32m      6\u001b[0m \u001b[0mmlp\u001b[0m\u001b[0;34m.\u001b[0m\u001b[0msave_model\u001b[0m\u001b[0;34m(\u001b[0m\u001b[0;34m'topvgg16_model.h5'\u001b[0m\u001b[0;34m)\u001b[0m\u001b[0;34m\u001b[0m\u001b[0;34m\u001b[0m\u001b[0m\n",
            "\u001b[0;32m<ipython-input-11-610fd9b8c10c>\u001b[0m in \u001b[0;36mtrain\u001b[0;34m(self, X, Y)\u001b[0m\n\u001b[1;32m     72\u001b[0m                 \u001b[0mdb\u001b[0m\u001b[0;34m[\u001b[0m\u001b[0mi\u001b[0m\u001b[0;34m+\u001b[0m\u001b[0;36m1\u001b[0m\u001b[0;34m]\u001b[0m \u001b[0;34m=\u001b[0m \u001b[0mnp\u001b[0m\u001b[0;34m.\u001b[0m\u001b[0mzeros\u001b[0m\u001b[0;34m(\u001b[0m\u001b[0;34m(\u001b[0m\u001b[0;36m1\u001b[0m\u001b[0;34m,\u001b[0m \u001b[0mself\u001b[0m\u001b[0;34m.\u001b[0m\u001b[0mlayers\u001b[0m\u001b[0;34m[\u001b[0m\u001b[0mi\u001b[0m\u001b[0;34m+\u001b[0m\u001b[0;36m1\u001b[0m\u001b[0;34m]\u001b[0m\u001b[0;34m)\u001b[0m\u001b[0;34m)\u001b[0m\u001b[0;34m\u001b[0m\u001b[0;34m\u001b[0m\u001b[0m\n\u001b[1;32m     73\u001b[0m             \u001b[0;32mfor\u001b[0m \u001b[0mx\u001b[0m\u001b[0;34m,\u001b[0m \u001b[0my\u001b[0m \u001b[0;32min\u001b[0m \u001b[0mzip\u001b[0m\u001b[0;34m(\u001b[0m\u001b[0mX\u001b[0m\u001b[0;34m,\u001b[0m \u001b[0mY\u001b[0m\u001b[0;34m)\u001b[0m\u001b[0;34m:\u001b[0m\u001b[0;34m\u001b[0m\u001b[0;34m\u001b[0m\u001b[0m\n\u001b[0;32m---> 74\u001b[0;31m                 \u001b[0mself\u001b[0m\u001b[0;34m.\u001b[0m\u001b[0m_backward_gradients\u001b[0m\u001b[0;34m(\u001b[0m\u001b[0mx\u001b[0m\u001b[0;34m,\u001b[0m \u001b[0my\u001b[0m\u001b[0;34m)\u001b[0m\u001b[0;34m\u001b[0m\u001b[0;34m\u001b[0m\u001b[0m\n\u001b[0m\u001b[1;32m     75\u001b[0m                 \u001b[0;32mfor\u001b[0m \u001b[0mi\u001b[0m \u001b[0;32min\u001b[0m \u001b[0mrange\u001b[0m\u001b[0;34m(\u001b[0m\u001b[0mself\u001b[0m\u001b[0;34m.\u001b[0m\u001b[0mnum_of_hidden_layer\u001b[0m\u001b[0;34m+\u001b[0m\u001b[0;36m1\u001b[0m\u001b[0;34m)\u001b[0m\u001b[0;34m:\u001b[0m\u001b[0;34m\u001b[0m\u001b[0;34m\u001b[0m\u001b[0m\n\u001b[1;32m     76\u001b[0m                     \u001b[0mdw\u001b[0m\u001b[0;34m[\u001b[0m\u001b[0mi\u001b[0m\u001b[0;34m+\u001b[0m\u001b[0;36m1\u001b[0m\u001b[0;34m]\u001b[0m \u001b[0;34m+=\u001b[0m \u001b[0mself\u001b[0m\u001b[0;34m.\u001b[0m\u001b[0mdw\u001b[0m\u001b[0;34m[\u001b[0m\u001b[0mi\u001b[0m\u001b[0;34m+\u001b[0m\u001b[0;36m1\u001b[0m\u001b[0;34m]\u001b[0m\u001b[0;34m\u001b[0m\u001b[0;34m\u001b[0m\u001b[0m\n",
            "\u001b[0;32m<ipython-input-11-610fd9b8c10c>\u001b[0m in \u001b[0;36m_backward_gradients\u001b[0;34m(self, x, y)\u001b[0m\n\u001b[1;32m     49\u001b[0m         \u001b[0merr\u001b[0m\u001b[0;34m[\u001b[0m\u001b[0mself\u001b[0m\u001b[0;34m.\u001b[0m\u001b[0mnum_of_hidden_layer\u001b[0m \u001b[0;34m+\u001b[0m \u001b[0;36m1\u001b[0m\u001b[0;34m]\u001b[0m \u001b[0;34m=\u001b[0m \u001b[0;34m(\u001b[0m\u001b[0mself\u001b[0m\u001b[0;34m.\u001b[0m\u001b[0mactivation\u001b[0m\u001b[0;34m[\u001b[0m\u001b[0mself\u001b[0m\u001b[0;34m.\u001b[0m\u001b[0mnum_of_hidden_layer\u001b[0m \u001b[0;34m+\u001b[0m \u001b[0;36m1\u001b[0m\u001b[0;34m]\u001b[0m \u001b[0;34m-\u001b[0m \u001b[0my\u001b[0m\u001b[0;34m)\u001b[0m\u001b[0;34m\u001b[0m\u001b[0;34m\u001b[0m\u001b[0m\n\u001b[1;32m     50\u001b[0m         \u001b[0;32mfor\u001b[0m \u001b[0mi\u001b[0m \u001b[0;32min\u001b[0m \u001b[0mrange\u001b[0m\u001b[0;34m(\u001b[0m\u001b[0mself\u001b[0m\u001b[0;34m.\u001b[0m\u001b[0mnum_of_hidden_layer\u001b[0m \u001b[0;34m+\u001b[0m \u001b[0;36m1\u001b[0m\u001b[0;34m,\u001b[0m \u001b[0;36m0\u001b[0m\u001b[0;34m,\u001b[0m \u001b[0;34m-\u001b[0m\u001b[0;36m1\u001b[0m\u001b[0;34m)\u001b[0m\u001b[0;34m:\u001b[0m\u001b[0;34m\u001b[0m\u001b[0;34m\u001b[0m\u001b[0m\n\u001b[0;32m---> 51\u001b[0;31m             \u001b[0mself\u001b[0m\u001b[0;34m.\u001b[0m\u001b[0mdw\u001b[0m\u001b[0;34m[\u001b[0m\u001b[0mi\u001b[0m\u001b[0;34m]\u001b[0m \u001b[0;34m=\u001b[0m \u001b[0mnp\u001b[0m\u001b[0;34m.\u001b[0m\u001b[0mmatmul\u001b[0m\u001b[0;34m(\u001b[0m\u001b[0mself\u001b[0m\u001b[0;34m.\u001b[0m\u001b[0mactivation\u001b[0m\u001b[0;34m[\u001b[0m\u001b[0mi\u001b[0m\u001b[0;34m-\u001b[0m\u001b[0;36m1\u001b[0m\u001b[0;34m]\u001b[0m\u001b[0;34m.\u001b[0m\u001b[0mT\u001b[0m\u001b[0;34m,\u001b[0m \u001b[0merr\u001b[0m\u001b[0;34m[\u001b[0m\u001b[0mi\u001b[0m\u001b[0;34m]\u001b[0m\u001b[0;34m)\u001b[0m\u001b[0;34m\u001b[0m\u001b[0;34m\u001b[0m\u001b[0m\n\u001b[0m\u001b[1;32m     52\u001b[0m             \u001b[0mself\u001b[0m\u001b[0;34m.\u001b[0m\u001b[0mdb\u001b[0m\u001b[0;34m[\u001b[0m\u001b[0mi\u001b[0m\u001b[0;34m]\u001b[0m \u001b[0;34m=\u001b[0m \u001b[0merr\u001b[0m\u001b[0;34m[\u001b[0m\u001b[0mi\u001b[0m\u001b[0;34m]\u001b[0m\u001b[0;34m\u001b[0m\u001b[0;34m\u001b[0m\u001b[0m\n\u001b[1;32m     53\u001b[0m             \u001b[0mtmp\u001b[0m \u001b[0;34m=\u001b[0m \u001b[0mnp\u001b[0m\u001b[0;34m.\u001b[0m\u001b[0mmatmul\u001b[0m\u001b[0;34m(\u001b[0m\u001b[0merr\u001b[0m\u001b[0;34m[\u001b[0m\u001b[0mi\u001b[0m\u001b[0;34m]\u001b[0m\u001b[0;34m,\u001b[0m \u001b[0mself\u001b[0m\u001b[0;34m.\u001b[0m\u001b[0mw\u001b[0m\u001b[0;34m[\u001b[0m\u001b[0mi\u001b[0m\u001b[0;34m]\u001b[0m\u001b[0;34m.\u001b[0m\u001b[0mT\u001b[0m\u001b[0;34m)\u001b[0m\u001b[0;34m\u001b[0m\u001b[0;34m\u001b[0m\u001b[0m\n",
            "\u001b[0;31mKeyboardInterrupt\u001b[0m: "
          ]
        }
      ]
    },
    {
      "cell_type": "markdown",
      "metadata": {
        "button": false,
        "colab_type": "text",
        "id": "pBjq-MvamPXO",
        "new_sheet": false,
        "run_control": {
          "read_only": false
        }
      },
      "source": [
        "# Submission"
      ]
    },
    {
      "cell_type": "markdown",
      "metadata": {
        "button": false,
        "colab_type": "text",
        "id": "7o4q5LiFiOx1",
        "new_sheet": false,
        "run_control": {
          "read_only": false
        }
      },
      "source": [
        "Congratulations! You finished the assignment & you're ready to submit your work. Please follow the instruction:\n",
        "\n",
        "1. Check and review your answers. Make sure all of the cell outputs are what you want. \n",
        "2. Select File > Save.\n",
        "3. Run **Create Submission** cell, It may take several minutes and it may ask you for your credential.\n",
        "4. Run **Download Submission** cell to obtain your submission as a zip file.\n",
        "5. Grab downloaded file (`dl_asg01__xx__xx.zip`) and submit it via [https://forms.gle/3srwTZhBbc4KfXaR8](https://forms.gle/3srwTZhBbc4KfXaR8)."
      ]
    },
    {
      "cell_type": "markdown",
      "metadata": {
        "button": false,
        "colab_type": "text",
        "id": "iWRUf35av3ZP",
        "new_sheet": false,
        "run_control": {
          "read_only": false
        }
      },
      "source": [
        "**Note: ** We need your Github token to create (if doesn't exist previously) new repository to store learned model data. Also Google Drive token enables us to download the current notebook & create a submission. If you are interested feel free to check our code."
      ]
    },
    {
      "cell_type": "markdown",
      "metadata": {
        "button": false,
        "colab_type": "text",
        "id": "cTytERc-vlaK",
        "new_sheet": false,
        "run_control": {
          "read_only": false
        }
      },
      "source": [
        "## Create Submission (Run the cell)"
      ]
    },
    {
      "cell_type": "code",
      "metadata": {
        "button": false,
        "cellView": "both",
        "colab_type": "code",
        "id": "r4o37hc3AEUg",
        "new_sheet": false,
        "run_control": {
          "read_only": false
        },
        "colab": {}
      },
      "source": [
        "#@title\n",
        "! pip install -U --quiet PyDrive > /dev/null\n",
        "! wget -q https://github.com/github/hub/releases/download/v2.10.0/hub-linux-amd64-2.10.0.tgz \n",
        "  \n",
        "import os\n",
        "import time\n",
        "import yaml\n",
        "import json\n",
        "\n",
        "from google.colab import files\n",
        "from IPython.display import Javascript\n",
        "from pydrive.auth import GoogleAuth\n",
        "from pydrive.drive import GoogleDrive\n",
        "from google.colab import auth\n",
        "from oauth2client.client import GoogleCredentials\n",
        "\n",
        "asg_name = 'assignment_01'\n",
        "script_save = '''\n",
        "require([\"base/js/namespace\"],function(Jupyter) {\n",
        "    Jupyter.notebook.save_checkpoint();\n",
        "});\n",
        "'''\n",
        "repo_name = 'iust-deep-learning-assignments'\n",
        "submission_file_name = 'dl_asg01__%s__%s.zip'%(student_id, student_name.lower().replace(' ',  '_'))\n",
        "\n",
        "! tar xf hub-linux-amd64-2.10.0.tgz\n",
        "! cd hub-linux-amd64-2.10.0/ && chmod a+x install && ./install\n",
        "! hub config --global hub.protocol https\n",
        "! hub config --global user.email \"$Your_Github_account_Email\"\n",
        "! hub config --global user.name \"$student_name\"\n",
        "! hub api --flat -X GET /user\n",
        "! hub api -F affiliation=owner -X GET /user/repos > repos.json\n",
        "\n",
        "repos = json.load(open('repos.json'))\n",
        "repo_names = [r['name'] for r in repos]\n",
        "has_repository = repo_name in repo_names\n",
        "if not has_repository:\n",
        "  get_ipython().system_raw('! hub api -X POST -F name=%s /user/repos > repo_info.json' % repo_name)\n",
        "  repo_info = json.load(open('repo_info.json')) \n",
        "  repo_url = repo_info['clone_url']\n",
        "else:\n",
        "  for r in repos:\n",
        "    if r['name'] == repo_name:\n",
        "      repo_url = r['clone_url']\n",
        "  \n",
        "stream = open(\"/root/.config/hub\", \"r\")\n",
        "token = list(yaml.load_all(stream))[0]['github.com'][0]['oauth_token']\n",
        "repo_url_with_token = 'https://'+token+\"@\" +repo_url.split('https://')[1]\n",
        "\n",
        "! git clone \"$repo_url_with_token\"\n",
        "! cp -r \"$content\" \"$repo_name\"/\n",
        "! cd \"$repo_name\" && git add -A\n",
        "! cd \"$repo_name\" && git commit -m \"Add assignment 02 results\"\n",
        "! cd \"$repo_name\" && git push -u origin master\n",
        "\n",
        "sub_info = {\n",
        "    'student_id': student_id,\n",
        "    'student_name': student_name, \n",
        "    'repo_url': repo_url,\n",
        "    'asg_dir_contents': os.listdir(str(content)),\n",
        "    'dateime': str(time.time()),\n",
        "    'asg_name': asg_name\n",
        "}\n",
        "json.dump(sub_info, open('info.json', 'w'))\n",
        "\n",
        "Javascript(script_save)\n",
        "\n",
        "auth.authenticate_user()\n",
        "gauth = GoogleAuth()\n",
        "gauth.credentials = GoogleCredentials.get_application_default()\n",
        "drive = GoogleDrive(gauth)\n",
        "file_id = drive.ListFile({'q':\"title='%s.ipynb'\"%asg_name}).GetList()[0]['id']\n",
        "downloaded = drive.CreateFile({'id': file_id})\n",
        "downloaded.GetContentFile('%s.ipynb'%asg_name) \n",
        "\n",
        "! jupyter nbconvert --to script \"$asg_name\".ipynb > /dev/null\n",
        "! jupyter nbconvert --to html \"$asg_name\".ipynb > /dev/null\n",
        "! zip \"$submission_file_name\" \"$asg_name\".ipynb \"$asg_name\".html \"$asg_name\".txt info.json > /dev/null\n",
        "\n",
        "print(\"##########################################\")\n",
        "print(\"Done! Submisson created, Please download using the bellow cell!\")"
      ],
      "execution_count": 0,
      "outputs": []
    },
    {
      "cell_type": "markdown",
      "metadata": {
        "button": false,
        "colab_type": "text",
        "id": "mX9OFzaLtYu_",
        "new_sheet": false,
        "run_control": {
          "read_only": false
        }
      },
      "source": [
        "## Download Submission (Run the cell)"
      ]
    },
    {
      "cell_type": "code",
      "metadata": {
        "button": false,
        "cellView": "both",
        "colab_type": "code",
        "id": "PUzTlnX1nS8X",
        "new_sheet": false,
        "run_control": {
          "read_only": false
        },
        "outputId": "18376ce9-137d-4de1-9cf7-006f280bb778",
        "colab": {
          "base_uri": "https://localhost:8080/",
          "height": 283
        }
      },
      "source": [
        "#@title\n",
        "files.download(submission_file_name)"
      ],
      "execution_count": 0,
      "outputs": [
        {
          "output_type": "error",
          "ename": "FileNotFoundError",
          "evalue": "ignored",
          "traceback": [
            "\u001b[0;31m---------------------------------------------------------------------------\u001b[0m",
            "\u001b[0;31mFileNotFoundError\u001b[0m                         Traceback (most recent call last)",
            "\u001b[0;32m<ipython-input-65-e542759f74c9>\u001b[0m in \u001b[0;36m<module>\u001b[0;34m()\u001b[0m\n\u001b[0;32m----> 1\u001b[0;31m \u001b[0mfiles\u001b[0m\u001b[0;34m.\u001b[0m\u001b[0mdownload\u001b[0m\u001b[0;34m(\u001b[0m\u001b[0msubmission_file_name\u001b[0m\u001b[0;34m)\u001b[0m\u001b[0;34m\u001b[0m\u001b[0;34m\u001b[0m\u001b[0m\n\u001b[0m",
            "\u001b[0;32m/usr/local/lib/python3.6/dist-packages/google/colab/files.py\u001b[0m in \u001b[0;36mdownload\u001b[0;34m(filename)\u001b[0m\n\u001b[1;32m    142\u001b[0m       \u001b[0;32mraise\u001b[0m \u001b[0mOSError\u001b[0m\u001b[0;34m(\u001b[0m\u001b[0mmsg\u001b[0m\u001b[0;34m)\u001b[0m\u001b[0;34m\u001b[0m\u001b[0;34m\u001b[0m\u001b[0m\n\u001b[1;32m    143\u001b[0m     \u001b[0;32melse\u001b[0m\u001b[0;34m:\u001b[0m\u001b[0;34m\u001b[0m\u001b[0;34m\u001b[0m\u001b[0m\n\u001b[0;32m--> 144\u001b[0;31m       \u001b[0;32mraise\u001b[0m \u001b[0mFileNotFoundError\u001b[0m\u001b[0;34m(\u001b[0m\u001b[0mmsg\u001b[0m\u001b[0;34m)\u001b[0m  \u001b[0;31m# pylint: disable=undefined-variable\u001b[0m\u001b[0;34m\u001b[0m\u001b[0;34m\u001b[0m\u001b[0m\n\u001b[0m\u001b[1;32m    145\u001b[0m \u001b[0;34m\u001b[0m\u001b[0m\n\u001b[1;32m    146\u001b[0m   \u001b[0mstarted\u001b[0m \u001b[0;34m=\u001b[0m \u001b[0m_threading\u001b[0m\u001b[0;34m.\u001b[0m\u001b[0mEvent\u001b[0m\u001b[0;34m(\u001b[0m\u001b[0;34m)\u001b[0m\u001b[0;34m\u001b[0m\u001b[0;34m\u001b[0m\u001b[0m\n",
            "\u001b[0;31mFileNotFoundError\u001b[0m: Cannot find file: dl_asg01__95521378__omid_ghahroodi.zip"
          ]
        }
      ]
    },
    {
      "cell_type": "markdown",
      "metadata": {
        "id": "eTpzzdsRcpur",
        "colab_type": "text"
      },
      "source": [
        "If that cell makes an error when running you can download file dl_asg01_your_struden_id_your_name.zip from left panel and files section by right-clicking on it and choosing download button."
      ]
    },
    {
      "cell_type": "markdown",
      "metadata": {
        "colab_type": "text",
        "id": "m9KaPEsgPruT"
      },
      "source": [
        "# Special Thanks"
      ]
    },
    {
      "cell_type": "markdown",
      "metadata": {
        "colab_type": "text",
        "id": "UOXZZrFjPxWO"
      },
      "source": [
        "Special thanks to Amirhossein Kazemnejad and Kiamehr Razaee for creating the template of deep learning course assignments."
      ]
    }
  ]
}